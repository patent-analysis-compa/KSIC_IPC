{
  "nbformat": 4,
  "nbformat_minor": 0,
  "metadata": {
    "colab": {
      "name": "KSIC9차-IPC연계.ipynb",
      "provenance": [],
      "collapsed_sections": [
        "6Z92dTN6zX40",
        "t9PYoDXy57Hc",
        "PAOLDfBJ6AEx",
        "7DgAwMg4cZ__",
        "15aQBaSWg3l9"
      ]
    },
    "kernelspec": {
      "name": "python3",
      "display_name": "Python 3"
    }
  },
  "cells": [
    {
      "cell_type": "code",
      "metadata": {
        "colab": {
          "base_uri": "https://localhost:8080/"
        },
        "id": "COfGtoRnoPlU",
        "outputId": "b26ed147-d8ba-4a54-b668-c4185399698b"
      },
      "source": [
        "cd /content/drive/Shareddrives/과학기술일자리진흥원_은채/200901_210228_인턴/지식재산연구원 논문/동향분석(딥러닝)/기업정보연계"
      ],
      "execution_count": 1,
      "outputs": [
        {
          "output_type": "stream",
          "text": [
            "/content/drive/Shareddrives/과학기술일자리진흥원_은채/200901_210228_인턴/지식재산연구원 논문/동향분석(딥러닝)/기업정보연계\n"
          ],
          "name": "stdout"
        }
      ]
    },
    {
      "cell_type": "markdown",
      "metadata": {
        "id": "6Z92dTN6zX40"
      },
      "source": [
        "# KSIC 코드로 정리"
      ]
    },
    {
      "cell_type": "code",
      "metadata": {
        "id": "qWXUhwTazdyp"
      },
      "source": [
        "import pandas as pd"
      ],
      "execution_count": 2,
      "outputs": []
    },
    {
      "cell_type": "code",
      "metadata": {
        "id": "j4-i9XsWzdyq"
      },
      "source": [
        "ksic9 = pd.read_csv('KSIC9차_KSIC코드.csv')"
      ],
      "execution_count": 3,
      "outputs": []
    },
    {
      "cell_type": "code",
      "metadata": {
        "id": "WfMFTmA5Wsa-"
      },
      "source": [
        "ksic9['산업명'] = ksic9['산업명'].apply(lambda x: x.replace('\\n', ' '))"
      ],
      "execution_count": 4,
      "outputs": []
    },
    {
      "cell_type": "code",
      "metadata": {
        "colab": {
          "base_uri": "https://localhost:8080/"
        },
        "id": "mEloquLBWb-c",
        "outputId": "1d103828-6a7b-4668-8482-2d2f3f81e3ef"
      },
      "source": [
        "import re\n",
        "p = re.compile('\\S+\\(') \n",
        "set(ksic9['산업분류(KSIC)'].apply(lambda x: len(p.findall(x)))) # 여러 개의 괄호가 있는 건 없다."
      ],
      "execution_count": 5,
      "outputs": [
        {
          "output_type": "execute_result",
          "data": {
            "text/plain": [
              "{1}"
            ]
          },
          "metadata": {},
          "execution_count": 5
        }
      ]
    },
    {
      "cell_type": "code",
      "metadata": {
        "id": "k8YkECnjzdyq"
      },
      "source": [
        "ksic9['산업분류(KSIC)_중'] = ksic9['산업분류(KSIC)'].apply(lambda x: x.split('(')[0])"
      ],
      "execution_count": 6,
      "outputs": []
    },
    {
      "cell_type": "code",
      "metadata": {
        "id": "FbnhWIw0zrsZ"
      },
      "source": [
        "ksic9['산업분류(KSIC)_중'] = ksic9['산업분류(KSIC)_중'].apply(lambda x: x.split(', '))"
      ],
      "execution_count": 7,
      "outputs": []
    },
    {
      "cell_type": "code",
      "metadata": {
        "id": "VKrMBuNfXf9U"
      },
      "source": [
        "import re\n",
        "p = re.compile('\\S+\\(\\S+\\)')\n",
        "ksic9['산업분류(KSIC)_세1'] = ksic9['산업분류(KSIC)'].apply(lambda x: p.findall(x)[0].split('(')[0])\n",
        "ksic9['산업분류(KSIC)_세2'] = ksic9['산업분류(KSIC)'].apply(lambda x: p.findall(x)[0].replace(')','').split('(')[1])"
      ],
      "execution_count": 8,
      "outputs": []
    },
    {
      "cell_type": "code",
      "metadata": {
        "colab": {
          "base_uri": "https://localhost:8080/",
          "height": 0
        },
        "id": "wHlNkZcTYEBz",
        "outputId": "c71089a8-d0c5-4491-95b9-a6aa14750279"
      },
      "source": [
        "ksic9"
      ],
      "execution_count": 9,
      "outputs": [
        {
          "output_type": "execute_result",
          "data": {
            "text/html": [
              "<div>\n",
              "<style scoped>\n",
              "    .dataframe tbody tr th:only-of-type {\n",
              "        vertical-align: middle;\n",
              "    }\n",
              "\n",
              "    .dataframe tbody tr th {\n",
              "        vertical-align: top;\n",
              "    }\n",
              "\n",
              "    .dataframe thead th {\n",
              "        text-align: right;\n",
              "    }\n",
              "</style>\n",
              "<table border=\"1\" class=\"dataframe\">\n",
              "  <thead>\n",
              "    <tr style=\"text-align: right;\">\n",
              "      <th></th>\n",
              "      <th>산업명</th>\n",
              "      <th>산업분류(KSIC)</th>\n",
              "      <th>산업분류(KSIC)_중</th>\n",
              "      <th>산업분류(KSIC)_세1</th>\n",
              "      <th>산업분류(KSIC)_세2</th>\n",
              "    </tr>\n",
              "  </thead>\n",
              "  <tbody>\n",
              "    <tr>\n",
              "      <th>0</th>\n",
              "      <td>농림어업</td>\n",
              "      <td>A01, A02, A03(A0000)</td>\n",
              "      <td>[A01, A02, A03]</td>\n",
              "      <td>A03</td>\n",
              "      <td>A0000</td>\n",
              "    </tr>\n",
              "    <tr>\n",
              "      <th>1</th>\n",
              "      <td>광업</td>\n",
              "      <td>B05, B06, B07, B08(B0000)</td>\n",
              "      <td>[B05, B06, B07, B08]</td>\n",
              "      <td>B08</td>\n",
              "      <td>B0000</td>\n",
              "    </tr>\n",
              "    <tr>\n",
              "      <th>2</th>\n",
              "      <td>식료품 제조업</td>\n",
              "      <td>C10(C1000)</td>\n",
              "      <td>[C10]</td>\n",
              "      <td>C10</td>\n",
              "      <td>C1000</td>\n",
              "    </tr>\n",
              "    <tr>\n",
              "      <th>3</th>\n",
              "      <td>음료제조업</td>\n",
              "      <td>C11(C1100)</td>\n",
              "      <td>[C11]</td>\n",
              "      <td>C11</td>\n",
              "      <td>C1100</td>\n",
              "    </tr>\n",
              "    <tr>\n",
              "      <th>4</th>\n",
              "      <td>담배제조업</td>\n",
              "      <td>C12(C1200)</td>\n",
              "      <td>[C12]</td>\n",
              "      <td>C12</td>\n",
              "      <td>C1200</td>\n",
              "    </tr>\n",
              "    <tr>\n",
              "      <th>...</th>\n",
              "      <td>...</td>\n",
              "      <td>...</td>\n",
              "      <td>...</td>\n",
              "      <td>...</td>\n",
              "      <td>...</td>\n",
              "    </tr>\n",
              "    <tr>\n",
              "      <th>56</th>\n",
              "      <td>기타제품 제조업</td>\n",
              "      <td>C33(C3300)</td>\n",
              "      <td>[C33]</td>\n",
              "      <td>C33</td>\n",
              "      <td>C3300</td>\n",
              "    </tr>\n",
              "    <tr>\n",
              "      <th>57</th>\n",
              "      <td>전기, 가스, 증기, 수도</td>\n",
              "      <td>D35, D36(D0000)</td>\n",
              "      <td>[D35, D36]</td>\n",
              "      <td>D36</td>\n",
              "      <td>D0000</td>\n",
              "    </tr>\n",
              "    <tr>\n",
              "      <th>58</th>\n",
              "      <td>하수, 폐기물처리, 원료재생, 환경복원</td>\n",
              "      <td>E37, E38, E39(E0000)</td>\n",
              "      <td>[E37, E38, E39]</td>\n",
              "      <td>E39</td>\n",
              "      <td>E0000</td>\n",
              "    </tr>\n",
              "    <tr>\n",
              "      <th>59</th>\n",
              "      <td>건설업, 건축기술 서비스</td>\n",
              "      <td>F41, F42(Y0000)</td>\n",
              "      <td>[F41, F42]</td>\n",
              "      <td>F42</td>\n",
              "      <td>Y0000</td>\n",
              "    </tr>\n",
              "    <tr>\n",
              "      <th>60</th>\n",
              "      <td>컴퓨터 프로그래밍, 정보서비스업</td>\n",
              "      <td>J582, J62, J63(Z0000)</td>\n",
              "      <td>[J582, J62, J63]</td>\n",
              "      <td>J63</td>\n",
              "      <td>Z0000</td>\n",
              "    </tr>\n",
              "  </tbody>\n",
              "</table>\n",
              "<p>61 rows × 5 columns</p>\n",
              "</div>"
            ],
            "text/plain": [
              "                      산업명  ... 산업분류(KSIC)_세2\n",
              "0                    농림어업  ...         A0000\n",
              "1                      광업  ...         B0000\n",
              "2                 식료품 제조업  ...         C1000\n",
              "3                   음료제조업  ...         C1100\n",
              "4                   담배제조업  ...         C1200\n",
              "..                    ...  ...           ...\n",
              "56               기타제품 제조업  ...         C3300\n",
              "57         전기, 가스, 증기, 수도  ...         D0000\n",
              "58  하수, 폐기물처리, 원료재생, 환경복원  ...         E0000\n",
              "59          건설업, 건축기술 서비스  ...         Y0000\n",
              "60      컴퓨터 프로그래밍, 정보서비스업  ...         Z0000\n",
              "\n",
              "[61 rows x 5 columns]"
            ]
          },
          "metadata": {},
          "execution_count": 9
        }
      ]
    },
    {
      "cell_type": "code",
      "metadata": {
        "id": "Rsh-ypStz80L"
      },
      "source": [
        "ksic9 = ksic9.explode('산업분류(KSIC)_중')"
      ],
      "execution_count": 10,
      "outputs": []
    },
    {
      "cell_type": "code",
      "metadata": {
        "colab": {
          "base_uri": "https://localhost:8080/",
          "height": 0
        },
        "id": "3j9k27EBagiw",
        "outputId": "3740a955-8126-437e-dc95-5fd1b7bcfe97"
      },
      "source": [
        "ksic9[ksic9['산업분류(KSIC)_중']=='C20']"
      ],
      "execution_count": 11,
      "outputs": [
        {
          "output_type": "execute_result",
          "data": {
            "text/html": [
              "<div>\n",
              "<style scoped>\n",
              "    .dataframe tbody tr th:only-of-type {\n",
              "        vertical-align: middle;\n",
              "    }\n",
              "\n",
              "    .dataframe tbody tr th {\n",
              "        vertical-align: top;\n",
              "    }\n",
              "\n",
              "    .dataframe thead th {\n",
              "        text-align: right;\n",
              "    }\n",
              "</style>\n",
              "<table border=\"1\" class=\"dataframe\">\n",
              "  <thead>\n",
              "    <tr style=\"text-align: right;\">\n",
              "      <th></th>\n",
              "      <th>산업명</th>\n",
              "      <th>산업분류(KSIC)</th>\n",
              "      <th>산업분류(KSIC)_중</th>\n",
              "      <th>산업분류(KSIC)_세1</th>\n",
              "      <th>산업분류(KSIC)_세2</th>\n",
              "    </tr>\n",
              "  </thead>\n",
              "  <tbody>\n",
              "    <tr>\n",
              "      <th>12</th>\n",
              "      <td>기초 화학물질제조업</td>\n",
              "      <td>C20(C2010)</td>\n",
              "      <td>C20</td>\n",
              "      <td>C20</td>\n",
              "      <td>C2010</td>\n",
              "    </tr>\n",
              "    <tr>\n",
              "      <th>13</th>\n",
              "      <td>비료 및 질소 화학물 제조업</td>\n",
              "      <td>C20(C2020)</td>\n",
              "      <td>C20</td>\n",
              "      <td>C20</td>\n",
              "      <td>C2020</td>\n",
              "    </tr>\n",
              "    <tr>\n",
              "      <th>14</th>\n",
              "      <td>합성고무 및 플라스틱 물질 제조업</td>\n",
              "      <td>C20(C2030)</td>\n",
              "      <td>C20</td>\n",
              "      <td>C20</td>\n",
              "      <td>C2030</td>\n",
              "    </tr>\n",
              "    <tr>\n",
              "      <th>15</th>\n",
              "      <td>살충제 및 기타농약제조업</td>\n",
              "      <td>C20(C2041)</td>\n",
              "      <td>C20</td>\n",
              "      <td>C20</td>\n",
              "      <td>C2041</td>\n",
              "    </tr>\n",
              "    <tr>\n",
              "      <th>16</th>\n",
              "      <td>잉크, 페인트 코팅제 및 유사제품 제조업</td>\n",
              "      <td>C20(C2042)</td>\n",
              "      <td>C20</td>\n",
              "      <td>C20</td>\n",
              "      <td>C2042</td>\n",
              "    </tr>\n",
              "    <tr>\n",
              "      <th>17</th>\n",
              "      <td>세제, 화장품 및 광택제 제조업</td>\n",
              "      <td>C20(C2043)</td>\n",
              "      <td>C20</td>\n",
              "      <td>C20</td>\n",
              "      <td>C2043</td>\n",
              "    </tr>\n",
              "    <tr>\n",
              "      <th>18</th>\n",
              "      <td>그 외 기타 화학제품 제조업</td>\n",
              "      <td>C20(C2049)</td>\n",
              "      <td>C20</td>\n",
              "      <td>C20</td>\n",
              "      <td>C2049</td>\n",
              "    </tr>\n",
              "    <tr>\n",
              "      <th>19</th>\n",
              "      <td>화학섬유 제조업</td>\n",
              "      <td>C20(C2050)</td>\n",
              "      <td>C20</td>\n",
              "      <td>C20</td>\n",
              "      <td>C2050</td>\n",
              "    </tr>\n",
              "  </tbody>\n",
              "</table>\n",
              "</div>"
            ],
            "text/plain": [
              "                       산업명  산업분류(KSIC) 산업분류(KSIC)_중 산업분류(KSIC)_세1 산업분류(KSIC)_세2\n",
              "12              기초 화학물질제조업  C20(C2010)          C20           C20         C2010\n",
              "13         비료 및 질소 화학물 제조업  C20(C2020)          C20           C20         C2020\n",
              "14      합성고무 및 플라스틱 물질 제조업  C20(C2030)          C20           C20         C2030\n",
              "15           살충제 및 기타농약제조업  C20(C2041)          C20           C20         C2041\n",
              "16  잉크, 페인트 코팅제 및 유사제품 제조업  C20(C2042)          C20           C20         C2042\n",
              "17       세제, 화장품 및 광택제 제조업  C20(C2043)          C20           C20         C2043\n",
              "18         그 외 기타 화학제품 제조업  C20(C2049)          C20           C20         C2049\n",
              "19                화학섬유 제조업  C20(C2050)          C20           C20         C2050"
            ]
          },
          "metadata": {},
          "execution_count": 11
        }
      ]
    },
    {
      "cell_type": "code",
      "metadata": {
        "colab": {
          "base_uri": "https://localhost:8080/",
          "height": 0
        },
        "id": "IP7rG4AhXHSr",
        "outputId": "b3c14fb2-6b87-4c55-df49-a1b994105d71"
      },
      "source": [
        "ksic9"
      ],
      "execution_count": 12,
      "outputs": [
        {
          "output_type": "execute_result",
          "data": {
            "text/html": [
              "<div>\n",
              "<style scoped>\n",
              "    .dataframe tbody tr th:only-of-type {\n",
              "        vertical-align: middle;\n",
              "    }\n",
              "\n",
              "    .dataframe tbody tr th {\n",
              "        vertical-align: top;\n",
              "    }\n",
              "\n",
              "    .dataframe thead th {\n",
              "        text-align: right;\n",
              "    }\n",
              "</style>\n",
              "<table border=\"1\" class=\"dataframe\">\n",
              "  <thead>\n",
              "    <tr style=\"text-align: right;\">\n",
              "      <th></th>\n",
              "      <th>산업명</th>\n",
              "      <th>산업분류(KSIC)</th>\n",
              "      <th>산업분류(KSIC)_중</th>\n",
              "      <th>산업분류(KSIC)_세1</th>\n",
              "      <th>산업분류(KSIC)_세2</th>\n",
              "    </tr>\n",
              "  </thead>\n",
              "  <tbody>\n",
              "    <tr>\n",
              "      <th>0</th>\n",
              "      <td>농림어업</td>\n",
              "      <td>A01, A02, A03(A0000)</td>\n",
              "      <td>A01</td>\n",
              "      <td>A03</td>\n",
              "      <td>A0000</td>\n",
              "    </tr>\n",
              "    <tr>\n",
              "      <th>0</th>\n",
              "      <td>농림어업</td>\n",
              "      <td>A01, A02, A03(A0000)</td>\n",
              "      <td>A02</td>\n",
              "      <td>A03</td>\n",
              "      <td>A0000</td>\n",
              "    </tr>\n",
              "    <tr>\n",
              "      <th>0</th>\n",
              "      <td>농림어업</td>\n",
              "      <td>A01, A02, A03(A0000)</td>\n",
              "      <td>A03</td>\n",
              "      <td>A03</td>\n",
              "      <td>A0000</td>\n",
              "    </tr>\n",
              "    <tr>\n",
              "      <th>1</th>\n",
              "      <td>광업</td>\n",
              "      <td>B05, B06, B07, B08(B0000)</td>\n",
              "      <td>B05</td>\n",
              "      <td>B08</td>\n",
              "      <td>B0000</td>\n",
              "    </tr>\n",
              "    <tr>\n",
              "      <th>1</th>\n",
              "      <td>광업</td>\n",
              "      <td>B05, B06, B07, B08(B0000)</td>\n",
              "      <td>B06</td>\n",
              "      <td>B08</td>\n",
              "      <td>B0000</td>\n",
              "    </tr>\n",
              "    <tr>\n",
              "      <th>...</th>\n",
              "      <td>...</td>\n",
              "      <td>...</td>\n",
              "      <td>...</td>\n",
              "      <td>...</td>\n",
              "      <td>...</td>\n",
              "    </tr>\n",
              "    <tr>\n",
              "      <th>59</th>\n",
              "      <td>건설업, 건축기술 서비스</td>\n",
              "      <td>F41, F42(Y0000)</td>\n",
              "      <td>F41</td>\n",
              "      <td>F42</td>\n",
              "      <td>Y0000</td>\n",
              "    </tr>\n",
              "    <tr>\n",
              "      <th>59</th>\n",
              "      <td>건설업, 건축기술 서비스</td>\n",
              "      <td>F41, F42(Y0000)</td>\n",
              "      <td>F42</td>\n",
              "      <td>F42</td>\n",
              "      <td>Y0000</td>\n",
              "    </tr>\n",
              "    <tr>\n",
              "      <th>60</th>\n",
              "      <td>컴퓨터 프로그래밍, 정보서비스업</td>\n",
              "      <td>J582, J62, J63(Z0000)</td>\n",
              "      <td>J582</td>\n",
              "      <td>J63</td>\n",
              "      <td>Z0000</td>\n",
              "    </tr>\n",
              "    <tr>\n",
              "      <th>60</th>\n",
              "      <td>컴퓨터 프로그래밍, 정보서비스업</td>\n",
              "      <td>J582, J62, J63(Z0000)</td>\n",
              "      <td>J62</td>\n",
              "      <td>J63</td>\n",
              "      <td>Z0000</td>\n",
              "    </tr>\n",
              "    <tr>\n",
              "      <th>60</th>\n",
              "      <td>컴퓨터 프로그래밍, 정보서비스업</td>\n",
              "      <td>J582, J62, J63(Z0000)</td>\n",
              "      <td>J63</td>\n",
              "      <td>J63</td>\n",
              "      <td>Z0000</td>\n",
              "    </tr>\n",
              "  </tbody>\n",
              "</table>\n",
              "<p>72 rows × 5 columns</p>\n",
              "</div>"
            ],
            "text/plain": [
              "                  산업명                 산업분류(KSIC)  ... 산업분류(KSIC)_세1 산업분류(KSIC)_세2\n",
              "0                농림어업       A01, A02, A03(A0000)  ...           A03         A0000\n",
              "0                농림어업       A01, A02, A03(A0000)  ...           A03         A0000\n",
              "0                농림어업       A01, A02, A03(A0000)  ...           A03         A0000\n",
              "1                  광업  B05, B06, B07, B08(B0000)  ...           B08         B0000\n",
              "1                  광업  B05, B06, B07, B08(B0000)  ...           B08         B0000\n",
              "..                ...                        ...  ...           ...           ...\n",
              "59      건설업, 건축기술 서비스            F41, F42(Y0000)  ...           F42         Y0000\n",
              "59      건설업, 건축기술 서비스            F41, F42(Y0000)  ...           F42         Y0000\n",
              "60  컴퓨터 프로그래밍, 정보서비스업      J582, J62, J63(Z0000)  ...           J63         Z0000\n",
              "60  컴퓨터 프로그래밍, 정보서비스업      J582, J62, J63(Z0000)  ...           J63         Z0000\n",
              "60  컴퓨터 프로그래밍, 정보서비스업      J582, J62, J63(Z0000)  ...           J63         Z0000\n",
              "\n",
              "[72 rows x 5 columns]"
            ]
          },
          "metadata": {},
          "execution_count": 12
        }
      ]
    },
    {
      "cell_type": "code",
      "metadata": {
        "id": "8Ltmk8x6YqIb"
      },
      "source": [
        "ksic9.reset_index(drop=True, inplace=True)\n",
        "ksic9['KSIC_CODE'] = ksic9['산업분류(KSIC)_중']\n",
        "ksic9.loc[ksic9.duplicated('산업분류(KSIC)_중', keep=False), 'KSIC_CODE'] = ksic9.loc[ksic9.duplicated('산업분류(KSIC)_중', keep=False), '산업분류(KSIC)_세2']"
      ],
      "execution_count": 13,
      "outputs": []
    },
    {
      "cell_type": "code",
      "metadata": {
        "id": "na9YLNMJU0hg"
      },
      "source": [
        "ksic9 = ksic9[['산업명', 'KSIC_CODE']]"
      ],
      "execution_count": 14,
      "outputs": []
    },
    {
      "cell_type": "markdown",
      "metadata": {
        "id": "H0BU76AevABH"
      },
      "source": [
        "# KSIC, 국세청코드 - IPC"
      ]
    },
    {
      "cell_type": "code",
      "metadata": {
        "id": "y406aRWBudVt"
      },
      "source": [
        "import pandas as pd"
      ],
      "execution_count": 69,
      "outputs": []
    },
    {
      "cell_type": "code",
      "metadata": {
        "id": "yZJGQyh9vFqI"
      },
      "source": [
        "concordance = pd.read_csv('국세청업종코드-KSIC10-KSIC9_연계완.csv')"
      ],
      "execution_count": 414,
      "outputs": []
    },
    {
      "cell_type": "code",
      "metadata": {
        "colab": {
          "base_uri": "https://localhost:8080/",
          "height": 1000
        },
        "id": "AQlpQVbevufi",
        "outputId": "fea41aec-9dfc-44f0-bcb1-4be626ff1cba"
      },
      "source": [
        "concordance.head()"
      ],
      "execution_count": 125,
      "outputs": [
        {
          "output_type": "execute_result",
          "data": {
            "text/html": [
              "<div>\n",
              "<style scoped>\n",
              "    .dataframe tbody tr th:only-of-type {\n",
              "        vertical-align: middle;\n",
              "    }\n",
              "\n",
              "    .dataframe tbody tr th {\n",
              "        vertical-align: top;\n",
              "    }\n",
              "\n",
              "    .dataframe thead th {\n",
              "        text-align: right;\n",
              "    }\n",
              "</style>\n",
              "<table border=\"1\" class=\"dataframe\">\n",
              "  <thead>\n",
              "    <tr style=\"text-align: right;\">\n",
              "      <th></th>\n",
              "      <th>일련번호</th>\n",
              "      <th>2018년 귀속(현행)업종코드</th>\n",
              "      <th>2019년 귀속(개편후)업종코드</th>\n",
              "      <th>국세청_대분류코드</th>\n",
              "      <th>국세청_대분류</th>\n",
              "      <th>국세청_중분류코드</th>\n",
              "      <th>국세청_중분류</th>\n",
              "      <th>국세청_소분류코드</th>\n",
              "      <th>국세청_소분류</th>\n",
              "      <th>국세청_세분류코드</th>\n",
              "      <th>국세청_세분류</th>\n",
              "      <th>국세청_세세분류</th>\n",
              "      <th>국세청_연계</th>\n",
              "      <th>KSIC10_코드</th>\n",
              "      <th>KSIC10_대분류코드</th>\n",
              "      <th>KSIC10_대분류</th>\n",
              "      <th>KSIC10_중분류코드</th>\n",
              "      <th>KSIC10_중분류</th>\n",
              "      <th>KSIC10_소분류코드</th>\n",
              "      <th>KSIC10_소분류</th>\n",
              "      <th>KSIC10_세분류코드</th>\n",
              "      <th>KSIC10_세분류</th>\n",
              "      <th>KSIC10_세세분류</th>\n",
              "      <th>KSIC10_연계</th>\n",
              "      <th>메인</th>\n",
              "      <th>세부설명</th>\n",
              "      <th>KSIC10_항목명</th>\n",
              "      <th>KSIC9_코드</th>\n",
              "      <th>KSIC9_항목명</th>\n",
              "    </tr>\n",
              "  </thead>\n",
              "  <tbody>\n",
              "    <tr>\n",
              "      <th>0</th>\n",
              "      <td>1.0</td>\n",
              "      <td>11000.0</td>\n",
              "      <td>11000.0</td>\n",
              "      <td>A</td>\n",
              "      <td>농업, 임업 및 어업</td>\n",
              "      <td>1.0</td>\n",
              "      <td>농업</td>\n",
              "      <td>11.0</td>\n",
              "      <td>작물 재배업</td>\n",
              "      <td>110.0</td>\n",
              "      <td>곡물 및 기타 식량작물 재배업</td>\n",
              "      <td>곡물 및 기타 식량작물 재배업</td>\n",
              "      <td>1.0</td>\n",
              "      <td>01110</td>\n",
              "      <td>A</td>\n",
              "      <td>농업, 임업 및 어업</td>\n",
              "      <td>1.0</td>\n",
              "      <td>농업</td>\n",
              "      <td>11.0</td>\n",
              "      <td>작물 재배업</td>\n",
              "      <td>111.0</td>\n",
              "      <td>곡물 및 기타 식량작물 재배업</td>\n",
              "      <td>곡물 및 기타 식량작물 재배업</td>\n",
              "      <td>1</td>\n",
              "      <td>NaN</td>\n",
              "      <td>NaN</td>\n",
              "      <td>곡물 및 기타 식량 작물 재배업</td>\n",
              "      <td>1110.0</td>\n",
              "      <td>곡물 및 기타 식량 작물 재배업</td>\n",
              "    </tr>\n",
              "    <tr>\n",
              "      <th>1</th>\n",
              "      <td>1.0</td>\n",
              "      <td>11000.0</td>\n",
              "      <td>11000.0</td>\n",
              "      <td>A</td>\n",
              "      <td>농업, 임업 및 어업</td>\n",
              "      <td>1.0</td>\n",
              "      <td>농업</td>\n",
              "      <td>11.0</td>\n",
              "      <td>작물 재배업</td>\n",
              "      <td>110.0</td>\n",
              "      <td>곡물 및 기타 식량작물 재배업</td>\n",
              "      <td>곡물 및 기타 식량작물 재배업</td>\n",
              "      <td>1.0</td>\n",
              "      <td>01110</td>\n",
              "      <td>A</td>\n",
              "      <td>농업, 임업 및 어업</td>\n",
              "      <td>1.0</td>\n",
              "      <td>농업</td>\n",
              "      <td>11.0</td>\n",
              "      <td>작물 재배업</td>\n",
              "      <td>111.0</td>\n",
              "      <td>곡물 및 기타 식량작물 재배업</td>\n",
              "      <td>곡물 및 기타 식량작물 재배업</td>\n",
              "      <td>1</td>\n",
              "      <td>NaN</td>\n",
              "      <td>NaN</td>\n",
              "      <td></td>\n",
              "      <td>1140.0</td>\n",
              "      <td>기타 작물 재배업</td>\n",
              "    </tr>\n",
              "    <tr>\n",
              "      <th>2</th>\n",
              "      <td>2.0</td>\n",
              "      <td>11001.0</td>\n",
              "      <td>11001.0</td>\n",
              "      <td>A</td>\n",
              "      <td>농업, 임업 및 어업</td>\n",
              "      <td>1.0</td>\n",
              "      <td>농업</td>\n",
              "      <td>11.0</td>\n",
              "      <td>작물 재배업</td>\n",
              "      <td>110.0</td>\n",
              "      <td>채소, 화훼작물 및 종묘 재배업</td>\n",
              "      <td>채소작물 재배업</td>\n",
              "      <td>1.0</td>\n",
              "      <td>01121</td>\n",
              "      <td>A</td>\n",
              "      <td>농업, 임업 및 어업</td>\n",
              "      <td>1.0</td>\n",
              "      <td>농업</td>\n",
              "      <td>11.0</td>\n",
              "      <td>작물 재배업</td>\n",
              "      <td>112.0</td>\n",
              "      <td>채소, 화훼작물 및 종묘 재배업</td>\n",
              "      <td>채소작물 재배업</td>\n",
              "      <td>1</td>\n",
              "      <td>NaN</td>\n",
              "      <td>NaN</td>\n",
              "      <td>채소작물 재배업</td>\n",
              "      <td>1121.0</td>\n",
              "      <td>채소작물 재배업</td>\n",
              "    </tr>\n",
              "    <tr>\n",
              "      <th>3</th>\n",
              "      <td>2.0</td>\n",
              "      <td>11001.0</td>\n",
              "      <td>11001.0</td>\n",
              "      <td>A</td>\n",
              "      <td>농업, 임업 및 어업</td>\n",
              "      <td>1.0</td>\n",
              "      <td>농업</td>\n",
              "      <td>11.0</td>\n",
              "      <td>작물 재배업</td>\n",
              "      <td>110.0</td>\n",
              "      <td>채소, 화훼작물 및 종묘 재배업</td>\n",
              "      <td>채소작물 재배업</td>\n",
              "      <td>1.0</td>\n",
              "      <td>01121</td>\n",
              "      <td>A</td>\n",
              "      <td>농업, 임업 및 어업</td>\n",
              "      <td>1.0</td>\n",
              "      <td>농업</td>\n",
              "      <td>11.0</td>\n",
              "      <td>작물 재배업</td>\n",
              "      <td>112.0</td>\n",
              "      <td>채소, 화훼작물 및 종묘 재배업</td>\n",
              "      <td>채소작물 재배업</td>\n",
              "      <td>1</td>\n",
              "      <td>NaN</td>\n",
              "      <td>NaN</td>\n",
              "      <td></td>\n",
              "      <td>1131.0</td>\n",
              "      <td>과실작물 재배업</td>\n",
              "    </tr>\n",
              "    <tr>\n",
              "      <th>4</th>\n",
              "      <td>2.0</td>\n",
              "      <td>11001.0</td>\n",
              "      <td>11001.0</td>\n",
              "      <td>A</td>\n",
              "      <td>농업, 임업 및 어업</td>\n",
              "      <td>1.0</td>\n",
              "      <td>농업</td>\n",
              "      <td>11.0</td>\n",
              "      <td>작물 재배업</td>\n",
              "      <td>110.0</td>\n",
              "      <td>채소, 화훼작물 및 종묘 재배업</td>\n",
              "      <td>채소작물 재배업</td>\n",
              "      <td>1.0</td>\n",
              "      <td>01121</td>\n",
              "      <td>A</td>\n",
              "      <td>농업, 임업 및 어업</td>\n",
              "      <td>1.0</td>\n",
              "      <td>농업</td>\n",
              "      <td>11.0</td>\n",
              "      <td>작물 재배업</td>\n",
              "      <td>112.0</td>\n",
              "      <td>채소, 화훼작물 및 종묘 재배업</td>\n",
              "      <td>채소작물 재배업</td>\n",
              "      <td>1</td>\n",
              "      <td>NaN</td>\n",
              "      <td>NaN</td>\n",
              "      <td></td>\n",
              "      <td>1132.0</td>\n",
              "      <td>음료용 및 향신용 작물 재배업</td>\n",
              "    </tr>\n",
              "  </tbody>\n",
              "</table>\n",
              "</div>"
            ],
            "text/plain": [
              "   일련번호  2018년 귀속(현행)업종코드  ...  KSIC9_코드          KSIC9_항목명\n",
              "0   1.0           11000.0  ...    1110.0  곡물 및 기타 식량 작물 재배업\n",
              "1   1.0           11000.0  ...    1140.0          기타 작물 재배업\n",
              "2   2.0           11001.0  ...    1121.0           채소작물 재배업\n",
              "3   2.0           11001.0  ...    1131.0           과실작물 재배업\n",
              "4   2.0           11001.0  ...    1132.0   음료용 및 향신용 작물 재배업\n",
              "\n",
              "[5 rows x 29 columns]"
            ]
          },
          "metadata": {},
          "execution_count": 125
        }
      ]
    },
    {
      "cell_type": "code",
      "metadata": {
        "colab": {
          "base_uri": "https://localhost:8080/"
        },
        "id": "fZ1_oF2Kx_il",
        "outputId": "89f8f927-b443-4a2d-9b58-c5b72a98c58d"
      },
      "source": [
        "concordance.isna().sum()"
      ],
      "execution_count": 126,
      "outputs": [
        {
          "output_type": "execute_result",
          "data": {
            "text/plain": [
              "일련번호                    4\n",
              "2018년 귀속(현행)업종코드       73\n",
              "2019년 귀속(개편후)업종코드       4\n",
              "국세청_대분류코드               4\n",
              "국세청_대분류                 4\n",
              "국세청_중분류코드               4\n",
              "국세청_중분류                 4\n",
              "국세청_소분류코드               4\n",
              "국세청_소분류                 4\n",
              "국세청_세분류코드               4\n",
              "국세청_세분류                 4\n",
              "국세청_세세분류                4\n",
              "국세청_연계                  4\n",
              "KSIC10_코드               2\n",
              "KSIC10_대분류코드            2\n",
              "KSIC10_대분류              0\n",
              "KSIC10_중분류코드            2\n",
              "KSIC10_중분류              0\n",
              "KSIC10_소분류코드            2\n",
              "KSIC10_소분류              0\n",
              "KSIC10_세분류코드            2\n",
              "KSIC10_세분류              0\n",
              "KSIC10_세세분류             0\n",
              "KSIC10_연계               0\n",
              "메인                   1592\n",
              "세부설명                 1296\n",
              "KSIC10_항목명             82\n",
              "KSIC9_코드               63\n",
              "KSIC9_항목명              63\n",
              "dtype: int64"
            ]
          },
          "metadata": {},
          "execution_count": 126
        }
      ]
    },
    {
      "cell_type": "code",
      "metadata": {
        "id": "gkOJsDbeyICH"
      },
      "source": [
        "concordance = concordance[~concordance['KSIC10_코드'].isna()]"
      ],
      "execution_count": 415,
      "outputs": []
    },
    {
      "cell_type": "markdown",
      "metadata": {
        "id": "PAOLDfBJ6AEx"
      },
      "source": [
        "### 소분류 기준 병합"
      ]
    },
    {
      "cell_type": "code",
      "metadata": {
        "id": "EbUfzLXa3v25"
      },
      "source": [
        "concordance['KSIC_CODE'] = concordance['KSIC10_대분류코드']+concordance['KSIC10_소분류코드'].apply(lambda x: str(int(x)).zfill(2))"
      ],
      "execution_count": 416,
      "outputs": []
    },
    {
      "cell_type": "code",
      "metadata": {
        "colab": {
          "base_uri": "https://localhost:8080/"
        },
        "id": "BrPVXF3pblGS",
        "outputId": "9a18c25c-3555-48b0-b498-23637bf13d70"
      },
      "source": [
        "(concordance['KSIC_CODE'] == 'J582').sum()"
      ],
      "execution_count": 417,
      "outputs": [
        {
          "output_type": "execute_result",
          "data": {
            "text/plain": [
              "5"
            ]
          },
          "metadata": {},
          "execution_count": 417
        }
      ]
    },
    {
      "cell_type": "code",
      "metadata": {
        "id": "KYg6K3fiUKoP"
      },
      "source": [
        "concordance = concordance.merge(ksic9, how='left')"
      ],
      "execution_count": 418,
      "outputs": []
    },
    {
      "cell_type": "code",
      "metadata": {
        "colab": {
          "base_uri": "https://localhost:8080/"
        },
        "id": "hgRaPaVR7khw",
        "outputId": "8fc4f3c5-1105-4aa5-fff5-1674ffd9c4e4"
      },
      "source": [
        "concordance.isna().sum()"
      ],
      "execution_count": 419,
      "outputs": [
        {
          "output_type": "execute_result",
          "data": {
            "text/plain": [
              "일련번호                    4\n",
              "2018년 귀속(현행)업종코드       73\n",
              "2019년 귀속(개편후)업종코드       4\n",
              "국세청_대분류코드               4\n",
              "국세청_대분류                 4\n",
              "국세청_중분류코드               4\n",
              "국세청_중분류                 4\n",
              "국세청_소분류코드               4\n",
              "국세청_소분류                 4\n",
              "국세청_세분류코드               4\n",
              "국세청_세분류                 4\n",
              "국세청_세세분류                4\n",
              "국세청_연계                  4\n",
              "KSIC10_코드               0\n",
              "KSIC10_대분류코드            0\n",
              "KSIC10_대분류              0\n",
              "KSIC10_중분류코드            0\n",
              "KSIC10_중분류              0\n",
              "KSIC10_소분류코드            0\n",
              "KSIC10_소분류              0\n",
              "KSIC10_세분류코드            0\n",
              "KSIC10_세분류              0\n",
              "KSIC10_세세분류             0\n",
              "KSIC10_연계               0\n",
              "메인                   1590\n",
              "세부설명                 1296\n",
              "KSIC10_항목명             80\n",
              "KSIC9_코드               61\n",
              "KSIC9_항목명              61\n",
              "KSIC_CODE               0\n",
              "산업명                  1995\n",
              "dtype: int64"
            ]
          },
          "metadata": {},
          "execution_count": 419
        }
      ]
    },
    {
      "cell_type": "code",
      "metadata": {
        "id": "mR0nYlaOSMS_"
      },
      "source": [
        "concordance.reset_index(drop=True, inplace=True)"
      ],
      "execution_count": 420,
      "outputs": []
    },
    {
      "cell_type": "markdown",
      "metadata": {
        "id": "t9PYoDXy57Hc"
      },
      "source": [
        "### 중분류 기준 병합"
      ]
    },
    {
      "cell_type": "code",
      "metadata": {
        "id": "na45r0fwxuQK"
      },
      "source": [
        "concordance.loc[concordance['산업명'].isna(), 'KSIC_CODE'] = concordance.loc[concordance['산업명'].isna(), 'KSIC10_대분류코드']+concordance.loc[concordance['산업명'].isna(), 'KSIC10_중분류코드'].apply(lambda x: str(int(x)).zfill(2))"
      ],
      "execution_count": 421,
      "outputs": []
    },
    {
      "cell_type": "code",
      "metadata": {
        "id": "fiCYO9yyvKc0"
      },
      "source": [
        "concordance.loc[concordance['산업명'].isna(), '산업명'] = concordance.loc[concordance['산업명'].isna(),concordance.columns[:-1]].merge(ksic9, how='left')['산업명']"
      ],
      "execution_count": 422,
      "outputs": []
    },
    {
      "cell_type": "code",
      "metadata": {
        "colab": {
          "base_uri": "https://localhost:8080/",
          "height": 0
        },
        "id": "njUYux2oaHlo",
        "outputId": "9cde3c46-a1a3-4ca0-dc5d-68df554a52a7"
      },
      "source": [
        "concordance"
      ],
      "execution_count": 423,
      "outputs": [
        {
          "output_type": "execute_result",
          "data": {
            "text/html": [
              "<div>\n",
              "<style scoped>\n",
              "    .dataframe tbody tr th:only-of-type {\n",
              "        vertical-align: middle;\n",
              "    }\n",
              "\n",
              "    .dataframe tbody tr th {\n",
              "        vertical-align: top;\n",
              "    }\n",
              "\n",
              "    .dataframe thead th {\n",
              "        text-align: right;\n",
              "    }\n",
              "</style>\n",
              "<table border=\"1\" class=\"dataframe\">\n",
              "  <thead>\n",
              "    <tr style=\"text-align: right;\">\n",
              "      <th></th>\n",
              "      <th>일련번호</th>\n",
              "      <th>2018년 귀속(현행)업종코드</th>\n",
              "      <th>2019년 귀속(개편후)업종코드</th>\n",
              "      <th>국세청_대분류코드</th>\n",
              "      <th>국세청_대분류</th>\n",
              "      <th>국세청_중분류코드</th>\n",
              "      <th>국세청_중분류</th>\n",
              "      <th>국세청_소분류코드</th>\n",
              "      <th>국세청_소분류</th>\n",
              "      <th>국세청_세분류코드</th>\n",
              "      <th>국세청_세분류</th>\n",
              "      <th>국세청_세세분류</th>\n",
              "      <th>국세청_연계</th>\n",
              "      <th>KSIC10_코드</th>\n",
              "      <th>KSIC10_대분류코드</th>\n",
              "      <th>KSIC10_대분류</th>\n",
              "      <th>KSIC10_중분류코드</th>\n",
              "      <th>KSIC10_중분류</th>\n",
              "      <th>KSIC10_소분류코드</th>\n",
              "      <th>KSIC10_소분류</th>\n",
              "      <th>KSIC10_세분류코드</th>\n",
              "      <th>KSIC10_세분류</th>\n",
              "      <th>KSIC10_세세분류</th>\n",
              "      <th>KSIC10_연계</th>\n",
              "      <th>메인</th>\n",
              "      <th>세부설명</th>\n",
              "      <th>KSIC10_항목명</th>\n",
              "      <th>KSIC9_코드</th>\n",
              "      <th>KSIC9_항목명</th>\n",
              "      <th>KSIC_CODE</th>\n",
              "      <th>산업명</th>\n",
              "    </tr>\n",
              "  </thead>\n",
              "  <tbody>\n",
              "    <tr>\n",
              "      <th>0</th>\n",
              "      <td>1.0</td>\n",
              "      <td>11000.0</td>\n",
              "      <td>11000.0</td>\n",
              "      <td>A</td>\n",
              "      <td>농업, 임업 및 어업</td>\n",
              "      <td>1.0</td>\n",
              "      <td>농업</td>\n",
              "      <td>11.0</td>\n",
              "      <td>작물 재배업</td>\n",
              "      <td>110.0</td>\n",
              "      <td>곡물 및 기타 식량작물 재배업</td>\n",
              "      <td>곡물 및 기타 식량작물 재배업</td>\n",
              "      <td>1.0</td>\n",
              "      <td>01110</td>\n",
              "      <td>A</td>\n",
              "      <td>농업, 임업 및 어업</td>\n",
              "      <td>1.0</td>\n",
              "      <td>농업</td>\n",
              "      <td>11.0</td>\n",
              "      <td>작물 재배업</td>\n",
              "      <td>111.0</td>\n",
              "      <td>곡물 및 기타 식량작물 재배업</td>\n",
              "      <td>곡물 및 기타 식량작물 재배업</td>\n",
              "      <td>1</td>\n",
              "      <td>NaN</td>\n",
              "      <td>NaN</td>\n",
              "      <td>곡물 및 기타 식량 작물 재배업</td>\n",
              "      <td>1110.0</td>\n",
              "      <td>곡물 및 기타 식량 작물 재배업</td>\n",
              "      <td>A01</td>\n",
              "      <td>농림어업</td>\n",
              "    </tr>\n",
              "    <tr>\n",
              "      <th>1</th>\n",
              "      <td>1.0</td>\n",
              "      <td>11000.0</td>\n",
              "      <td>11000.0</td>\n",
              "      <td>A</td>\n",
              "      <td>농업, 임업 및 어업</td>\n",
              "      <td>1.0</td>\n",
              "      <td>농업</td>\n",
              "      <td>11.0</td>\n",
              "      <td>작물 재배업</td>\n",
              "      <td>110.0</td>\n",
              "      <td>곡물 및 기타 식량작물 재배업</td>\n",
              "      <td>곡물 및 기타 식량작물 재배업</td>\n",
              "      <td>1.0</td>\n",
              "      <td>01110</td>\n",
              "      <td>A</td>\n",
              "      <td>농업, 임업 및 어업</td>\n",
              "      <td>1.0</td>\n",
              "      <td>농업</td>\n",
              "      <td>11.0</td>\n",
              "      <td>작물 재배업</td>\n",
              "      <td>111.0</td>\n",
              "      <td>곡물 및 기타 식량작물 재배업</td>\n",
              "      <td>곡물 및 기타 식량작물 재배업</td>\n",
              "      <td>1</td>\n",
              "      <td>NaN</td>\n",
              "      <td>NaN</td>\n",
              "      <td></td>\n",
              "      <td>1140.0</td>\n",
              "      <td>기타 작물 재배업</td>\n",
              "      <td>A01</td>\n",
              "      <td>농림어업</td>\n",
              "    </tr>\n",
              "    <tr>\n",
              "      <th>2</th>\n",
              "      <td>2.0</td>\n",
              "      <td>11001.0</td>\n",
              "      <td>11001.0</td>\n",
              "      <td>A</td>\n",
              "      <td>농업, 임업 및 어업</td>\n",
              "      <td>1.0</td>\n",
              "      <td>농업</td>\n",
              "      <td>11.0</td>\n",
              "      <td>작물 재배업</td>\n",
              "      <td>110.0</td>\n",
              "      <td>채소, 화훼작물 및 종묘 재배업</td>\n",
              "      <td>채소작물 재배업</td>\n",
              "      <td>1.0</td>\n",
              "      <td>01121</td>\n",
              "      <td>A</td>\n",
              "      <td>농업, 임업 및 어업</td>\n",
              "      <td>1.0</td>\n",
              "      <td>농업</td>\n",
              "      <td>11.0</td>\n",
              "      <td>작물 재배업</td>\n",
              "      <td>112.0</td>\n",
              "      <td>채소, 화훼작물 및 종묘 재배업</td>\n",
              "      <td>채소작물 재배업</td>\n",
              "      <td>1</td>\n",
              "      <td>NaN</td>\n",
              "      <td>NaN</td>\n",
              "      <td>채소작물 재배업</td>\n",
              "      <td>1121.0</td>\n",
              "      <td>채소작물 재배업</td>\n",
              "      <td>A01</td>\n",
              "      <td>농림어업</td>\n",
              "    </tr>\n",
              "    <tr>\n",
              "      <th>3</th>\n",
              "      <td>2.0</td>\n",
              "      <td>11001.0</td>\n",
              "      <td>11001.0</td>\n",
              "      <td>A</td>\n",
              "      <td>농업, 임업 및 어업</td>\n",
              "      <td>1.0</td>\n",
              "      <td>농업</td>\n",
              "      <td>11.0</td>\n",
              "      <td>작물 재배업</td>\n",
              "      <td>110.0</td>\n",
              "      <td>채소, 화훼작물 및 종묘 재배업</td>\n",
              "      <td>채소작물 재배업</td>\n",
              "      <td>1.0</td>\n",
              "      <td>01121</td>\n",
              "      <td>A</td>\n",
              "      <td>농업, 임업 및 어업</td>\n",
              "      <td>1.0</td>\n",
              "      <td>농업</td>\n",
              "      <td>11.0</td>\n",
              "      <td>작물 재배업</td>\n",
              "      <td>112.0</td>\n",
              "      <td>채소, 화훼작물 및 종묘 재배업</td>\n",
              "      <td>채소작물 재배업</td>\n",
              "      <td>1</td>\n",
              "      <td>NaN</td>\n",
              "      <td>NaN</td>\n",
              "      <td></td>\n",
              "      <td>1131.0</td>\n",
              "      <td>과실작물 재배업</td>\n",
              "      <td>A01</td>\n",
              "      <td>농림어업</td>\n",
              "    </tr>\n",
              "    <tr>\n",
              "      <th>4</th>\n",
              "      <td>2.0</td>\n",
              "      <td>11001.0</td>\n",
              "      <td>11001.0</td>\n",
              "      <td>A</td>\n",
              "      <td>농업, 임업 및 어업</td>\n",
              "      <td>1.0</td>\n",
              "      <td>농업</td>\n",
              "      <td>11.0</td>\n",
              "      <td>작물 재배업</td>\n",
              "      <td>110.0</td>\n",
              "      <td>채소, 화훼작물 및 종묘 재배업</td>\n",
              "      <td>채소작물 재배업</td>\n",
              "      <td>1.0</td>\n",
              "      <td>01121</td>\n",
              "      <td>A</td>\n",
              "      <td>농업, 임업 및 어업</td>\n",
              "      <td>1.0</td>\n",
              "      <td>농업</td>\n",
              "      <td>11.0</td>\n",
              "      <td>작물 재배업</td>\n",
              "      <td>112.0</td>\n",
              "      <td>채소, 화훼작물 및 종묘 재배업</td>\n",
              "      <td>채소작물 재배업</td>\n",
              "      <td>1</td>\n",
              "      <td>NaN</td>\n",
              "      <td>NaN</td>\n",
              "      <td></td>\n",
              "      <td>1132.0</td>\n",
              "      <td>음료용 및 향신용 작물 재배업</td>\n",
              "      <td>A01</td>\n",
              "      <td>농림어업</td>\n",
              "    </tr>\n",
              "    <tr>\n",
              "      <th>...</th>\n",
              "      <td>...</td>\n",
              "      <td>...</td>\n",
              "      <td>...</td>\n",
              "      <td>...</td>\n",
              "      <td>...</td>\n",
              "      <td>...</td>\n",
              "      <td>...</td>\n",
              "      <td>...</td>\n",
              "      <td>...</td>\n",
              "      <td>...</td>\n",
              "      <td>...</td>\n",
              "      <td>...</td>\n",
              "      <td>...</td>\n",
              "      <td>...</td>\n",
              "      <td>...</td>\n",
              "      <td>...</td>\n",
              "      <td>...</td>\n",
              "      <td>...</td>\n",
              "      <td>...</td>\n",
              "      <td>...</td>\n",
              "      <td>...</td>\n",
              "      <td>...</td>\n",
              "      <td>...</td>\n",
              "      <td>...</td>\n",
              "      <td>...</td>\n",
              "      <td>...</td>\n",
              "      <td>...</td>\n",
              "      <td>...</td>\n",
              "      <td>...</td>\n",
              "      <td>...</td>\n",
              "      <td>...</td>\n",
              "    </tr>\n",
              "    <tr>\n",
              "      <th>1995</th>\n",
              "      <td>1589.0</td>\n",
              "      <td>NaN</td>\n",
              "      <td>990090.0</td>\n",
              "      <td>U</td>\n",
              "      <td>국제 및 외국기관</td>\n",
              "      <td>99.0</td>\n",
              "      <td>국제 및 외국기관</td>\n",
              "      <td>990.0</td>\n",
              "      <td>국제 및 외국기관</td>\n",
              "      <td>9900.0</td>\n",
              "      <td>국제 및 외국기관</td>\n",
              "      <td>기타 국제 및 외국기관</td>\n",
              "      <td>1.0</td>\n",
              "      <td>99009</td>\n",
              "      <td>U</td>\n",
              "      <td>국제 및 외국기관</td>\n",
              "      <td>99.0</td>\n",
              "      <td>국제 및 외국기관</td>\n",
              "      <td>990.0</td>\n",
              "      <td>국제 및 외국기관</td>\n",
              "      <td>9900.0</td>\n",
              "      <td>국제 및 외국기관</td>\n",
              "      <td>기타 국제 및 외국기관</td>\n",
              "      <td>1</td>\n",
              "      <td>NaN</td>\n",
              "      <td>NaN</td>\n",
              "      <td>기타 국제 및 외국기관</td>\n",
              "      <td>99009.0</td>\n",
              "      <td>기타 국제 및 외국기관</td>\n",
              "      <td>U99</td>\n",
              "      <td>NaN</td>\n",
              "    </tr>\n",
              "    <tr>\n",
              "      <th>1996</th>\n",
              "      <td>NaN</td>\n",
              "      <td>NaN</td>\n",
              "      <td>NaN</td>\n",
              "      <td>NaN</td>\n",
              "      <td>NaN</td>\n",
              "      <td>NaN</td>\n",
              "      <td>NaN</td>\n",
              "      <td>NaN</td>\n",
              "      <td>NaN</td>\n",
              "      <td>NaN</td>\n",
              "      <td>NaN</td>\n",
              "      <td>NaN</td>\n",
              "      <td>NaN</td>\n",
              "      <td>71511</td>\n",
              "      <td>M</td>\n",
              "      <td>전문, 과학 및 기술 서비스업</td>\n",
              "      <td>71.0</td>\n",
              "      <td>전문 서비스업</td>\n",
              "      <td>715.0</td>\n",
              "      <td>회사본부 및 경영 컨설팅 서비스업</td>\n",
              "      <td>7151.0</td>\n",
              "      <td>회사본부</td>\n",
              "      <td>제조업 회사본부</td>\n",
              "      <td>1</td>\n",
              "      <td>NaN</td>\n",
              "      <td>표준산업분류에 해당하는 국세청 업종코드가 없음</td>\n",
              "      <td>제조업 회사본부</td>\n",
              "      <td>71511.0</td>\n",
              "      <td>제조업 회사본부</td>\n",
              "      <td>M71</td>\n",
              "      <td>NaN</td>\n",
              "    </tr>\n",
              "    <tr>\n",
              "      <th>1997</th>\n",
              "      <td>NaN</td>\n",
              "      <td>NaN</td>\n",
              "      <td>NaN</td>\n",
              "      <td>NaN</td>\n",
              "      <td>NaN</td>\n",
              "      <td>NaN</td>\n",
              "      <td>NaN</td>\n",
              "      <td>NaN</td>\n",
              "      <td>NaN</td>\n",
              "      <td>NaN</td>\n",
              "      <td>NaN</td>\n",
              "      <td>NaN</td>\n",
              "      <td>NaN</td>\n",
              "      <td>71519</td>\n",
              "      <td>M</td>\n",
              "      <td>전문, 과학 및 기술 서비스업</td>\n",
              "      <td>71.0</td>\n",
              "      <td>전문 서비스업</td>\n",
              "      <td>715.0</td>\n",
              "      <td>회사본부 및 경영 컨설팅 서비스업</td>\n",
              "      <td>7151.0</td>\n",
              "      <td>회사본부</td>\n",
              "      <td>기타 산업 회사본부</td>\n",
              "      <td>1</td>\n",
              "      <td>NaN</td>\n",
              "      <td>표준산업분류에 해당하는 국세청 업종코드가 없음</td>\n",
              "      <td>기타 산업 회사본부</td>\n",
              "      <td>71519.0</td>\n",
              "      <td>기타 산업 회사본부</td>\n",
              "      <td>M71</td>\n",
              "      <td>NaN</td>\n",
              "    </tr>\n",
              "    <tr>\n",
              "      <th>1998</th>\n",
              "      <td>NaN</td>\n",
              "      <td>NaN</td>\n",
              "      <td>NaN</td>\n",
              "      <td>NaN</td>\n",
              "      <td>NaN</td>\n",
              "      <td>NaN</td>\n",
              "      <td>NaN</td>\n",
              "      <td>NaN</td>\n",
              "      <td>NaN</td>\n",
              "      <td>NaN</td>\n",
              "      <td>NaN</td>\n",
              "      <td>NaN</td>\n",
              "      <td>NaN</td>\n",
              "      <td>98100</td>\n",
              "      <td>T</td>\n",
              "      <td>가구내 고용활동 및 달리 분류되지 않은 자가소비 생산활동</td>\n",
              "      <td>98.0</td>\n",
              "      <td>달리 분류되지 않은 자가 소비를 위한 가구의 재화 및 서비스 생산활동</td>\n",
              "      <td>981.0</td>\n",
              "      <td>자가 소비를 위한 가사 생산 활동</td>\n",
              "      <td>9810.0</td>\n",
              "      <td>자가 소비를 위한 가사 생산 활동</td>\n",
              "      <td>자가 소비를 위한 가사 생산 활동</td>\n",
              "      <td>1</td>\n",
              "      <td>NaN</td>\n",
              "      <td>표준산업분류에 해당하는 국세청 업종코드가 없음</td>\n",
              "      <td>자가 소비를 위한 가사 생산 활동</td>\n",
              "      <td>98100.0</td>\n",
              "      <td>자가 소비를 위한 가사 생산 활동</td>\n",
              "      <td>T98</td>\n",
              "      <td>NaN</td>\n",
              "    </tr>\n",
              "    <tr>\n",
              "      <th>1999</th>\n",
              "      <td>NaN</td>\n",
              "      <td>NaN</td>\n",
              "      <td>NaN</td>\n",
              "      <td>NaN</td>\n",
              "      <td>NaN</td>\n",
              "      <td>NaN</td>\n",
              "      <td>NaN</td>\n",
              "      <td>NaN</td>\n",
              "      <td>NaN</td>\n",
              "      <td>NaN</td>\n",
              "      <td>NaN</td>\n",
              "      <td>NaN</td>\n",
              "      <td>NaN</td>\n",
              "      <td>98200</td>\n",
              "      <td>T</td>\n",
              "      <td>가구내 고용활동 및 달리 분류되지 않은 자가소비 생산활동</td>\n",
              "      <td>98.0</td>\n",
              "      <td>달리 분류되지 않은 자가 소비를 위한 가구의 재화 및 서비스 생산활동</td>\n",
              "      <td>982.0</td>\n",
              "      <td>자가 소비를 위한 가사 서비스 활동</td>\n",
              "      <td>9820.0</td>\n",
              "      <td>자가 소비를 위한 가사 서비스 활동</td>\n",
              "      <td>자가 소비를 위한 가사 서비스 활동</td>\n",
              "      <td>1</td>\n",
              "      <td>NaN</td>\n",
              "      <td>표준산업분류에 해당하는 국세청 업종코드가 없음</td>\n",
              "      <td>자가 소비를 위한 가사 서비스 활동</td>\n",
              "      <td>98200.0</td>\n",
              "      <td>자가 소비를 위한 가사 서비스 활동</td>\n",
              "      <td>T98</td>\n",
              "      <td>NaN</td>\n",
              "    </tr>\n",
              "  </tbody>\n",
              "</table>\n",
              "<p>2000 rows × 31 columns</p>\n",
              "</div>"
            ],
            "text/plain": [
              "        일련번호  2018년 귀속(현행)업종코드  ...  KSIC_CODE   산업명\n",
              "0        1.0           11000.0  ...        A01  농림어업\n",
              "1        1.0           11000.0  ...        A01  농림어업\n",
              "2        2.0           11001.0  ...        A01  농림어업\n",
              "3        2.0           11001.0  ...        A01  농림어업\n",
              "4        2.0           11001.0  ...        A01  농림어업\n",
              "...      ...               ...  ...        ...   ...\n",
              "1995  1589.0               NaN  ...        U99   NaN\n",
              "1996     NaN               NaN  ...        M71   NaN\n",
              "1997     NaN               NaN  ...        M71   NaN\n",
              "1998     NaN               NaN  ...        T98   NaN\n",
              "1999     NaN               NaN  ...        T98   NaN\n",
              "\n",
              "[2000 rows x 31 columns]"
            ]
          },
          "metadata": {},
          "execution_count": 423
        }
      ]
    },
    {
      "cell_type": "code",
      "metadata": {
        "colab": {
          "base_uri": "https://localhost:8080/"
        },
        "id": "VI4jyUEY7myi",
        "outputId": "dba93a0a-390a-4f8e-ff65-19bf7ef4427f"
      },
      "source": [
        "concordance.isna().sum()"
      ],
      "execution_count": 424,
      "outputs": [
        {
          "output_type": "execute_result",
          "data": {
            "text/plain": [
              "일련번호                    4\n",
              "2018년 귀속(현행)업종코드       73\n",
              "2019년 귀속(개편후)업종코드       4\n",
              "국세청_대분류코드               4\n",
              "국세청_대분류                 4\n",
              "국세청_중분류코드               4\n",
              "국세청_중분류                 4\n",
              "국세청_소분류코드               4\n",
              "국세청_소분류                 4\n",
              "국세청_세분류코드               4\n",
              "국세청_세분류                 4\n",
              "국세청_세세분류                4\n",
              "국세청_연계                  4\n",
              "KSIC10_코드               0\n",
              "KSIC10_대분류코드            0\n",
              "KSIC10_대분류              0\n",
              "KSIC10_중분류코드            0\n",
              "KSIC10_중분류              0\n",
              "KSIC10_소분류코드            0\n",
              "KSIC10_소분류              0\n",
              "KSIC10_세분류코드            0\n",
              "KSIC10_세분류              0\n",
              "KSIC10_세세분류             0\n",
              "KSIC10_연계               0\n",
              "메인                   1590\n",
              "세부설명                 1296\n",
              "KSIC10_항목명             80\n",
              "KSIC9_코드               61\n",
              "KSIC9_항목명              61\n",
              "KSIC_CODE               0\n",
              "산업명                  1407\n",
              "dtype: int64"
            ]
          },
          "metadata": {},
          "execution_count": 424
        }
      ]
    },
    {
      "cell_type": "code",
      "metadata": {
        "colab": {
          "base_uri": "https://localhost:8080/"
        },
        "id": "VJQ2r0lt2peb",
        "outputId": "a7f49cc1-c4e9-45ae-d191-6925e16523da"
      },
      "source": [
        "concordance.loc[concordance['산업명'].isna(), 'KSIC_CODE'].unique()"
      ],
      "execution_count": 425,
      "outputs": [
        {
          "output_type": "execute_result",
          "data": {
            "text/plain": [
              "array(['C20', 'C26', 'C24', 'C25', 'C29', 'C28', 'C27', 'C31', 'N75',\n",
              "       'C34', 'E36', 'L68', 'G45', 'G47', 'G46', 'H49', 'H52', 'H50',\n",
              "       'H51', 'I55', 'I56', 'J58', 'J59', 'J61', 'J63', 'J62', 'J60',\n",
              "       'K64', 'K65', 'K66', 'M70', 'M71', 'M72', 'M73', 'N76', 'N74',\n",
              "       'O84', 'P85', 'Q86', 'Q87', 'R91', 'R90', 'S96', 'S95', 'A03',\n",
              "       'S94', 'T97', 'U99', 'T98'], dtype=object)"
            ]
          },
          "metadata": {},
          "execution_count": 425
        }
      ]
    },
    {
      "cell_type": "code",
      "metadata": {
        "id": "kAzyU-1lSFZm"
      },
      "source": [
        "concordance.reset_index(drop=True, inplace=True)"
      ],
      "execution_count": 426,
      "outputs": []
    },
    {
      "cell_type": "markdown",
      "metadata": {
        "id": "7DgAwMg4cZ__"
      },
      "source": [
        "### 세분류 기준"
      ]
    },
    {
      "cell_type": "code",
      "metadata": {
        "colab": {
          "base_uri": "https://localhost:8080/"
        },
        "id": "8eLKKpuedy8C",
        "outputId": "55b33077-5a2f-4780-d895-3b5f809122ec"
      },
      "source": [
        "concordance['KSIC9_코드'].isna().sum()"
      ],
      "execution_count": 427,
      "outputs": [
        {
          "output_type": "execute_result",
          "data": {
            "text/plain": [
              "61"
            ]
          },
          "metadata": {},
          "execution_count": 427
        }
      ]
    },
    {
      "cell_type": "code",
      "metadata": {
        "id": "knd35q8jcduv"
      },
      "source": [
        "for i in concordance.loc[concordance['산업명'].isna()].index:\n",
        "    if pd.notnull(concordance.loc[i, 'KSIC9_코드']):\n",
        "        concordance.loc[i, 'KSIC_CODE'] = concordance.loc[i, 'KSIC10_대분류코드']+str(int(concordance.loc[i, 'KSIC9_코드'])).zfill(4)"
      ],
      "execution_count": 428,
      "outputs": []
    },
    {
      "cell_type": "code",
      "metadata": {
        "colab": {
          "base_uri": "https://localhost:8080/"
        },
        "id": "pJAdLSYlctsq",
        "outputId": "8a35557f-c18c-4252-99a7-68f6a4814f2f"
      },
      "source": [
        "set(ksic9['KSIC_CODE'])"
      ],
      "execution_count": 429,
      "outputs": [
        {
          "output_type": "execute_result",
          "data": {
            "text/plain": [
              "{'A01',\n",
              " 'A02',\n",
              " 'A03',\n",
              " 'B05',\n",
              " 'B06',\n",
              " 'B07',\n",
              " 'B08',\n",
              " 'C10',\n",
              " 'C11',\n",
              " 'C12',\n",
              " 'C13',\n",
              " 'C14',\n",
              " 'C15',\n",
              " 'C16',\n",
              " 'C17',\n",
              " 'C18',\n",
              " 'C19',\n",
              " 'C2010',\n",
              " 'C2020',\n",
              " 'C2030',\n",
              " 'C2041',\n",
              " 'C2042',\n",
              " 'C2043',\n",
              " 'C2049',\n",
              " 'C2050',\n",
              " 'C21',\n",
              " 'C22',\n",
              " 'C23',\n",
              " 'C2410',\n",
              " 'C2420',\n",
              " 'C2430',\n",
              " 'C2510',\n",
              " 'C2520',\n",
              " 'C2590',\n",
              " 'C2610',\n",
              " 'C2620',\n",
              " 'C2630',\n",
              " 'C2640',\n",
              " 'C2650',\n",
              " 'C2660',\n",
              " 'C2710',\n",
              " 'C2720',\n",
              " 'C2730',\n",
              " 'C2740',\n",
              " 'C2810',\n",
              " 'C2820',\n",
              " 'C2830',\n",
              " 'C2840',\n",
              " 'C2850',\n",
              " 'C2890',\n",
              " 'C2918',\n",
              " 'C2919',\n",
              " 'C2920',\n",
              " 'C30',\n",
              " 'C3110',\n",
              " 'C3120',\n",
              " 'C3130',\n",
              " 'C3191',\n",
              " 'C3192',\n",
              " 'C3199',\n",
              " 'C32',\n",
              " 'C33',\n",
              " 'D35',\n",
              " 'D36',\n",
              " 'E37',\n",
              " 'E38',\n",
              " 'E39',\n",
              " 'F41',\n",
              " 'F42',\n",
              " 'J582',\n",
              " 'J62',\n",
              " 'J63'}"
            ]
          },
          "metadata": {},
          "execution_count": 429
        }
      ]
    },
    {
      "cell_type": "code",
      "metadata": {
        "colab": {
          "base_uri": "https://localhost:8080/"
        },
        "id": "ci-UQ9VxeSXL",
        "outputId": "dfe19ed8-c372-40e0-abd6-e0e6aff8e82e"
      },
      "source": [
        "concordance['KSIC_CODE']"
      ],
      "execution_count": 430,
      "outputs": [
        {
          "output_type": "execute_result",
          "data": {
            "text/plain": [
              "0          A01\n",
              "1          A01\n",
              "2          A01\n",
              "3          A01\n",
              "4          A01\n",
              "         ...  \n",
              "1995    U99009\n",
              "1996    M71511\n",
              "1997    M71519\n",
              "1998    T98100\n",
              "1999    T98200\n",
              "Name: KSIC_CODE, Length: 2000, dtype: object"
            ]
          },
          "metadata": {},
          "execution_count": 430
        }
      ]
    },
    {
      "cell_type": "code",
      "metadata": {
        "colab": {
          "base_uri": "https://localhost:8080/"
        },
        "id": "_NBcA0LLcduw",
        "outputId": "fb8d3895-6b0e-48c4-d126-93b8c8514828"
      },
      "source": [
        "(concordance['KSIC_CODE'] == 'C2010').sum()"
      ],
      "execution_count": 431,
      "outputs": [
        {
          "output_type": "execute_result",
          "data": {
            "text/plain": [
              "0"
            ]
          },
          "metadata": {},
          "execution_count": 431
        }
      ]
    },
    {
      "cell_type": "code",
      "metadata": {
        "id": "VDMiKPGRcduw"
      },
      "source": [
        "concordance.loc[concordance['산업명'].isna(), '산업명'] = concordance.loc[concordance['산업명'].isna(),concordance.columns[:-1]].merge(ksic9, how='left')['산업명']"
      ],
      "execution_count": 432,
      "outputs": []
    },
    {
      "cell_type": "code",
      "metadata": {
        "colab": {
          "base_uri": "https://localhost:8080/"
        },
        "id": "MyEWXQm8cduw",
        "outputId": "efc8bf07-af9b-47ab-daba-ed642a9d7c8f"
      },
      "source": [
        "concordance.isna().sum()"
      ],
      "execution_count": 433,
      "outputs": [
        {
          "output_type": "execute_result",
          "data": {
            "text/plain": [
              "일련번호                    4\n",
              "2018년 귀속(현행)업종코드       73\n",
              "2019년 귀속(개편후)업종코드       4\n",
              "국세청_대분류코드               4\n",
              "국세청_대분류                 4\n",
              "국세청_중분류코드               4\n",
              "국세청_중분류                 4\n",
              "국세청_소분류코드               4\n",
              "국세청_소분류                 4\n",
              "국세청_세분류코드               4\n",
              "국세청_세분류                 4\n",
              "국세청_세세분류                4\n",
              "국세청_연계                  4\n",
              "KSIC10_코드               0\n",
              "KSIC10_대분류코드            0\n",
              "KSIC10_대분류              0\n",
              "KSIC10_중분류코드            0\n",
              "KSIC10_중분류              0\n",
              "KSIC10_소분류코드            0\n",
              "KSIC10_소분류              0\n",
              "KSIC10_세분류코드            0\n",
              "KSIC10_세분류              0\n",
              "KSIC10_세세분류             0\n",
              "KSIC10_연계               0\n",
              "메인                   1590\n",
              "세부설명                 1296\n",
              "KSIC10_항목명             80\n",
              "KSIC9_코드               61\n",
              "KSIC9_항목명              61\n",
              "KSIC_CODE               0\n",
              "산업명                  1403\n",
              "dtype: int64"
            ]
          },
          "metadata": {},
          "execution_count": 433
        }
      ]
    },
    {
      "cell_type": "code",
      "metadata": {
        "id": "pCCazDrXSRzL"
      },
      "source": [
        "concordance.reset_index(drop=True, inplace=True)"
      ],
      "execution_count": 434,
      "outputs": []
    },
    {
      "cell_type": "markdown",
      "metadata": {
        "id": "c49JCKK-eemi"
      },
      "source": [
        "### 이름 기준 병합"
      ]
    },
    {
      "cell_type": "markdown",
      "metadata": {
        "id": "15aQBaSWg3l9"
      },
      "source": [
        "#### 주어진 이름만 사용"
      ]
    },
    {
      "cell_type": "code",
      "metadata": {
        "colab": {
          "base_uri": "https://localhost:8080/"
        },
        "id": "YB4H6YiMRhPa",
        "outputId": "b77f91c9-0de3-4065-affc-0ac20e5ffe66"
      },
      "source": [
        "concordance['산업명'].isna().sum()"
      ],
      "execution_count": 435,
      "outputs": [
        {
          "output_type": "execute_result",
          "data": {
            "text/plain": [
              "1403"
            ]
          },
          "metadata": {},
          "execution_count": 435
        }
      ]
    },
    {
      "cell_type": "code",
      "metadata": {
        "colab": {
          "base_uri": "https://localhost:8080/"
        },
        "id": "PEz_Uhj-RsTK",
        "outputId": "d72d095c-98e4-46f7-f3fc-1f6adf4f8c4d"
      },
      "source": [
        "set(concordance.loc[concordance['산업명'].isna(),concordance.columns[:-2]].merge(ksic9, how='left', left_on = 'KSIC9_항목명', right_on = '산업명')['산업명'])"
      ],
      "execution_count": 436,
      "outputs": [
        {
          "output_type": "execute_result",
          "data": {
            "text/plain": [
              "{nan,\n",
              " '마그네틱 및 광학 매체 제조업',\n",
              " '모터사이클 제조업',\n",
              " '무기 및 총포탄 제조업',\n",
              " '사무용 기계 및 장비 제조업',\n",
              " '전투용 차량 제조업'}"
            ]
          },
          "metadata": {},
          "execution_count": 436
        }
      ]
    },
    {
      "cell_type": "code",
      "metadata": {
        "id": "FsMht8QY1xoq"
      },
      "source": [
        "concordance.loc[concordance['산업명'].isna(), '산업명'] = list(concordance.loc[concordance['산업명'].isna(),concordance.columns[:-2]].merge(ksic9, how='left', left_on = 'KSIC9_항목명', right_on = '산업명')['산업명'])"
      ],
      "execution_count": 437,
      "outputs": []
    },
    {
      "cell_type": "code",
      "metadata": {
        "colab": {
          "base_uri": "https://localhost:8080/"
        },
        "id": "ypHqZtysRY7Z",
        "outputId": "bf1a0d76-32fa-4c52-af8d-94b6827601dc"
      },
      "source": [
        "concordance['산업명'].isna().sum()"
      ],
      "execution_count": 438,
      "outputs": [
        {
          "output_type": "execute_result",
          "data": {
            "text/plain": [
              "1397"
            ]
          },
          "metadata": {},
          "execution_count": 438
        }
      ]
    },
    {
      "cell_type": "code",
      "metadata": {
        "colab": {
          "base_uri": "https://localhost:8080/"
        },
        "id": "EHkhz-HVP2Oi",
        "outputId": "7da54a6f-fd0f-4f46-e790-bd218de1ecd1"
      },
      "source": [
        "set(concordance.loc[concordance['산업명'].isna(),concordance.columns[:-2]].merge(ksic9, how='left', left_on = 'KSIC10_소분류', right_on = '산업명')['산업명'])"
      ],
      "execution_count": 439,
      "outputs": [
        {
          "output_type": "execute_result",
          "data": {
            "text/plain": [
              "{'1차 비철금속 제조업',\n",
              " nan,\n",
              " '가정용 기기 제조업',\n",
              " '기타 전기장비 제조업',\n",
              " '반도체 제조업',\n",
              " '의료용 기기 제조업',\n",
              " '일차전지 및 축전지 제조업',\n",
              " '전구 및 조명장치 제조업',\n",
              " '철도장비 제조업',\n",
              " '합성고무 및 플라스틱 물질 제조업',\n",
              " '화학섬유 제조업'}"
            ]
          },
          "metadata": {},
          "execution_count": 439
        }
      ]
    },
    {
      "cell_type": "code",
      "metadata": {
        "id": "kXXGmrV4Vbhm"
      },
      "source": [
        "concordance.loc[concordance['산업명'].isna(), '산업명'] = list(concordance.loc[concordance['산업명'].isna(),concordance.columns[:-2]].merge(ksic9, how='left', left_on = 'KSIC10_소분류', right_on = '산업명')['산업명'])"
      ],
      "execution_count": 440,
      "outputs": []
    },
    {
      "cell_type": "code",
      "metadata": {
        "colab": {
          "base_uri": "https://localhost:8080/"
        },
        "id": "Tu-jjiNGVbhm",
        "outputId": "b7a24acd-9cca-401f-b0d9-e133dce7b60d"
      },
      "source": [
        "concordance['산업명'].isna().sum()"
      ],
      "execution_count": 441,
      "outputs": [
        {
          "output_type": "execute_result",
          "data": {
            "text/plain": [
              "1345"
            ]
          },
          "metadata": {},
          "execution_count": 441
        }
      ]
    },
    {
      "cell_type": "code",
      "metadata": {
        "colab": {
          "base_uri": "https://localhost:8080/"
        },
        "id": "tKiAjjlAVDxY",
        "outputId": "e2d598f8-28af-43ef-a38f-09097a9f7d0d"
      },
      "source": [
        "set(concordance.loc[concordance['산업명'].isna(),concordance.columns[:-2]].merge(ksic9, how='left', left_on = 'KSIC10_세분류', right_on = '산업명')['산업명'])"
      ],
      "execution_count": 442,
      "outputs": [
        {
          "output_type": "execute_result",
          "data": {
            "text/plain": [
              "{nan, '그 외 기타 화학제품 제조업', '세제, 화장품 및 광택제 제조업'}"
            ]
          },
          "metadata": {},
          "execution_count": 442
        }
      ]
    },
    {
      "cell_type": "code",
      "metadata": {
        "id": "CkJrBKH-Vl99"
      },
      "source": [
        "concordance.loc[concordance['산업명'].isna(), '산업명'] = list(concordance.loc[concordance['산업명'].isna(),concordance.columns[:-2]].merge(ksic9, how='left', left_on = 'KSIC10_세분류', right_on = '산업명')['산업명'])"
      ],
      "execution_count": 443,
      "outputs": []
    },
    {
      "cell_type": "code",
      "metadata": {
        "colab": {
          "base_uri": "https://localhost:8080/"
        },
        "id": "i7DPpacAVl9_",
        "outputId": "aa509e69-b716-465c-f562-08ec09b6cec1"
      },
      "source": [
        "concordance['산업명'].isna().sum()"
      ],
      "execution_count": 444,
      "outputs": [
        {
          "output_type": "execute_result",
          "data": {
            "text/plain": [
              "1329"
            ]
          },
          "metadata": {},
          "execution_count": 444
        }
      ]
    },
    {
      "cell_type": "code",
      "metadata": {
        "colab": {
          "base_uri": "https://localhost:8080/"
        },
        "id": "jAGCkUx4VqrL",
        "outputId": "aa1a3d3a-c9c9-4b3b-edb7-711c159f5dec"
      },
      "source": [
        "set(concordance.loc[concordance['산업명'].isna(),concordance.columns[:-2]].merge(ksic9, how='left', left_on = 'KSIC10_세세분류', right_on = '산업명')['산업명'])"
      ],
      "execution_count": 445,
      "outputs": [
        {
          "output_type": "execute_result",
          "data": {
            "text/plain": [
              "{nan}"
            ]
          },
          "metadata": {},
          "execution_count": 445
        }
      ]
    },
    {
      "cell_type": "markdown",
      "metadata": {
        "id": "8TUHt5Vvg9me"
      },
      "source": [
        "#### 유사도 기반 분류"
      ]
    },
    {
      "cell_type": "code",
      "metadata": {
        "id": "8keQwt-9mZ2c"
      },
      "source": [
        "# concordance2 = concordance.copy()\n",
        "concordance = concordance2.copy()"
      ],
      "execution_count": 532,
      "outputs": []
    },
    {
      "cell_type": "code",
      "metadata": {
        "id": "v0Z4bm3VXPf_"
      },
      "source": [
        "def jaccard_similarity(str1, str2):\n",
        "    str1 = str1.replace(' ', '')\n",
        "    str2 = str2.replace(' ', '')\n",
        "    intersection = len(list(set(str1).intersection(str2)))\n",
        "    union = (len(set(str1)) + len(set(str2))) - intersection\n",
        "    return float(intersection) / union"
      ],
      "execution_count": 533,
      "outputs": []
    },
    {
      "cell_type": "code",
      "metadata": {
        "id": "jJTVc8eYhBsF"
      },
      "source": [
        "def similarity_measure(ksic9, concordance, print_len=15):\n",
        "    from itertools import product\n",
        "    items = [list(set(ksic9['산업명']) - set(concordance['산업명'])), list(set(concordance.loc[concordance['산업명'].isna(), 'KSIC10_소분류']))]\n",
        "    # items = [list(set(ksic9['산업명']) - set(concordance.loc[concordance['산업명'].isna(), '산업명'])), list(set(concordance['KSIC10_소분류']))]\n",
        "    print(concordance['산업명'].isna().sum())\n",
        "\n",
        "    sim_df = pd.DataFrame()\n",
        "    for i, j in list(product(*items)):\n",
        "        sim = jaccard_similarity(i, j)\n",
        "        sim_dict = {'KSIC9': i, 'KSIC10': j, 'Jaccard_sim': sim}\n",
        "        # print(sim_dict)\n",
        "        sim_df = sim_df.append(sim_dict, ignore_index=True)\n",
        "    print(sim_df.sort_values('Jaccard_sim', ascending=False)[:print_len].to_markdown())\n",
        "    return sim_df.sort_values('Jaccard_sim', ascending=False)"
      ],
      "execution_count": 534,
      "outputs": []
    },
    {
      "cell_type": "code",
      "metadata": {
        "colab": {
          "base_uri": "https://localhost:8080/"
        },
        "id": "sj7EJexTZMiS",
        "outputId": "53207bae-159d-4a9e-8a40-ec26203e7300"
      },
      "source": [
        "sim_df = similarity_measure(ksic9, concordance)"
      ],
      "execution_count": 535,
      "outputs": [
        {
          "output_type": "stream",
          "text": [
            "1329\n",
            "|      |   Jaccard_sim | KSIC10                                                          | KSIC9                                             |\n",
            "|-----:|--------------:|:----------------------------------------------------------------|:--------------------------------------------------|\n",
            "|  351 |      1        | 전자 부품 제조업                                                | 전자부품 제조업                                   |\n",
            "| 1188 |      1        | 금속 주조업                                                     | 금속주조업                                        |\n",
            "| 2891 |      1        | 시계 및 시계 부품 제조업                                        | 시계 및 시계부품 제조업                           |\n",
            "|  847 |      1        | 기초 화학물질 제조업                                            | 기초 화학물질제조업                               |\n",
            "| 1548 |      1        | 컴퓨터 및 주변 장치 제조업                                      | 컴퓨터 및 주변장치 제조업                         |\n",
            "| 1305 |      1        | 통신 및 방송장비 제조업                                         | 통신 및 방송 장비 제조업                          |\n",
            "| 2036 |      1        | 기타 금속 가공제품 제조업                                       | 기타 금속가공 제품 제조업                         |\n",
            "|   49 |      1        | 영상 및 음향 기기 제조업                                        | 영상 및 음향기기 제조업                           |\n",
            "| 2688 |      1        | 절연선 및 케이블 제조업                                         | 절연선 및 케이블제조업                            |\n",
            "| 2523 |      1        | 1차 철강 제조업                                                 | 1차 철강제조업                                    |\n",
            "|  492 |      0.941176 | 전동기, 발전기 및 전기 변환ㆍ공급ㆍ제어 장치 제조업             | 전동기, 발전기 및 전기변환, 공급, 제어장치 제조업 |\n",
            "| 1844 |      0.9375   | 구조용 금속제품, 탱크 및 증기발생기 제조업                      | 구조용 금속제품, 탱크, 증기발생기 제조업          |\n",
            "| 1694 |      0.733333 | 사진장비 및 광학 기기 제조업                                    | 안경, 사진장비 및 기타 광학기기 제조업            |\n",
            "|  716 |      0.7      | 특수 목적용 기계 제조업                                         | 특수 기계제조업                                   |\n",
            "|  243 |      0.7      | 측정, 시험, 항해, 제어 및 기타 정밀 기기 제조업; 광학 기기 제외 | 측정, 시험, 향해, 제어, 및 기타 정밀기기 제조업   |\n"
          ],
          "name": "stdout"
        }
      ]
    },
    {
      "cell_type": "code",
      "metadata": {
        "id": "fBPvNnjkhX8X"
      },
      "source": [
        "def change_notation(sim_df, condition, ksic9, concordance):\n",
        "\n",
        "    import pprint\n",
        "\n",
        "    def unify(x):\n",
        "        return high_sim_dict[x] if x in high_sim_dict.keys() else x\n",
        "\n",
        "    if (type(condition) == float) | (type(condition) == int):\n",
        "        sim_df2 = sim_df.loc[sim_df['Jaccard_sim'] >= condition]\n",
        "        high_sim_dict = dict(zip(sim_df2['KSIC10'], sim_df2['KSIC9']))#; print(high_sim_dict)\n",
        "    elif type(condition) == str:\n",
        "        sim_df2 = sim_df.sort_values('Jaccard_sim', ascending=False)[:15].loc[sim_df['KSIC10'] == condition]\n",
        "        threshold = sim_df2['Jaccard_sim'].min()\n",
        "        sim_df2 = sim_df2.sort_values('Jaccard_sim', ascending=True) # 덮어쓸 수 있으니\n",
        "        high_sim_dict = dict(zip(sim_df2['KSIC10'], sim_df2['KSIC9']))#; print(high_sim_dict)\n",
        "        sim_df2 = sim_df2.loc[sim_df2['Jaccard_sim'] >= threshold].sort_values('Jaccard_sim', ascending=False)\n",
        "    elif type(condition) == list:\n",
        "        sim_df2 = sim_df.sort_values('Jaccard_sim', ascending=False)[:15].loc[sim_df['KSIC10'].apply(lambda x: x in condition)]\n",
        "        threshold = sim_df2['Jaccard_sim'].min()\n",
        "        sim_df2 = sim_df2.sort_values('Jaccard_sim', ascending=True) # 덮어쓸 수 있으니\n",
        "        high_sim_dict = dict(zip(sim_df2['KSIC10'], sim_df2['KSIC9']))#; print(high_sim_dict)\n",
        "        sim_df2 = sim_df2.loc[sim_df2['Jaccard_sim'] >= threshold].sort_values('Jaccard_sim', ascending=False)\n",
        "    \n",
        "    pprint.pprint(high_sim_dict)\n",
        "    concordance['KSIC10_NEW'] = concordance['KSIC10_소분류'].apply(lambda x: unify(x))\n",
        "    concordance.loc[concordance['산업명'].isna(), '산업명'] = list(concordance.loc[concordance['산업명'].isna()].drop('산업명', axis=1).merge(ksic9[['산업명']], how='left', left_on = 'KSIC10_NEW', right_on = '산업명')['산업명'])\n",
        "\n",
        "    sim_df = pd.concat([sim_df, sim_df2]).drop_duplicates(['KSIC9', 'KSIC10'], keep=False)\n",
        "\n",
        "    return concordance, sim_df"
      ],
      "execution_count": 546,
      "outputs": []
    },
    {
      "cell_type": "code",
      "metadata": {
        "id": "4TcDDcErmq6L"
      },
      "source": [
        "# sim_df2 = sim_df.copy()\n",
        "sim_df = sim_df2.copy()"
      ],
      "execution_count": 537,
      "outputs": []
    },
    {
      "cell_type": "code",
      "metadata": {
        "colab": {
          "base_uri": "https://localhost:8080/"
        },
        "id": "swndMTEpiE8r",
        "outputId": "ba99b2ab-e8dd-4cbc-93c4-af3bdac83197"
      },
      "source": [
        "concordance['KSIC10_NEW'] = '-'\n",
        "concordance, sim_df = change_notation(sim_df, 1, ksic9, concordance)"
      ],
      "execution_count": 538,
      "outputs": [
        {
          "output_type": "stream",
          "text": [
            "{'1차 철강 제조업': '1차 철강제조업',\n",
            " '기초 화학물질 제조업': '기초 화학물질제조업',\n",
            " '기타 금속 가공제품 제조업': '기타 금속가공 제품 제조업',\n",
            " '시계 및 시계 부품 제조업': '시계 및 시계부품 제조업',\n",
            " '영상 및 음향 기기 제조업': '영상 및 음향기기 제조업',\n",
            " '전자 부품 제조업': '전자부품 제조업',\n",
            " '절연선 및 케이블 제조업': '절연선 및 케이블제조업',\n",
            " '컴퓨터 및 주변 장치 제조업': '컴퓨터 및 주변장치 제조업',\n",
            " '통신 및 방송장비 제조업': '통신 및 방송 장비 제조업'}\n"
          ],
          "name": "stdout"
        }
      ]
    },
    {
      "cell_type": "code",
      "metadata": {
        "colab": {
          "base_uri": "https://localhost:8080/"
        },
        "id": "yElceDUQi4u-",
        "outputId": "0bbd73a5-938d-4621-f662-09af55227fe9"
      },
      "source": [
        "concordance['산업명'].isna().sum()"
      ],
      "execution_count": 539,
      "outputs": [
        {
          "output_type": "execute_result",
          "data": {
            "text/plain": [
              "1235"
            ]
          },
          "metadata": {},
          "execution_count": 539
        }
      ]
    },
    {
      "cell_type": "code",
      "metadata": {
        "colab": {
          "base_uri": "https://localhost:8080/",
          "height": 519
        },
        "id": "tj9spg7fm8hK",
        "outputId": "3e231081-1668-4d75-b6e8-eeee9c6f0ae4"
      },
      "source": [
        "sim_df[:15]"
      ],
      "execution_count": 540,
      "outputs": [
        {
          "output_type": "execute_result",
          "data": {
            "text/html": [
              "<div>\n",
              "<style scoped>\n",
              "    .dataframe tbody tr th:only-of-type {\n",
              "        vertical-align: middle;\n",
              "    }\n",
              "\n",
              "    .dataframe tbody tr th {\n",
              "        vertical-align: top;\n",
              "    }\n",
              "\n",
              "    .dataframe thead th {\n",
              "        text-align: right;\n",
              "    }\n",
              "</style>\n",
              "<table border=\"1\" class=\"dataframe\">\n",
              "  <thead>\n",
              "    <tr style=\"text-align: right;\">\n",
              "      <th></th>\n",
              "      <th>Jaccard_sim</th>\n",
              "      <th>KSIC10</th>\n",
              "      <th>KSIC9</th>\n",
              "    </tr>\n",
              "  </thead>\n",
              "  <tbody>\n",
              "    <tr>\n",
              "      <th>492</th>\n",
              "      <td>0.944444</td>\n",
              "      <td>전동기, 발전기 및 전기 변환ㆍ공급ㆍ제어 장치 제조업</td>\n",
              "      <td>전동기, 발전기 및 전기변환, 공급, 제어장치 제조업</td>\n",
              "    </tr>\n",
              "    <tr>\n",
              "      <th>1844</th>\n",
              "      <td>0.941176</td>\n",
              "      <td>구조용 금속제품, 탱크 및 증기발생기 제조업</td>\n",
              "      <td>구조용 금속제품, 탱크, 증기발생기 제조업</td>\n",
              "    </tr>\n",
              "    <tr>\n",
              "      <th>1188</th>\n",
              "      <td>0.833333</td>\n",
              "      <td>금속 주조업</td>\n",
              "      <td>금속주조업</td>\n",
              "    </tr>\n",
              "    <tr>\n",
              "      <th>1694</th>\n",
              "      <td>0.750000</td>\n",
              "      <td>사진장비 및 광학 기기 제조업</td>\n",
              "      <td>안경, 사진장비 및 기타 광학기기 제조업</td>\n",
              "    </tr>\n",
              "    <tr>\n",
              "      <th>716</th>\n",
              "      <td>0.727273</td>\n",
              "      <td>특수 목적용 기계 제조업</td>\n",
              "      <td>특수 기계제조업</td>\n",
              "    </tr>\n",
              "    <tr>\n",
              "      <th>243</th>\n",
              "      <td>0.714286</td>\n",
              "      <td>측정, 시험, 항해, 제어 및 기타 정밀 기기 제조업; 광학 기기 제외</td>\n",
              "      <td>측정, 시험, 향해, 제어, 및 기타 정밀기기 제조업</td>\n",
              "    </tr>\n",
              "    <tr>\n",
              "      <th>2450</th>\n",
              "      <td>0.625000</td>\n",
              "      <td>그 외 기타 운송장비 제조업</td>\n",
              "      <td>그 외 분류 안된 운송장비 제조업</td>\n",
              "    </tr>\n",
              "    <tr>\n",
              "      <th>874</th>\n",
              "      <td>0.583333</td>\n",
              "      <td>기타 화학제품 제조업</td>\n",
              "      <td>기초 화학물질제조업</td>\n",
              "    </tr>\n",
              "    <tr>\n",
              "      <th>987</th>\n",
              "      <td>0.571429</td>\n",
              "      <td>기초 화학물질 제조업</td>\n",
              "      <td>비료 및 질소 화학물 제조업</td>\n",
              "    </tr>\n",
              "    <tr>\n",
              "      <th>597</th>\n",
              "      <td>0.562500</td>\n",
              "      <td>일반 목적용 기계 제조업</td>\n",
              "      <td>사무용 이외의 일반기계 제조업</td>\n",
              "    </tr>\n",
              "    <tr>\n",
              "      <th>2341</th>\n",
              "      <td>0.562500</td>\n",
              "      <td>비료, 농약 및 살균ㆍ살충제 제조업</td>\n",
              "      <td>살충제 및 기타농약제조업</td>\n",
              "    </tr>\n",
              "    <tr>\n",
              "      <th>2871</th>\n",
              "      <td>0.545455</td>\n",
              "      <td>전자 부품 제조업</td>\n",
              "      <td>시계 및 시계부품 제조업</td>\n",
              "    </tr>\n",
              "    <tr>\n",
              "      <th>371</th>\n",
              "      <td>0.545455</td>\n",
              "      <td>시계 및 시계 부품 제조업</td>\n",
              "      <td>전자부품 제조업</td>\n",
              "    </tr>\n",
              "    <tr>\n",
              "      <th>1994</th>\n",
              "      <td>0.538462</td>\n",
              "      <td>기타 화학제품 제조업</td>\n",
              "      <td>기타 금속가공 제품 제조업</td>\n",
              "    </tr>\n",
              "    <tr>\n",
              "      <th>2176</th>\n",
              "      <td>0.500000</td>\n",
              "      <td>기타 금속 가공제품 제조업</td>\n",
              "      <td>항공기 제조업</td>\n",
              "    </tr>\n",
              "  </tbody>\n",
              "</table>\n",
              "</div>"
            ],
            "text/plain": [
              "      Jaccard_sim  ...                          KSIC9\n",
              "492      0.944444  ...  전동기, 발전기 및 전기변환, 공급, 제어장치 제조업\n",
              "1844     0.941176  ...        구조용 금속제품, 탱크, 증기발생기 제조업\n",
              "1188     0.833333  ...                          금속주조업\n",
              "1694     0.750000  ...         안경, 사진장비 및 기타 광학기기 제조업\n",
              "716      0.727273  ...                       특수 기계제조업\n",
              "243      0.714286  ...  측정, 시험, 향해, 제어, 및 기타 정밀기기 제조업\n",
              "2450     0.625000  ...             그 외 분류 안된 운송장비 제조업\n",
              "874      0.583333  ...                     기초 화학물질제조업\n",
              "987      0.571429  ...                비료 및 질소 화학물 제조업\n",
              "597      0.562500  ...               사무용 이외의 일반기계 제조업\n",
              "2341     0.562500  ...                  살충제 및 기타농약제조업\n",
              "2871     0.545455  ...                  시계 및 시계부품 제조업\n",
              "371      0.545455  ...                       전자부품 제조업\n",
              "1994     0.538462  ...                 기타 금속가공 제품 제조업\n",
              "2176     0.500000  ...                        항공기 제조업\n",
              "\n",
              "[15 rows x 3 columns]"
            ]
          },
          "metadata": {},
          "execution_count": 540
        }
      ]
    },
    {
      "cell_type": "code",
      "metadata": {
        "colab": {
          "base_uri": "https://localhost:8080/"
        },
        "id": "_fJEuMDTk70s",
        "outputId": "736b0881-8010-45c3-a31c-3625a76a608b"
      },
      "source": [
        "concordance, sim_df = change_notation(sim_df, 0.6, ksic9, concordance)"
      ],
      "execution_count": 541,
      "outputs": [
        {
          "output_type": "stream",
          "text": [
            "{'구조용 금속제품, 탱크 및 증기발생기 제조업': '구조용 금속제품, 탱크, 증기발생기 제조업',\n",
            " '그 외 기타 운송장비 제조업': '그 외 분류 안된 운송장비 제조업',\n",
            " '금속 주조업': '금속주조업',\n",
            " '사진장비 및 광학 기기 제조업': '안경, 사진장비 및 기타 광학기기 제조업',\n",
            " '전동기, 발전기 및 전기 변환ㆍ공급ㆍ제어 장치 제조업': '전동기, 발전기 및 전기변환, 공급, 제어장치 제조업',\n",
            " '측정, 시험, 항해, 제어 및 기타 정밀 기기 제조업; 광학 기기 제외': '측정, 시험, 향해, 제어, 및 기타 정밀기기 제조업',\n",
            " '특수 목적용 기계 제조업': '특수 기계제조업'}\n"
          ],
          "name": "stdout"
        }
      ]
    },
    {
      "cell_type": "code",
      "metadata": {
        "colab": {
          "base_uri": "https://localhost:8080/"
        },
        "id": "j8MdK47klhJD",
        "outputId": "fe718471-a60c-4f9d-e8b9-5cd682b2ac80"
      },
      "source": [
        "concordance['산업명'].isna().sum()"
      ],
      "execution_count": 542,
      "outputs": [
        {
          "output_type": "execute_result",
          "data": {
            "text/plain": [
              "1177"
            ]
          },
          "metadata": {},
          "execution_count": 542
        }
      ]
    },
    {
      "cell_type": "code",
      "metadata": {
        "colab": {
          "base_uri": "https://localhost:8080/",
          "height": 519
        },
        "id": "z2cfczpdli1G",
        "outputId": "1697d1da-bf7c-4bf0-c7d5-3cdc0e664d4b"
      },
      "source": [
        "sim_df[:15]"
      ],
      "execution_count": 543,
      "outputs": [
        {
          "output_type": "execute_result",
          "data": {
            "text/html": [
              "<div>\n",
              "<style scoped>\n",
              "    .dataframe tbody tr th:only-of-type {\n",
              "        vertical-align: middle;\n",
              "    }\n",
              "\n",
              "    .dataframe tbody tr th {\n",
              "        vertical-align: top;\n",
              "    }\n",
              "\n",
              "    .dataframe thead th {\n",
              "        text-align: right;\n",
              "    }\n",
              "</style>\n",
              "<table border=\"1\" class=\"dataframe\">\n",
              "  <thead>\n",
              "    <tr style=\"text-align: right;\">\n",
              "      <th></th>\n",
              "      <th>Jaccard_sim</th>\n",
              "      <th>KSIC10</th>\n",
              "      <th>KSIC9</th>\n",
              "    </tr>\n",
              "  </thead>\n",
              "  <tbody>\n",
              "    <tr>\n",
              "      <th>874</th>\n",
              "      <td>0.583333</td>\n",
              "      <td>기타 화학제품 제조업</td>\n",
              "      <td>기초 화학물질제조업</td>\n",
              "    </tr>\n",
              "    <tr>\n",
              "      <th>987</th>\n",
              "      <td>0.571429</td>\n",
              "      <td>기초 화학물질 제조업</td>\n",
              "      <td>비료 및 질소 화학물 제조업</td>\n",
              "    </tr>\n",
              "    <tr>\n",
              "      <th>597</th>\n",
              "      <td>0.562500</td>\n",
              "      <td>일반 목적용 기계 제조업</td>\n",
              "      <td>사무용 이외의 일반기계 제조업</td>\n",
              "    </tr>\n",
              "    <tr>\n",
              "      <th>2341</th>\n",
              "      <td>0.562500</td>\n",
              "      <td>비료, 농약 및 살균ㆍ살충제 제조업</td>\n",
              "      <td>살충제 및 기타농약제조업</td>\n",
              "    </tr>\n",
              "    <tr>\n",
              "      <th>2871</th>\n",
              "      <td>0.545455</td>\n",
              "      <td>전자 부품 제조업</td>\n",
              "      <td>시계 및 시계부품 제조업</td>\n",
              "    </tr>\n",
              "    <tr>\n",
              "      <th>371</th>\n",
              "      <td>0.545455</td>\n",
              "      <td>시계 및 시계 부품 제조업</td>\n",
              "      <td>전자부품 제조업</td>\n",
              "    </tr>\n",
              "    <tr>\n",
              "      <th>1994</th>\n",
              "      <td>0.538462</td>\n",
              "      <td>기타 화학제품 제조업</td>\n",
              "      <td>기타 금속가공 제품 제조업</td>\n",
              "    </tr>\n",
              "    <tr>\n",
              "      <th>2176</th>\n",
              "      <td>0.500000</td>\n",
              "      <td>기타 금속 가공제품 제조업</td>\n",
              "      <td>항공기 제조업</td>\n",
              "    </tr>\n",
              "    <tr>\n",
              "      <th>2151</th>\n",
              "      <td>0.500000</td>\n",
              "      <td>항공기, 우주선 및 부품 제조업</td>\n",
              "      <td>항공기 제조업</td>\n",
              "    </tr>\n",
              "    <tr>\n",
              "      <th>3009</th>\n",
              "      <td>0.500000</td>\n",
              "      <td>선박 및 보트 건조업</td>\n",
              "      <td>선박 제조업</td>\n",
              "    </tr>\n",
              "    <tr>\n",
              "      <th>737</th>\n",
              "      <td>0.461538</td>\n",
              "      <td>일반 목적용 기계 제조업</td>\n",
              "      <td>특수 기계제조업</td>\n",
              "    </tr>\n",
              "    <tr>\n",
              "      <th>2134</th>\n",
              "      <td>0.454545</td>\n",
              "      <td>기타 화학제품 제조업</td>\n",
              "      <td>항공기 제조업</td>\n",
              "    </tr>\n",
              "    <tr>\n",
              "      <th>1266</th>\n",
              "      <td>0.444444</td>\n",
              "      <td>가전제품 및 정보 통신장비 소매업</td>\n",
              "      <td>통신 및 방송 장비 제조업</td>\n",
              "    </tr>\n",
              "    <tr>\n",
              "      <th>2851</th>\n",
              "      <td>0.437500</td>\n",
              "      <td>항공기, 우주선 및 부품 제조업</td>\n",
              "      <td>시계 및 시계부품 제조업</td>\n",
              "    </tr>\n",
              "    <tr>\n",
              "      <th>1377</th>\n",
              "      <td>0.437500</td>\n",
              "      <td>컴퓨터 및 통신장비 수리업</td>\n",
              "      <td>통신 및 방송 장비 제조업</td>\n",
              "    </tr>\n",
              "  </tbody>\n",
              "</table>\n",
              "</div>"
            ],
            "text/plain": [
              "      Jaccard_sim               KSIC10             KSIC9\n",
              "874      0.583333          기타 화학제품 제조업        기초 화학물질제조업\n",
              "987      0.571429          기초 화학물질 제조업   비료 및 질소 화학물 제조업\n",
              "597      0.562500        일반 목적용 기계 제조업  사무용 이외의 일반기계 제조업\n",
              "2341     0.562500  비료, 농약 및 살균ㆍ살충제 제조업     살충제 및 기타농약제조업\n",
              "2871     0.545455            전자 부품 제조업     시계 및 시계부품 제조업\n",
              "371      0.545455       시계 및 시계 부품 제조업          전자부품 제조업\n",
              "1994     0.538462          기타 화학제품 제조업    기타 금속가공 제품 제조업\n",
              "2176     0.500000       기타 금속 가공제품 제조업           항공기 제조업\n",
              "2151     0.500000    항공기, 우주선 및 부품 제조업           항공기 제조업\n",
              "3009     0.500000          선박 및 보트 건조업            선박 제조업\n",
              "737      0.461538        일반 목적용 기계 제조업          특수 기계제조업\n",
              "2134     0.454545          기타 화학제품 제조업           항공기 제조업\n",
              "1266     0.444444   가전제품 및 정보 통신장비 소매업    통신 및 방송 장비 제조업\n",
              "2851     0.437500    항공기, 우주선 및 부품 제조업     시계 및 시계부품 제조업\n",
              "1377     0.437500       컴퓨터 및 통신장비 수리업    통신 및 방송 장비 제조업"
            ]
          },
          "metadata": {},
          "execution_count": 543
        }
      ]
    },
    {
      "cell_type": "code",
      "metadata": {
        "id": "S1VhOXUkrj-R"
      },
      "source": [
        "# concordance3 = concordance.copy()\n",
        "concordance = concordance3.copy()"
      ],
      "execution_count": 550,
      "outputs": []
    },
    {
      "cell_type": "code",
      "metadata": {
        "colab": {
          "base_uri": "https://localhost:8080/"
        },
        "id": "py4KOMxkcKdF",
        "outputId": "ecf1ea8a-db30-40f3-eead-5300ad7c5407"
      },
      "source": [
        "concordance, sim_df = change_notation(sim_df, ['일반 목적용 기계 제조업', '비료, 농약 및 살균ㆍ살충제 제조업', '항공기, 우주선 및 부품 제조업', '선박 및 보트 건조업', '컴퓨터 및 통신장비 수리업', '가전제품 및 정보 통신장비 소매업'], ksic9, concordance)"
      ],
      "execution_count": 551,
      "outputs": [
        {
          "output_type": "stream",
          "text": [
            "{'가전제품 및 정보 통신장비 소매업': '통신 및 방송 장비 제조업',\n",
            " '비료, 농약 및 살균ㆍ살충제 제조업': '살충제 및 기타농약제조업',\n",
            " '선박 및 보트 건조업': '선박 제조업',\n",
            " '일반 목적용 기계 제조업': '사무용 이외의 일반기계 제조업',\n",
            " '컴퓨터 및 통신장비 수리업': '통신 및 방송 장비 제조업',\n",
            " '항공기, 우주선 및 부품 제조업': '항공기 제조업'}\n"
          ],
          "name": "stdout"
        }
      ]
    },
    {
      "cell_type": "code",
      "metadata": {
        "colab": {
          "base_uri": "https://localhost:8080/"
        },
        "id": "avQ4oR9XY8Qt",
        "outputId": "cab2b772-41a9-4af0-9910-b5e98619821b"
      },
      "source": [
        "concordance['산업명'].isna().sum()"
      ],
      "execution_count": 552,
      "outputs": [
        {
          "output_type": "execute_result",
          "data": {
            "text/plain": [
              "1108"
            ]
          },
          "metadata": {},
          "execution_count": 552
        }
      ]
    },
    {
      "cell_type": "markdown",
      "metadata": {
        "id": "QnKLI1NStaKU"
      },
      "source": [
        "-  61개의 산업분류 항목은\n",
        "제조업 중심으로 구성하고, 서비스\n",
        "업은 원칙적으로 제외시켰으나, 농\n",
        "업, 건설업, 유틸리티 산업 및 폐\n",
        "기물 처리 관련 업종은 포함시켰으\n",
        "며, 비즈니스 모델에 관한 특허출원\n",
        "이 허용되고 있는 점을 고려하여,‘\n",
        "컴퓨터 프로그래밍 및 정보서비스\n",
        "업’을 산업분류 항목에 포함시켰다"
      ]
    },
    {
      "cell_type": "code",
      "metadata": {
        "id": "_zFfxS5Asy2T"
      },
      "source": [
        "def similarity_measure(a, b, print_len=15):\n",
        "    from itertools import product\n",
        "    items = [a, b]\n",
        "    # items = [list(set(ksic9['산업명']) - set(concordance.loc[concordance['산업명'].isna(), '산업명'])), list(set(concordance['KSIC10_소분류']))]\n",
        "    print(concordance['산업명'].isna().sum())\n",
        "\n",
        "    sim_df = pd.DataFrame()\n",
        "    for i, j in list(product(*items)):\n",
        "        sim = jaccard_similarity(i, j)\n",
        "        sim_dict = {'KSIC9': i, 'KSIC10': j, 'Jaccard_sim': sim}\n",
        "        # print(sim_dict)\n",
        "        sim_df = sim_df.append(sim_dict, ignore_index=True)\n",
        "    print(sim_df.sort_values('Jaccard_sim', ascending=False)[:print_len].to_markdown())\n",
        "    return sim_df.sort_values('Jaccard_sim', ascending=False)"
      ],
      "execution_count": null,
      "outputs": []
    },
    {
      "cell_type": "code",
      "metadata": {
        "colab": {
          "base_uri": "https://localhost:8080/"
        },
        "id": "UpmsHNtkeuc0",
        "outputId": "255bf6fd-e164-4a09-8871-50225d52d8ee"
      },
      "source": [
        "len(set(concordance.loc[concordance['산업명'].isna(), 'KSIC10_소분류']) - set(concordance['KSIC10_소분류'][concordance['KSIC10_소분류'].str.contains('서비스업')]))\n"
      ],
      "execution_count": 562,
      "outputs": [
        {
          "output_type": "execute_result",
          "data": {
            "text/plain": [
              "92"
            ]
          },
          "metadata": {},
          "execution_count": 562
        }
      ]
    },
    {
      "cell_type": "code",
      "metadata": {
        "id": "Hp4WelfJvaeB",
        "outputId": "37dfd30c-f731-4377-d363-7b7471fd75de",
        "colab": {
          "base_uri": "https://localhost:8080/"
        }
      },
      "source": [
        "concordance.loc[concordance['산업명'].isna(), 'KSIC10_소분류'].apply(lambda x: x in list(set(concordance.loc[concordance['산업명'].isna(), 'KSIC10_소분류']) - set(concordance['KSIC10_소분류'][~concordance['KSIC10_소분류'].str.contains('서비스업')]))).sum()"
      ],
      "execution_count": 565,
      "outputs": [
        {
          "output_type": "execute_result",
          "data": {
            "text/plain": [
              "217"
            ]
          },
          "metadata": {},
          "execution_count": 565
        }
      ]
    },
    {
      "cell_type": "code",
      "metadata": {
        "id": "i_1KsHqqv7BD",
        "outputId": "82eab7fd-d122-4d82-d3ba-4cee37e3b3fb",
        "colab": {
          "base_uri": "https://localhost:8080/"
        }
      },
      "source": [
        "concordance.loc[concordance['산업명'].isna(), 'KSIC10_소분류'].apply(lambda x: x in list(set(concordance.loc[concordance['산업명'].isna(), 'KSIC10_소분류']) - set(concordance['KSIC10_소분류'][concordance['KSIC10_소분류'].str.contains('서비스업')]))).sum()"
      ],
      "execution_count": 566,
      "outputs": [
        {
          "output_type": "execute_result",
          "data": {
            "text/plain": [
              "891"
            ]
          },
          "metadata": {},
          "execution_count": 566
        }
      ]
    },
    {
      "cell_type": "code",
      "metadata": {
        "id": "2fnRsvJZu89N",
        "outputId": "fa012cb6-0734-4bc1-e4f6-7c28ad396e84",
        "colab": {
          "base_uri": "https://localhost:8080/"
        }
      },
      "source": [
        "list(set(concordance.loc[concordance['산업명'].isna(), 'KSIC10_소분류']) - set(concordance['KSIC10_소분류'][concordance['KSIC10_소분류'].str.contains('서비스업')]))"
      ],
      "execution_count": 563,
      "outputs": [
        {
          "output_type": "execute_result",
          "data": {
            "text/plain": [
              "{'가구 내 고용활동',\n",
              " '개인 및 가정용품 수리업',\n",
              " '개인 및 가정용품 임대업',\n",
              " '거주 복지시설 운영업',\n",
              " '건축 자재, 철물 및 난방장치 도매업',\n",
              " '경비, 경호 및 탐정업',\n",
              " '고등 교육기관',\n",
              " '고용 알선 및 인력 공급업',\n",
              " '공영 우편업',\n",
              " '공중 보건 의료업',\n",
              " '광고업',\n",
              " '국제 및 외국기관',\n",
              " '기계장비 및 관련 물품 도매업',\n",
              " '기타 교육기관',\n",
              " '기타 금융업',\n",
              " '기타 보건업',\n",
              " '기타 상품 전문 소매업',\n",
              " '기타 생활용품 소매업',\n",
              " '기타 숙박업',\n",
              " '기타 전문 도매업',\n",
              " '기타 협회 및 단체',\n",
              " '기타 화학제품 제조업',\n",
              " '내륙 수상 및 항만 내 운송업',\n",
              " '노동조합',\n",
              " '도로 화물 운송업',\n",
              " '라디오 방송업',\n",
              " '모터사이클 및 부품 판매업',\n",
              " '무점포 소매업',\n",
              " '무형 재산권 임대업',\n",
              " '문화, 오락 및 여가 용품 소매업',\n",
              " '병원',\n",
              " '보관 및 창고업',\n",
              " '보험업',\n",
              " '부동산 임대 및 공급업',\n",
              " '비거주 복지시설 운영업',\n",
              " '사법 및 공공 질서 행정',\n",
              " '사진 촬영 및 처리업',\n",
              " '사회 및 산업정책 행정',\n",
              " '사회보장 행정',\n",
              " '산업 및 전문가 단체',\n",
              " '산업용 기계 및 장비 수리업',\n",
              " '산업용 기계 및 장비 임대업',\n",
              " '산업용 농ㆍ축산물 및 동ㆍ식물 도매업',\n",
              " '상품 종합 도매업',\n",
              " '상품 중개업',\n",
              " '생활용품 도매업',\n",
              " '서적, 잡지 및 기타 인쇄물 출판업',\n",
              " '섬유, 의복, 신발 및 가죽제품 소매업',\n",
              " '소화물 전문 운송업',\n",
              " '수도업',\n",
              " '수의업',\n",
              " '시장 조사 및 여론 조사업',\n",
              " '신탁업 및 집합 투자업',\n",
              " '어로 어업',\n",
              " '연금 및 공제업',\n",
              " '연료 소매업',\n",
              " '영화, 비디오물, 방송 프로그램 제작 및 배급업',\n",
              " '오디오물 출판 및 원판 녹음업',\n",
              " '외무 및 국방 행정',\n",
              " '운송장비 임대업',\n",
              " '육상 여객 운송업',\n",
              " '은행 및 저축기관',\n",
              " '음ㆍ식료품 및 담배 도매업',\n",
              " '음ㆍ식료품 및 담배 소매업',\n",
              " '음료 소매업',\n",
              " '음식점업',\n",
              " '의원',\n",
              " '인문 및 사회과학 연구개발업',\n",
              " '일반 교습학원',\n",
              " '일반 및 생활 숙박시설 운영업',\n",
              " '입법 및 일반 정부 행정',\n",
              " '자가 소비를 위한 가사 생산 활동',\n",
              " '자가 소비를 위한 가사 서비스 활동',\n",
              " '자동차 및 모터사이클 수리업',\n",
              " '자동차 부품 및 내장품 판매업',\n",
              " '자동차 판매업',\n",
              " '자연과학 및 공학 연구개발업',\n",
              " '재보험업',\n",
              " '전기 통신업',\n",
              " '전문 디자인업',\n",
              " '종합 소매업',\n",
              " '주점 및 비알코올 음료점업',\n",
              " '중등 교육기관',\n",
              " '철도 운송업',\n",
              " '초등 교육기관',\n",
              " '컴퓨터 프로그래밍, 시스템 통합 및 관리업',\n",
              " '텔레비전 방송업',\n",
              " '특수학교, 외국인학교 및 대안학교',\n",
              " '파이프라인 운송업',\n",
              " '항공 여객 운송업',\n",
              " '항공 화물 운송업',\n",
              " '해상 운송업'}"
            ]
          },
          "metadata": {},
          "execution_count": 563
        }
      ]
    },
    {
      "cell_type": "markdown",
      "metadata": {
        "id": "K9pdY_trFVrF"
      },
      "source": [
        "# KSIC -> IPC"
      ]
    },
    {
      "cell_type": "code",
      "metadata": {
        "id": "qwsplfO4okFR"
      },
      "source": [
        "import pandas as pd"
      ],
      "execution_count": null,
      "outputs": []
    },
    {
      "cell_type": "markdown",
      "metadata": {
        "id": "BpC5ePG6Fb5S"
      },
      "source": [
        "- table 정제"
      ]
    },
    {
      "cell_type": "code",
      "metadata": {
        "id": "jeuUz3u4FVrW"
      },
      "source": [
        "table = pd.read_csv('기업정보연계+KSIC_IPC_연계_final.CSV', encoding='cp949')"
      ],
      "execution_count": null,
      "outputs": []
    },
    {
      "cell_type": "code",
      "metadata": {
        "colab": {
          "base_uri": "https://localhost:8080/",
          "height": 745
        },
        "id": "rK8GixjYFVrX",
        "outputId": "f8164c68-3f9b-4f8e-9928-69b7e371c703"
      },
      "source": [
        "table"
      ],
      "execution_count": null,
      "outputs": [
        {
          "output_type": "execute_result",
          "data": {
            "text/html": [
              "<div>\n",
              "<style scoped>\n",
              "    .dataframe tbody tr th:only-of-type {\n",
              "        vertical-align: middle;\n",
              "    }\n",
              "\n",
              "    .dataframe tbody tr th {\n",
              "        vertical-align: top;\n",
              "    }\n",
              "\n",
              "    .dataframe thead th {\n",
              "        text-align: right;\n",
              "    }\n",
              "</style>\n",
              "<table border=\"1\" class=\"dataframe\">\n",
              "  <thead>\n",
              "    <tr style=\"text-align: right;\">\n",
              "      <th></th>\n",
              "      <th>농림어업</th>\n",
              "      <th>광업</th>\n",
              "      <th>식료품 제조업</th>\n",
              "      <th>음료제조업</th>\n",
              "      <th>담배제조업</th>\n",
              "      <th>섬유제품 제조업\\n:의복제외</th>\n",
              "      <th>의복, 의복 액세서리 및 모피제품 제조업</th>\n",
              "      <th>가죽, 가방 및 신발제조업</th>\n",
              "      <th>목재 및\\n나무제품제조업; 가구제외</th>\n",
              "      <th>펄프, 종이 및\\n종이제품 제조업</th>\n",
              "      <th>인쇄 및\\n기록매체복제업</th>\n",
              "      <th>코크스, 연탄 및\\n석유정제품 제조업</th>\n",
              "      <th>기초 화학물질제조업</th>\n",
              "      <th>비료 및 질소 화학물 제조업</th>\n",
              "      <th>합성고무 및\\n플라스틱 물질 제조업</th>\n",
              "      <th>살충제 및 기타농약제조업</th>\n",
              "      <th>잉크, 페인트 코팅제 및 유사제품 제조업</th>\n",
              "      <th>세제, 화장품 및 광택제 제조업</th>\n",
              "      <th>그 외 기타 화학제품 제조업</th>\n",
              "      <th>화학섬유 제조업</th>\n",
              "      <th>의료용 물질 및 의약품 제조업</th>\n",
              "      <th>고무제품 및\\n플라스틱 제품 제조업</th>\n",
              "      <th>비금속광물제품 제조업</th>\n",
              "      <th>1차 철강제조업</th>\n",
              "      <th>1차 비철금속 제조업</th>\n",
              "      <th>금속주조업</th>\n",
              "      <th>구조용 금속제품,\\n탱크, 증기발생기 제조업</th>\n",
              "      <th>무기 및 총포탄 제조업</th>\n",
              "      <th>기타 금속가공 제품 제조업</th>\n",
              "      <th>반도체 제조업</th>\n",
              "      <th>전자부품 제조업</th>\n",
              "      <th>컴퓨터 및 주변장치 제조업</th>\n",
              "      <th>통신 및 방송 장비 제조업</th>\n",
              "      <th>영상 및 음향기기 제조업</th>\n",
              "      <th>마그네틱 및 광학 매체 제조업</th>\n",
              "      <th>의료용 기기 제조업</th>\n",
              "      <th>측정, 시험, 향해, 제어, 및 기타 정밀기기 제조업</th>\n",
              "      <th>안경, 사진장비 및\\n기타 광학기기 제조업</th>\n",
              "      <th>시계 및 시계부품 제조업</th>\n",
              "      <th>전동기, 발전기 및\\n전기변환, 공급, 제어장치 제조업</th>\n",
              "      <th>일차전지 및 축전지 제조업</th>\n",
              "      <th>절연선 및 케이블제조업</th>\n",
              "      <th>전구 및 조명장치 제조업</th>\n",
              "      <th>가정용 기기 제조업</th>\n",
              "      <th>기타 전기장비 제조업</th>\n",
              "      <th>사무용 기계 및\\n장비 제조업</th>\n",
              "      <th>사무용 이외의 일반기계 제조업</th>\n",
              "      <th>특수 기계제조업</th>\n",
              "      <th>자동차 제조업</th>\n",
              "      <th>선박 제조업</th>\n",
              "      <th>철도장비 제조업</th>\n",
              "      <th>항공기 제조업</th>\n",
              "      <th>전투용 차량 제조업</th>\n",
              "      <th>모터사이클 제조업</th>\n",
              "      <th>그 외 분류 안된\\n운송장비 제조업</th>\n",
              "      <th>가구 제조업</th>\n",
              "      <th>기타제품 제조업</th>\n",
              "      <th>전기, 가스, 증기, 수도</th>\n",
              "      <th>하수, 폐기물처리, 원료재생, 환경복원</th>\n",
              "      <th>건설업, 건축기술 서비스</th>\n",
              "      <th>컴퓨터 프로그래밍, 정보서비스업</th>\n",
              "    </tr>\n",
              "  </thead>\n",
              "  <tbody>\n",
              "    <tr>\n",
              "      <th>0</th>\n",
              "      <td>A01B27</td>\n",
              "      <td>C22B</td>\n",
              "      <td>A21D</td>\n",
              "      <td>C12C</td>\n",
              "      <td>A24B</td>\n",
              "      <td>D04D</td>\n",
              "      <td>A41B</td>\n",
              "      <td>A43B</td>\n",
              "      <td>A44C23</td>\n",
              "      <td>B42F</td>\n",
              "      <td>B41M</td>\n",
              "      <td>C10G</td>\n",
              "      <td>C01C</td>\n",
              "      <td>C05B</td>\n",
              "      <td>C08B</td>\n",
              "      <td>A01N</td>\n",
              "      <td>C09D</td>\n",
              "      <td>A61Q</td>\n",
              "      <td>A62D</td>\n",
              "      <td>D01C</td>\n",
              "      <td>A61P</td>\n",
              "      <td>B29B</td>\n",
              "      <td>A47K</td>\n",
              "      <td>B21C</td>\n",
              "      <td>C22F</td>\n",
              "      <td>B22D</td>\n",
              "      <td>A47H</td>\n",
              "      <td>F41A</td>\n",
              "      <td>A01L</td>\n",
              "      <td>G11C</td>\n",
              "      <td>B05D</td>\n",
              "      <td>B41J2</td>\n",
              "      <td>G03H</td>\n",
              "      <td>G03B31</td>\n",
              "      <td>G11B</td>\n",
              "      <td>A61B</td>\n",
              "      <td>G01B</td>\n",
              "      <td>G02B</td>\n",
              "      <td>G04B</td>\n",
              "      <td>F99Z</td>\n",
              "      <td>H01M</td>\n",
              "      <td>H01B</td>\n",
              "      <td>B60Q</td>\n",
              "      <td>A45D</td>\n",
              "      <td>B60M</td>\n",
              "      <td>B41L</td>\n",
              "      <td>B01B</td>\n",
              "      <td>A01B(A01B27/02 제외)</td>\n",
              "      <td>B60B</td>\n",
              "      <td>B60V</td>\n",
              "      <td>B60L13</td>\n",
              "      <td>B64B</td>\n",
              "      <td>F41H7</td>\n",
              "      <td>B62J</td>\n",
              "      <td>B62B</td>\n",
              "      <td>A47B</td>\n",
              "      <td>A41G</td>\n",
              "      <td>F02C</td>\n",
              "      <td>B09B</td>\n",
              "      <td>E01C</td>\n",
              "      <td>G06D</td>\n",
              "    </tr>\n",
              "    <tr>\n",
              "      <th>1</th>\n",
              "      <td>A01B02</td>\n",
              "      <td>E21D</td>\n",
              "      <td>A23B</td>\n",
              "      <td>C12F</td>\n",
              "      <td>A24D</td>\n",
              "      <td>D04G</td>\n",
              "      <td>A41C</td>\n",
              "      <td>A43C</td>\n",
              "      <td>B27D</td>\n",
              "      <td>D21C</td>\n",
              "      <td>B42D</td>\n",
              "      <td>C10L</td>\n",
              "      <td>C01D</td>\n",
              "      <td>C05C</td>\n",
              "      <td>C08F</td>\n",
              "      <td>A01P</td>\n",
              "      <td>NaN</td>\n",
              "      <td>C09F</td>\n",
              "      <td>B01J</td>\n",
              "      <td>D01D</td>\n",
              "      <td>C07D</td>\n",
              "      <td>B29C</td>\n",
              "      <td>B24D</td>\n",
              "      <td>C21B</td>\n",
              "      <td>C25C</td>\n",
              "      <td>NaN</td>\n",
              "      <td>B21G</td>\n",
              "      <td>F41B</td>\n",
              "      <td>A44B11</td>\n",
              "      <td>H01L</td>\n",
              "      <td>B81B</td>\n",
              "      <td>B41J27</td>\n",
              "      <td>H01P</td>\n",
              "      <td>G10L</td>\n",
              "      <td>NaN</td>\n",
              "      <td>A61C</td>\n",
              "      <td>G01C</td>\n",
              "      <td>G02C</td>\n",
              "      <td>G04C</td>\n",
              "      <td>H02B</td>\n",
              "      <td>NaN</td>\n",
              "      <td>H01H</td>\n",
              "      <td>F21H</td>\n",
              "      <td>A47G</td>\n",
              "      <td>C25F</td>\n",
              "      <td>B41J1</td>\n",
              "      <td>B01D</td>\n",
              "      <td>A01F</td>\n",
              "      <td>B60D</td>\n",
              "      <td>B63B</td>\n",
              "      <td>B61B</td>\n",
              "      <td>B64C</td>\n",
              "      <td>NaN</td>\n",
              "      <td>B62K11</td>\n",
              "      <td>B62C</td>\n",
              "      <td>A47C</td>\n",
              "      <td>A44B(A44B11 제외)</td>\n",
              "      <td>F03D</td>\n",
              "      <td>B09C</td>\n",
              "      <td>E01D</td>\n",
              "      <td>G06E</td>\n",
              "    </tr>\n",
              "    <tr>\n",
              "      <th>2</th>\n",
              "      <td>A01C</td>\n",
              "      <td>NaN</td>\n",
              "      <td>A23C</td>\n",
              "      <td>C12G</td>\n",
              "      <td>A24F</td>\n",
              "      <td>D04H</td>\n",
              "      <td>A41D</td>\n",
              "      <td>A45C</td>\n",
              "      <td>B27K</td>\n",
              "      <td>D21H</td>\n",
              "      <td>NaN</td>\n",
              "      <td>NaN</td>\n",
              "      <td>C01F</td>\n",
              "      <td>C05D</td>\n",
              "      <td>C08G</td>\n",
              "      <td>NaN</td>\n",
              "      <td>NaN</td>\n",
              "      <td>C09G</td>\n",
              "      <td>C06B</td>\n",
              "      <td>D01F</td>\n",
              "      <td>C07J</td>\n",
              "      <td>B29D</td>\n",
              "      <td>B28B</td>\n",
              "      <td>C21C</td>\n",
              "      <td>G21H(G21H1 제외)</td>\n",
              "      <td>NaN</td>\n",
              "      <td>F16T</td>\n",
              "      <td>F41C</td>\n",
              "      <td>B21D</td>\n",
              "      <td>NaN</td>\n",
              "      <td>B81C</td>\n",
              "      <td>B41J29</td>\n",
              "      <td>H01Q</td>\n",
              "      <td>H03J</td>\n",
              "      <td>NaN</td>\n",
              "      <td>A61D</td>\n",
              "      <td>G01D</td>\n",
              "      <td>G03D</td>\n",
              "      <td>G04D</td>\n",
              "      <td>H02J</td>\n",
              "      <td>NaN</td>\n",
              "      <td>H01R</td>\n",
              "      <td>F21K</td>\n",
              "      <td>A47J</td>\n",
              "      <td>G08B</td>\n",
              "      <td>G03G</td>\n",
              "      <td>B04C</td>\n",
              "      <td>A01J</td>\n",
              "      <td>B60F</td>\n",
              "      <td>B63C</td>\n",
              "      <td>B61C</td>\n",
              "      <td>B64D</td>\n",
              "      <td>NaN</td>\n",
              "      <td>B62M6</td>\n",
              "      <td>B62H</td>\n",
              "      <td>A47D</td>\n",
              "      <td>A44C(A44C23제외)</td>\n",
              "      <td>H02S</td>\n",
              "      <td>B65F</td>\n",
              "      <td>E01F</td>\n",
              "      <td>G06F(G06F1 제외)</td>\n",
              "    </tr>\n",
              "    <tr>\n",
              "      <th>3</th>\n",
              "      <td>A01D</td>\n",
              "      <td>NaN</td>\n",
              "      <td>A23D</td>\n",
              "      <td>C12H</td>\n",
              "      <td>NaN</td>\n",
              "      <td>D06C</td>\n",
              "      <td>A41F</td>\n",
              "      <td>B68B</td>\n",
              "      <td>B27H</td>\n",
              "      <td>D21J</td>\n",
              "      <td>NaN</td>\n",
              "      <td>NaN</td>\n",
              "      <td>C01G</td>\n",
              "      <td>C05F</td>\n",
              "      <td>C08J</td>\n",
              "      <td>NaN</td>\n",
              "      <td>NaN</td>\n",
              "      <td>C11D</td>\n",
              "      <td>C06C</td>\n",
              "      <td>NaN</td>\n",
              "      <td>C07K</td>\n",
              "      <td>B29K</td>\n",
              "      <td>B28C</td>\n",
              "      <td>C21D</td>\n",
              "      <td>NaN</td>\n",
              "      <td>NaN</td>\n",
              "      <td>F17B</td>\n",
              "      <td>F41F</td>\n",
              "      <td>B21F</td>\n",
              "      <td>NaN</td>\n",
              "      <td>B82B</td>\n",
              "      <td>B41J31</td>\n",
              "      <td>H01S</td>\n",
              "      <td>H04H</td>\n",
              "      <td>NaN</td>\n",
              "      <td>A61F</td>\n",
              "      <td>G01F</td>\n",
              "      <td>G02F2</td>\n",
              "      <td>G04F</td>\n",
              "      <td>H02K</td>\n",
              "      <td>NaN</td>\n",
              "      <td>H02G</td>\n",
              "      <td>F21L</td>\n",
              "      <td>A47L</td>\n",
              "      <td>G08G</td>\n",
              "      <td>G06C</td>\n",
              "      <td>B05B</td>\n",
              "      <td>A01M</td>\n",
              "      <td>B60G</td>\n",
              "      <td>B63G</td>\n",
              "      <td>B61D</td>\n",
              "      <td>B64F</td>\n",
              "      <td>NaN</td>\n",
              "      <td>B62M7</td>\n",
              "      <td>B62K(B62K11 제외)</td>\n",
              "      <td>A47F</td>\n",
              "      <td>A45B</td>\n",
              "      <td>G21H1</td>\n",
              "      <td>C02F</td>\n",
              "      <td>E02B</td>\n",
              "      <td>G06F(G06F3 제외)</td>\n",
              "    </tr>\n",
              "    <tr>\n",
              "      <th>4</th>\n",
              "      <td>A01G</td>\n",
              "      <td>NaN</td>\n",
              "      <td>A23F</td>\n",
              "      <td>NaN</td>\n",
              "      <td>NaN</td>\n",
              "      <td>D06J</td>\n",
              "      <td>A42B(A42B3 제외)</td>\n",
              "      <td>B68C</td>\n",
              "      <td>B27M</td>\n",
              "      <td>NaN</td>\n",
              "      <td>NaN</td>\n",
              "      <td>NaN</td>\n",
              "      <td>C07B</td>\n",
              "      <td>C05G</td>\n",
              "      <td>C08K</td>\n",
              "      <td>NaN</td>\n",
              "      <td>NaN</td>\n",
              "      <td>D06L</td>\n",
              "      <td>C06D</td>\n",
              "      <td>NaN</td>\n",
              "      <td>C12N</td>\n",
              "      <td>B29L</td>\n",
              "      <td>B28D</td>\n",
              "      <td>C22C</td>\n",
              "      <td>NaN</td>\n",
              "      <td>NaN</td>\n",
              "      <td>F22B</td>\n",
              "      <td>F41G</td>\n",
              "      <td>B21H</td>\n",
              "      <td>NaN</td>\n",
              "      <td>B82Y</td>\n",
              "      <td>B41J32</td>\n",
              "      <td>H03B</td>\n",
              "      <td>H04N</td>\n",
              "      <td>NaN</td>\n",
              "      <td>A61G</td>\n",
              "      <td>G01H</td>\n",
              "      <td>G02F3</td>\n",
              "      <td>G04G</td>\n",
              "      <td>H02N</td>\n",
              "      <td>NaN</td>\n",
              "      <td>NaN</td>\n",
              "      <td>F21S</td>\n",
              "      <td>D06F</td>\n",
              "      <td>G10K</td>\n",
              "      <td>G06M</td>\n",
              "      <td>B23F</td>\n",
              "      <td>A21B</td>\n",
              "      <td>B60H</td>\n",
              "      <td>B63H</td>\n",
              "      <td>B61F</td>\n",
              "      <td>B64G</td>\n",
              "      <td>NaN</td>\n",
              "      <td>NaN</td>\n",
              "      <td>B62L</td>\n",
              "      <td>NaN</td>\n",
              "      <td>A45F</td>\n",
              "      <td>NaN</td>\n",
              "      <td>G21F</td>\n",
              "      <td>E02D</td>\n",
              "      <td>G06G</td>\n",
              "    </tr>\n",
              "    <tr>\n",
              "      <th>...</th>\n",
              "      <td>...</td>\n",
              "      <td>...</td>\n",
              "      <td>...</td>\n",
              "      <td>...</td>\n",
              "      <td>...</td>\n",
              "      <td>...</td>\n",
              "      <td>...</td>\n",
              "      <td>...</td>\n",
              "      <td>...</td>\n",
              "      <td>...</td>\n",
              "      <td>...</td>\n",
              "      <td>...</td>\n",
              "      <td>...</td>\n",
              "      <td>...</td>\n",
              "      <td>...</td>\n",
              "      <td>...</td>\n",
              "      <td>...</td>\n",
              "      <td>...</td>\n",
              "      <td>...</td>\n",
              "      <td>...</td>\n",
              "      <td>...</td>\n",
              "      <td>...</td>\n",
              "      <td>...</td>\n",
              "      <td>...</td>\n",
              "      <td>...</td>\n",
              "      <td>...</td>\n",
              "      <td>...</td>\n",
              "      <td>...</td>\n",
              "      <td>...</td>\n",
              "      <td>...</td>\n",
              "      <td>...</td>\n",
              "      <td>...</td>\n",
              "      <td>...</td>\n",
              "      <td>...</td>\n",
              "      <td>...</td>\n",
              "      <td>...</td>\n",
              "      <td>...</td>\n",
              "      <td>...</td>\n",
              "      <td>...</td>\n",
              "      <td>...</td>\n",
              "      <td>...</td>\n",
              "      <td>...</td>\n",
              "      <td>...</td>\n",
              "      <td>...</td>\n",
              "      <td>...</td>\n",
              "      <td>...</td>\n",
              "      <td>...</td>\n",
              "      <td>...</td>\n",
              "      <td>...</td>\n",
              "      <td>...</td>\n",
              "      <td>...</td>\n",
              "      <td>...</td>\n",
              "      <td>...</td>\n",
              "      <td>...</td>\n",
              "      <td>...</td>\n",
              "      <td>...</td>\n",
              "      <td>...</td>\n",
              "      <td>...</td>\n",
              "      <td>...</td>\n",
              "      <td>...</td>\n",
              "      <td>...</td>\n",
              "    </tr>\n",
              "    <tr>\n",
              "      <th>92</th>\n",
              "      <td>NaN</td>\n",
              "      <td>NaN</td>\n",
              "      <td>NaN</td>\n",
              "      <td>NaN</td>\n",
              "      <td>NaN</td>\n",
              "      <td>NaN</td>\n",
              "      <td>NaN</td>\n",
              "      <td>NaN</td>\n",
              "      <td>NaN</td>\n",
              "      <td>NaN</td>\n",
              "      <td>NaN</td>\n",
              "      <td>NaN</td>\n",
              "      <td>NaN</td>\n",
              "      <td>NaN</td>\n",
              "      <td>NaN</td>\n",
              "      <td>NaN</td>\n",
              "      <td>NaN</td>\n",
              "      <td>NaN</td>\n",
              "      <td>NaN</td>\n",
              "      <td>NaN</td>\n",
              "      <td>NaN</td>\n",
              "      <td>NaN</td>\n",
              "      <td>NaN</td>\n",
              "      <td>NaN</td>\n",
              "      <td>NaN</td>\n",
              "      <td>NaN</td>\n",
              "      <td>NaN</td>\n",
              "      <td>NaN</td>\n",
              "      <td>NaN</td>\n",
              "      <td>NaN</td>\n",
              "      <td>NaN</td>\n",
              "      <td>NaN</td>\n",
              "      <td>NaN</td>\n",
              "      <td>NaN</td>\n",
              "      <td>NaN</td>\n",
              "      <td>NaN</td>\n",
              "      <td>NaN</td>\n",
              "      <td>NaN</td>\n",
              "      <td>NaN</td>\n",
              "      <td>NaN</td>\n",
              "      <td>NaN</td>\n",
              "      <td>NaN</td>\n",
              "      <td>NaN</td>\n",
              "      <td>NaN</td>\n",
              "      <td>NaN</td>\n",
              "      <td>NaN</td>\n",
              "      <td>NaN</td>\n",
              "      <td>F02F</td>\n",
              "      <td>NaN</td>\n",
              "      <td>NaN</td>\n",
              "      <td>NaN</td>\n",
              "      <td>NaN</td>\n",
              "      <td>NaN</td>\n",
              "      <td>NaN</td>\n",
              "      <td>NaN</td>\n",
              "      <td>NaN</td>\n",
              "      <td>NaN</td>\n",
              "      <td>NaN</td>\n",
              "      <td>NaN</td>\n",
              "      <td>NaN</td>\n",
              "      <td>NaN</td>\n",
              "    </tr>\n",
              "    <tr>\n",
              "      <th>93</th>\n",
              "      <td>NaN</td>\n",
              "      <td>NaN</td>\n",
              "      <td>NaN</td>\n",
              "      <td>NaN</td>\n",
              "      <td>NaN</td>\n",
              "      <td>NaN</td>\n",
              "      <td>NaN</td>\n",
              "      <td>NaN</td>\n",
              "      <td>NaN</td>\n",
              "      <td>NaN</td>\n",
              "      <td>NaN</td>\n",
              "      <td>NaN</td>\n",
              "      <td>NaN</td>\n",
              "      <td>NaN</td>\n",
              "      <td>NaN</td>\n",
              "      <td>NaN</td>\n",
              "      <td>NaN</td>\n",
              "      <td>NaN</td>\n",
              "      <td>NaN</td>\n",
              "      <td>NaN</td>\n",
              "      <td>NaN</td>\n",
              "      <td>NaN</td>\n",
              "      <td>NaN</td>\n",
              "      <td>NaN</td>\n",
              "      <td>NaN</td>\n",
              "      <td>NaN</td>\n",
              "      <td>NaN</td>\n",
              "      <td>NaN</td>\n",
              "      <td>NaN</td>\n",
              "      <td>NaN</td>\n",
              "      <td>NaN</td>\n",
              "      <td>NaN</td>\n",
              "      <td>NaN</td>\n",
              "      <td>NaN</td>\n",
              "      <td>NaN</td>\n",
              "      <td>NaN</td>\n",
              "      <td>NaN</td>\n",
              "      <td>NaN</td>\n",
              "      <td>NaN</td>\n",
              "      <td>NaN</td>\n",
              "      <td>NaN</td>\n",
              "      <td>NaN</td>\n",
              "      <td>NaN</td>\n",
              "      <td>NaN</td>\n",
              "      <td>NaN</td>\n",
              "      <td>NaN</td>\n",
              "      <td>NaN</td>\n",
              "      <td>F16N</td>\n",
              "      <td>NaN</td>\n",
              "      <td>NaN</td>\n",
              "      <td>NaN</td>\n",
              "      <td>NaN</td>\n",
              "      <td>NaN</td>\n",
              "      <td>NaN</td>\n",
              "      <td>NaN</td>\n",
              "      <td>NaN</td>\n",
              "      <td>NaN</td>\n",
              "      <td>NaN</td>\n",
              "      <td>NaN</td>\n",
              "      <td>NaN</td>\n",
              "      <td>NaN</td>\n",
              "    </tr>\n",
              "    <tr>\n",
              "      <th>94</th>\n",
              "      <td>NaN</td>\n",
              "      <td>NaN</td>\n",
              "      <td>NaN</td>\n",
              "      <td>NaN</td>\n",
              "      <td>NaN</td>\n",
              "      <td>NaN</td>\n",
              "      <td>NaN</td>\n",
              "      <td>NaN</td>\n",
              "      <td>NaN</td>\n",
              "      <td>NaN</td>\n",
              "      <td>NaN</td>\n",
              "      <td>NaN</td>\n",
              "      <td>NaN</td>\n",
              "      <td>NaN</td>\n",
              "      <td>NaN</td>\n",
              "      <td>NaN</td>\n",
              "      <td>NaN</td>\n",
              "      <td>NaN</td>\n",
              "      <td>NaN</td>\n",
              "      <td>NaN</td>\n",
              "      <td>NaN</td>\n",
              "      <td>NaN</td>\n",
              "      <td>NaN</td>\n",
              "      <td>NaN</td>\n",
              "      <td>NaN</td>\n",
              "      <td>NaN</td>\n",
              "      <td>NaN</td>\n",
              "      <td>NaN</td>\n",
              "      <td>NaN</td>\n",
              "      <td>NaN</td>\n",
              "      <td>NaN</td>\n",
              "      <td>NaN</td>\n",
              "      <td>NaN</td>\n",
              "      <td>NaN</td>\n",
              "      <td>NaN</td>\n",
              "      <td>NaN</td>\n",
              "      <td>NaN</td>\n",
              "      <td>NaN</td>\n",
              "      <td>NaN</td>\n",
              "      <td>NaN</td>\n",
              "      <td>NaN</td>\n",
              "      <td>NaN</td>\n",
              "      <td>NaN</td>\n",
              "      <td>NaN</td>\n",
              "      <td>NaN</td>\n",
              "      <td>NaN</td>\n",
              "      <td>NaN</td>\n",
              "      <td>F16P</td>\n",
              "      <td>NaN</td>\n",
              "      <td>NaN</td>\n",
              "      <td>NaN</td>\n",
              "      <td>NaN</td>\n",
              "      <td>NaN</td>\n",
              "      <td>NaN</td>\n",
              "      <td>NaN</td>\n",
              "      <td>NaN</td>\n",
              "      <td>NaN</td>\n",
              "      <td>NaN</td>\n",
              "      <td>NaN</td>\n",
              "      <td>NaN</td>\n",
              "      <td>NaN</td>\n",
              "    </tr>\n",
              "    <tr>\n",
              "      <th>95</th>\n",
              "      <td>NaN</td>\n",
              "      <td>NaN</td>\n",
              "      <td>NaN</td>\n",
              "      <td>NaN</td>\n",
              "      <td>NaN</td>\n",
              "      <td>NaN</td>\n",
              "      <td>NaN</td>\n",
              "      <td>NaN</td>\n",
              "      <td>NaN</td>\n",
              "      <td>NaN</td>\n",
              "      <td>NaN</td>\n",
              "      <td>NaN</td>\n",
              "      <td>NaN</td>\n",
              "      <td>NaN</td>\n",
              "      <td>NaN</td>\n",
              "      <td>NaN</td>\n",
              "      <td>NaN</td>\n",
              "      <td>NaN</td>\n",
              "      <td>NaN</td>\n",
              "      <td>NaN</td>\n",
              "      <td>NaN</td>\n",
              "      <td>NaN</td>\n",
              "      <td>NaN</td>\n",
              "      <td>NaN</td>\n",
              "      <td>NaN</td>\n",
              "      <td>NaN</td>\n",
              "      <td>NaN</td>\n",
              "      <td>NaN</td>\n",
              "      <td>NaN</td>\n",
              "      <td>NaN</td>\n",
              "      <td>NaN</td>\n",
              "      <td>NaN</td>\n",
              "      <td>NaN</td>\n",
              "      <td>NaN</td>\n",
              "      <td>NaN</td>\n",
              "      <td>NaN</td>\n",
              "      <td>NaN</td>\n",
              "      <td>NaN</td>\n",
              "      <td>NaN</td>\n",
              "      <td>NaN</td>\n",
              "      <td>NaN</td>\n",
              "      <td>NaN</td>\n",
              "      <td>NaN</td>\n",
              "      <td>NaN</td>\n",
              "      <td>NaN</td>\n",
              "      <td>NaN</td>\n",
              "      <td>NaN</td>\n",
              "      <td>F26B</td>\n",
              "      <td>NaN</td>\n",
              "      <td>NaN</td>\n",
              "      <td>NaN</td>\n",
              "      <td>NaN</td>\n",
              "      <td>NaN</td>\n",
              "      <td>NaN</td>\n",
              "      <td>NaN</td>\n",
              "      <td>NaN</td>\n",
              "      <td>NaN</td>\n",
              "      <td>NaN</td>\n",
              "      <td>NaN</td>\n",
              "      <td>NaN</td>\n",
              "      <td>NaN</td>\n",
              "    </tr>\n",
              "    <tr>\n",
              "      <th>96</th>\n",
              "      <td>NaN</td>\n",
              "      <td>NaN</td>\n",
              "      <td>NaN</td>\n",
              "      <td>NaN</td>\n",
              "      <td>NaN</td>\n",
              "      <td>NaN</td>\n",
              "      <td>NaN</td>\n",
              "      <td>NaN</td>\n",
              "      <td>NaN</td>\n",
              "      <td>NaN</td>\n",
              "      <td>NaN</td>\n",
              "      <td>NaN</td>\n",
              "      <td>NaN</td>\n",
              "      <td>NaN</td>\n",
              "      <td>NaN</td>\n",
              "      <td>NaN</td>\n",
              "      <td>NaN</td>\n",
              "      <td>NaN</td>\n",
              "      <td>NaN</td>\n",
              "      <td>NaN</td>\n",
              "      <td>NaN</td>\n",
              "      <td>NaN</td>\n",
              "      <td>NaN</td>\n",
              "      <td>NaN</td>\n",
              "      <td>NaN</td>\n",
              "      <td>NaN</td>\n",
              "      <td>NaN</td>\n",
              "      <td>NaN</td>\n",
              "      <td>NaN</td>\n",
              "      <td>NaN</td>\n",
              "      <td>NaN</td>\n",
              "      <td>NaN</td>\n",
              "      <td>NaN</td>\n",
              "      <td>NaN</td>\n",
              "      <td>NaN</td>\n",
              "      <td>NaN</td>\n",
              "      <td>NaN</td>\n",
              "      <td>NaN</td>\n",
              "      <td>NaN</td>\n",
              "      <td>NaN</td>\n",
              "      <td>NaN</td>\n",
              "      <td>NaN</td>\n",
              "      <td>NaN</td>\n",
              "      <td>NaN</td>\n",
              "      <td>NaN</td>\n",
              "      <td>NaN</td>\n",
              "      <td>NaN</td>\n",
              "      <td>H05H</td>\n",
              "      <td>NaN</td>\n",
              "      <td>NaN</td>\n",
              "      <td>NaN</td>\n",
              "      <td>NaN</td>\n",
              "      <td>NaN</td>\n",
              "      <td>NaN</td>\n",
              "      <td>NaN</td>\n",
              "      <td>NaN</td>\n",
              "      <td>NaN</td>\n",
              "      <td>NaN</td>\n",
              "      <td>NaN</td>\n",
              "      <td>NaN</td>\n",
              "      <td>NaN</td>\n",
              "    </tr>\n",
              "  </tbody>\n",
              "</table>\n",
              "<p>97 rows × 61 columns</p>\n",
              "</div>"
            ],
            "text/plain": [
              "      농림어업     광업 식료품 제조업  ... 하수, 폐기물처리, 원료재생, 환경복원 건설업, 건축기술 서비스 컴퓨터 프로그래밍, 정보서비스업\n",
              "0   A01B27   C22B    A21D  ...                  B09B          E01C              G06D\n",
              "1   A01B02   E21D    A23B  ...                  B09C          E01D              G06E\n",
              "2     A01C    NaN    A23C  ...                  B65F          E01F    G06F(G06F1 제외)\n",
              "3     A01D    NaN    A23D  ...                  C02F          E02B    G06F(G06F3 제외)\n",
              "4     A01G    NaN    A23F  ...                  G21F          E02D              G06G\n",
              "..     ...    ...     ...  ...                   ...           ...               ...\n",
              "92     NaN    NaN     NaN  ...                   NaN           NaN               NaN\n",
              "93     NaN    NaN     NaN  ...                   NaN           NaN               NaN\n",
              "94     NaN    NaN     NaN  ...                   NaN           NaN               NaN\n",
              "95     NaN    NaN     NaN  ...                   NaN           NaN               NaN\n",
              "96     NaN    NaN     NaN  ...                   NaN           NaN               NaN\n",
              "\n",
              "[97 rows x 61 columns]"
            ]
          },
          "metadata": {},
          "execution_count": 246
        }
      ]
    },
    {
      "cell_type": "code",
      "metadata": {
        "id": "eIP86PrWFVrZ"
      },
      "source": [
        "table.columns = pd.Series(table.columns).str.replace('\\n', ' ')"
      ],
      "execution_count": null,
      "outputs": []
    },
    {
      "cell_type": "code",
      "metadata": {
        "colab": {
          "base_uri": "https://localhost:8080/"
        },
        "id": "ojrXLI4HLCk6",
        "outputId": "cef4ed70-01d5-4e71-87df-891ed4badebe"
      },
      "source": [
        "table['특수 기계제조업']"
      ],
      "execution_count": null,
      "outputs": [
        {
          "output_type": "execute_result",
          "data": {
            "text/plain": [
              "0     A01B(A01B27/02 제외)\n",
              "1                   A01F\n",
              "2                   A01J\n",
              "3                   A01M\n",
              "4                   A21B\n",
              "             ...        \n",
              "92                  F02F\n",
              "93                  F16N\n",
              "94                  F16P\n",
              "95                  F26B\n",
              "96                  H05H\n",
              "Name: 특수 기계제조업, Length: 97, dtype: object"
            ]
          },
          "metadata": {},
          "execution_count": 248
        }
      ]
    },
    {
      "cell_type": "code",
      "metadata": {
        "colab": {
          "base_uri": "https://localhost:8080/"
        },
        "id": "RDjTvxB818qt",
        "outputId": "78a07e09-1fa3-468a-d01e-2adf7f9075bc"
      },
      "source": [
        "table.columns"
      ],
      "execution_count": null,
      "outputs": [
        {
          "output_type": "execute_result",
          "data": {
            "text/plain": [
              "Index(['농림어업', '광업', '식료품 제조업', '음료제조업', '담배제조업', '섬유제품 제조업 :의복제외',\n",
              "       '의복, 의복 액세서리 및 모피제품 제조업', '가죽, 가방 및 신발제조업', '목재 및 나무제품제조업; 가구제외',\n",
              "       '펄프, 종이 및 종이제품 제조업', '인쇄 및 기록매체복제업', '코크스, 연탄 및 석유정제품 제조업',\n",
              "       '기초 화학물질제조업', '비료 및 질소 화학물 제조업', '합성고무 및 플라스틱 물질 제조업', '살충제 및 기타농약제조업',\n",
              "       '잉크, 페인트 코팅제 및 유사제품 제조업', '세제, 화장품 및 광택제 제조업', '그 외 기타 화학제품 제조업',\n",
              "       '화학섬유 제조업', '의료용 물질 및 의약품 제조업', '고무제품 및 플라스틱 제품 제조업', '비금속광물제품 제조업',\n",
              "       '1차 철강제조업', '1차 비철금속 제조업', '금속주조업', '구조용 금속제품, 탱크, 증기발생기 제조업',\n",
              "       '무기 및 총포탄 제조업', '기타 금속가공 제품 제조업', '반도체 제조업', '전자부품 제조업',\n",
              "       '컴퓨터 및 주변장치 제조업', '통신 및 방송 장비 제조업', '영상 및 음향기기 제조업', '마그네틱 및 광학 매체 제조업',\n",
              "       '의료용 기기 제조업', '측정, 시험, 향해, 제어, 및 기타 정밀기기 제조업', '안경, 사진장비 및 기타 광학기기 제조업',\n",
              "       '시계 및 시계부품 제조업', '전동기, 발전기 및 전기변환, 공급, 제어장치 제조업', '일차전지 및 축전지 제조업',\n",
              "       '절연선 및 케이블제조업', '전구 및 조명장치 제조업', '가정용 기기 제조업', '기타 전기장비 제조업',\n",
              "       '사무용 기계 및 장비 제조업', '사무용 이외의 일반기계 제조업', '특수 기계제조업', '자동차 제조업', '선박 제조업',\n",
              "       '철도장비 제조업', '항공기 제조업', '전투용 차량 제조업', '모터사이클 제조업', '그 외 분류 안된 운송장비 제조업',\n",
              "       '가구 제조업', '기타제품 제조업', '전기, 가스, 증기, 수도', '하수, 폐기물처리, 원료재생, 환경복원',\n",
              "       '건설업, 건축기술 서비스', '컴퓨터 프로그래밍, 정보서비스업'],\n",
              "      dtype='object')"
            ]
          },
          "metadata": {},
          "execution_count": 249
        }
      ]
    },
    {
      "cell_type": "markdown",
      "metadata": {
        "id": "hIECufVpFefQ"
      },
      "source": [
        "- query 추출"
      ]
    },
    {
      "cell_type": "code",
      "metadata": {
        "id": "sKUuhsVtBwIX"
      },
      "source": [
        "def change_format(x):\n",
        "    x = x.strip()\n",
        "    if len(x) == 4:\n",
        "        x = x + '*'\n",
        "    else:\n",
        "        if '/' not in x:\n",
        "            x = x[:4] + '-' + x[4:].zfill(3) + '*'\n",
        "        else:\n",
        "            x2 = x.split('/')\n",
        "            x = x2[0][:4] + '-' + x2[0][4:].zfill(3) + '/' + x2[1]\n",
        "    return x"
      ],
      "execution_count": null,
      "outputs": []
    },
    {
      "cell_type": "code",
      "metadata": {
        "id": "MjM472kIs4Q8"
      },
      "source": [
        "def make_query(i):\n",
        "    result = []\n",
        "    exceptions = list(filter(lambda x: '제외' in x,table[table.columns[i]][table[table.columns[i]].notnull()])) \n",
        "    # exception 있는 코드 제외하고 나열\n",
        "    for x in table[table.columns[i]][table[table.columns[i]].notnull()]:\n",
        "        x = x.strip()\n",
        "        if x in exceptions:\n",
        "            continue\n",
        "        else:\n",
        "            x = change_format(x)\n",
        "            result.append(x)\n",
        "    # exception 있는 경우에 대해\n",
        "    keys = [change_format(e.split('(')[0]) for e in exceptions]\n",
        "    exc_dict = {k: [] for k in keys}\n",
        "    for e in exceptions:\n",
        "        exc_dict[change_format(e.split('(')[0])].append(change_format(e.split('(')[1].replace(')','').replace('제외','')))\n",
        "    for k, v in exc_dict.items():\n",
        "        result.append('({} not ({}))'.format(k, ' or '.join(v)))\n",
        "    # 최종 query\n",
        "    return 'IC = ({})'.format(' or '.join(result))"
      ],
      "execution_count": null,
      "outputs": []
    },
    {
      "cell_type": "code",
      "metadata": {
        "colab": {
          "base_uri": "https://localhost:8080/"
        },
        "id": "2bSuFncLJQOT",
        "outputId": "b29c303d-cfce-45df-8261-19975c81b038"
      },
      "source": [
        "from tqdm import tqdm\n",
        "\n",
        "queries = {}\n",
        "for i, column in tqdm(enumerate(table.columns)):\n",
        "    query = make_query(i)\n",
        "    queries[column] = query"
      ],
      "execution_count": null,
      "outputs": [
        {
          "output_type": "stream",
          "text": [
            "61it [00:00, 1304.48it/s]\n"
          ],
          "name": "stderr"
        }
      ]
    },
    {
      "cell_type": "code",
      "metadata": {
        "colab": {
          "base_uri": "https://localhost:8080/"
        },
        "id": "nalFFmF1JixK",
        "outputId": "3417d7fc-e429-45d0-e9a8-3f7789fb71e7"
      },
      "source": [
        "queries"
      ],
      "execution_count": null,
      "outputs": [
        {
          "output_type": "execute_result",
          "data": {
            "text/plain": [
              "{'1차 비철금속 제조업': 'IC = (C22F* or C25C* or G21H-(G21H1 제외)* or (G21H* not (G21H-001*)))',\n",
              " '1차 철강제조업': 'IC = (B21C* or C21B* or C21C* or C21D* or C22C* or F16S* or F17C*)',\n",
              " '가구 제조업': 'IC = (A47B* or A47C* or A47D* or A47F*)',\n",
              " '가정용 기기 제조업': 'IC = (A45D* or A47G* or A47J* or A47L* or D06F* or E06C* or F24B* or F24C* or H05B*)',\n",
              " '가죽, 가방 및 신발제조업': 'IC = (A43B* or A43C* or A45C* or B68B* or B68C*)',\n",
              " '건설업, 건축기술 서비스': 'IC = (E01C* or E01D* or E01F* or E02B* or E02D* or E03B* or E03C* or E03F* or E04H* or E05B* or E05C* or E06B* or E21C* or E99Z* or F42D*)',\n",
              " '고무제품 및 플라스틱 제품 제조업': 'IC = (B29B* or B29C* or B29D* or B29K* or B29L* or A42B-003* or B60C* or B65D* or B67D* or C08C* or F16L*)',\n",
              " '광업': 'IC = (C22B* or E21D*)',\n",
              " '구조용 금속제품, 탱크, 증기발생기 제조업': 'IC = (A47H* or B21G* or F16T* or F17B* or F22B* or F22G* or F24D* or F24H* or G21B* or G21C* or G21D*)',\n",
              " '그 외 기타 화학제품 제조업': 'IC = (A62D* or B01J* or C06B* or C06C* or C06D* or C06F* or C08H* or C09H* or C09J* or C09K* or C10M* or C10N* or C11B* or C11C* or C14C* or C23F* or C23G* or C40B* or C99Z* or F42B* or (G03C* not (G03C-005* or G03C-009* or G03C-011*)))',\n",
              " '그 외 분류 안된 운송장비 제조업': 'IC = (B62B* or B62C* or B62H* or B62K-(B62K11 제외)* or B62L* or B62M-(B62M6 제외)* or B62M-(B62M7 제외)* or (B62K* not (B62K-011*)) or (B62M* not (B62M-006* or B62M-007*)))',\n",
              " '금속주조업': 'IC = (B22D*)',\n",
              " '기초 화학물질제조업': 'IC = (C01C* or C01D* or C01F* or C01G* or C07B* or C07C* or C07F* or C07G* or C07H* or C09B* or C09C* or C10B* or C10C* or C10H* or C10J* or C10K* or C25B* or G21G* or G21J*)',\n",
              " '기타 금속가공 제품 제조업': 'IC = (A01L* or A44B-011* or B21D* or B21F* or B21H* or B21J* or B21K* or B21L* or B22F* or B23B* or B23C* or B23D* or B23G* or B23H* or B25B* or B25C* or B25F* or B25G* or B25H* or B26B* or B26F* or B27B* or B27G* or C23D* or C25D* or E05D* or E05G* or F16B*)',\n",
              " '기타 전기장비 제조업': 'IC = (B60M* or C25F* or G08B* or G08G* or G10K* or H01T* or H02H* or H02M* or H05C* or H05F*)',\n",
              " '기타제품 제조업': 'IC = (A41G* or A44B-(A44B11 제외)* or A44C-(A44C23제외)* or A45B* or A45F* or A46B* or A46D* or A63B* or A63C* or A63D* or A63F* or A63G* or A63H* or A63J* or A63K* or A99Z* or B43K* or B43L* or B43M* or B44D* or B44F* or B68G* or B99Z* or D07B* or F23Q* or G09B* or G09F* or G10B* or G10C* or G10D* or G10F* or G10G* or G10H* or (A44B* not (A44B-011*)) or (A44C* not (A44C-023*)))',\n",
              " '농림어업': 'IC = (A01B-027* or A01B-002* or A01C* or A01D* or A01G* or A01H* or A01K*)',\n",
              " '담배제조업': 'IC = (A24B* or A24D* or A24F*)',\n",
              " '마그네틱 및 광학 매체 제조업': 'IC = (G11B*)',\n",
              " '모터사이클 제조업': 'IC = (B62J* or B62K-011* or B62M-006* or B62M-007*)',\n",
              " '목재 및 나무제품제조업; 가구제외': 'IC = (A44C-023* or B27D* or B27K* or B27H* or B27M* or B27N* or E04G*)',\n",
              " '무기 및 총포탄 제조업': 'IC = (F41A* or F41B* or F41C* or F41F* or F41G* or F41H-(F41H7 제외)* or F41J* or F42C* or (F41H* not (F41H-007*)))',\n",
              " '반도체 제조업': 'IC = (G11C* or H01L*)',\n",
              " '비금속광물제품 제조업': 'IC = (A47K* or B24D* or B28B* or B28C* or B28D* or B32B* or C01B* or C03B* or C03C* or C04B* or E03D* or E04B* or E04C* or E04D* or E04F*)',\n",
              " '비료 및 질소 화학물 제조업': 'IC = (C05B* or C05C* or C05D* or C05F* or C05G*)',\n",
              " '사무용 기계 및 장비 제조업': 'IC = (B41L* or B41J-001* or G03G* or G06C* or G06M* or G07B* or G07C* or G07D* or G07G*)',\n",
              " '사무용 이외의 일반기계 제조업': 'IC = (B01B* or B01D* or B04C* or B05B* or B23F* or B25D* or B41K* or B60S-003* or B65B* or B65C* or B65G* or B66B* or B66C* or B66D* or B66F* or B67C* or C10F* or C12L* or E01H* or E02C* or E21F* or F01B* or F01C* or F01D* or F01K* or F01M* or F01N* or F01P* or F02G* or F03B* or F03C* or F03G* or F04B* or F04C* or F04D* or F04F* or F15B* or F15C* or F15D* or F16C* or F16D* or F16F* or F16G* or F16H* or F16K* or F16M* or F17D* or F22-000* or F23B* or F23C* or F23D* or F23G* or F23H* or F23J* or F23K* or F23L* or F23M* or F23N* or F23R* or F24F* or F24J* or F25B* or F25C* or F25D* or F25J* or F27B* or F27D* or F28B* or F28C* or F28D* or F28F* or F28G* or G01G* or G07F* or G09D* or G09G*)',\n",
              " '살충제 및 기타농약제조업': 'IC = (A01N* or A01P*)',\n",
              " '선박 제조업': 'IC = (B60V* or B63B* or B63C* or B63G* or B63H* or B63J*)',\n",
              " '섬유제품 제조업 :의복제외': 'IC = (D04D* or D04G* or D04H* or D06C* or D06J* or D06M* or D06N* or D06P* or D06Q*)',\n",
              " '세제, 화장품 및 광택제 제조업': 'IC = (A61Q* or C09F* or C09G* or C11D* or D06L* or A61K-008*)',\n",
              " '시계 및 시계부품 제조업': 'IC = (G04B* or G04C* or G04D* or G04F* or G04G* or G04R*)',\n",
              " '식료품 제조업': 'IC = (A21D* or A23B* or A23C* or A23D* or A23F* or A23G* or A23J* or A23K* or A23L* or A23P* or C12J* or C13B* or C13K*)',\n",
              " '안경, 사진장비 및 기타 광학기기 제조업': 'IC = (G02B* or G02C* or G03D* or G02F-002* or G02F-003* or G02F-007* or G03B-(G03B31 제외)* or G03B-(G03B42 제외)* or G03C-005* or G03C-009* or G03C-011* or G03F* or (G03B* not (G03B-031* or G03B-042*)))',\n",
              " '영상 및 음향기기 제조업': 'IC = (G03B-031* or G10L* or H03J* or H04H* or H04N* or H04R*)',\n",
              " '음료제조업': 'IC = (C12C* or C12F* or C12G* or C12H*)',\n",
              " '의료용 기기 제조업': 'IC = (A61B* or A61C* or A61D* or A61F* or A61G* or A61H* or A61J* or A61L* or A61M* or A61N* or A62B* or B01L* or B04B* or C12M* or G01T* or G03B-042* or H05G*)',\n",
              " '의료용 물질 및 의약품 제조업': 'IC = (A61P* or C07D* or C07J* or C07K* or C12N* or C12P* or C12Q* or C12R* or A61K-(A61K8 제외)* or (A61K* not (A61K-008*)))',\n",
              " '의복, 의복 액세서리 및 모피제품 제조업': 'IC = (A41B* or A41C* or A41D* or A41F* or A42B-(A42B3 제외)* or A42C-005* or (A42B* not (A42B-003*)))',\n",
              " '인쇄 및 기록매체복제업': 'IC = (B41M* or B42D*)',\n",
              " '일차전지 및 축전지 제조업': 'IC = (H01M*)',\n",
              " '잉크, 페인트 코팅제 및 유사제품 제조업': 'IC = (C09D*)',\n",
              " '자동차 제조업': 'IC = (B60B* or B60D* or B60F* or B60G* or B60H* or B60J* or B60K* or B60L-(B60L13 제외)* or B60N* or B60P* or B60R* or B60S-(B60S3 제외)* or B60T* or B60W* or B62D* or E05F* or F02M* or F02N* or F02P* or F16J* or G05G* or (B60L* not (B60L-013*)) or (B60S* not (B60S-003*)))',\n",
              " '전구 및 조명장치 제조업': 'IC = (B60Q* or F21H* or F21K* or F21L* or F21S* or F21V* or F21W* or F21Y* or H01K*)',\n",
              " '전기, 가스, 증기, 수도': 'IC = (F02C* or F03D* or H02S* or G21H-001*)',\n",
              " '전동기, 발전기 및 전기변환, 공급, 제어장치 제조업': 'IC = (F99Z* or H02B* or H02J* or H02K* or H02N* or H02P*)',\n",
              " '전자부품 제조업': 'IC = (B05D* or B81B* or B81C* or B82B* or B82Y* or C30B* or G02F-001* or G12B* or H01C* or H01F* or H01G* or H01J* or H05K* or H03K* or H03L*)',\n",
              " '전투용 차량 제조업': 'IC = (F41H-007*)',\n",
              " '절연선 및 케이블제조업': 'IC = (H01B* or H01H* or H01R* or H02G*)',\n",
              " '철도장비 제조업': 'IC = (B60L-013* or B61B* or B61C* or B61D* or B61F* or B61G* or B61H* or B61J* or B61K* or B61L* or E01B*)',\n",
              " '측정, 시험, 향해, 제어, 및 기타 정밀기기 제조업': 'IC = (G01B* or G01C* or G01D* or G01F* or G01H* or G01J* or G01K* or G01L* or G01M* or G01N* or G01P* or G01Q* or G01R* or G01S* or G01V* or G01W* or G05B* or G05D* or G05F* or G21K* or G08C*)',\n",
              " '컴퓨터 및 주변장치 제조업': 'IC = (B41J-002* or B41J-027* or B41J-029* or B41J-031* or B41J-032* or B41J-033* or B41J-035* or G06J* or G06F-001* or G06F-003* or G06K*)',\n",
              " '컴퓨터 프로그래밍, 정보서비스업': 'IC = (G06D* or G06E* or G06F-(G06F1 제외)* or G06F-(G06F3 제외)* or G06G* or G06N* or G06Q* or G06T* or G09C* or (G06F* not (G06F-001* or G06F-003*)))',\n",
              " '코크스, 연탄 및 석유정제품 제조업': 'IC = (C10G* or C10L*)',\n",
              " '통신 및 방송 장비 제조업': 'IC = (G03H* or H01P* or H01Q* or H01S* or H03B* or H03C* or H03D* or H03F* or H03G* or H03H* or H03M* or H04B* or H04J* or H04K* or H04L* or H04M* or H04Q* or H04S* or H04W* or H99Z*)',\n",
              " '특수 기계제조업': 'IC = (A01F* or A01J* or A01M* or A21B* or A21C* or A22B* or A22C* or A23N* or A24C* or A41H* or A43D* or A62C* or B01F* or B02B* or B02C* or B03B* or B03C* or B03D* or B05C* or B06B* or B07B* or B07C* or B08B* or B21B* or B22C* or B23K* or B23P* or B23Q* or B24B* or B24C* or B25J* or B26D* or B27C* or B27F* or B27J* or B27L* or B30B* or B31B* or B31C* or B31D* or B31F* or B41B* or B41C* or B41D* or B41F* or B41G* or B41N* or B42B* or B42C* or B44B* or B44C* or B65H* or B67B* or B68F* or C14B* or C23C* or D01B* or D01G* or D01H* or D02G* or D02H* or D02J* or D03C* or D03D* or D03J* or D04B* or D04C* or D05B* or D05C* or D06B* or D06G* or D06H* or D21B* or D21D* or D21F* or D21G* or D99Z* or E02F* or E21B* or F01L* or F02B* or F02D* or F02F* or F16N* or F16P* or F26B* or H05H* or (A01B* not (A01B-027/02)) or (A42C* not (A42C-005*)) or (B41J* not (B41J-001* or B41J-002* or B41J-027* or B41J-029* or B41J-031* or B41J-032* or B41J-033* or B41J-035*)))',\n",
              " '펄프, 종이 및 종이제품 제조업': 'IC = (B42F* or D21C* or D21H* or D21J*)',\n",
              " '하수, 폐기물처리, 원료재생, 환경복원': 'IC = (B09B* or B09C* or B65F* or C02F* or G21F*)',\n",
              " '합성고무 및 플라스틱 물질 제조업': 'IC = (C08B* or C08F* or C08G* or C08J* or C08K* or C08L*)',\n",
              " '항공기 제조업': 'IC = (B64B* or B64C* or B64D* or B64F* or B64G* or F02K* or F03H*)',\n",
              " '화학섬유 제조업': 'IC = (D01C* or D01D* or D01F*)'}"
            ]
          },
          "metadata": {},
          "execution_count": 253
        }
      ]
    },
    {
      "cell_type": "markdown",
      "metadata": {
        "id": "oc-sQhunRGtR"
      },
      "source": [
        "# KSIC - IPC 쿼리 작성"
      ]
    },
    {
      "cell_type": "code",
      "metadata": {
        "id": "lefHK3N8RKU7"
      },
      "source": [
        ""
      ],
      "execution_count": null,
      "outputs": []
    },
    {
      "cell_type": "code",
      "metadata": {
        "id": "7G0QvTu6vnix"
      },
      "source": [
        "for k in queries.keys():\n",
        "    if k in concordance['KSIC9_항목명']:\n",
        "        code = k"
      ],
      "execution_count": null,
      "outputs": []
    }
  ]
}