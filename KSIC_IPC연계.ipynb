{
  "nbformat": 4,
  "nbformat_minor": 0,
  "metadata": {
    "colab": {
      "name": "KSIC9차-IPC연계.ipynb",
      "provenance": [],
      "collapsed_sections": [
        "K9pdY_trFVrF",
        "BpC5ePG6Fb5S",
        "hIECufVpFefQ",
        "6Z92dTN6zX40",
        "H0BU76AevABH",
        "t9PYoDXy57Hc",
        "7DgAwMg4cZ__",
        "639pEmmZtazD"
      ]
    },
    "kernelspec": {
      "display_name": "Python 3",
      "name": "python3"
    }
  },
  "cells": [
    {
      "cell_type": "markdown",
      "metadata": {
        "id": "K9pdY_trFVrF"
      },
      "source": [
        "# KSIC10차 업종에 따라 IPC 코드 검색 쿼리 생성"
      ]
    },
    {
      "cell_type": "code",
      "metadata": {
        "id": "qwsplfO4okFR"
      },
      "source": [
        "import pandas as pd"
      ],
      "execution_count": 41,
      "outputs": []
    },
    {
      "cell_type": "markdown",
      "metadata": {
        "id": "BpC5ePG6Fb5S"
      },
      "source": [
        "## table 정제"
      ]
    },
    {
      "cell_type": "code",
      "metadata": {
        "id": "jeuUz3u4FVrW"
      },
      "source": [
        "table = pd.read_csv('기업정보연계+KSIC_IPC_연계_final.CSV', encoding='cp949')"
      ],
      "execution_count": 42,
      "outputs": []
    },
    {
      "cell_type": "code",
      "metadata": {
        "colab": {
          "base_uri": "https://localhost:8080/",
          "height": 0
        },
        "id": "rK8GixjYFVrX",
        "outputId": "13a4235c-ed26-485b-e641-ec7d90bdb2ce"
      },
      "source": [
        "table"
      ],
      "execution_count": 43,
      "outputs": [
        {
          "output_type": "execute_result",
          "data": {
            "text/html": [
              "<div>\n",
              "<style scoped>\n",
              "    .dataframe tbody tr th:only-of-type {\n",
              "        vertical-align: middle;\n",
              "    }\n",
              "\n",
              "    .dataframe tbody tr th {\n",
              "        vertical-align: top;\n",
              "    }\n",
              "\n",
              "    .dataframe thead th {\n",
              "        text-align: right;\n",
              "    }\n",
              "</style>\n",
              "<table border=\"1\" class=\"dataframe\">\n",
              "  <thead>\n",
              "    <tr style=\"text-align: right;\">\n",
              "      <th></th>\n",
              "      <th>농림어업</th>\n",
              "      <th>광업</th>\n",
              "      <th>식료품 제조업</th>\n",
              "      <th>음료제조업</th>\n",
              "      <th>담배제조업</th>\n",
              "      <th>섬유제품 제조업\\n:의복제외</th>\n",
              "      <th>의복, 의복 액세서리 및 모피제품 제조업</th>\n",
              "      <th>가죽, 가방 및 신발제조업</th>\n",
              "      <th>목재 및\\n나무제품제조업; 가구제외</th>\n",
              "      <th>펄프, 종이 및\\n종이제품 제조업</th>\n",
              "      <th>인쇄 및\\n기록매체복제업</th>\n",
              "      <th>코크스, 연탄 및\\n석유정제품 제조업</th>\n",
              "      <th>기초 화학물질제조업</th>\n",
              "      <th>비료 및 질소 화학물 제조업</th>\n",
              "      <th>합성고무 및\\n플라스틱 물질 제조업</th>\n",
              "      <th>살충제 및 기타농약제조업</th>\n",
              "      <th>잉크, 페인트 코팅제 및 유사제품 제조업</th>\n",
              "      <th>세제, 화장품 및 광택제 제조업</th>\n",
              "      <th>그 외 기타 화학제품 제조업</th>\n",
              "      <th>화학섬유 제조업</th>\n",
              "      <th>의료용 물질 및 의약품 제조업</th>\n",
              "      <th>고무제품 및\\n플라스틱 제품 제조업</th>\n",
              "      <th>비금속광물제품 제조업</th>\n",
              "      <th>1차 철강제조업</th>\n",
              "      <th>1차 비철금속 제조업</th>\n",
              "      <th>금속주조업</th>\n",
              "      <th>구조용 금속제품,\\n탱크, 증기발생기 제조업</th>\n",
              "      <th>무기 및 총포탄 제조업</th>\n",
              "      <th>기타 금속가공 제품 제조업</th>\n",
              "      <th>반도체 제조업</th>\n",
              "      <th>전자부품 제조업</th>\n",
              "      <th>컴퓨터 및 주변장치 제조업</th>\n",
              "      <th>통신 및 방송 장비 제조업</th>\n",
              "      <th>영상 및 음향기기 제조업</th>\n",
              "      <th>마그네틱 및 광학 매체 제조업</th>\n",
              "      <th>의료용 기기 제조업</th>\n",
              "      <th>측정, 시험, 향해, 제어, 및 기타 정밀기기 제조업</th>\n",
              "      <th>안경, 사진장비 및\\n기타 광학기기 제조업</th>\n",
              "      <th>시계 및 시계부품 제조업</th>\n",
              "      <th>전동기, 발전기 및\\n전기변환, 공급, 제어장치 제조업</th>\n",
              "      <th>일차전지 및 축전지 제조업</th>\n",
              "      <th>절연선 및 케이블제조업</th>\n",
              "      <th>전구 및 조명장치 제조업</th>\n",
              "      <th>가정용 기기 제조업</th>\n",
              "      <th>기타 전기장비 제조업</th>\n",
              "      <th>사무용 기계 및\\n장비 제조업</th>\n",
              "      <th>사무용 이외의 일반기계 제조업</th>\n",
              "      <th>특수 기계제조업</th>\n",
              "      <th>자동차 제조업</th>\n",
              "      <th>선박 제조업</th>\n",
              "      <th>철도장비 제조업</th>\n",
              "      <th>항공기 제조업</th>\n",
              "      <th>전투용 차량 제조업</th>\n",
              "      <th>모터사이클 제조업</th>\n",
              "      <th>그 외 분류 안된\\n운송장비 제조업</th>\n",
              "      <th>가구 제조업</th>\n",
              "      <th>기타제품 제조업</th>\n",
              "      <th>전기, 가스, 증기, 수도</th>\n",
              "      <th>하수, 폐기물처리, 원료재생, 환경복원</th>\n",
              "      <th>건설업, 건축기술 서비스</th>\n",
              "      <th>컴퓨터 프로그래밍, 정보서비스업</th>\n",
              "    </tr>\n",
              "  </thead>\n",
              "  <tbody>\n",
              "    <tr>\n",
              "      <th>0</th>\n",
              "      <td>A01B27</td>\n",
              "      <td>C22B</td>\n",
              "      <td>A21D</td>\n",
              "      <td>C12C</td>\n",
              "      <td>A24B</td>\n",
              "      <td>D04D</td>\n",
              "      <td>A41B</td>\n",
              "      <td>A43B</td>\n",
              "      <td>A44C23</td>\n",
              "      <td>B42F</td>\n",
              "      <td>B41M</td>\n",
              "      <td>C10G</td>\n",
              "      <td>C01C</td>\n",
              "      <td>C05B</td>\n",
              "      <td>C08B</td>\n",
              "      <td>A01N</td>\n",
              "      <td>C09D</td>\n",
              "      <td>A61Q</td>\n",
              "      <td>A62D</td>\n",
              "      <td>D01C</td>\n",
              "      <td>A61P</td>\n",
              "      <td>B29B</td>\n",
              "      <td>A47K</td>\n",
              "      <td>B21C</td>\n",
              "      <td>C22F</td>\n",
              "      <td>B22D</td>\n",
              "      <td>A47H</td>\n",
              "      <td>F41A</td>\n",
              "      <td>A01L</td>\n",
              "      <td>G11C</td>\n",
              "      <td>B05D</td>\n",
              "      <td>B41J2</td>\n",
              "      <td>G03H</td>\n",
              "      <td>G03B31</td>\n",
              "      <td>G11B</td>\n",
              "      <td>A61B</td>\n",
              "      <td>G01B</td>\n",
              "      <td>G02B</td>\n",
              "      <td>G04B</td>\n",
              "      <td>F99Z</td>\n",
              "      <td>H01M</td>\n",
              "      <td>H01B</td>\n",
              "      <td>B60Q</td>\n",
              "      <td>A45D</td>\n",
              "      <td>B60M</td>\n",
              "      <td>B41L</td>\n",
              "      <td>B01B</td>\n",
              "      <td>A01B(A01B27/02 제외)</td>\n",
              "      <td>B60B</td>\n",
              "      <td>B60V</td>\n",
              "      <td>B60L13</td>\n",
              "      <td>B64B</td>\n",
              "      <td>F41H7</td>\n",
              "      <td>B62J</td>\n",
              "      <td>B62B</td>\n",
              "      <td>A47B</td>\n",
              "      <td>A41G</td>\n",
              "      <td>F02C</td>\n",
              "      <td>B09B</td>\n",
              "      <td>E01C</td>\n",
              "      <td>G06D</td>\n",
              "    </tr>\n",
              "    <tr>\n",
              "      <th>1</th>\n",
              "      <td>A01B02</td>\n",
              "      <td>E21D</td>\n",
              "      <td>A23B</td>\n",
              "      <td>C12F</td>\n",
              "      <td>A24D</td>\n",
              "      <td>D04G</td>\n",
              "      <td>A41C</td>\n",
              "      <td>A43C</td>\n",
              "      <td>B27D</td>\n",
              "      <td>D21C</td>\n",
              "      <td>B42D</td>\n",
              "      <td>C10L</td>\n",
              "      <td>C01D</td>\n",
              "      <td>C05C</td>\n",
              "      <td>C08F</td>\n",
              "      <td>A01P</td>\n",
              "      <td>NaN</td>\n",
              "      <td>C09F</td>\n",
              "      <td>B01J</td>\n",
              "      <td>D01D</td>\n",
              "      <td>C07D</td>\n",
              "      <td>B29C</td>\n",
              "      <td>B24D</td>\n",
              "      <td>C21B</td>\n",
              "      <td>C25C</td>\n",
              "      <td>NaN</td>\n",
              "      <td>B21G</td>\n",
              "      <td>F41B</td>\n",
              "      <td>A44B11</td>\n",
              "      <td>H01L</td>\n",
              "      <td>B81B</td>\n",
              "      <td>B41J27</td>\n",
              "      <td>H01P</td>\n",
              "      <td>G10L</td>\n",
              "      <td>NaN</td>\n",
              "      <td>A61C</td>\n",
              "      <td>G01C</td>\n",
              "      <td>G02C</td>\n",
              "      <td>G04C</td>\n",
              "      <td>H02B</td>\n",
              "      <td>NaN</td>\n",
              "      <td>H01H</td>\n",
              "      <td>F21H</td>\n",
              "      <td>A47G</td>\n",
              "      <td>C25F</td>\n",
              "      <td>B41J1</td>\n",
              "      <td>B01D</td>\n",
              "      <td>A01F</td>\n",
              "      <td>B60D</td>\n",
              "      <td>B63B</td>\n",
              "      <td>B61B</td>\n",
              "      <td>B64C</td>\n",
              "      <td>NaN</td>\n",
              "      <td>B62K11</td>\n",
              "      <td>B62C</td>\n",
              "      <td>A47C</td>\n",
              "      <td>A44B(A44B11 제외)</td>\n",
              "      <td>F03D</td>\n",
              "      <td>B09C</td>\n",
              "      <td>E01D</td>\n",
              "      <td>G06E</td>\n",
              "    </tr>\n",
              "    <tr>\n",
              "      <th>2</th>\n",
              "      <td>A01C</td>\n",
              "      <td>NaN</td>\n",
              "      <td>A23C</td>\n",
              "      <td>C12G</td>\n",
              "      <td>A24F</td>\n",
              "      <td>D04H</td>\n",
              "      <td>A41D</td>\n",
              "      <td>A45C</td>\n",
              "      <td>B27K</td>\n",
              "      <td>D21H</td>\n",
              "      <td>NaN</td>\n",
              "      <td>NaN</td>\n",
              "      <td>C01F</td>\n",
              "      <td>C05D</td>\n",
              "      <td>C08G</td>\n",
              "      <td>NaN</td>\n",
              "      <td>NaN</td>\n",
              "      <td>C09G</td>\n",
              "      <td>C06B</td>\n",
              "      <td>D01F</td>\n",
              "      <td>C07J</td>\n",
              "      <td>B29D</td>\n",
              "      <td>B28B</td>\n",
              "      <td>C21C</td>\n",
              "      <td>G21H(G21H1 제외)</td>\n",
              "      <td>NaN</td>\n",
              "      <td>F16T</td>\n",
              "      <td>F41C</td>\n",
              "      <td>B21D</td>\n",
              "      <td>NaN</td>\n",
              "      <td>B81C</td>\n",
              "      <td>B41J29</td>\n",
              "      <td>H01Q</td>\n",
              "      <td>H03J</td>\n",
              "      <td>NaN</td>\n",
              "      <td>A61D</td>\n",
              "      <td>G01D</td>\n",
              "      <td>G03D</td>\n",
              "      <td>G04D</td>\n",
              "      <td>H02J</td>\n",
              "      <td>NaN</td>\n",
              "      <td>H01R</td>\n",
              "      <td>F21K</td>\n",
              "      <td>A47J</td>\n",
              "      <td>G08B</td>\n",
              "      <td>G03G</td>\n",
              "      <td>B04C</td>\n",
              "      <td>A01J</td>\n",
              "      <td>B60F</td>\n",
              "      <td>B63C</td>\n",
              "      <td>B61C</td>\n",
              "      <td>B64D</td>\n",
              "      <td>NaN</td>\n",
              "      <td>B62M6</td>\n",
              "      <td>B62H</td>\n",
              "      <td>A47D</td>\n",
              "      <td>A44C(A44C23제외)</td>\n",
              "      <td>H02S</td>\n",
              "      <td>B65F</td>\n",
              "      <td>E01F</td>\n",
              "      <td>G06F(G06F1 제외)</td>\n",
              "    </tr>\n",
              "    <tr>\n",
              "      <th>3</th>\n",
              "      <td>A01D</td>\n",
              "      <td>NaN</td>\n",
              "      <td>A23D</td>\n",
              "      <td>C12H</td>\n",
              "      <td>NaN</td>\n",
              "      <td>D06C</td>\n",
              "      <td>A41F</td>\n",
              "      <td>B68B</td>\n",
              "      <td>B27H</td>\n",
              "      <td>D21J</td>\n",
              "      <td>NaN</td>\n",
              "      <td>NaN</td>\n",
              "      <td>C01G</td>\n",
              "      <td>C05F</td>\n",
              "      <td>C08J</td>\n",
              "      <td>NaN</td>\n",
              "      <td>NaN</td>\n",
              "      <td>C11D</td>\n",
              "      <td>C06C</td>\n",
              "      <td>NaN</td>\n",
              "      <td>C07K</td>\n",
              "      <td>B29K</td>\n",
              "      <td>B28C</td>\n",
              "      <td>C21D</td>\n",
              "      <td>NaN</td>\n",
              "      <td>NaN</td>\n",
              "      <td>F17B</td>\n",
              "      <td>F41F</td>\n",
              "      <td>B21F</td>\n",
              "      <td>NaN</td>\n",
              "      <td>B82B</td>\n",
              "      <td>B41J31</td>\n",
              "      <td>H01S</td>\n",
              "      <td>H04H</td>\n",
              "      <td>NaN</td>\n",
              "      <td>A61F</td>\n",
              "      <td>G01F</td>\n",
              "      <td>G02F2</td>\n",
              "      <td>G04F</td>\n",
              "      <td>H02K</td>\n",
              "      <td>NaN</td>\n",
              "      <td>H02G</td>\n",
              "      <td>F21L</td>\n",
              "      <td>A47L</td>\n",
              "      <td>G08G</td>\n",
              "      <td>G06C</td>\n",
              "      <td>B05B</td>\n",
              "      <td>A01M</td>\n",
              "      <td>B60G</td>\n",
              "      <td>B63G</td>\n",
              "      <td>B61D</td>\n",
              "      <td>B64F</td>\n",
              "      <td>NaN</td>\n",
              "      <td>B62M7</td>\n",
              "      <td>B62K(B62K11 제외)</td>\n",
              "      <td>A47F</td>\n",
              "      <td>A45B</td>\n",
              "      <td>G21H1</td>\n",
              "      <td>C02F</td>\n",
              "      <td>E02B</td>\n",
              "      <td>G06F(G06F3 제외)</td>\n",
              "    </tr>\n",
              "    <tr>\n",
              "      <th>4</th>\n",
              "      <td>A01G</td>\n",
              "      <td>NaN</td>\n",
              "      <td>A23F</td>\n",
              "      <td>NaN</td>\n",
              "      <td>NaN</td>\n",
              "      <td>D06J</td>\n",
              "      <td>A42B(A42B3 제외)</td>\n",
              "      <td>B68C</td>\n",
              "      <td>B27M</td>\n",
              "      <td>NaN</td>\n",
              "      <td>NaN</td>\n",
              "      <td>NaN</td>\n",
              "      <td>C07B</td>\n",
              "      <td>C05G</td>\n",
              "      <td>C08K</td>\n",
              "      <td>NaN</td>\n",
              "      <td>NaN</td>\n",
              "      <td>D06L</td>\n",
              "      <td>C06D</td>\n",
              "      <td>NaN</td>\n",
              "      <td>C12N</td>\n",
              "      <td>B29L</td>\n",
              "      <td>B28D</td>\n",
              "      <td>C22C</td>\n",
              "      <td>NaN</td>\n",
              "      <td>NaN</td>\n",
              "      <td>F22B</td>\n",
              "      <td>F41G</td>\n",
              "      <td>B21H</td>\n",
              "      <td>NaN</td>\n",
              "      <td>B82Y</td>\n",
              "      <td>B41J32</td>\n",
              "      <td>H03B</td>\n",
              "      <td>H04N</td>\n",
              "      <td>NaN</td>\n",
              "      <td>A61G</td>\n",
              "      <td>G01H</td>\n",
              "      <td>G02F3</td>\n",
              "      <td>G04G</td>\n",
              "      <td>H02N</td>\n",
              "      <td>NaN</td>\n",
              "      <td>NaN</td>\n",
              "      <td>F21S</td>\n",
              "      <td>D06F</td>\n",
              "      <td>G10K</td>\n",
              "      <td>G06M</td>\n",
              "      <td>B23F</td>\n",
              "      <td>A21B</td>\n",
              "      <td>B60H</td>\n",
              "      <td>B63H</td>\n",
              "      <td>B61F</td>\n",
              "      <td>B64G</td>\n",
              "      <td>NaN</td>\n",
              "      <td>NaN</td>\n",
              "      <td>B62L</td>\n",
              "      <td>NaN</td>\n",
              "      <td>A45F</td>\n",
              "      <td>NaN</td>\n",
              "      <td>G21F</td>\n",
              "      <td>E02D</td>\n",
              "      <td>G06G</td>\n",
              "    </tr>\n",
              "    <tr>\n",
              "      <th>...</th>\n",
              "      <td>...</td>\n",
              "      <td>...</td>\n",
              "      <td>...</td>\n",
              "      <td>...</td>\n",
              "      <td>...</td>\n",
              "      <td>...</td>\n",
              "      <td>...</td>\n",
              "      <td>...</td>\n",
              "      <td>...</td>\n",
              "      <td>...</td>\n",
              "      <td>...</td>\n",
              "      <td>...</td>\n",
              "      <td>...</td>\n",
              "      <td>...</td>\n",
              "      <td>...</td>\n",
              "      <td>...</td>\n",
              "      <td>...</td>\n",
              "      <td>...</td>\n",
              "      <td>...</td>\n",
              "      <td>...</td>\n",
              "      <td>...</td>\n",
              "      <td>...</td>\n",
              "      <td>...</td>\n",
              "      <td>...</td>\n",
              "      <td>...</td>\n",
              "      <td>...</td>\n",
              "      <td>...</td>\n",
              "      <td>...</td>\n",
              "      <td>...</td>\n",
              "      <td>...</td>\n",
              "      <td>...</td>\n",
              "      <td>...</td>\n",
              "      <td>...</td>\n",
              "      <td>...</td>\n",
              "      <td>...</td>\n",
              "      <td>...</td>\n",
              "      <td>...</td>\n",
              "      <td>...</td>\n",
              "      <td>...</td>\n",
              "      <td>...</td>\n",
              "      <td>...</td>\n",
              "      <td>...</td>\n",
              "      <td>...</td>\n",
              "      <td>...</td>\n",
              "      <td>...</td>\n",
              "      <td>...</td>\n",
              "      <td>...</td>\n",
              "      <td>...</td>\n",
              "      <td>...</td>\n",
              "      <td>...</td>\n",
              "      <td>...</td>\n",
              "      <td>...</td>\n",
              "      <td>...</td>\n",
              "      <td>...</td>\n",
              "      <td>...</td>\n",
              "      <td>...</td>\n",
              "      <td>...</td>\n",
              "      <td>...</td>\n",
              "      <td>...</td>\n",
              "      <td>...</td>\n",
              "      <td>...</td>\n",
              "    </tr>\n",
              "    <tr>\n",
              "      <th>92</th>\n",
              "      <td>NaN</td>\n",
              "      <td>NaN</td>\n",
              "      <td>NaN</td>\n",
              "      <td>NaN</td>\n",
              "      <td>NaN</td>\n",
              "      <td>NaN</td>\n",
              "      <td>NaN</td>\n",
              "      <td>NaN</td>\n",
              "      <td>NaN</td>\n",
              "      <td>NaN</td>\n",
              "      <td>NaN</td>\n",
              "      <td>NaN</td>\n",
              "      <td>NaN</td>\n",
              "      <td>NaN</td>\n",
              "      <td>NaN</td>\n",
              "      <td>NaN</td>\n",
              "      <td>NaN</td>\n",
              "      <td>NaN</td>\n",
              "      <td>NaN</td>\n",
              "      <td>NaN</td>\n",
              "      <td>NaN</td>\n",
              "      <td>NaN</td>\n",
              "      <td>NaN</td>\n",
              "      <td>NaN</td>\n",
              "      <td>NaN</td>\n",
              "      <td>NaN</td>\n",
              "      <td>NaN</td>\n",
              "      <td>NaN</td>\n",
              "      <td>NaN</td>\n",
              "      <td>NaN</td>\n",
              "      <td>NaN</td>\n",
              "      <td>NaN</td>\n",
              "      <td>NaN</td>\n",
              "      <td>NaN</td>\n",
              "      <td>NaN</td>\n",
              "      <td>NaN</td>\n",
              "      <td>NaN</td>\n",
              "      <td>NaN</td>\n",
              "      <td>NaN</td>\n",
              "      <td>NaN</td>\n",
              "      <td>NaN</td>\n",
              "      <td>NaN</td>\n",
              "      <td>NaN</td>\n",
              "      <td>NaN</td>\n",
              "      <td>NaN</td>\n",
              "      <td>NaN</td>\n",
              "      <td>NaN</td>\n",
              "      <td>F02F</td>\n",
              "      <td>NaN</td>\n",
              "      <td>NaN</td>\n",
              "      <td>NaN</td>\n",
              "      <td>NaN</td>\n",
              "      <td>NaN</td>\n",
              "      <td>NaN</td>\n",
              "      <td>NaN</td>\n",
              "      <td>NaN</td>\n",
              "      <td>NaN</td>\n",
              "      <td>NaN</td>\n",
              "      <td>NaN</td>\n",
              "      <td>NaN</td>\n",
              "      <td>NaN</td>\n",
              "    </tr>\n",
              "    <tr>\n",
              "      <th>93</th>\n",
              "      <td>NaN</td>\n",
              "      <td>NaN</td>\n",
              "      <td>NaN</td>\n",
              "      <td>NaN</td>\n",
              "      <td>NaN</td>\n",
              "      <td>NaN</td>\n",
              "      <td>NaN</td>\n",
              "      <td>NaN</td>\n",
              "      <td>NaN</td>\n",
              "      <td>NaN</td>\n",
              "      <td>NaN</td>\n",
              "      <td>NaN</td>\n",
              "      <td>NaN</td>\n",
              "      <td>NaN</td>\n",
              "      <td>NaN</td>\n",
              "      <td>NaN</td>\n",
              "      <td>NaN</td>\n",
              "      <td>NaN</td>\n",
              "      <td>NaN</td>\n",
              "      <td>NaN</td>\n",
              "      <td>NaN</td>\n",
              "      <td>NaN</td>\n",
              "      <td>NaN</td>\n",
              "      <td>NaN</td>\n",
              "      <td>NaN</td>\n",
              "      <td>NaN</td>\n",
              "      <td>NaN</td>\n",
              "      <td>NaN</td>\n",
              "      <td>NaN</td>\n",
              "      <td>NaN</td>\n",
              "      <td>NaN</td>\n",
              "      <td>NaN</td>\n",
              "      <td>NaN</td>\n",
              "      <td>NaN</td>\n",
              "      <td>NaN</td>\n",
              "      <td>NaN</td>\n",
              "      <td>NaN</td>\n",
              "      <td>NaN</td>\n",
              "      <td>NaN</td>\n",
              "      <td>NaN</td>\n",
              "      <td>NaN</td>\n",
              "      <td>NaN</td>\n",
              "      <td>NaN</td>\n",
              "      <td>NaN</td>\n",
              "      <td>NaN</td>\n",
              "      <td>NaN</td>\n",
              "      <td>NaN</td>\n",
              "      <td>F16N</td>\n",
              "      <td>NaN</td>\n",
              "      <td>NaN</td>\n",
              "      <td>NaN</td>\n",
              "      <td>NaN</td>\n",
              "      <td>NaN</td>\n",
              "      <td>NaN</td>\n",
              "      <td>NaN</td>\n",
              "      <td>NaN</td>\n",
              "      <td>NaN</td>\n",
              "      <td>NaN</td>\n",
              "      <td>NaN</td>\n",
              "      <td>NaN</td>\n",
              "      <td>NaN</td>\n",
              "    </tr>\n",
              "    <tr>\n",
              "      <th>94</th>\n",
              "      <td>NaN</td>\n",
              "      <td>NaN</td>\n",
              "      <td>NaN</td>\n",
              "      <td>NaN</td>\n",
              "      <td>NaN</td>\n",
              "      <td>NaN</td>\n",
              "      <td>NaN</td>\n",
              "      <td>NaN</td>\n",
              "      <td>NaN</td>\n",
              "      <td>NaN</td>\n",
              "      <td>NaN</td>\n",
              "      <td>NaN</td>\n",
              "      <td>NaN</td>\n",
              "      <td>NaN</td>\n",
              "      <td>NaN</td>\n",
              "      <td>NaN</td>\n",
              "      <td>NaN</td>\n",
              "      <td>NaN</td>\n",
              "      <td>NaN</td>\n",
              "      <td>NaN</td>\n",
              "      <td>NaN</td>\n",
              "      <td>NaN</td>\n",
              "      <td>NaN</td>\n",
              "      <td>NaN</td>\n",
              "      <td>NaN</td>\n",
              "      <td>NaN</td>\n",
              "      <td>NaN</td>\n",
              "      <td>NaN</td>\n",
              "      <td>NaN</td>\n",
              "      <td>NaN</td>\n",
              "      <td>NaN</td>\n",
              "      <td>NaN</td>\n",
              "      <td>NaN</td>\n",
              "      <td>NaN</td>\n",
              "      <td>NaN</td>\n",
              "      <td>NaN</td>\n",
              "      <td>NaN</td>\n",
              "      <td>NaN</td>\n",
              "      <td>NaN</td>\n",
              "      <td>NaN</td>\n",
              "      <td>NaN</td>\n",
              "      <td>NaN</td>\n",
              "      <td>NaN</td>\n",
              "      <td>NaN</td>\n",
              "      <td>NaN</td>\n",
              "      <td>NaN</td>\n",
              "      <td>NaN</td>\n",
              "      <td>F16P</td>\n",
              "      <td>NaN</td>\n",
              "      <td>NaN</td>\n",
              "      <td>NaN</td>\n",
              "      <td>NaN</td>\n",
              "      <td>NaN</td>\n",
              "      <td>NaN</td>\n",
              "      <td>NaN</td>\n",
              "      <td>NaN</td>\n",
              "      <td>NaN</td>\n",
              "      <td>NaN</td>\n",
              "      <td>NaN</td>\n",
              "      <td>NaN</td>\n",
              "      <td>NaN</td>\n",
              "    </tr>\n",
              "    <tr>\n",
              "      <th>95</th>\n",
              "      <td>NaN</td>\n",
              "      <td>NaN</td>\n",
              "      <td>NaN</td>\n",
              "      <td>NaN</td>\n",
              "      <td>NaN</td>\n",
              "      <td>NaN</td>\n",
              "      <td>NaN</td>\n",
              "      <td>NaN</td>\n",
              "      <td>NaN</td>\n",
              "      <td>NaN</td>\n",
              "      <td>NaN</td>\n",
              "      <td>NaN</td>\n",
              "      <td>NaN</td>\n",
              "      <td>NaN</td>\n",
              "      <td>NaN</td>\n",
              "      <td>NaN</td>\n",
              "      <td>NaN</td>\n",
              "      <td>NaN</td>\n",
              "      <td>NaN</td>\n",
              "      <td>NaN</td>\n",
              "      <td>NaN</td>\n",
              "      <td>NaN</td>\n",
              "      <td>NaN</td>\n",
              "      <td>NaN</td>\n",
              "      <td>NaN</td>\n",
              "      <td>NaN</td>\n",
              "      <td>NaN</td>\n",
              "      <td>NaN</td>\n",
              "      <td>NaN</td>\n",
              "      <td>NaN</td>\n",
              "      <td>NaN</td>\n",
              "      <td>NaN</td>\n",
              "      <td>NaN</td>\n",
              "      <td>NaN</td>\n",
              "      <td>NaN</td>\n",
              "      <td>NaN</td>\n",
              "      <td>NaN</td>\n",
              "      <td>NaN</td>\n",
              "      <td>NaN</td>\n",
              "      <td>NaN</td>\n",
              "      <td>NaN</td>\n",
              "      <td>NaN</td>\n",
              "      <td>NaN</td>\n",
              "      <td>NaN</td>\n",
              "      <td>NaN</td>\n",
              "      <td>NaN</td>\n",
              "      <td>NaN</td>\n",
              "      <td>F26B</td>\n",
              "      <td>NaN</td>\n",
              "      <td>NaN</td>\n",
              "      <td>NaN</td>\n",
              "      <td>NaN</td>\n",
              "      <td>NaN</td>\n",
              "      <td>NaN</td>\n",
              "      <td>NaN</td>\n",
              "      <td>NaN</td>\n",
              "      <td>NaN</td>\n",
              "      <td>NaN</td>\n",
              "      <td>NaN</td>\n",
              "      <td>NaN</td>\n",
              "      <td>NaN</td>\n",
              "    </tr>\n",
              "    <tr>\n",
              "      <th>96</th>\n",
              "      <td>NaN</td>\n",
              "      <td>NaN</td>\n",
              "      <td>NaN</td>\n",
              "      <td>NaN</td>\n",
              "      <td>NaN</td>\n",
              "      <td>NaN</td>\n",
              "      <td>NaN</td>\n",
              "      <td>NaN</td>\n",
              "      <td>NaN</td>\n",
              "      <td>NaN</td>\n",
              "      <td>NaN</td>\n",
              "      <td>NaN</td>\n",
              "      <td>NaN</td>\n",
              "      <td>NaN</td>\n",
              "      <td>NaN</td>\n",
              "      <td>NaN</td>\n",
              "      <td>NaN</td>\n",
              "      <td>NaN</td>\n",
              "      <td>NaN</td>\n",
              "      <td>NaN</td>\n",
              "      <td>NaN</td>\n",
              "      <td>NaN</td>\n",
              "      <td>NaN</td>\n",
              "      <td>NaN</td>\n",
              "      <td>NaN</td>\n",
              "      <td>NaN</td>\n",
              "      <td>NaN</td>\n",
              "      <td>NaN</td>\n",
              "      <td>NaN</td>\n",
              "      <td>NaN</td>\n",
              "      <td>NaN</td>\n",
              "      <td>NaN</td>\n",
              "      <td>NaN</td>\n",
              "      <td>NaN</td>\n",
              "      <td>NaN</td>\n",
              "      <td>NaN</td>\n",
              "      <td>NaN</td>\n",
              "      <td>NaN</td>\n",
              "      <td>NaN</td>\n",
              "      <td>NaN</td>\n",
              "      <td>NaN</td>\n",
              "      <td>NaN</td>\n",
              "      <td>NaN</td>\n",
              "      <td>NaN</td>\n",
              "      <td>NaN</td>\n",
              "      <td>NaN</td>\n",
              "      <td>NaN</td>\n",
              "      <td>H05H</td>\n",
              "      <td>NaN</td>\n",
              "      <td>NaN</td>\n",
              "      <td>NaN</td>\n",
              "      <td>NaN</td>\n",
              "      <td>NaN</td>\n",
              "      <td>NaN</td>\n",
              "      <td>NaN</td>\n",
              "      <td>NaN</td>\n",
              "      <td>NaN</td>\n",
              "      <td>NaN</td>\n",
              "      <td>NaN</td>\n",
              "      <td>NaN</td>\n",
              "      <td>NaN</td>\n",
              "    </tr>\n",
              "  </tbody>\n",
              "</table>\n",
              "<p>97 rows × 61 columns</p>\n",
              "</div>"
            ],
            "text/plain": [
              "      농림어업     광업 식료품 제조업  ... 하수, 폐기물처리, 원료재생, 환경복원 건설업, 건축기술 서비스 컴퓨터 프로그래밍, 정보서비스업\n",
              "0   A01B27   C22B    A21D  ...                  B09B          E01C              G06D\n",
              "1   A01B02   E21D    A23B  ...                  B09C          E01D              G06E\n",
              "2     A01C    NaN    A23C  ...                  B65F          E01F    G06F(G06F1 제외)\n",
              "3     A01D    NaN    A23D  ...                  C02F          E02B    G06F(G06F3 제외)\n",
              "4     A01G    NaN    A23F  ...                  G21F          E02D              G06G\n",
              "..     ...    ...     ...  ...                   ...           ...               ...\n",
              "92     NaN    NaN     NaN  ...                   NaN           NaN               NaN\n",
              "93     NaN    NaN     NaN  ...                   NaN           NaN               NaN\n",
              "94     NaN    NaN     NaN  ...                   NaN           NaN               NaN\n",
              "95     NaN    NaN     NaN  ...                   NaN           NaN               NaN\n",
              "96     NaN    NaN     NaN  ...                   NaN           NaN               NaN\n",
              "\n",
              "[97 rows x 61 columns]"
            ]
          },
          "metadata": {},
          "execution_count": 43
        }
      ]
    },
    {
      "cell_type": "code",
      "metadata": {
        "id": "eIP86PrWFVrZ"
      },
      "source": [
        "table.columns = pd.Series(table.columns).str.replace('\\n', ' ')"
      ],
      "execution_count": 44,
      "outputs": []
    },
    {
      "cell_type": "code",
      "metadata": {
        "colab": {
          "base_uri": "https://localhost:8080/"
        },
        "id": "ojrXLI4HLCk6",
        "outputId": "0fbe8482-bda6-46af-9ce1-79e590306eb3"
      },
      "source": [
        "table['특수 기계제조업']"
      ],
      "execution_count": 45,
      "outputs": [
        {
          "output_type": "execute_result",
          "data": {
            "text/plain": [
              "0     A01B(A01B27/02 제외)\n",
              "1                   A01F\n",
              "2                   A01J\n",
              "3                   A01M\n",
              "4                   A21B\n",
              "             ...        \n",
              "92                  F02F\n",
              "93                  F16N\n",
              "94                  F16P\n",
              "95                  F26B\n",
              "96                  H05H\n",
              "Name: 특수 기계제조업, Length: 97, dtype: object"
            ]
          },
          "metadata": {},
          "execution_count": 45
        }
      ]
    },
    {
      "cell_type": "code",
      "metadata": {
        "colab": {
          "base_uri": "https://localhost:8080/"
        },
        "id": "RDjTvxB818qt",
        "outputId": "5d9cc31a-d4a7-4078-c1e5-5451fd8bb4da"
      },
      "source": [
        "table.columns"
      ],
      "execution_count": 46,
      "outputs": [
        {
          "output_type": "execute_result",
          "data": {
            "text/plain": [
              "Index(['농림어업', '광업', '식료품 제조업', '음료제조업', '담배제조업', '섬유제품 제조업 :의복제외',\n",
              "       '의복, 의복 액세서리 및 모피제품 제조업', '가죽, 가방 및 신발제조업', '목재 및 나무제품제조업; 가구제외',\n",
              "       '펄프, 종이 및 종이제품 제조업', '인쇄 및 기록매체복제업', '코크스, 연탄 및 석유정제품 제조업',\n",
              "       '기초 화학물질제조업', '비료 및 질소 화학물 제조업', '합성고무 및 플라스틱 물질 제조업', '살충제 및 기타농약제조업',\n",
              "       '잉크, 페인트 코팅제 및 유사제품 제조업', '세제, 화장품 및 광택제 제조업', '그 외 기타 화학제품 제조업',\n",
              "       '화학섬유 제조업', '의료용 물질 및 의약품 제조업', '고무제품 및 플라스틱 제품 제조업', '비금속광물제품 제조업',\n",
              "       '1차 철강제조업', '1차 비철금속 제조업', '금속주조업', '구조용 금속제품, 탱크, 증기발생기 제조업',\n",
              "       '무기 및 총포탄 제조업', '기타 금속가공 제품 제조업', '반도체 제조업', '전자부품 제조업',\n",
              "       '컴퓨터 및 주변장치 제조업', '통신 및 방송 장비 제조업', '영상 및 음향기기 제조업', '마그네틱 및 광학 매체 제조업',\n",
              "       '의료용 기기 제조업', '측정, 시험, 향해, 제어, 및 기타 정밀기기 제조업', '안경, 사진장비 및 기타 광학기기 제조업',\n",
              "       '시계 및 시계부품 제조업', '전동기, 발전기 및 전기변환, 공급, 제어장치 제조업', '일차전지 및 축전지 제조업',\n",
              "       '절연선 및 케이블제조업', '전구 및 조명장치 제조업', '가정용 기기 제조업', '기타 전기장비 제조업',\n",
              "       '사무용 기계 및 장비 제조업', '사무용 이외의 일반기계 제조업', '특수 기계제조업', '자동차 제조업', '선박 제조업',\n",
              "       '철도장비 제조업', '항공기 제조업', '전투용 차량 제조업', '모터사이클 제조업', '그 외 분류 안된 운송장비 제조업',\n",
              "       '가구 제조업', '기타제품 제조업', '전기, 가스, 증기, 수도', '하수, 폐기물처리, 원료재생, 환경복원',\n",
              "       '건설업, 건축기술 서비스', '컴퓨터 프로그래밍, 정보서비스업'],\n",
              "      dtype='object')"
            ]
          },
          "metadata": {},
          "execution_count": 46
        }
      ]
    },
    {
      "cell_type": "markdown",
      "metadata": {
        "id": "hIECufVpFefQ"
      },
      "source": [
        "## query 추출"
      ]
    },
    {
      "cell_type": "code",
      "metadata": {
        "id": "sKUuhsVtBwIX"
      },
      "source": [
        "def change_format(x):\n",
        "    x = x.strip()\n",
        "    if len(x) == 4:\n",
        "        x = x + '*'\n",
        "    else:\n",
        "        if '/' not in x:\n",
        "            x = x[:4] + '-' + x[4:].zfill(3) + '*'\n",
        "        else:\n",
        "            x2 = x.split('/')\n",
        "            x = x2[0][:4] + '-' + x2[0][4:].zfill(3) + '/' + x2[1]\n",
        "    return x"
      ],
      "execution_count": 51,
      "outputs": []
    },
    {
      "cell_type": "code",
      "metadata": {
        "id": "MjM472kIs4Q8"
      },
      "source": [
        "def make_query(i):\n",
        "    result = []\n",
        "    exceptions = list(filter(lambda x: '제외' in x,table[table.columns[i]][table[table.columns[i]].notnull()])) \n",
        "    # print(exceptions)\n",
        "\n",
        "    # exception 있는 코드 제외하고 나열\n",
        "    for x in table[table.columns[i]][table[table.columns[i]].notnull()]:\n",
        "        if x not in exceptions:\n",
        "            # print(x)\n",
        "            x = x.strip()\n",
        "            x = change_format(x)\n",
        "            result.append(x)\n",
        "\n",
        "    # exception 있는 경우에 대해\n",
        "    keys = [change_format(e.split('(')[0]) for e in exceptions]\n",
        "    exc_dict = {k: [] for k in keys}\n",
        "    for e in exceptions:\n",
        "        # print(e.split('(')[1].replace(')','').replace('제외',''))\n",
        "        exc_dict[change_format(e.split('(')[0])].append(change_format(e.split('(')[1].replace(')','').replace('제외','')))\n",
        "        # print(exc_dict)\n",
        "    for k, v in exc_dict.items():\n",
        "        # print(v)\n",
        "        result.append('({} not ({}))'.format(k, ' or '.join(v)))\n",
        "    # 최종 query\n",
        "    return 'IC = ({})'.format(' or '.join(result))"
      ],
      "execution_count": 94,
      "outputs": []
    },
    {
      "cell_type": "code",
      "metadata": {
        "colab": {
          "base_uri": "https://localhost:8080/"
        },
        "id": "2bSuFncLJQOT",
        "outputId": "37398f37-13b6-428e-efdb-af908d0ae4dd"
      },
      "source": [
        "from tqdm import tqdm\n",
        "\n",
        "queries = {}\n",
        "for i, column in tqdm(enumerate(table.columns)):\n",
        "    query = make_query(i)\n",
        "    queries[column] = query"
      ],
      "execution_count": 93,
      "outputs": [
        {
          "output_type": "stream",
          "name": "stderr",
          "text": [
            "61it [00:00, 997.27it/s]\n"
          ]
        }
      ]
    },
    {
      "cell_type": "code",
      "metadata": {
        "colab": {
          "base_uri": "https://localhost:8080/"
        },
        "id": "nalFFmF1JixK",
        "outputId": "cad1da7b-dceb-420a-d642-de504bf7db72"
      },
      "source": [
        "queries"
      ],
      "execution_count": 95,
      "outputs": [
        {
          "output_type": "execute_result",
          "data": {
            "text/plain": [
              "{'1차 비철금속 제조업': 'IC = (C22F* or C25C* or (G21H* not (G21H-001*)))',\n",
              " '1차 철강제조업': 'IC = (B21C* or C21B* or C21C* or C21D* or C22C* or F16S* or F17C*)',\n",
              " '가구 제조업': 'IC = (A47B* or A47C* or A47D* or A47F*)',\n",
              " '가정용 기기 제조업': 'IC = (A45D* or A47G* or A47J* or A47L* or D06F* or E06C* or F24B* or F24C* or H05B*)',\n",
              " '가죽, 가방 및 신발제조업': 'IC = (A43B* or A43C* or A45C* or B68B* or B68C*)',\n",
              " '건설업, 건축기술 서비스': 'IC = (E01C* or E01D* or E01F* or E02B* or E02D* or E03B* or E03C* or E03F* or E04H* or E05B* or E05C* or E06B* or E21C* or E99Z* or F42D*)',\n",
              " '고무제품 및 플라스틱 제품 제조업': 'IC = (B29B* or B29C* or B29D* or B29K* or B29L* or A42B-003* or B60C* or B65D* or B67D* or C08C* or F16L*)',\n",
              " '광업': 'IC = (C22B* or E21D*)',\n",
              " '구조용 금속제품, 탱크, 증기발생기 제조업': 'IC = (A47H* or B21G* or F16T* or F17B* or F22B* or F22G* or F24D* or F24H* or G21B* or G21C* or G21D*)',\n",
              " '그 외 기타 화학제품 제조업': 'IC = (A62D* or B01J* or C06B* or C06C* or C06D* or C06F* or C08H* or C09H* or C09J* or C09K* or C10M* or C10N* or C11B* or C11C* or C14C* or C23F* or C23G* or C40B* or C99Z* or F42B* or (G03C* not (G03C-005* or G03C-009* or G03C-011*)))',\n",
              " '그 외 분류 안된 운송장비 제조업': 'IC = (B62B* or B62C* or B62H* or B62L* or (B62K* not (B62K-011*)) or (B62M* not (B62M-006* or B62M-007*)))',\n",
              " '금속주조업': 'IC = (B22D*)',\n",
              " '기초 화학물질제조업': 'IC = (C01C* or C01D* or C01F* or C01G* or C07B* or C07C* or C07F* or C07G* or C07H* or C09B* or C09C* or C10B* or C10C* or C10H* or C10J* or C10K* or C25B* or G21G* or G21J*)',\n",
              " '기타 금속가공 제품 제조업': 'IC = (A01L* or A44B-011* or B21D* or B21F* or B21H* or B21J* or B21K* or B21L* or B22F* or B23B* or B23C* or B23D* or B23G* or B23H* or B25B* or B25C* or B25F* or B25G* or B25H* or B26B* or B26F* or B27B* or B27G* or C23D* or C25D* or E05D* or E05G* or F16B*)',\n",
              " '기타 전기장비 제조업': 'IC = (B60M* or C25F* or G08B* or G08G* or G10K* or H01T* or H02H* or H02M* or H05C* or H05F*)',\n",
              " '기타제품 제조업': 'IC = (A41G* or A45B* or A45F* or A46B* or A46D* or A63B* or A63C* or A63D* or A63F* or A63G* or A63H* or A63J* or A63K* or A99Z* or B43K* or B43L* or B43M* or B44D* or B44F* or B68G* or B99Z* or D07B* or F23Q* or G09B* or G09F* or G10B* or G10C* or G10D* or G10F* or G10G* or G10H* or (A44B* not (A44B-011*)) or (A44C* not (A44C-023*)))',\n",
              " '농림어업': 'IC = (A01B-027* or A01B-002* or A01C* or A01D* or A01G* or A01H* or A01K*)',\n",
              " '담배제조업': 'IC = (A24B* or A24D* or A24F*)',\n",
              " '마그네틱 및 광학 매체 제조업': 'IC = (G11B*)',\n",
              " '모터사이클 제조업': 'IC = (B62J* or B62K-011* or B62M-006* or B62M-007*)',\n",
              " '목재 및 나무제품제조업; 가구제외': 'IC = (A44C-023* or B27D* or B27K* or B27H* or B27M* or B27N* or E04G*)',\n",
              " '무기 및 총포탄 제조업': 'IC = (F41A* or F41B* or F41C* or F41F* or F41G* or F41J* or F42C* or (F41H* not (F41H-007*)))',\n",
              " '반도체 제조업': 'IC = (G11C* or H01L*)',\n",
              " '비금속광물제품 제조업': 'IC = (A47K* or B24D* or B28B* or B28C* or B28D* or B32B* or C01B* or C03B* or C03C* or C04B* or E03D* or E04B* or E04C* or E04D* or E04F*)',\n",
              " '비료 및 질소 화학물 제조업': 'IC = (C05B* or C05C* or C05D* or C05F* or C05G*)',\n",
              " '사무용 기계 및 장비 제조업': 'IC = (B41L* or B41J-001* or G03G* or G06C* or G06M* or G07B* or G07C* or G07D* or G07G*)',\n",
              " '사무용 이외의 일반기계 제조업': 'IC = (B01B* or B01D* or B04C* or B05B* or B23F* or B25D* or B41K* or B60S-003* or B65B* or B65C* or B65G* or B66B* or B66C* or B66D* or B66F* or B67C* or C10F* or C12L* or E01H* or E02C* or E21F* or F01B* or F01C* or F01D* or F01K* or F01M* or F01N* or F01P* or F02G* or F03B* or F03C* or F03G* or F04B* or F04C* or F04D* or F04F* or F15B* or F15C* or F15D* or F16C* or F16D* or F16F* or F16G* or F16H* or F16K* or F16M* or F17D* or F22-000* or F23B* or F23C* or F23D* or F23G* or F23H* or F23J* or F23K* or F23L* or F23M* or F23N* or F23R* or F24F* or F24J* or F25B* or F25C* or F25D* or F25J* or F27B* or F27D* or F28B* or F28C* or F28D* or F28F* or F28G* or G01G* or G07F* or G09D* or G09G*)',\n",
              " '살충제 및 기타농약제조업': 'IC = (A01N* or A01P*)',\n",
              " '선박 제조업': 'IC = (B60V* or B63B* or B63C* or B63G* or B63H* or B63J*)',\n",
              " '섬유제품 제조업 :의복제외': 'IC = (D04D* or D04G* or D04H* or D06C* or D06J* or D06M* or D06N* or D06P* or D06Q*)',\n",
              " '세제, 화장품 및 광택제 제조업': 'IC = (A61Q* or C09F* or C09G* or C11D* or D06L* or A61K-008*)',\n",
              " '시계 및 시계부품 제조업': 'IC = (G04B* or G04C* or G04D* or G04F* or G04G* or G04R*)',\n",
              " '식료품 제조업': 'IC = (A21D* or A23B* or A23C* or A23D* or A23F* or A23G* or A23J* or A23K* or A23L* or A23P* or C12J* or C13B* or C13K*)',\n",
              " '안경, 사진장비 및 기타 광학기기 제조업': 'IC = (G02B* or G02C* or G03D* or G02F-002* or G02F-003* or G02F-007* or G03C-005* or G03C-009* or G03C-011* or G03F* or (G03B* not (G03B-031* or G03B-042*)))',\n",
              " '영상 및 음향기기 제조업': 'IC = (G03B-031* or G10L* or H03J* or H04H* or H04N* or H04R*)',\n",
              " '음료제조업': 'IC = (C12C* or C12F* or C12G* or C12H*)',\n",
              " '의료용 기기 제조업': 'IC = (A61B* or A61C* or A61D* or A61F* or A61G* or A61H* or A61J* or A61L* or A61M* or A61N* or A62B* or B01L* or B04B* or C12M* or G01T* or G03B-042* or H05G*)',\n",
              " '의료용 물질 및 의약품 제조업': 'IC = (A61P* or C07D* or C07J* or C07K* or C12N* or C12P* or C12Q* or C12R* or (A61K* not (A61K-008*)))',\n",
              " '의복, 의복 액세서리 및 모피제품 제조업': 'IC = (A41B* or A41C* or A41D* or A41F* or A42C-005* or (A42B* not (A42B-003*)))',\n",
              " '인쇄 및 기록매체복제업': 'IC = (B41M* or B42D*)',\n",
              " '일차전지 및 축전지 제조업': 'IC = (H01M*)',\n",
              " '잉크, 페인트 코팅제 및 유사제품 제조업': 'IC = (C09D*)',\n",
              " '자동차 제조업': 'IC = (B60B* or B60D* or B60F* or B60G* or B60H* or B60J* or B60K* or B60N* or B60P* or B60R* or B60T* or B60W* or B62D* or E05F* or F02M* or F02N* or F02P* or F16J* or G05G* or (B60L* not (B60L-013*)) or (B60S* not (B60S-003*)))',\n",
              " '전구 및 조명장치 제조업': 'IC = (B60Q* or F21H* or F21K* or F21L* or F21S* or F21V* or F21W* or F21Y* or H01K*)',\n",
              " '전기, 가스, 증기, 수도': 'IC = (F02C* or F03D* or H02S* or G21H-001*)',\n",
              " '전동기, 발전기 및 전기변환, 공급, 제어장치 제조업': 'IC = (F99Z* or H02B* or H02J* or H02K* or H02N* or H02P*)',\n",
              " '전자부품 제조업': 'IC = (B05D* or B81B* or B81C* or B82B* or B82Y* or C30B* or G02F-001* or G12B* or H01C* or H01F* or H01G* or H01J* or H05K* or H03K* or H03L*)',\n",
              " '전투용 차량 제조업': 'IC = (F41H-007*)',\n",
              " '절연선 및 케이블제조업': 'IC = (H01B* or H01H* or H01R* or H02G*)',\n",
              " '철도장비 제조업': 'IC = (B60L-013* or B61B* or B61C* or B61D* or B61F* or B61G* or B61H* or B61J* or B61K* or B61L* or E01B*)',\n",
              " '측정, 시험, 향해, 제어, 및 기타 정밀기기 제조업': 'IC = (G01B* or G01C* or G01D* or G01F* or G01H* or G01J* or G01K* or G01L* or G01M* or G01N* or G01P* or G01Q* or G01R* or G01S* or G01V* or G01W* or G05B* or G05D* or G05F* or G21K* or G08C*)',\n",
              " '컴퓨터 및 주변장치 제조업': 'IC = (B41J-002* or B41J-027* or B41J-029* or B41J-031* or B41J-032* or B41J-033* or B41J-035* or G06J* or G06F-001* or G06F-003* or G06K*)',\n",
              " '컴퓨터 프로그래밍, 정보서비스업': 'IC = (G06D* or G06E* or G06G* or G06N* or G06Q* or G06T* or G09C* or (G06F* not (G06F-001* or G06F-003*)))',\n",
              " '코크스, 연탄 및 석유정제품 제조업': 'IC = (C10G* or C10L*)',\n",
              " '통신 및 방송 장비 제조업': 'IC = (G03H* or H01P* or H01Q* or H01S* or H03B* or H03C* or H03D* or H03F* or H03G* or H03H* or H03M* or H04B* or H04J* or H04K* or H04L* or H04M* or H04Q* or H04S* or H04W* or H99Z*)',\n",
              " '특수 기계제조업': 'IC = (A01F* or A01J* or A01M* or A21B* or A21C* or A22B* or A22C* or A23N* or A24C* or A41H* or A43D* or A62C* or B01F* or B02B* or B02C* or B03B* or B03C* or B03D* or B05C* or B06B* or B07B* or B07C* or B08B* or B21B* or B22C* or B23K* or B23P* or B23Q* or B24B* or B24C* or B25J* or B26D* or B27C* or B27F* or B27J* or B27L* or B30B* or B31B* or B31C* or B31D* or B31F* or B41B* or B41C* or B41D* or B41F* or B41G* or B41N* or B42B* or B42C* or B44B* or B44C* or B65H* or B67B* or B68F* or C14B* or C23C* or D01B* or D01G* or D01H* or D02G* or D02H* or D02J* or D03C* or D03D* or D03J* or D04B* or D04C* or D05B* or D05C* or D06B* or D06G* or D06H* or D21B* or D21D* or D21F* or D21G* or D99Z* or E02F* or E21B* or F01L* or F02B* or F02D* or F02F* or F16N* or F16P* or F26B* or H05H* or (A01B* not (A01B-027/02)) or (A42C* not (A42C-005*)) or (B41J* not (B41J-001* or B41J-002* or B41J-027* or B41J-029* or B41J-031* or B41J-032* or B41J-033* or B41J-035*)))',\n",
              " '펄프, 종이 및 종이제품 제조업': 'IC = (B42F* or D21C* or D21H* or D21J*)',\n",
              " '하수, 폐기물처리, 원료재생, 환경복원': 'IC = (B09B* or B09C* or B65F* or C02F* or G21F*)',\n",
              " '합성고무 및 플라스틱 물질 제조업': 'IC = (C08B* or C08F* or C08G* or C08J* or C08K* or C08L*)',\n",
              " '항공기 제조업': 'IC = (B64B* or B64C* or B64D* or B64F* or B64G* or F02K* or F03H*)',\n",
              " '화학섬유 제조업': 'IC = (D01C* or D01D* or D01F*)'}"
            ]
          },
          "metadata": {},
          "execution_count": 95
        }
      ]
    },
    {
      "cell_type": "markdown",
      "metadata": {
        "id": "6Z92dTN6zX40"
      },
      "source": [
        "# KSIC 9차 코드 정리\n",
        "- 더존비즈온 데이터는 KSIC9차 업종을 가지고 있으므로 10차와 통일을 해야 IPC를 연계할 수 있음.\n",
        "- KSIC 9차표는 한글명과 분류별 코드 번호를 제공하고 있음.  \n",
        "- KSIC9차와 KSIC10차를 연계하기 위해 코드 번호를 통일하고자 함.  \n",
        "- 중분류와 세분류가 복합적으로 들어있는 표이므로 둘을 구분하여 칼럼으로 정리함."
      ]
    },
    {
      "cell_type": "code",
      "metadata": {
        "id": "qWXUhwTazdyp"
      },
      "source": [
        "import pandas as pd"
      ],
      "execution_count": 12,
      "outputs": []
    },
    {
      "cell_type": "code",
      "metadata": {
        "id": "j4-i9XsWzdyq"
      },
      "source": [
        "ksic9 = pd.read_csv('KSIC9차_KSIC코드.csv')"
      ],
      "execution_count": 13,
      "outputs": []
    },
    {
      "cell_type": "code",
      "metadata": {
        "id": "WfMFTmA5Wsa-"
      },
      "source": [
        "ksic9['산업명'] = ksic9['산업명'].apply(lambda x: x.replace('\\n', ' '))"
      ],
      "execution_count": 14,
      "outputs": []
    },
    {
      "cell_type": "code",
      "metadata": {
        "colab": {
          "base_uri": "https://localhost:8080/"
        },
        "id": "mEloquLBWb-c",
        "outputId": "18954370-a5a0-4ab4-f88c-b54278da4722"
      },
      "source": [
        "import re\n",
        "p = re.compile('\\S+\\(') \n",
        "set(ksic9['산업분류(KSIC)'].apply(lambda x: len(p.findall(x)))) # 여러 개의 괄호가 있는 건 없다."
      ],
      "execution_count": 15,
      "outputs": [
        {
          "output_type": "execute_result",
          "data": {
            "text/plain": [
              "{1}"
            ]
          },
          "metadata": {},
          "execution_count": 15
        }
      ]
    },
    {
      "cell_type": "code",
      "metadata": {
        "id": "k8YkECnjzdyq"
      },
      "source": [
        "ksic9['산업분류(KSIC)_중'] = ksic9['산업분류(KSIC)'].apply(lambda x: x.split('(')[0])"
      ],
      "execution_count": 16,
      "outputs": []
    },
    {
      "cell_type": "code",
      "metadata": {
        "id": "FbnhWIw0zrsZ"
      },
      "source": [
        "ksic9['산업분류(KSIC)_중'] = ksic9['산업분류(KSIC)_중'].apply(lambda x: x.split(', '))"
      ],
      "execution_count": 17,
      "outputs": []
    },
    {
      "cell_type": "code",
      "metadata": {
        "id": "VKrMBuNfXf9U"
      },
      "source": [
        "import re\n",
        "p = re.compile('\\S+\\(\\S+\\)')\n",
        "ksic9['산업분류(KSIC)_세1'] = ksic9['산업분류(KSIC)'].apply(lambda x: p.findall(x)[0].split('(')[0])\n",
        "ksic9['산업분류(KSIC)_세2'] = ksic9['산업분류(KSIC)'].apply(lambda x: p.findall(x)[0].replace(')','').split('(')[1])"
      ],
      "execution_count": 18,
      "outputs": []
    },
    {
      "cell_type": "code",
      "metadata": {
        "colab": {
          "base_uri": "https://localhost:8080/",
          "height": 545
        },
        "id": "wHlNkZcTYEBz",
        "outputId": "7553a7f1-1911-4691-f72e-76f63c2bec31"
      },
      "source": [
        "ksic9"
      ],
      "execution_count": 19,
      "outputs": [
        {
          "output_type": "execute_result",
          "data": {
            "text/html": [
              "<div>\n",
              "<style scoped>\n",
              "    .dataframe tbody tr th:only-of-type {\n",
              "        vertical-align: middle;\n",
              "    }\n",
              "\n",
              "    .dataframe tbody tr th {\n",
              "        vertical-align: top;\n",
              "    }\n",
              "\n",
              "    .dataframe thead th {\n",
              "        text-align: right;\n",
              "    }\n",
              "</style>\n",
              "<table border=\"1\" class=\"dataframe\">\n",
              "  <thead>\n",
              "    <tr style=\"text-align: right;\">\n",
              "      <th></th>\n",
              "      <th>산업명</th>\n",
              "      <th>산업분류(KSIC)</th>\n",
              "      <th>산업분류(KSIC)_중</th>\n",
              "      <th>산업분류(KSIC)_세1</th>\n",
              "      <th>산업분류(KSIC)_세2</th>\n",
              "    </tr>\n",
              "  </thead>\n",
              "  <tbody>\n",
              "    <tr>\n",
              "      <th>0</th>\n",
              "      <td>농림어업</td>\n",
              "      <td>A01, A02, A03(A0000)</td>\n",
              "      <td>[A01, A02, A03]</td>\n",
              "      <td>A03</td>\n",
              "      <td>A0000</td>\n",
              "    </tr>\n",
              "    <tr>\n",
              "      <th>1</th>\n",
              "      <td>광업</td>\n",
              "      <td>B05, B06, B07, B08(B0000)</td>\n",
              "      <td>[B05, B06, B07, B08]</td>\n",
              "      <td>B08</td>\n",
              "      <td>B0000</td>\n",
              "    </tr>\n",
              "    <tr>\n",
              "      <th>2</th>\n",
              "      <td>식료품 제조업</td>\n",
              "      <td>C10(C1000)</td>\n",
              "      <td>[C10]</td>\n",
              "      <td>C10</td>\n",
              "      <td>C1000</td>\n",
              "    </tr>\n",
              "    <tr>\n",
              "      <th>3</th>\n",
              "      <td>음료제조업</td>\n",
              "      <td>C11(C1100)</td>\n",
              "      <td>[C11]</td>\n",
              "      <td>C11</td>\n",
              "      <td>C1100</td>\n",
              "    </tr>\n",
              "    <tr>\n",
              "      <th>4</th>\n",
              "      <td>담배제조업</td>\n",
              "      <td>C12(C1200)</td>\n",
              "      <td>[C12]</td>\n",
              "      <td>C12</td>\n",
              "      <td>C1200</td>\n",
              "    </tr>\n",
              "    <tr>\n",
              "      <th>...</th>\n",
              "      <td>...</td>\n",
              "      <td>...</td>\n",
              "      <td>...</td>\n",
              "      <td>...</td>\n",
              "      <td>...</td>\n",
              "    </tr>\n",
              "    <tr>\n",
              "      <th>56</th>\n",
              "      <td>기타제품 제조업</td>\n",
              "      <td>C33(C3300)</td>\n",
              "      <td>[C33]</td>\n",
              "      <td>C33</td>\n",
              "      <td>C3300</td>\n",
              "    </tr>\n",
              "    <tr>\n",
              "      <th>57</th>\n",
              "      <td>전기, 가스, 증기, 수도</td>\n",
              "      <td>D35, D36(D0000)</td>\n",
              "      <td>[D35, D36]</td>\n",
              "      <td>D36</td>\n",
              "      <td>D0000</td>\n",
              "    </tr>\n",
              "    <tr>\n",
              "      <th>58</th>\n",
              "      <td>하수, 폐기물처리, 원료재생, 환경복원</td>\n",
              "      <td>E37, E38, E39(E0000)</td>\n",
              "      <td>[E37, E38, E39]</td>\n",
              "      <td>E39</td>\n",
              "      <td>E0000</td>\n",
              "    </tr>\n",
              "    <tr>\n",
              "      <th>59</th>\n",
              "      <td>건설업, 건축기술 서비스</td>\n",
              "      <td>F41, F42(Y0000)</td>\n",
              "      <td>[F41, F42]</td>\n",
              "      <td>F42</td>\n",
              "      <td>Y0000</td>\n",
              "    </tr>\n",
              "    <tr>\n",
              "      <th>60</th>\n",
              "      <td>컴퓨터 프로그래밍, 정보서비스업</td>\n",
              "      <td>J582, J62, J63(Z0000)</td>\n",
              "      <td>[J582, J62, J63]</td>\n",
              "      <td>J63</td>\n",
              "      <td>Z0000</td>\n",
              "    </tr>\n",
              "  </tbody>\n",
              "</table>\n",
              "<p>61 rows × 5 columns</p>\n",
              "</div>"
            ],
            "text/plain": [
              "                      산업명  ... 산업분류(KSIC)_세2\n",
              "0                    농림어업  ...         A0000\n",
              "1                      광업  ...         B0000\n",
              "2                 식료품 제조업  ...         C1000\n",
              "3                   음료제조업  ...         C1100\n",
              "4                   담배제조업  ...         C1200\n",
              "..                    ...  ...           ...\n",
              "56               기타제품 제조업  ...         C3300\n",
              "57         전기, 가스, 증기, 수도  ...         D0000\n",
              "58  하수, 폐기물처리, 원료재생, 환경복원  ...         E0000\n",
              "59          건설업, 건축기술 서비스  ...         Y0000\n",
              "60      컴퓨터 프로그래밍, 정보서비스업  ...         Z0000\n",
              "\n",
              "[61 rows x 5 columns]"
            ]
          },
          "metadata": {},
          "execution_count": 19
        }
      ]
    },
    {
      "cell_type": "code",
      "metadata": {
        "id": "Rsh-ypStz80L"
      },
      "source": [
        "ksic9 = ksic9.explode('산업분류(KSIC)_중')"
      ],
      "execution_count": 20,
      "outputs": []
    },
    {
      "cell_type": "code",
      "metadata": {
        "colab": {
          "base_uri": "https://localhost:8080/",
          "height": 421
        },
        "id": "3j9k27EBagiw",
        "outputId": "8eb59680-599d-4b66-eb20-fad9ab7a4bfa"
      },
      "source": [
        "ksic9[ksic9['산업분류(KSIC)_중']=='C20']"
      ],
      "execution_count": 21,
      "outputs": [
        {
          "output_type": "execute_result",
          "data": {
            "text/html": [
              "<div>\n",
              "<style scoped>\n",
              "    .dataframe tbody tr th:only-of-type {\n",
              "        vertical-align: middle;\n",
              "    }\n",
              "\n",
              "    .dataframe tbody tr th {\n",
              "        vertical-align: top;\n",
              "    }\n",
              "\n",
              "    .dataframe thead th {\n",
              "        text-align: right;\n",
              "    }\n",
              "</style>\n",
              "<table border=\"1\" class=\"dataframe\">\n",
              "  <thead>\n",
              "    <tr style=\"text-align: right;\">\n",
              "      <th></th>\n",
              "      <th>산업명</th>\n",
              "      <th>산업분류(KSIC)</th>\n",
              "      <th>산업분류(KSIC)_중</th>\n",
              "      <th>산업분류(KSIC)_세1</th>\n",
              "      <th>산업분류(KSIC)_세2</th>\n",
              "    </tr>\n",
              "  </thead>\n",
              "  <tbody>\n",
              "    <tr>\n",
              "      <th>12</th>\n",
              "      <td>기초 화학물질제조업</td>\n",
              "      <td>C20(C2010)</td>\n",
              "      <td>C20</td>\n",
              "      <td>C20</td>\n",
              "      <td>C2010</td>\n",
              "    </tr>\n",
              "    <tr>\n",
              "      <th>13</th>\n",
              "      <td>비료 및 질소 화학물 제조업</td>\n",
              "      <td>C20(C2020)</td>\n",
              "      <td>C20</td>\n",
              "      <td>C20</td>\n",
              "      <td>C2020</td>\n",
              "    </tr>\n",
              "    <tr>\n",
              "      <th>14</th>\n",
              "      <td>합성고무 및 플라스틱 물질 제조업</td>\n",
              "      <td>C20(C2030)</td>\n",
              "      <td>C20</td>\n",
              "      <td>C20</td>\n",
              "      <td>C2030</td>\n",
              "    </tr>\n",
              "    <tr>\n",
              "      <th>15</th>\n",
              "      <td>살충제 및 기타농약제조업</td>\n",
              "      <td>C20(C2041)</td>\n",
              "      <td>C20</td>\n",
              "      <td>C20</td>\n",
              "      <td>C2041</td>\n",
              "    </tr>\n",
              "    <tr>\n",
              "      <th>16</th>\n",
              "      <td>잉크, 페인트 코팅제 및 유사제품 제조업</td>\n",
              "      <td>C20(C2042)</td>\n",
              "      <td>C20</td>\n",
              "      <td>C20</td>\n",
              "      <td>C2042</td>\n",
              "    </tr>\n",
              "    <tr>\n",
              "      <th>17</th>\n",
              "      <td>세제, 화장품 및 광택제 제조업</td>\n",
              "      <td>C20(C2043)</td>\n",
              "      <td>C20</td>\n",
              "      <td>C20</td>\n",
              "      <td>C2043</td>\n",
              "    </tr>\n",
              "    <tr>\n",
              "      <th>18</th>\n",
              "      <td>그 외 기타 화학제품 제조업</td>\n",
              "      <td>C20(C2049)</td>\n",
              "      <td>C20</td>\n",
              "      <td>C20</td>\n",
              "      <td>C2049</td>\n",
              "    </tr>\n",
              "    <tr>\n",
              "      <th>19</th>\n",
              "      <td>화학섬유 제조업</td>\n",
              "      <td>C20(C2050)</td>\n",
              "      <td>C20</td>\n",
              "      <td>C20</td>\n",
              "      <td>C2050</td>\n",
              "    </tr>\n",
              "  </tbody>\n",
              "</table>\n",
              "</div>"
            ],
            "text/plain": [
              "                       산업명  산업분류(KSIC) 산업분류(KSIC)_중 산업분류(KSIC)_세1 산업분류(KSIC)_세2\n",
              "12              기초 화학물질제조업  C20(C2010)          C20           C20         C2010\n",
              "13         비료 및 질소 화학물 제조업  C20(C2020)          C20           C20         C2020\n",
              "14      합성고무 및 플라스틱 물질 제조업  C20(C2030)          C20           C20         C2030\n",
              "15           살충제 및 기타농약제조업  C20(C2041)          C20           C20         C2041\n",
              "16  잉크, 페인트 코팅제 및 유사제품 제조업  C20(C2042)          C20           C20         C2042\n",
              "17       세제, 화장품 및 광택제 제조업  C20(C2043)          C20           C20         C2043\n",
              "18         그 외 기타 화학제품 제조업  C20(C2049)          C20           C20         C2049\n",
              "19                화학섬유 제조업  C20(C2050)          C20           C20         C2050"
            ]
          },
          "metadata": {},
          "execution_count": 21
        }
      ]
    },
    {
      "cell_type": "code",
      "metadata": {
        "colab": {
          "base_uri": "https://localhost:8080/",
          "height": 614
        },
        "id": "IP7rG4AhXHSr",
        "outputId": "72dfa8ca-b73c-41b1-a1cf-277c8d864460"
      },
      "source": [
        "ksic9"
      ],
      "execution_count": 22,
      "outputs": [
        {
          "output_type": "execute_result",
          "data": {
            "text/html": [
              "<div>\n",
              "<style scoped>\n",
              "    .dataframe tbody tr th:only-of-type {\n",
              "        vertical-align: middle;\n",
              "    }\n",
              "\n",
              "    .dataframe tbody tr th {\n",
              "        vertical-align: top;\n",
              "    }\n",
              "\n",
              "    .dataframe thead th {\n",
              "        text-align: right;\n",
              "    }\n",
              "</style>\n",
              "<table border=\"1\" class=\"dataframe\">\n",
              "  <thead>\n",
              "    <tr style=\"text-align: right;\">\n",
              "      <th></th>\n",
              "      <th>산업명</th>\n",
              "      <th>산업분류(KSIC)</th>\n",
              "      <th>산업분류(KSIC)_중</th>\n",
              "      <th>산업분류(KSIC)_세1</th>\n",
              "      <th>산업분류(KSIC)_세2</th>\n",
              "    </tr>\n",
              "  </thead>\n",
              "  <tbody>\n",
              "    <tr>\n",
              "      <th>0</th>\n",
              "      <td>농림어업</td>\n",
              "      <td>A01, A02, A03(A0000)</td>\n",
              "      <td>A01</td>\n",
              "      <td>A03</td>\n",
              "      <td>A0000</td>\n",
              "    </tr>\n",
              "    <tr>\n",
              "      <th>0</th>\n",
              "      <td>농림어업</td>\n",
              "      <td>A01, A02, A03(A0000)</td>\n",
              "      <td>A02</td>\n",
              "      <td>A03</td>\n",
              "      <td>A0000</td>\n",
              "    </tr>\n",
              "    <tr>\n",
              "      <th>0</th>\n",
              "      <td>농림어업</td>\n",
              "      <td>A01, A02, A03(A0000)</td>\n",
              "      <td>A03</td>\n",
              "      <td>A03</td>\n",
              "      <td>A0000</td>\n",
              "    </tr>\n",
              "    <tr>\n",
              "      <th>1</th>\n",
              "      <td>광업</td>\n",
              "      <td>B05, B06, B07, B08(B0000)</td>\n",
              "      <td>B05</td>\n",
              "      <td>B08</td>\n",
              "      <td>B0000</td>\n",
              "    </tr>\n",
              "    <tr>\n",
              "      <th>1</th>\n",
              "      <td>광업</td>\n",
              "      <td>B05, B06, B07, B08(B0000)</td>\n",
              "      <td>B06</td>\n",
              "      <td>B08</td>\n",
              "      <td>B0000</td>\n",
              "    </tr>\n",
              "    <tr>\n",
              "      <th>...</th>\n",
              "      <td>...</td>\n",
              "      <td>...</td>\n",
              "      <td>...</td>\n",
              "      <td>...</td>\n",
              "      <td>...</td>\n",
              "    </tr>\n",
              "    <tr>\n",
              "      <th>59</th>\n",
              "      <td>건설업, 건축기술 서비스</td>\n",
              "      <td>F41, F42(Y0000)</td>\n",
              "      <td>F41</td>\n",
              "      <td>F42</td>\n",
              "      <td>Y0000</td>\n",
              "    </tr>\n",
              "    <tr>\n",
              "      <th>59</th>\n",
              "      <td>건설업, 건축기술 서비스</td>\n",
              "      <td>F41, F42(Y0000)</td>\n",
              "      <td>F42</td>\n",
              "      <td>F42</td>\n",
              "      <td>Y0000</td>\n",
              "    </tr>\n",
              "    <tr>\n",
              "      <th>60</th>\n",
              "      <td>컴퓨터 프로그래밍, 정보서비스업</td>\n",
              "      <td>J582, J62, J63(Z0000)</td>\n",
              "      <td>J582</td>\n",
              "      <td>J63</td>\n",
              "      <td>Z0000</td>\n",
              "    </tr>\n",
              "    <tr>\n",
              "      <th>60</th>\n",
              "      <td>컴퓨터 프로그래밍, 정보서비스업</td>\n",
              "      <td>J582, J62, J63(Z0000)</td>\n",
              "      <td>J62</td>\n",
              "      <td>J63</td>\n",
              "      <td>Z0000</td>\n",
              "    </tr>\n",
              "    <tr>\n",
              "      <th>60</th>\n",
              "      <td>컴퓨터 프로그래밍, 정보서비스업</td>\n",
              "      <td>J582, J62, J63(Z0000)</td>\n",
              "      <td>J63</td>\n",
              "      <td>J63</td>\n",
              "      <td>Z0000</td>\n",
              "    </tr>\n",
              "  </tbody>\n",
              "</table>\n",
              "<p>72 rows × 5 columns</p>\n",
              "</div>"
            ],
            "text/plain": [
              "                  산업명                 산업분류(KSIC)  ... 산업분류(KSIC)_세1 산업분류(KSIC)_세2\n",
              "0                농림어업       A01, A02, A03(A0000)  ...           A03         A0000\n",
              "0                농림어업       A01, A02, A03(A0000)  ...           A03         A0000\n",
              "0                농림어업       A01, A02, A03(A0000)  ...           A03         A0000\n",
              "1                  광업  B05, B06, B07, B08(B0000)  ...           B08         B0000\n",
              "1                  광업  B05, B06, B07, B08(B0000)  ...           B08         B0000\n",
              "..                ...                        ...  ...           ...           ...\n",
              "59      건설업, 건축기술 서비스            F41, F42(Y0000)  ...           F42         Y0000\n",
              "59      건설업, 건축기술 서비스            F41, F42(Y0000)  ...           F42         Y0000\n",
              "60  컴퓨터 프로그래밍, 정보서비스업      J582, J62, J63(Z0000)  ...           J63         Z0000\n",
              "60  컴퓨터 프로그래밍, 정보서비스업      J582, J62, J63(Z0000)  ...           J63         Z0000\n",
              "60  컴퓨터 프로그래밍, 정보서비스업      J582, J62, J63(Z0000)  ...           J63         Z0000\n",
              "\n",
              "[72 rows x 5 columns]"
            ]
          },
          "metadata": {},
          "execution_count": 22
        }
      ]
    },
    {
      "cell_type": "code",
      "metadata": {
        "id": "8Ltmk8x6YqIb"
      },
      "source": [
        "ksic9.reset_index(drop=True, inplace=True)\n",
        "ksic9['KSIC_CODE'] = ksic9['산업분류(KSIC)_중']\n",
        "ksic9.loc[ksic9.duplicated('산업분류(KSIC)_중', keep=False), 'KSIC_CODE'] = ksic9.loc[ksic9.duplicated('산업분류(KSIC)_중', keep=False), '산업분류(KSIC)_세2']"
      ],
      "execution_count": 23,
      "outputs": []
    },
    {
      "cell_type": "code",
      "metadata": {
        "id": "na9YLNMJU0hg"
      },
      "source": [
        "ksic9 = ksic9[['산업명', 'KSIC_CODE']]"
      ],
      "execution_count": 24,
      "outputs": []
    },
    {
      "cell_type": "markdown",
      "metadata": {
        "id": "H0BU76AevABH"
      },
      "source": [
        "# KSIC9차 - KSIC10차 연계\n",
        "- KSIC9차의 경우 한글명과 위 과정을 통해 생성한 분류 코드를 가지고 있음.  \n",
        "- KSIC10차와 연계하기 위해 분류 코드 및 한글명을 통일하고자 함.  \n",
        "- 통일 방법은 다음과 같음.  \n",
        "  1. 분류 코드 기준 통일: 대분류+중분류, 대분류+소분류, 대분류+세분류가 같은 업종 간 통일  \n",
        "  1. 주어진 한글명이 동일한 업종 간 통일  \n",
        "  1. 사소하게 명칭이 다른 경우 자카드 유사도 기준으로 통일  \n",
        "  1. 매칭이 안 된 경우 특정 단어를 포함하는 업종 검색을 통해 통일"
      ]
    },
    {
      "cell_type": "code",
      "metadata": {
        "id": "y406aRWBudVt"
      },
      "source": [
        "import pandas as pd"
      ],
      "execution_count": 25,
      "outputs": []
    },
    {
      "cell_type": "code",
      "metadata": {
        "id": "yZJGQyh9vFqI"
      },
      "source": [
        "concordance = pd.read_csv('국세청업종코드-KSIC10-KSIC9_연계완_ver2.csv')"
      ],
      "execution_count": 26,
      "outputs": []
    },
    {
      "cell_type": "code",
      "metadata": {
        "colab": {
          "base_uri": "https://localhost:8080/"
        },
        "id": "AQlpQVbevufi",
        "outputId": "bdf578cf-d13b-4bfa-d87b-683923679a39"
      },
      "source": [
        "concordance.shape"
      ],
      "execution_count": 27,
      "outputs": [
        {
          "output_type": "execute_result",
          "data": {
            "text/plain": [
              "(2010, 29)"
            ]
          },
          "metadata": {},
          "execution_count": 27
        }
      ]
    },
    {
      "cell_type": "code",
      "metadata": {
        "colab": {
          "base_uri": "https://localhost:8080/"
        },
        "id": "fZ1_oF2Kx_il",
        "outputId": "283c9ee2-0059-446a-e905-df560adde9c2"
      },
      "source": [
        "concordance.isna().sum()"
      ],
      "execution_count": 28,
      "outputs": [
        {
          "output_type": "execute_result",
          "data": {
            "text/plain": [
              "일련번호                    4\n",
              "2018년 귀속(현행)업종코드       73\n",
              "2019년 귀속(개편후)업종코드       4\n",
              "국세청_대분류코드               4\n",
              "국세청_대분류                 4\n",
              "국세청_중분류코드               4\n",
              "국세청_중분류                 4\n",
              "국세청_소분류코드               4\n",
              "국세청_소분류                 4\n",
              "국세청_세분류코드               4\n",
              "국세청_세분류                 4\n",
              "국세청_세세분류                4\n",
              "국세청_연계                  4\n",
              "KSIC10_코드               2\n",
              "KSIC10_대분류코드            2\n",
              "KSIC10_대분류              0\n",
              "KSIC10_중분류코드            2\n",
              "KSIC10_중분류              0\n",
              "KSIC10_소분류코드            2\n",
              "KSIC10_소분류              0\n",
              "KSIC10_세분류코드            2\n",
              "KSIC10_세분류              0\n",
              "KSIC10_세세분류             0\n",
              "KSIC10_연계               0\n",
              "메인                   1600\n",
              "세부설명                 1296\n",
              "KSIC10_항목명             24\n",
              "KSIC9_코드                2\n",
              "KSIC9_항목명               2\n",
              "dtype: int64"
            ]
          },
          "metadata": {},
          "execution_count": 28
        }
      ]
    },
    {
      "cell_type": "code",
      "metadata": {
        "id": "gkOJsDbeyICH"
      },
      "source": [
        "concordance = concordance[~concordance['KSIC10_코드'].isna()]"
      ],
      "execution_count": 29,
      "outputs": []
    },
    {
      "cell_type": "markdown",
      "metadata": {
        "id": "5fpwzycj4tBF"
      },
      "source": [
        "## 코드 기준 병합"
      ]
    },
    {
      "cell_type": "markdown",
      "metadata": {
        "id": "PAOLDfBJ6AEx"
      },
      "source": [
        "### 소분류 기준 병합"
      ]
    },
    {
      "cell_type": "code",
      "metadata": {
        "id": "EbUfzLXa3v25"
      },
      "source": [
        "concordance['KSIC_CODE'] = concordance['KSIC10_대분류코드']+concordance['KSIC10_소분류코드'].apply(lambda x: str(int(x)).zfill(2))"
      ],
      "execution_count": 30,
      "outputs": []
    },
    {
      "cell_type": "code",
      "metadata": {
        "colab": {
          "base_uri": "https://localhost:8080/"
        },
        "id": "BrPVXF3pblGS",
        "outputId": "26a87131-0c98-4d5c-d29b-b75fe4a8f75f"
      },
      "source": [
        "(concordance['KSIC_CODE'] == 'J582').sum()"
      ],
      "execution_count": 31,
      "outputs": [
        {
          "output_type": "execute_result",
          "data": {
            "text/plain": [
              "5"
            ]
          },
          "metadata": {},
          "execution_count": 31
        }
      ]
    },
    {
      "cell_type": "code",
      "metadata": {
        "id": "KYg6K3fiUKoP"
      },
      "source": [
        "concordance = concordance.merge(ksic9, how='left')"
      ],
      "execution_count": 32,
      "outputs": []
    },
    {
      "cell_type": "code",
      "metadata": {
        "colab": {
          "base_uri": "https://localhost:8080/"
        },
        "id": "hgRaPaVR7khw",
        "outputId": "a1a2a9d9-845b-40d7-99a9-2a27ca06c146"
      },
      "source": [
        "concordance.isna().sum()"
      ],
      "execution_count": 33,
      "outputs": [
        {
          "output_type": "execute_result",
          "data": {
            "text/plain": [
              "일련번호                    4\n",
              "2018년 귀속(현행)업종코드       73\n",
              "2019년 귀속(개편후)업종코드       4\n",
              "국세청_대분류코드               4\n",
              "국세청_대분류                 4\n",
              "국세청_중분류코드               4\n",
              "국세청_중분류                 4\n",
              "국세청_소분류코드               4\n",
              "국세청_소분류                 4\n",
              "국세청_세분류코드               4\n",
              "국세청_세분류                 4\n",
              "국세청_세세분류                4\n",
              "국세청_연계                  4\n",
              "KSIC10_코드               0\n",
              "KSIC10_대분류코드            0\n",
              "KSIC10_대분류              0\n",
              "KSIC10_중분류코드            0\n",
              "KSIC10_중분류              0\n",
              "KSIC10_소분류코드            0\n",
              "KSIC10_소분류              0\n",
              "KSIC10_세분류코드            0\n",
              "KSIC10_세분류              0\n",
              "KSIC10_세세분류             0\n",
              "KSIC10_연계               0\n",
              "메인                   1598\n",
              "세부설명                 1296\n",
              "KSIC10_항목명             22\n",
              "KSIC9_코드                0\n",
              "KSIC9_항목명               0\n",
              "KSIC_CODE               0\n",
              "산업명                  2003\n",
              "dtype: int64"
            ]
          },
          "metadata": {},
          "execution_count": 33
        }
      ]
    },
    {
      "cell_type": "code",
      "metadata": {
        "id": "mR0nYlaOSMS_"
      },
      "source": [
        "concordance.reset_index(drop=True, inplace=True)"
      ],
      "execution_count": 34,
      "outputs": []
    },
    {
      "cell_type": "markdown",
      "metadata": {
        "id": "t9PYoDXy57Hc"
      },
      "source": [
        "### 중분류 기준 병합"
      ]
    },
    {
      "cell_type": "code",
      "metadata": {
        "id": "na45r0fwxuQK"
      },
      "source": [
        "concordance.loc[concordance['산업명'].isna(), 'KSIC_CODE'] = concordance.loc[concordance['산업명'].isna(), 'KSIC10_대분류코드']+concordance.loc[concordance['산업명'].isna(), 'KSIC10_중분류코드'].apply(lambda x: str(int(x)).zfill(2))"
      ],
      "execution_count": 35,
      "outputs": []
    },
    {
      "cell_type": "code",
      "metadata": {
        "id": "fiCYO9yyvKc0"
      },
      "source": [
        "concordance.loc[concordance['산업명'].isna(), '산업명'] = concordance.loc[concordance['산업명'].isna(),concordance.columns[:-1]].merge(ksic9, how='left')['산업명']"
      ],
      "execution_count": 36,
      "outputs": []
    },
    {
      "cell_type": "code",
      "metadata": {
        "colab": {
          "base_uri": "https://localhost:8080/",
          "height": 0
        },
        "id": "njUYux2oaHlo",
        "outputId": "a75d1362-71f9-489a-eb9d-ef9d1a688d42"
      },
      "source": [
        "concordance"
      ],
      "execution_count": 37,
      "outputs": [
        {
          "output_type": "execute_result",
          "data": {
            "text/html": [
              "<div>\n",
              "<style scoped>\n",
              "    .dataframe tbody tr th:only-of-type {\n",
              "        vertical-align: middle;\n",
              "    }\n",
              "\n",
              "    .dataframe tbody tr th {\n",
              "        vertical-align: top;\n",
              "    }\n",
              "\n",
              "    .dataframe thead th {\n",
              "        text-align: right;\n",
              "    }\n",
              "</style>\n",
              "<table border=\"1\" class=\"dataframe\">\n",
              "  <thead>\n",
              "    <tr style=\"text-align: right;\">\n",
              "      <th></th>\n",
              "      <th>일련번호</th>\n",
              "      <th>2018년 귀속(현행)업종코드</th>\n",
              "      <th>2019년 귀속(개편후)업종코드</th>\n",
              "      <th>국세청_대분류코드</th>\n",
              "      <th>국세청_대분류</th>\n",
              "      <th>국세청_중분류코드</th>\n",
              "      <th>국세청_중분류</th>\n",
              "      <th>국세청_소분류코드</th>\n",
              "      <th>국세청_소분류</th>\n",
              "      <th>국세청_세분류코드</th>\n",
              "      <th>국세청_세분류</th>\n",
              "      <th>국세청_세세분류</th>\n",
              "      <th>국세청_연계</th>\n",
              "      <th>KSIC10_코드</th>\n",
              "      <th>KSIC10_대분류코드</th>\n",
              "      <th>KSIC10_대분류</th>\n",
              "      <th>KSIC10_중분류코드</th>\n",
              "      <th>KSIC10_중분류</th>\n",
              "      <th>KSIC10_소분류코드</th>\n",
              "      <th>KSIC10_소분류</th>\n",
              "      <th>KSIC10_세분류코드</th>\n",
              "      <th>KSIC10_세분류</th>\n",
              "      <th>KSIC10_세세분류</th>\n",
              "      <th>KSIC10_연계</th>\n",
              "      <th>메인</th>\n",
              "      <th>세부설명</th>\n",
              "      <th>KSIC10_항목명</th>\n",
              "      <th>KSIC9_코드</th>\n",
              "      <th>KSIC9_항목명</th>\n",
              "      <th>KSIC_CODE</th>\n",
              "      <th>산업명</th>\n",
              "    </tr>\n",
              "  </thead>\n",
              "  <tbody>\n",
              "    <tr>\n",
              "      <th>0</th>\n",
              "      <td>1.0</td>\n",
              "      <td>11000.0</td>\n",
              "      <td>11000.0</td>\n",
              "      <td>A</td>\n",
              "      <td>농업, 임업 및 어업</td>\n",
              "      <td>1.0</td>\n",
              "      <td>농업</td>\n",
              "      <td>11.0</td>\n",
              "      <td>작물 재배업</td>\n",
              "      <td>110.0</td>\n",
              "      <td>곡물 및 기타 식량작물 재배업</td>\n",
              "      <td>곡물 및 기타 식량작물 재배업</td>\n",
              "      <td>1.0</td>\n",
              "      <td>1110.0</td>\n",
              "      <td>A</td>\n",
              "      <td>농업, 임업 및 어업</td>\n",
              "      <td>1.0</td>\n",
              "      <td>농업</td>\n",
              "      <td>11.0</td>\n",
              "      <td>작물 재배업</td>\n",
              "      <td>111.0</td>\n",
              "      <td>곡물 및 기타 식량작물 재배업</td>\n",
              "      <td>곡물 및 기타 식량작물 재배업</td>\n",
              "      <td>1</td>\n",
              "      <td>NaN</td>\n",
              "      <td>NaN</td>\n",
              "      <td>곡물 및 기타 식량 작물 재배업</td>\n",
              "      <td>1110.0</td>\n",
              "      <td>곡물 및 기타 식량 작물 재배업</td>\n",
              "      <td>A01</td>\n",
              "      <td>농림어업</td>\n",
              "    </tr>\n",
              "    <tr>\n",
              "      <th>1</th>\n",
              "      <td>1.0</td>\n",
              "      <td>11000.0</td>\n",
              "      <td>11000.0</td>\n",
              "      <td>A</td>\n",
              "      <td>농업, 임업 및 어업</td>\n",
              "      <td>1.0</td>\n",
              "      <td>농업</td>\n",
              "      <td>11.0</td>\n",
              "      <td>작물 재배업</td>\n",
              "      <td>110.0</td>\n",
              "      <td>곡물 및 기타 식량작물 재배업</td>\n",
              "      <td>곡물 및 기타 식량작물 재배업</td>\n",
              "      <td>1.0</td>\n",
              "      <td>1110.0</td>\n",
              "      <td>A</td>\n",
              "      <td>농업, 임업 및 어업</td>\n",
              "      <td>1.0</td>\n",
              "      <td>농업</td>\n",
              "      <td>11.0</td>\n",
              "      <td>작물 재배업</td>\n",
              "      <td>111.0</td>\n",
              "      <td>곡물 및 기타 식량작물 재배업</td>\n",
              "      <td>곡물 및 기타 식량작물 재배업</td>\n",
              "      <td>1</td>\n",
              "      <td>NaN</td>\n",
              "      <td>NaN</td>\n",
              "      <td></td>\n",
              "      <td>1140.0</td>\n",
              "      <td>기타 작물 재배업</td>\n",
              "      <td>A01</td>\n",
              "      <td>농림어업</td>\n",
              "    </tr>\n",
              "    <tr>\n",
              "      <th>2</th>\n",
              "      <td>2.0</td>\n",
              "      <td>11001.0</td>\n",
              "      <td>11001.0</td>\n",
              "      <td>A</td>\n",
              "      <td>농업, 임업 및 어업</td>\n",
              "      <td>1.0</td>\n",
              "      <td>농업</td>\n",
              "      <td>11.0</td>\n",
              "      <td>작물 재배업</td>\n",
              "      <td>110.0</td>\n",
              "      <td>채소, 화훼작물 및 종묘 재배업</td>\n",
              "      <td>채소작물 재배업</td>\n",
              "      <td>1.0</td>\n",
              "      <td>1121.0</td>\n",
              "      <td>A</td>\n",
              "      <td>농업, 임업 및 어업</td>\n",
              "      <td>1.0</td>\n",
              "      <td>농업</td>\n",
              "      <td>11.0</td>\n",
              "      <td>작물 재배업</td>\n",
              "      <td>112.0</td>\n",
              "      <td>채소, 화훼작물 및 종묘 재배업</td>\n",
              "      <td>채소작물 재배업</td>\n",
              "      <td>1</td>\n",
              "      <td>NaN</td>\n",
              "      <td>NaN</td>\n",
              "      <td>채소작물 재배업</td>\n",
              "      <td>1121.0</td>\n",
              "      <td>채소작물 재배업</td>\n",
              "      <td>A01</td>\n",
              "      <td>농림어업</td>\n",
              "    </tr>\n",
              "    <tr>\n",
              "      <th>3</th>\n",
              "      <td>2.0</td>\n",
              "      <td>11001.0</td>\n",
              "      <td>11001.0</td>\n",
              "      <td>A</td>\n",
              "      <td>농업, 임업 및 어업</td>\n",
              "      <td>1.0</td>\n",
              "      <td>농업</td>\n",
              "      <td>11.0</td>\n",
              "      <td>작물 재배업</td>\n",
              "      <td>110.0</td>\n",
              "      <td>채소, 화훼작물 및 종묘 재배업</td>\n",
              "      <td>채소작물 재배업</td>\n",
              "      <td>1.0</td>\n",
              "      <td>1121.0</td>\n",
              "      <td>A</td>\n",
              "      <td>농업, 임업 및 어업</td>\n",
              "      <td>1.0</td>\n",
              "      <td>농업</td>\n",
              "      <td>11.0</td>\n",
              "      <td>작물 재배업</td>\n",
              "      <td>112.0</td>\n",
              "      <td>채소, 화훼작물 및 종묘 재배업</td>\n",
              "      <td>채소작물 재배업</td>\n",
              "      <td>1</td>\n",
              "      <td>NaN</td>\n",
              "      <td>NaN</td>\n",
              "      <td></td>\n",
              "      <td>1131.0</td>\n",
              "      <td>과실작물 재배업</td>\n",
              "      <td>A01</td>\n",
              "      <td>농림어업</td>\n",
              "    </tr>\n",
              "    <tr>\n",
              "      <th>4</th>\n",
              "      <td>2.0</td>\n",
              "      <td>11001.0</td>\n",
              "      <td>11001.0</td>\n",
              "      <td>A</td>\n",
              "      <td>농업, 임업 및 어업</td>\n",
              "      <td>1.0</td>\n",
              "      <td>농업</td>\n",
              "      <td>11.0</td>\n",
              "      <td>작물 재배업</td>\n",
              "      <td>110.0</td>\n",
              "      <td>채소, 화훼작물 및 종묘 재배업</td>\n",
              "      <td>채소작물 재배업</td>\n",
              "      <td>1.0</td>\n",
              "      <td>1121.0</td>\n",
              "      <td>A</td>\n",
              "      <td>농업, 임업 및 어업</td>\n",
              "      <td>1.0</td>\n",
              "      <td>농업</td>\n",
              "      <td>11.0</td>\n",
              "      <td>작물 재배업</td>\n",
              "      <td>112.0</td>\n",
              "      <td>채소, 화훼작물 및 종묘 재배업</td>\n",
              "      <td>채소작물 재배업</td>\n",
              "      <td>1</td>\n",
              "      <td>NaN</td>\n",
              "      <td>NaN</td>\n",
              "      <td></td>\n",
              "      <td>1132.0</td>\n",
              "      <td>음료용 및 향신용 작물 재배업</td>\n",
              "      <td>A01</td>\n",
              "      <td>농림어업</td>\n",
              "    </tr>\n",
              "    <tr>\n",
              "      <th>...</th>\n",
              "      <td>...</td>\n",
              "      <td>...</td>\n",
              "      <td>...</td>\n",
              "      <td>...</td>\n",
              "      <td>...</td>\n",
              "      <td>...</td>\n",
              "      <td>...</td>\n",
              "      <td>...</td>\n",
              "      <td>...</td>\n",
              "      <td>...</td>\n",
              "      <td>...</td>\n",
              "      <td>...</td>\n",
              "      <td>...</td>\n",
              "      <td>...</td>\n",
              "      <td>...</td>\n",
              "      <td>...</td>\n",
              "      <td>...</td>\n",
              "      <td>...</td>\n",
              "      <td>...</td>\n",
              "      <td>...</td>\n",
              "      <td>...</td>\n",
              "      <td>...</td>\n",
              "      <td>...</td>\n",
              "      <td>...</td>\n",
              "      <td>...</td>\n",
              "      <td>...</td>\n",
              "      <td>...</td>\n",
              "      <td>...</td>\n",
              "      <td>...</td>\n",
              "      <td>...</td>\n",
              "      <td>...</td>\n",
              "    </tr>\n",
              "    <tr>\n",
              "      <th>2003</th>\n",
              "      <td>1589.0</td>\n",
              "      <td>NaN</td>\n",
              "      <td>990090.0</td>\n",
              "      <td>U</td>\n",
              "      <td>국제 및 외국기관</td>\n",
              "      <td>99.0</td>\n",
              "      <td>국제 및 외국기관</td>\n",
              "      <td>990.0</td>\n",
              "      <td>국제 및 외국기관</td>\n",
              "      <td>9900.0</td>\n",
              "      <td>국제 및 외국기관</td>\n",
              "      <td>기타 국제 및 외국기관</td>\n",
              "      <td>1.0</td>\n",
              "      <td>99009.0</td>\n",
              "      <td>U</td>\n",
              "      <td>국제 및 외국기관</td>\n",
              "      <td>99.0</td>\n",
              "      <td>국제 및 외국기관</td>\n",
              "      <td>990.0</td>\n",
              "      <td>국제 및 외국기관</td>\n",
              "      <td>9900.0</td>\n",
              "      <td>국제 및 외국기관</td>\n",
              "      <td>기타 국제 및 외국기관</td>\n",
              "      <td>1</td>\n",
              "      <td>NaN</td>\n",
              "      <td>NaN</td>\n",
              "      <td>기타 국제 및 외국기관</td>\n",
              "      <td>99009.0</td>\n",
              "      <td>기타 국제 및 외국기관</td>\n",
              "      <td>U99</td>\n",
              "      <td>NaN</td>\n",
              "    </tr>\n",
              "    <tr>\n",
              "      <th>2004</th>\n",
              "      <td>NaN</td>\n",
              "      <td>NaN</td>\n",
              "      <td>NaN</td>\n",
              "      <td>NaN</td>\n",
              "      <td>NaN</td>\n",
              "      <td>NaN</td>\n",
              "      <td>NaN</td>\n",
              "      <td>NaN</td>\n",
              "      <td>NaN</td>\n",
              "      <td>NaN</td>\n",
              "      <td>NaN</td>\n",
              "      <td>NaN</td>\n",
              "      <td>NaN</td>\n",
              "      <td>71511.0</td>\n",
              "      <td>M</td>\n",
              "      <td>전문, 과학 및 기술 서비스업</td>\n",
              "      <td>71.0</td>\n",
              "      <td>전문 서비스업</td>\n",
              "      <td>715.0</td>\n",
              "      <td>회사본부 및 경영 컨설팅 서비스업</td>\n",
              "      <td>7151.0</td>\n",
              "      <td>회사본부</td>\n",
              "      <td>제조업 회사본부</td>\n",
              "      <td>1</td>\n",
              "      <td>NaN</td>\n",
              "      <td>표준산업분류에 해당하는 국세청 업종코드가 없음</td>\n",
              "      <td>제조업 회사본부</td>\n",
              "      <td>71511.0</td>\n",
              "      <td>제조업 회사본부</td>\n",
              "      <td>M71</td>\n",
              "      <td>NaN</td>\n",
              "    </tr>\n",
              "    <tr>\n",
              "      <th>2005</th>\n",
              "      <td>NaN</td>\n",
              "      <td>NaN</td>\n",
              "      <td>NaN</td>\n",
              "      <td>NaN</td>\n",
              "      <td>NaN</td>\n",
              "      <td>NaN</td>\n",
              "      <td>NaN</td>\n",
              "      <td>NaN</td>\n",
              "      <td>NaN</td>\n",
              "      <td>NaN</td>\n",
              "      <td>NaN</td>\n",
              "      <td>NaN</td>\n",
              "      <td>NaN</td>\n",
              "      <td>71519.0</td>\n",
              "      <td>M</td>\n",
              "      <td>전문, 과학 및 기술 서비스업</td>\n",
              "      <td>71.0</td>\n",
              "      <td>전문 서비스업</td>\n",
              "      <td>715.0</td>\n",
              "      <td>회사본부 및 경영 컨설팅 서비스업</td>\n",
              "      <td>7151.0</td>\n",
              "      <td>회사본부</td>\n",
              "      <td>기타 산업 회사본부</td>\n",
              "      <td>1</td>\n",
              "      <td>NaN</td>\n",
              "      <td>표준산업분류에 해당하는 국세청 업종코드가 없음</td>\n",
              "      <td>기타 산업 회사본부</td>\n",
              "      <td>71519.0</td>\n",
              "      <td>기타 산업 회사본부</td>\n",
              "      <td>M71</td>\n",
              "      <td>NaN</td>\n",
              "    </tr>\n",
              "    <tr>\n",
              "      <th>2006</th>\n",
              "      <td>NaN</td>\n",
              "      <td>NaN</td>\n",
              "      <td>NaN</td>\n",
              "      <td>NaN</td>\n",
              "      <td>NaN</td>\n",
              "      <td>NaN</td>\n",
              "      <td>NaN</td>\n",
              "      <td>NaN</td>\n",
              "      <td>NaN</td>\n",
              "      <td>NaN</td>\n",
              "      <td>NaN</td>\n",
              "      <td>NaN</td>\n",
              "      <td>NaN</td>\n",
              "      <td>98100.0</td>\n",
              "      <td>T</td>\n",
              "      <td>가구내 고용활동 및 달리 분류되지 않은 자가소비 생산활동</td>\n",
              "      <td>98.0</td>\n",
              "      <td>달리 분류되지 않은 자가 소비를 위한 가구의 재화 및 서비스 생산활동</td>\n",
              "      <td>981.0</td>\n",
              "      <td>자가 소비를 위한 가사 생산 활동</td>\n",
              "      <td>9810.0</td>\n",
              "      <td>자가 소비를 위한 가사 생산 활동</td>\n",
              "      <td>자가 소비를 위한 가사 생산 활동</td>\n",
              "      <td>1</td>\n",
              "      <td>NaN</td>\n",
              "      <td>표준산업분류에 해당하는 국세청 업종코드가 없음</td>\n",
              "      <td>자가 소비를 위한 가사 생산 활동</td>\n",
              "      <td>98100.0</td>\n",
              "      <td>자가 소비를 위한 가사 생산 활동</td>\n",
              "      <td>T98</td>\n",
              "      <td>NaN</td>\n",
              "    </tr>\n",
              "    <tr>\n",
              "      <th>2007</th>\n",
              "      <td>NaN</td>\n",
              "      <td>NaN</td>\n",
              "      <td>NaN</td>\n",
              "      <td>NaN</td>\n",
              "      <td>NaN</td>\n",
              "      <td>NaN</td>\n",
              "      <td>NaN</td>\n",
              "      <td>NaN</td>\n",
              "      <td>NaN</td>\n",
              "      <td>NaN</td>\n",
              "      <td>NaN</td>\n",
              "      <td>NaN</td>\n",
              "      <td>NaN</td>\n",
              "      <td>98200.0</td>\n",
              "      <td>T</td>\n",
              "      <td>가구내 고용활동 및 달리 분류되지 않은 자가소비 생산활동</td>\n",
              "      <td>98.0</td>\n",
              "      <td>달리 분류되지 않은 자가 소비를 위한 가구의 재화 및 서비스 생산활동</td>\n",
              "      <td>982.0</td>\n",
              "      <td>자가 소비를 위한 가사 서비스 활동</td>\n",
              "      <td>9820.0</td>\n",
              "      <td>자가 소비를 위한 가사 서비스 활동</td>\n",
              "      <td>자가 소비를 위한 가사 서비스 활동</td>\n",
              "      <td>1</td>\n",
              "      <td>NaN</td>\n",
              "      <td>표준산업분류에 해당하는 국세청 업종코드가 없음</td>\n",
              "      <td>자가 소비를 위한 가사 서비스 활동</td>\n",
              "      <td>98200.0</td>\n",
              "      <td>자가 소비를 위한 가사 서비스 활동</td>\n",
              "      <td>T98</td>\n",
              "      <td>NaN</td>\n",
              "    </tr>\n",
              "  </tbody>\n",
              "</table>\n",
              "<p>2008 rows × 31 columns</p>\n",
              "</div>"
            ],
            "text/plain": [
              "        일련번호  2018년 귀속(현행)업종코드  ...  KSIC_CODE   산업명\n",
              "0        1.0           11000.0  ...        A01  농림어업\n",
              "1        1.0           11000.0  ...        A01  농림어업\n",
              "2        2.0           11001.0  ...        A01  농림어업\n",
              "3        2.0           11001.0  ...        A01  농림어업\n",
              "4        2.0           11001.0  ...        A01  농림어업\n",
              "...      ...               ...  ...        ...   ...\n",
              "2003  1589.0               NaN  ...        U99   NaN\n",
              "2004     NaN               NaN  ...        M71   NaN\n",
              "2005     NaN               NaN  ...        M71   NaN\n",
              "2006     NaN               NaN  ...        T98   NaN\n",
              "2007     NaN               NaN  ...        T98   NaN\n",
              "\n",
              "[2008 rows x 31 columns]"
            ]
          },
          "metadata": {},
          "execution_count": 37
        }
      ]
    },
    {
      "cell_type": "code",
      "metadata": {
        "colab": {
          "base_uri": "https://localhost:8080/"
        },
        "id": "VI4jyUEY7myi",
        "outputId": "24ee1a59-a17c-4aec-f317-5cd725db41d8"
      },
      "source": [
        "concordance.isna().sum()"
      ],
      "execution_count": 38,
      "outputs": [
        {
          "output_type": "execute_result",
          "data": {
            "text/plain": [
              "일련번호                    4\n",
              "2018년 귀속(현행)업종코드       73\n",
              "2019년 귀속(개편후)업종코드       4\n",
              "국세청_대분류코드               4\n",
              "국세청_대분류                 4\n",
              "국세청_중분류코드               4\n",
              "국세청_중분류                 4\n",
              "국세청_소분류코드               4\n",
              "국세청_소분류                 4\n",
              "국세청_세분류코드               4\n",
              "국세청_세분류                 4\n",
              "국세청_세세분류                4\n",
              "국세청_연계                  4\n",
              "KSIC10_코드               0\n",
              "KSIC10_대분류코드            0\n",
              "KSIC10_대분류              0\n",
              "KSIC10_중분류코드            0\n",
              "KSIC10_중분류              0\n",
              "KSIC10_소분류코드            0\n",
              "KSIC10_소분류              0\n",
              "KSIC10_세분류코드            0\n",
              "KSIC10_세분류              0\n",
              "KSIC10_세세분류             0\n",
              "KSIC10_연계               0\n",
              "메인                   1598\n",
              "세부설명                 1296\n",
              "KSIC10_항목명             22\n",
              "KSIC9_코드                0\n",
              "KSIC9_항목명               0\n",
              "KSIC_CODE               0\n",
              "산업명                  1415\n",
              "dtype: int64"
            ]
          },
          "metadata": {},
          "execution_count": 38
        }
      ]
    },
    {
      "cell_type": "code",
      "metadata": {
        "colab": {
          "base_uri": "https://localhost:8080/"
        },
        "id": "VJQ2r0lt2peb",
        "outputId": "e5a0ce74-e888-4972-db7b-acae1076c829"
      },
      "source": [
        "concordance.loc[concordance['산업명'].isna(), 'KSIC_CODE'].unique()"
      ],
      "execution_count": 39,
      "outputs": [
        {
          "output_type": "execute_result",
          "data": {
            "text/plain": [
              "array(['C20', 'C26', 'C24', 'C25', 'C29', 'C28', 'C27', 'C31', 'N75',\n",
              "       'C34', 'E36', 'L68', 'G45', 'G47', 'G46', 'H49', 'H52', 'H50',\n",
              "       'H51', 'I55', 'I56', 'J58', 'J59', 'J61', 'J63', 'J62', 'J60',\n",
              "       'K64', 'K65', 'K66', 'M70', 'M71', 'M72', 'M73', 'N76', 'N74',\n",
              "       'O84', 'P85', 'Q86', 'Q87', 'R91', 'R90', 'S96', 'S95', 'A03',\n",
              "       'S94', 'T97', 'U99', 'T98'], dtype=object)"
            ]
          },
          "metadata": {},
          "execution_count": 39
        }
      ]
    },
    {
      "cell_type": "code",
      "metadata": {
        "id": "kAzyU-1lSFZm"
      },
      "source": [
        "concordance.reset_index(drop=True, inplace=True)"
      ],
      "execution_count": 40,
      "outputs": []
    },
    {
      "cell_type": "markdown",
      "metadata": {
        "id": "7DgAwMg4cZ__"
      },
      "source": [
        "### 세분류 기준"
      ]
    },
    {
      "cell_type": "code",
      "metadata": {
        "colab": {
          "base_uri": "https://localhost:8080/"
        },
        "id": "8eLKKpuedy8C",
        "outputId": "dc2ca697-3513-4613-bef8-519b96efc38f"
      },
      "source": [
        "concordance['KSIC9_코드'].isna().sum()"
      ],
      "execution_count": 41,
      "outputs": [
        {
          "output_type": "execute_result",
          "data": {
            "text/plain": [
              "0"
            ]
          },
          "metadata": {},
          "execution_count": 41
        }
      ]
    },
    {
      "cell_type": "code",
      "metadata": {
        "id": "knd35q8jcduv"
      },
      "source": [
        "for i in concordance.loc[concordance['산업명'].isna()].index:\n",
        "    if pd.notnull(concordance.loc[i, 'KSIC9_코드']):\n",
        "        concordance.loc[i, 'KSIC_CODE'] = concordance.loc[i, 'KSIC10_대분류코드']+str(int(concordance.loc[i, 'KSIC9_코드'])).zfill(4)"
      ],
      "execution_count": 42,
      "outputs": []
    },
    {
      "cell_type": "code",
      "metadata": {
        "colab": {
          "base_uri": "https://localhost:8080/"
        },
        "id": "pJAdLSYlctsq",
        "outputId": "7efd7748-eb3c-46bf-c6e1-85c8279673a6"
      },
      "source": [
        "set(ksic9['KSIC_CODE'])"
      ],
      "execution_count": 43,
      "outputs": [
        {
          "output_type": "execute_result",
          "data": {
            "text/plain": [
              "{'A01',\n",
              " 'A02',\n",
              " 'A03',\n",
              " 'B05',\n",
              " 'B06',\n",
              " 'B07',\n",
              " 'B08',\n",
              " 'C10',\n",
              " 'C11',\n",
              " 'C12',\n",
              " 'C13',\n",
              " 'C14',\n",
              " 'C15',\n",
              " 'C16',\n",
              " 'C17',\n",
              " 'C18',\n",
              " 'C19',\n",
              " 'C2010',\n",
              " 'C2020',\n",
              " 'C2030',\n",
              " 'C2041',\n",
              " 'C2042',\n",
              " 'C2043',\n",
              " 'C2049',\n",
              " 'C2050',\n",
              " 'C21',\n",
              " 'C22',\n",
              " 'C23',\n",
              " 'C2410',\n",
              " 'C2420',\n",
              " 'C2430',\n",
              " 'C2510',\n",
              " 'C2520',\n",
              " 'C2590',\n",
              " 'C2610',\n",
              " 'C2620',\n",
              " 'C2630',\n",
              " 'C2640',\n",
              " 'C2650',\n",
              " 'C2660',\n",
              " 'C2710',\n",
              " 'C2720',\n",
              " 'C2730',\n",
              " 'C2740',\n",
              " 'C2810',\n",
              " 'C2820',\n",
              " 'C2830',\n",
              " 'C2840',\n",
              " 'C2850',\n",
              " 'C2890',\n",
              " 'C2918',\n",
              " 'C2919',\n",
              " 'C2920',\n",
              " 'C30',\n",
              " 'C3110',\n",
              " 'C3120',\n",
              " 'C3130',\n",
              " 'C3191',\n",
              " 'C3192',\n",
              " 'C3199',\n",
              " 'C32',\n",
              " 'C33',\n",
              " 'D35',\n",
              " 'D36',\n",
              " 'E37',\n",
              " 'E38',\n",
              " 'E39',\n",
              " 'F41',\n",
              " 'F42',\n",
              " 'J582',\n",
              " 'J62',\n",
              " 'J63'}"
            ]
          },
          "metadata": {},
          "execution_count": 43
        }
      ]
    },
    {
      "cell_type": "code",
      "metadata": {
        "colab": {
          "base_uri": "https://localhost:8080/"
        },
        "id": "ci-UQ9VxeSXL",
        "outputId": "272d516e-2ed1-4934-e788-6c7308e39b4f"
      },
      "source": [
        "concordance['KSIC_CODE']"
      ],
      "execution_count": 44,
      "outputs": [
        {
          "output_type": "execute_result",
          "data": {
            "text/plain": [
              "0          A01\n",
              "1          A01\n",
              "2          A01\n",
              "3          A01\n",
              "4          A01\n",
              "         ...  \n",
              "2003    U99009\n",
              "2004    M71511\n",
              "2005    M71519\n",
              "2006    T98100\n",
              "2007    T98200\n",
              "Name: KSIC_CODE, Length: 2008, dtype: object"
            ]
          },
          "metadata": {},
          "execution_count": 44
        }
      ]
    },
    {
      "cell_type": "code",
      "metadata": {
        "colab": {
          "base_uri": "https://localhost:8080/"
        },
        "id": "_NBcA0LLcduw",
        "outputId": "ee0f5070-365c-4fd0-b7df-abc915ae444a"
      },
      "source": [
        "(concordance['KSIC_CODE'] == 'C2010').sum()"
      ],
      "execution_count": 45,
      "outputs": [
        {
          "output_type": "execute_result",
          "data": {
            "text/plain": [
              "0"
            ]
          },
          "metadata": {},
          "execution_count": 45
        }
      ]
    },
    {
      "cell_type": "code",
      "metadata": {
        "id": "VDMiKPGRcduw"
      },
      "source": [
        "concordance.loc[concordance['산업명'].isna(), '산업명'] = concordance.loc[concordance['산업명'].isna(),concordance.columns[:-1]].merge(ksic9, how='left')['산업명']"
      ],
      "execution_count": 46,
      "outputs": []
    },
    {
      "cell_type": "code",
      "metadata": {
        "colab": {
          "base_uri": "https://localhost:8080/"
        },
        "id": "MyEWXQm8cduw",
        "outputId": "28b4649e-3bd9-4df9-d67d-1c15aec2f086"
      },
      "source": [
        "concordance.isna().sum()"
      ],
      "execution_count": 47,
      "outputs": [
        {
          "output_type": "execute_result",
          "data": {
            "text/plain": [
              "일련번호                    4\n",
              "2018년 귀속(현행)업종코드       73\n",
              "2019년 귀속(개편후)업종코드       4\n",
              "국세청_대분류코드               4\n",
              "국세청_대분류                 4\n",
              "국세청_중분류코드               4\n",
              "국세청_중분류                 4\n",
              "국세청_소분류코드               4\n",
              "국세청_소분류                 4\n",
              "국세청_세분류코드               4\n",
              "국세청_세분류                 4\n",
              "국세청_세세분류                4\n",
              "국세청_연계                  4\n",
              "KSIC10_코드               0\n",
              "KSIC10_대분류코드            0\n",
              "KSIC10_대분류              0\n",
              "KSIC10_중분류코드            0\n",
              "KSIC10_중분류              0\n",
              "KSIC10_소분류코드            0\n",
              "KSIC10_소분류              0\n",
              "KSIC10_세분류코드            0\n",
              "KSIC10_세분류              0\n",
              "KSIC10_세세분류             0\n",
              "KSIC10_연계               0\n",
              "메인                   1598\n",
              "세부설명                 1296\n",
              "KSIC10_항목명             22\n",
              "KSIC9_코드                0\n",
              "KSIC9_항목명               0\n",
              "KSIC_CODE               0\n",
              "산업명                  1415\n",
              "dtype: int64"
            ]
          },
          "metadata": {},
          "execution_count": 47
        }
      ]
    },
    {
      "cell_type": "code",
      "metadata": {
        "id": "pCCazDrXSRzL"
      },
      "source": [
        "concordance.reset_index(drop=True, inplace=True)"
      ],
      "execution_count": 48,
      "outputs": []
    },
    {
      "cell_type": "markdown",
      "metadata": {
        "id": "c49JCKK-eemi"
      },
      "source": [
        "## 이름 기준 병합"
      ]
    },
    {
      "cell_type": "markdown",
      "metadata": {
        "id": "15aQBaSWg3l9"
      },
      "source": [
        "### 주어진 이름만 사용"
      ]
    },
    {
      "cell_type": "code",
      "metadata": {
        "colab": {
          "base_uri": "https://localhost:8080/"
        },
        "id": "YB4H6YiMRhPa",
        "outputId": "03ca80db-9103-4fb5-abdc-8c372a1feed4"
      },
      "source": [
        "concordance['산업명'].isna().sum()"
      ],
      "execution_count": 49,
      "outputs": [
        {
          "output_type": "execute_result",
          "data": {
            "text/plain": [
              "1415"
            ]
          },
          "metadata": {},
          "execution_count": 49
        }
      ]
    },
    {
      "cell_type": "code",
      "metadata": {
        "colab": {
          "base_uri": "https://localhost:8080/"
        },
        "id": "PEz_Uhj-RsTK",
        "outputId": "40a62e63-36e2-4e64-a24b-aae8080ca8aa"
      },
      "source": [
        "set(concordance.loc[concordance['산업명'].isna(),concordance.columns[:-2]].merge(ksic9, how='left', left_on = 'KSIC9_항목명', right_on = '산업명')['산업명'])"
      ],
      "execution_count": 50,
      "outputs": [
        {
          "output_type": "execute_result",
          "data": {
            "text/plain": [
              "{nan,\n",
              " '마그네틱 및 광학 매체 제조업',\n",
              " '모터사이클 제조업',\n",
              " '무기 및 총포탄 제조업',\n",
              " '사무용 기계 및 장비 제조업',\n",
              " '전투용 차량 제조업'}"
            ]
          },
          "metadata": {},
          "execution_count": 50
        }
      ]
    },
    {
      "cell_type": "code",
      "metadata": {
        "id": "FsMht8QY1xoq"
      },
      "source": [
        "concordance.loc[concordance['산업명'].isna(), '산업명'] = list(concordance.loc[concordance['산업명'].isna(),concordance.columns[:-2]].merge(ksic9, how='left', left_on = 'KSIC9_항목명', right_on = '산업명')['산업명'])"
      ],
      "execution_count": 51,
      "outputs": []
    },
    {
      "cell_type": "code",
      "metadata": {
        "colab": {
          "base_uri": "https://localhost:8080/"
        },
        "id": "ypHqZtysRY7Z",
        "outputId": "4e1ce6b8-e358-4766-97eb-03b3713628fb"
      },
      "source": [
        "concordance['산업명'].isna().sum()"
      ],
      "execution_count": 52,
      "outputs": [
        {
          "output_type": "execute_result",
          "data": {
            "text/plain": [
              "1409"
            ]
          },
          "metadata": {},
          "execution_count": 52
        }
      ]
    },
    {
      "cell_type": "code",
      "metadata": {
        "colab": {
          "base_uri": "https://localhost:8080/"
        },
        "id": "EHkhz-HVP2Oi",
        "outputId": "c3e39985-af39-4470-cc20-866db52fcd56"
      },
      "source": [
        "set(concordance.loc[concordance['산업명'].isna(),concordance.columns[:-2]].merge(ksic9, how='left', left_on = 'KSIC10_소분류', right_on = '산업명')['산업명'])"
      ],
      "execution_count": 53,
      "outputs": [
        {
          "output_type": "execute_result",
          "data": {
            "text/plain": [
              "{'1차 비철금속 제조업',\n",
              " nan,\n",
              " '가정용 기기 제조업',\n",
              " '기타 전기장비 제조업',\n",
              " '반도체 제조업',\n",
              " '의료용 기기 제조업',\n",
              " '일차전지 및 축전지 제조업',\n",
              " '전구 및 조명장치 제조업',\n",
              " '철도장비 제조업',\n",
              " '합성고무 및 플라스틱 물질 제조업',\n",
              " '화학섬유 제조업'}"
            ]
          },
          "metadata": {},
          "execution_count": 53
        }
      ]
    },
    {
      "cell_type": "code",
      "metadata": {
        "id": "kXXGmrV4Vbhm"
      },
      "source": [
        "concordance.loc[concordance['산업명'].isna(), '산업명'] = list(concordance.loc[concordance['산업명'].isna(),concordance.columns[:-2]].merge(ksic9, how='left', left_on = 'KSIC10_소분류', right_on = '산업명')['산업명'])"
      ],
      "execution_count": 54,
      "outputs": []
    },
    {
      "cell_type": "code",
      "metadata": {
        "colab": {
          "base_uri": "https://localhost:8080/"
        },
        "id": "Tu-jjiNGVbhm",
        "outputId": "df2bcfd5-db7b-4158-c48c-148dacc316ee"
      },
      "source": [
        "concordance['산업명'].isna().sum()"
      ],
      "execution_count": 55,
      "outputs": [
        {
          "output_type": "execute_result",
          "data": {
            "text/plain": [
              "1357"
            ]
          },
          "metadata": {},
          "execution_count": 55
        }
      ]
    },
    {
      "cell_type": "code",
      "metadata": {
        "colab": {
          "base_uri": "https://localhost:8080/"
        },
        "id": "tKiAjjlAVDxY",
        "outputId": "d6f70e77-1552-49bc-da4d-ee66ac776212"
      },
      "source": [
        "set(concordance.loc[concordance['산업명'].isna(),concordance.columns[:-2]].merge(ksic9, how='left', left_on = 'KSIC10_세분류', right_on = '산업명')['산업명'])"
      ],
      "execution_count": 56,
      "outputs": [
        {
          "output_type": "execute_result",
          "data": {
            "text/plain": [
              "{nan, '그 외 기타 화학제품 제조업', '세제, 화장품 및 광택제 제조업'}"
            ]
          },
          "metadata": {},
          "execution_count": 56
        }
      ]
    },
    {
      "cell_type": "code",
      "metadata": {
        "id": "CkJrBKH-Vl99"
      },
      "source": [
        "concordance.loc[concordance['산업명'].isna(), '산업명'] = list(concordance.loc[concordance['산업명'].isna(),concordance.columns[:-2]].merge(ksic9, how='left', left_on = 'KSIC10_세분류', right_on = '산업명')['산업명'])"
      ],
      "execution_count": 57,
      "outputs": []
    },
    {
      "cell_type": "code",
      "metadata": {
        "colab": {
          "base_uri": "https://localhost:8080/"
        },
        "id": "i7DPpacAVl9_",
        "outputId": "3c755f91-de27-44f8-c0f2-b1610ea516fa"
      },
      "source": [
        "concordance['산업명'].isna().sum()"
      ],
      "execution_count": 58,
      "outputs": [
        {
          "output_type": "execute_result",
          "data": {
            "text/plain": [
              "1341"
            ]
          },
          "metadata": {},
          "execution_count": 58
        }
      ]
    },
    {
      "cell_type": "code",
      "metadata": {
        "colab": {
          "base_uri": "https://localhost:8080/"
        },
        "id": "jAGCkUx4VqrL",
        "outputId": "76f3177b-0d34-40a1-fee5-5e2521821951"
      },
      "source": [
        "set(concordance.loc[concordance['산업명'].isna(),concordance.columns[:-2]].merge(ksic9, how='left', left_on = 'KSIC10_세세분류', right_on = '산업명')['산업명'])"
      ],
      "execution_count": 59,
      "outputs": [
        {
          "output_type": "execute_result",
          "data": {
            "text/plain": [
              "{nan}"
            ]
          },
          "metadata": {},
          "execution_count": 59
        }
      ]
    },
    {
      "cell_type": "markdown",
      "metadata": {
        "id": "8TUHt5Vvg9me"
      },
      "source": [
        "### 유사도 기반 분류"
      ]
    },
    {
      "cell_type": "code",
      "metadata": {
        "id": "8keQwt-9mZ2c"
      },
      "source": [
        "concordance2 = concordance.copy()\n",
        "# concordance = concordance2.copy()"
      ],
      "execution_count": 60,
      "outputs": []
    },
    {
      "cell_type": "code",
      "metadata": {
        "id": "v0Z4bm3VXPf_"
      },
      "source": [
        "def jaccard_similarity(str1, str2):\n",
        "    intersection = len(list(set(str1).intersection(str2)))\n",
        "    union = (len(set(str1)) + len(set(str2))) - intersection\n",
        "    return float(intersection) / union"
      ],
      "execution_count": 61,
      "outputs": []
    },
    {
      "cell_type": "code",
      "metadata": {
        "id": "jJTVc8eYhBsF"
      },
      "source": [
        "def similarity_measure(list1, list2, print_len=15):\n",
        "    from itertools import product\n",
        "    items = [list1, list2]\n",
        "    # items = [list(set(ksic9['산업명']) - set(concordance.loc[concordance['산업명'].isna(), '산업명'])), list(set(concordance['KSIC10_소분류']))]\n",
        "    # items = [list(set(ksic9['산업명'])), list(set(concordance.loc[concordance['산업명'].isna(), 'KSIC10_소분류']))]\n",
        "    print(concordance['산업명'].isna().sum())\n",
        "\n",
        "    sim_df = pd.DataFrame()\n",
        "    for i, j in list(product(*items)):\n",
        "        sim = jaccard_similarity(i, j)\n",
        "        sim_dict = {'KSIC9': i, 'KSIC10': j, 'Jaccard_sim': sim}\n",
        "        # print(sim_dict)\n",
        "        sim_df = sim_df.append(sim_dict, ignore_index=True)\n",
        "    print(sim_df.sort_values('Jaccard_sim', ascending=False)[:print_len].to_markdown())\n",
        "    return sim_df.sort_values('Jaccard_sim', ascending=False)"
      ],
      "execution_count": 62,
      "outputs": []
    },
    {
      "cell_type": "code",
      "metadata": {
        "colab": {
          "base_uri": "https://localhost:8080/"
        },
        "id": "sj7EJexTZMiS",
        "outputId": "3614810b-f923-4bec-a4d3-6e7c043026f0"
      },
      "source": [
        "sim_df = similarity_measure(list(set(ksic9['산업명']) - set(concordance['산업명'])), list(set(concordance.loc[concordance['산업명'].isna(), 'KSIC10_소분류'])))"
      ],
      "execution_count": null,
      "outputs": [
        {
          "output_type": "stream",
          "name": "stdout",
          "text": [
            "1341\n"
          ]
        }
      ]
    },
    {
      "cell_type": "code",
      "metadata": {
        "id": "fBPvNnjkhX8X"
      },
      "source": [
        "def change_notation(sim_df, condition, ksic9, concordance):\n",
        "\n",
        "    import pprint\n",
        "\n",
        "    def unify(x):\n",
        "        import numpy as np\n",
        "        return high_sim_dict[x] if x in high_sim_dict.keys() else np.nan\n",
        "\n",
        "    if (type(condition) == float) | (type(condition) == int):\n",
        "        sim_df2 = sim_df.loc[sim_df['Jaccard_sim'] >= condition]\n",
        "        high_sim_dict = dict(zip(sim_df2['KSIC10'], sim_df2['KSIC9']))#; print(high_sim_dict)\n",
        "\n",
        "    elif type(condition) == str:\n",
        "        sim_df2 = sim_df.sort_values('Jaccard_sim', ascending=False)[:15].loc[sim_df['KSIC10'] == condition].sort_values('Jaccard_sim', ascending=True)\n",
        "        high_sim_dict = dict(zip(sim_df2['KSIC10'], sim_df2['KSIC9']))#; print(high_sim_dict) # dict에서 key 하나에 덮어쓰는 거 때문에.. 가장 높은 순위에 해당하는거만 뽑으려고 위에서 sort 다시 해줌\n",
        "        sim_df2 = sim_df2.sort_values('Jaccard_sim', ascending=False)\n",
        "\n",
        "    elif type(condition) == list:\n",
        "        sim_df2 = sim_df.sort_values('Jaccard_sim', ascending=False)[:15].loc[sim_df['KSIC10'].apply(lambda x: x in condition)].sort_values('Jaccard_sim', ascending=True)\n",
        "        high_sim_dict = dict(zip(sim_df2['KSIC10'], sim_df2['KSIC9']))#; print(high_sim_dict)\n",
        "        sim_df2 = sim_df2.sort_values('Jaccard_sim', ascending=False)\n",
        "    \n",
        "    pprint.pprint(high_sim_dict)\n",
        "    concordance.loc[concordance['산업명'].isna(), '산업명'] = concordance.loc[concordance['산업명'].isna(), 'KSIC10_소분류'].apply(lambda x: unify(x))\n",
        "    \n",
        "    sim_df = pd.concat([sim_df, sim_df2]).drop_duplicates(['KSIC9', 'KSIC10'], keep=False)\n",
        "\n",
        "    return concordance, sim_df"
      ],
      "execution_count": null,
      "outputs": []
    },
    {
      "cell_type": "code",
      "metadata": {
        "id": "4TcDDcErmq6L"
      },
      "source": [
        "sim_df2 = sim_df.copy()\n",
        "# sim_df = sim_df2.copy()"
      ],
      "execution_count": null,
      "outputs": []
    },
    {
      "cell_type": "code",
      "metadata": {
        "id": "swndMTEpiE8r"
      },
      "source": [
        "concordance, sim_df = change_notation(sim_df, 1, ksic9, concordance)"
      ],
      "execution_count": null,
      "outputs": []
    },
    {
      "cell_type": "code",
      "metadata": {
        "id": "yElceDUQi4u-"
      },
      "source": [
        "concordance['산업명'].isna().sum()"
      ],
      "execution_count": null,
      "outputs": []
    },
    {
      "cell_type": "code",
      "metadata": {
        "id": "tj9spg7fm8hK"
      },
      "source": [
        "sim_df[:15]"
      ],
      "execution_count": null,
      "outputs": []
    },
    {
      "cell_type": "code",
      "metadata": {
        "id": "_fJEuMDTk70s"
      },
      "source": [
        "concordance, sim_df = change_notation(sim_df, 0.6, ksic9, concordance)"
      ],
      "execution_count": null,
      "outputs": []
    },
    {
      "cell_type": "code",
      "metadata": {
        "id": "j8MdK47klhJD"
      },
      "source": [
        "concordance['산업명'].isna().sum()"
      ],
      "execution_count": null,
      "outputs": []
    },
    {
      "cell_type": "code",
      "metadata": {
        "id": "z2cfczpdli1G"
      },
      "source": [
        "sim_df = similarity_measure(list(set(ksic9['산업명']) - set(concordance['산업명'])), list(set(concordance.loc[concordance['산업명'].isna(), 'KSIC10_소분류'])))"
      ],
      "execution_count": null,
      "outputs": []
    },
    {
      "cell_type": "code",
      "metadata": {
        "id": "ugQX9Tfimr1T"
      },
      "source": [
        "concordance2 = concordance.copy()\n",
        "# concordance = concordance2.copy()"
      ],
      "execution_count": null,
      "outputs": []
    },
    {
      "cell_type": "code",
      "metadata": {
        "id": "AJMI24VMotNK"
      },
      "source": [
        "sim_df = similarity_measure(list(set(ksic9['산업명']) - set(concordance['산업명'])), list(set(concordance.loc[concordance['산업명'].isna(), 'KSIC10_소분류'])), 30)"
      ],
      "execution_count": null,
      "outputs": []
    },
    {
      "cell_type": "code",
      "metadata": {
        "id": "py4KOMxkcKdF"
      },
      "source": [
        "concordance, sim_df = change_notation(sim_df, ['비료, 농약 및 살균ㆍ살충제 제조업', '항공기, 우주선 및 부품 제조업', '선박 및 보트 건조업', '일반 목적용 기계 제조업'], ksic9, concordance)"
      ],
      "execution_count": null,
      "outputs": []
    },
    {
      "cell_type": "code",
      "metadata": {
        "id": "avQ4oR9XY8Qt"
      },
      "source": [
        "concordance['산업명'].isna().sum()"
      ],
      "execution_count": null,
      "outputs": []
    },
    {
      "cell_type": "code",
      "metadata": {
        "id": "Z3ODwZq5ZAMl"
      },
      "source": [
        "sim_df = similarity_measure(list(set(ksic9['산업명']) - set(concordance['산업명'])), list(set(concordance.loc[concordance['산업명'].isna(), 'KSIC10_소분류'])), 50)"
      ],
      "execution_count": null,
      "outputs": []
    },
    {
      "cell_type": "code",
      "metadata": {
        "id": "UpmsHNtkeuc0"
      },
      "source": [
        "set(concordance.loc[concordance['산업명'].isna(), 'KSIC10_소분류'])"
      ],
      "execution_count": null,
      "outputs": []
    },
    {
      "cell_type": "code",
      "metadata": {
        "id": "dvOtrqmMnOea"
      },
      "source": [
        ""
      ],
      "execution_count": null,
      "outputs": []
    },
    {
      "cell_type": "code",
      "metadata": {
        "id": "q9mr2RMMncyk"
      },
      "source": [
        "sim_df = similarity_measure(list(set(ksic9['산업명'])), list(set(concordance.loc[concordance['산업명'].isna(), 'KSIC10_소분류'])), 50)"
      ],
      "execution_count": null,
      "outputs": []
    },
    {
      "cell_type": "code",
      "metadata": {
        "id": "o0jtDltno9sM"
      },
      "source": [
        "concordance2 = concordance.copy()\n",
        "sim_df2 = sim_df.copy()"
      ],
      "execution_count": null,
      "outputs": []
    },
    {
      "cell_type": "code",
      "metadata": {
        "id": "97tRH3WTn86I"
      },
      "source": [
        "concordance, sim_df = change_notation(sim_df, ['기타 화학제품 제조업', '건축 기술, 엔지니어링 및 관련 기술 서비스업', '컴퓨터 프로그래밍, 시스템 통합 및 관리업'], ksic9, concordance)"
      ],
      "execution_count": null,
      "outputs": []
    },
    {
      "cell_type": "code",
      "metadata": {
        "id": "eygc9H0lNrRR"
      },
      "source": [
        "concordance['산업명'].isna().sum()"
      ],
      "execution_count": null,
      "outputs": []
    },
    {
      "cell_type": "code",
      "metadata": {
        "id": "7l1P1EDWRamg"
      },
      "source": [
        "exclude = ['광고업', '판매업', '서비스업', '도매업', '수리업', '소매업', '임대업']\n",
        "print(set(concordance.loc[(concordance['산업명'].isna()) & ~(concordance['KSIC10_소분류'].str.contains('|'.join(exclude))), 'KSIC10_소분류']))\n",
        "print(concordance.loc[(concordance['산업명'].isna()) & ~(concordance['KSIC10_소분류'].str.contains('|'.join(exclude))), 'KSIC10_소분류'].value_counts()[:30])"
      ],
      "execution_count": null,
      "outputs": []
    },
    {
      "cell_type": "code",
      "metadata": {
        "id": "3GV6iqjkTUhJ"
      },
      "source": [
        "print(concordance.loc[(concordance['산업명'].isna()) & (concordance['KSIC10_소분류'].str.contains('|'.join(exclude))), 'KSIC10_소분류'].value_counts()[:30])"
      ],
      "execution_count": null,
      "outputs": []
    },
    {
      "cell_type": "code",
      "metadata": {
        "id": "3tZgZGd4uHM4"
      },
      "source": [
        "concordance['KSIC10_소분류'].nunique()"
      ],
      "execution_count": null,
      "outputs": []
    },
    {
      "cell_type": "code",
      "metadata": {
        "id": "2DdCKXyBt5mw"
      },
      "source": [
        "concordance.loc[(concordance['산업명'].isna()), 'KSIC10_소분류'].nunique()"
      ],
      "execution_count": null,
      "outputs": []
    },
    {
      "cell_type": "code",
      "metadata": {
        "id": "ZvLO5wAjtcdR"
      },
      "source": [
        "concordance.isna().sum()"
      ],
      "execution_count": null,
      "outputs": []
    },
    {
      "cell_type": "markdown",
      "metadata": {
        "id": "Us6qOCZbyrDo"
      },
      "source": [
        "## 나머지"
      ]
    },
    {
      "cell_type": "code",
      "metadata": {
        "id": "4U5UMl4RoyEI"
      },
      "source": [
        "set(queries.keys()) - set(concordance['산업명'].unique())"
      ],
      "execution_count": null,
      "outputs": []
    },
    {
      "cell_type": "code",
      "metadata": {
        "id": "APW7tnuwypSb"
      },
      "source": [
        "concordance.loc[(concordance['KSIC10_세세분류'].str.contains('비료|질소')) & (concordance['KSIC10_소분류'] == '비료, 농약 및 살균ㆍ살충제 제조업'), '산업명'] = '비료 및 질소 화학물 제조업'"
      ],
      "execution_count": null,
      "outputs": []
    },
    {
      "cell_type": "code",
      "metadata": {
        "id": "5Fd9APw5yzWQ"
      },
      "source": [
        "concordance.loc[(concordance['KSIC10_세세분류'].str.contains('살충제|농약')) & (concordance['KSIC10_소분류'] == '비료, 농약 및 살균ㆍ살충제 제조업'), '산업명'] = '살충제 및 기타농약제조업'"
      ],
      "execution_count": null,
      "outputs": []
    },
    {
      "cell_type": "code",
      "metadata": {
        "id": "La7P8HVr0UQY"
      },
      "source": [
        "concordance.loc[(concordance['KSIC10_세세분류'].str.contains('잉크|페인트|코팅제')) & (concordance['KSIC10_소분류'] == '기타 화학제품 제조업'), '산업명']"
      ],
      "execution_count": null,
      "outputs": []
    },
    {
      "cell_type": "code",
      "metadata": {
        "id": "_7bsU93X06xU"
      },
      "source": [
        "concordance.loc[(concordance['KSIC10_세세분류'].str.contains('잉크|페인트|코팅제')) & (concordance['KSIC10_소분류'] == '기타 화학제품 제조업'), '산업명'] = '잉크, 페인트 코팅제 및 유사제품 제조업'"
      ],
      "execution_count": null,
      "outputs": []
    },
    {
      "cell_type": "code",
      "metadata": {
        "id": "-0wJtWVk1tjF"
      },
      "source": [
        "from datetime import datetime"
      ],
      "execution_count": null,
      "outputs": []
    },
    {
      "cell_type": "code",
      "metadata": {
        "id": "OTdO3Oi-1jt_"
      },
      "source": [
        "concordance.to_csv('국세청업종코드-KSIC10-KSIC9_final_{}.csv'.format(datetime.today().strftime(\"%m%d\")))"
      ],
      "execution_count": null,
      "outputs": []
    },
    {
      "cell_type": "code",
      "metadata": {
        "id": "hx9C2cR32T36"
      },
      "source": [
        ""
      ],
      "execution_count": null,
      "outputs": []
    },
    {
      "cell_type": "markdown",
      "metadata": {
        "id": "639pEmmZtazD"
      },
      "source": [
        "# 최종 확인 및 테이블 생성\n",
        "- 국세청-KSIC10-KSIC9-IPC를 연계한 테이블을 생성함."
      ]
    },
    {
      "cell_type": "code",
      "metadata": {
        "id": "U5UWo-7ytpkA"
      },
      "source": [
        "import pandas as pd"
      ],
      "execution_count": 96,
      "outputs": []
    },
    {
      "cell_type": "code",
      "metadata": {
        "id": "YVEG6pfNtrRi"
      },
      "source": [
        "concordance = pd.read_csv('국세청업종코드-KSIC10-KSIC9_final_0901.csv')"
      ],
      "execution_count": 97,
      "outputs": []
    },
    {
      "cell_type": "code",
      "metadata": {
        "colab": {
          "base_uri": "https://localhost:8080/"
        },
        "id": "0F-CrRf_vd9V",
        "outputId": "056fe7dc-3988-45c3-f1ce-eeb0edf39644"
      },
      "source": [
        "concordance[concordance['산업명'].isna()].value_counts('KSIC10_대분류')"
      ],
      "execution_count": null,
      "outputs": [
        {
          "output_type": "execute_result",
          "data": {
            "text/plain": [
              "KSIC10_대분류\n",
              "도매 및 소매업                           466\n",
              "교육 서비스업                             83\n",
              "운수 및 창고업                            81\n",
              "예술, 스포츠 및 여가관련 서비스업                 66\n",
              "전문, 과학 및 기술 서비스업                    61\n",
              "협회 및 단체, 수리 및 기타 개인 서비스업            60\n",
              "사업시설 관리, 사업 지원 및 임대 서비스업            58\n",
              "숙박 및 음식점업                           51\n",
              "금융 및 보험업                            42\n",
              "보건업 및 사회복지 서비스업                     41\n",
              "정보통신업                               34\n",
              "부동산업                                33\n",
              "공공 행정, 국방 및 사회보장 행정                 25\n",
              "제조업                                  4\n",
              "농업, 임업 및 어업                          3\n",
              "가구내 고용활동 및 달리 분류되지 않은 자가소비 생산활동      3\n",
              "국제 및 외국기관                            2\n",
              "수도, 하수 및 폐기물 처리, 원료 재생업              2\n",
              "dtype: int64"
            ]
          },
          "metadata": {},
          "execution_count": 52
        }
      ]
    },
    {
      "cell_type": "code",
      "metadata": {
        "colab": {
          "base_uri": "https://localhost:8080/"
        },
        "id": "_4i8xB8bv2de",
        "outputId": "c80d2ea1-58e3-4cd8-ef5c-853489e88e9a"
      },
      "source": [
        "concordance[(concordance['산업명'].isna()) & (concordance['KSIC10_대분류'] == '농업, 임업 및 어업')].value_counts('KSIC10_소분류')"
      ],
      "execution_count": null,
      "outputs": [
        {
          "output_type": "execute_result",
          "data": {
            "text/plain": [
              "KSIC10_소분류\n",
              "어로 어업    3\n",
              "dtype: int64"
            ]
          },
          "metadata": {},
          "execution_count": 53
        }
      ]
    },
    {
      "cell_type": "code",
      "metadata": {
        "colab": {
          "base_uri": "https://localhost:8080/"
        },
        "id": "MsgSrBl2wW9B",
        "outputId": "5d6562a8-ff07-488f-cb93-46d425e22b71"
      },
      "source": [
        "concordance[(concordance['산업명'].isna()) & (concordance['KSIC10_대분류'] == '제조업')].value_counts('KSIC10_소분류')"
      ],
      "execution_count": null,
      "outputs": [
        {
          "output_type": "execute_result",
          "data": {
            "text/plain": [
              "KSIC10_소분류\n",
              "산업용 기계 및 장비 수리업    4\n",
              "dtype: int64"
            ]
          },
          "metadata": {},
          "execution_count": 16
        }
      ]
    },
    {
      "cell_type": "code",
      "metadata": {
        "colab": {
          "base_uri": "https://localhost:8080/"
        },
        "id": "GkNV2lA0wyNS",
        "outputId": "f229b66d-84b7-44f8-b6bb-107138591144"
      },
      "source": [
        "concordance[(concordance['산업명'].isna()) & (concordance['KSIC10_대분류'] == '정보통신업')].value_counts('KSIC10_소분류')"
      ],
      "execution_count": null,
      "outputs": [
        {
          "output_type": "execute_result",
          "data": {
            "text/plain": [
              "KSIC10_소분류\n",
              "영화, 비디오물, 방송 프로그램 제작 및 배급업            9\n",
              "서적, 잡지 및 기타 인쇄물 출판업                   7\n",
              "전기 통신업                                5\n",
              "텔레비전 방송업                              4\n",
              "오디오물 출판 및 원판 녹음업                      3\n",
              "기타 정보 서비스업                            3\n",
              "자료 처리, 호스팅, 포털 및 기타 인터넷 정보 매개 서비스업    1\n",
              "라디오 방송업                               1\n",
              "공영 우편업                                1\n",
              "dtype: int64"
            ]
          },
          "metadata": {},
          "execution_count": 17
        }
      ]
    },
    {
      "cell_type": "code",
      "metadata": {
        "colab": {
          "base_uri": "https://localhost:8080/"
        },
        "id": "MN_yis3ow6aE",
        "outputId": "6da22eda-6e67-476d-9f8a-099e2f464c2b"
      },
      "source": [
        "concordance[(concordance['산업명'].isna()) & (concordance['KSIC10_대분류'] == '수도, 하수 및 폐기물 처리, 원료 재생업')].value_counts('KSIC10_소분류')"
      ],
      "execution_count": null,
      "outputs": [
        {
          "output_type": "execute_result",
          "data": {
            "text/plain": [
              "KSIC10_소분류\n",
              "수도업    2\n",
              "dtype: int64"
            ]
          },
          "metadata": {},
          "execution_count": 18
        }
      ]
    },
    {
      "cell_type": "code",
      "metadata": {
        "id": "76i0cwsYvZ9o"
      },
      "source": [
        "# concordance = concordance.loc[~concordance['산업명'].isna(), ['KSIC10_대분류', '산업명']]\n",
        "concordance = concordance.loc[~concordance['산업명'].isna()]"
      ],
      "execution_count": 98,
      "outputs": []
    },
    {
      "cell_type": "code",
      "metadata": {
        "colab": {
          "base_uri": "https://localhost:8080/",
          "height": 419
        },
        "id": "9LBtoJRlxxlF",
        "outputId": "de0c829e-c5de-4fe7-c95e-b274f71b0b81"
      },
      "source": [
        "concordance[['KSIC10_대분류', '산업명']]"
      ],
      "execution_count": null,
      "outputs": [
        {
          "output_type": "execute_result",
          "data": {
            "text/html": [
              "<div>\n",
              "<style scoped>\n",
              "    .dataframe tbody tr th:only-of-type {\n",
              "        vertical-align: middle;\n",
              "    }\n",
              "\n",
              "    .dataframe tbody tr th {\n",
              "        vertical-align: top;\n",
              "    }\n",
              "\n",
              "    .dataframe thead th {\n",
              "        text-align: right;\n",
              "    }\n",
              "</style>\n",
              "<table border=\"1\" class=\"dataframe\">\n",
              "  <thead>\n",
              "    <tr style=\"text-align: right;\">\n",
              "      <th></th>\n",
              "      <th>KSIC10_대분류</th>\n",
              "      <th>산업명</th>\n",
              "    </tr>\n",
              "  </thead>\n",
              "  <tbody>\n",
              "    <tr>\n",
              "      <th>0</th>\n",
              "      <td>농업, 임업 및 어업</td>\n",
              "      <td>농림어업</td>\n",
              "    </tr>\n",
              "    <tr>\n",
              "      <th>1</th>\n",
              "      <td>농업, 임업 및 어업</td>\n",
              "      <td>농림어업</td>\n",
              "    </tr>\n",
              "    <tr>\n",
              "      <th>2</th>\n",
              "      <td>농업, 임업 및 어업</td>\n",
              "      <td>농림어업</td>\n",
              "    </tr>\n",
              "    <tr>\n",
              "      <th>3</th>\n",
              "      <td>농업, 임업 및 어업</td>\n",
              "      <td>농림어업</td>\n",
              "    </tr>\n",
              "    <tr>\n",
              "      <th>4</th>\n",
              "      <td>농업, 임업 및 어업</td>\n",
              "      <td>농림어업</td>\n",
              "    </tr>\n",
              "    <tr>\n",
              "      <th>...</th>\n",
              "      <td>...</td>\n",
              "      <td>...</td>\n",
              "    </tr>\n",
              "    <tr>\n",
              "      <th>1959</th>\n",
              "      <td>도매 및 소매업</td>\n",
              "      <td>농림어업</td>\n",
              "    </tr>\n",
              "    <tr>\n",
              "      <th>1960</th>\n",
              "      <td>도매 및 소매업</td>\n",
              "      <td>농림어업</td>\n",
              "    </tr>\n",
              "    <tr>\n",
              "      <th>1961</th>\n",
              "      <td>도매 및 소매업</td>\n",
              "      <td>농림어업</td>\n",
              "    </tr>\n",
              "    <tr>\n",
              "      <th>1962</th>\n",
              "      <td>도매 및 소매업</td>\n",
              "      <td>컴퓨터 프로그래밍, 정보서비스업</td>\n",
              "    </tr>\n",
              "    <tr>\n",
              "      <th>1967</th>\n",
              "      <td>정보통신업</td>\n",
              "      <td>컴퓨터 프로그래밍, 정보서비스업</td>\n",
              "    </tr>\n",
              "  </tbody>\n",
              "</table>\n",
              "<p>893 rows × 2 columns</p>\n",
              "</div>"
            ],
            "text/plain": [
              "       KSIC10_대분류                산업명\n",
              "0     농업, 임업 및 어업               농림어업\n",
              "1     농업, 임업 및 어업               농림어업\n",
              "2     농업, 임업 및 어업               농림어업\n",
              "3     농업, 임업 및 어업               농림어업\n",
              "4     농업, 임업 및 어업               농림어업\n",
              "...           ...                ...\n",
              "1959     도매 및 소매업               농림어업\n",
              "1960     도매 및 소매업               농림어업\n",
              "1961     도매 및 소매업               농림어업\n",
              "1962     도매 및 소매업  컴퓨터 프로그래밍, 정보서비스업\n",
              "1967        정보통신업  컴퓨터 프로그래밍, 정보서비스업\n",
              "\n",
              "[893 rows x 2 columns]"
            ]
          },
          "metadata": {},
          "execution_count": 33
        }
      ]
    },
    {
      "cell_type": "code",
      "metadata": {
        "colab": {
          "base_uri": "https://localhost:8080/",
          "height": 993
        },
        "id": "mOw5SlMgwJcJ",
        "outputId": "e1ffdc48-a9eb-4145-f1d5-fe42b38cfa9c"
      },
      "source": [
        "concordance[['KSIC10_대분류', '산업명']].groupby(['KSIC10_대분류', '산업명']).count()[:30]"
      ],
      "execution_count": null,
      "outputs": [
        {
          "output_type": "execute_result",
          "data": {
            "text/html": [
              "<div>\n",
              "<style scoped>\n",
              "    .dataframe tbody tr th:only-of-type {\n",
              "        vertical-align: middle;\n",
              "    }\n",
              "\n",
              "    .dataframe tbody tr th {\n",
              "        vertical-align: top;\n",
              "    }\n",
              "\n",
              "    .dataframe thead th {\n",
              "        text-align: right;\n",
              "    }\n",
              "</style>\n",
              "<table border=\"1\" class=\"dataframe\">\n",
              "  <thead>\n",
              "    <tr style=\"text-align: right;\">\n",
              "      <th></th>\n",
              "      <th></th>\n",
              "    </tr>\n",
              "    <tr>\n",
              "      <th>KSIC10_대분류</th>\n",
              "      <th>산업명</th>\n",
              "    </tr>\n",
              "  </thead>\n",
              "  <tbody>\n",
              "    <tr>\n",
              "      <th>건설업</th>\n",
              "      <th>건설업, 건축기술 서비스</th>\n",
              "    </tr>\n",
              "    <tr>\n",
              "      <th>광업</th>\n",
              "      <th>광업</th>\n",
              "    </tr>\n",
              "    <tr>\n",
              "      <th>농업, 임업 및 어업</th>\n",
              "      <th>농림어업</th>\n",
              "    </tr>\n",
              "    <tr>\n",
              "      <th rowspan=\"2\" valign=\"top\">도매 및 소매업</th>\n",
              "      <th>농림어업</th>\n",
              "    </tr>\n",
              "    <tr>\n",
              "      <th>컴퓨터 프로그래밍, 정보서비스업</th>\n",
              "    </tr>\n",
              "    <tr>\n",
              "      <th>수도, 하수 및 폐기물 처리, 원료 재생업</th>\n",
              "      <th>하수, 폐기물처리, 원료재생, 환경복원</th>\n",
              "    </tr>\n",
              "    <tr>\n",
              "      <th>전기, 가스, 증기 및 공기 조절 공급업</th>\n",
              "      <th>전기, 가스, 증기, 수도</th>\n",
              "    </tr>\n",
              "    <tr>\n",
              "      <th>전문, 과학 및 기술 서비스업</th>\n",
              "      <th>건설업, 건축기술 서비스</th>\n",
              "    </tr>\n",
              "    <tr>\n",
              "      <th>정보통신업</th>\n",
              "      <th>컴퓨터 프로그래밍, 정보서비스업</th>\n",
              "    </tr>\n",
              "    <tr>\n",
              "      <th rowspan=\"21\" valign=\"top\">제조업</th>\n",
              "      <th>1차 비철금속 제조업</th>\n",
              "    </tr>\n",
              "    <tr>\n",
              "      <th>1차 철강제조업</th>\n",
              "    </tr>\n",
              "    <tr>\n",
              "      <th>가구 제조업</th>\n",
              "    </tr>\n",
              "    <tr>\n",
              "      <th>가정용 기기 제조업</th>\n",
              "    </tr>\n",
              "    <tr>\n",
              "      <th>가죽, 가방 및 신발제조업</th>\n",
              "    </tr>\n",
              "    <tr>\n",
              "      <th>고무제품 및 플라스틱 제품 제조업</th>\n",
              "    </tr>\n",
              "    <tr>\n",
              "      <th>구조용 금속제품, 탱크, 증기발생기 제조업</th>\n",
              "    </tr>\n",
              "    <tr>\n",
              "      <th>그 외 기타 화학제품 제조업</th>\n",
              "    </tr>\n",
              "    <tr>\n",
              "      <th>그 외 분류 안된 운송장비 제조업</th>\n",
              "    </tr>\n",
              "    <tr>\n",
              "      <th>금속주조업</th>\n",
              "    </tr>\n",
              "    <tr>\n",
              "      <th>기초 화학물질제조업</th>\n",
              "    </tr>\n",
              "    <tr>\n",
              "      <th>기타 금속가공 제품 제조업</th>\n",
              "    </tr>\n",
              "    <tr>\n",
              "      <th>기타 전기장비 제조업</th>\n",
              "    </tr>\n",
              "    <tr>\n",
              "      <th>기타제품 제조업</th>\n",
              "    </tr>\n",
              "    <tr>\n",
              "      <th>담배제조업</th>\n",
              "    </tr>\n",
              "    <tr>\n",
              "      <th>마그네틱 및 광학 매체 제조업</th>\n",
              "    </tr>\n",
              "    <tr>\n",
              "      <th>모터사이클 제조업</th>\n",
              "    </tr>\n",
              "    <tr>\n",
              "      <th>목재 및 나무제품제조업; 가구제외</th>\n",
              "    </tr>\n",
              "    <tr>\n",
              "      <th>무기 및 총포탄 제조업</th>\n",
              "    </tr>\n",
              "    <tr>\n",
              "      <th>반도체 제조업</th>\n",
              "    </tr>\n",
              "    <tr>\n",
              "      <th>비금속광물제품 제조업</th>\n",
              "    </tr>\n",
              "  </tbody>\n",
              "</table>\n",
              "</div>"
            ],
            "text/plain": [
              "Empty DataFrame\n",
              "Columns: []\n",
              "Index: [(건설업, 건설업, 건축기술 서비스), (광업, 광업), (농업, 임업 및 어업, 농림어업), (도매 및 소매업, 농림어업), (도매 및 소매업, 컴퓨터 프로그래밍, 정보서비스업), (수도, 하수 및 폐기물 처리, 원료 재생업, 하수, 폐기물처리, 원료재생, 환경복원), (전기, 가스, 증기 및 공기 조절 공급업, 전기, 가스, 증기, 수도), (전문, 과학 및 기술 서비스업, 건설업, 건축기술 서비스), (정보통신업, 컴퓨터 프로그래밍, 정보서비스업), (제조업, 1차 비철금속 제조업), (제조업, 1차 철강제조업), (제조업, 가구 제조업), (제조업, 가정용 기기 제조업), (제조업, 가죽, 가방 및 신발제조업), (제조업, 고무제품 및 플라스틱 제품 제조업), (제조업, 구조용 금속제품, 탱크, 증기발생기 제조업), (제조업, 그 외 기타 화학제품 제조업), (제조업, 그 외 분류 안된 운송장비 제조업), (제조업, 금속주조업), (제조업, 기초 화학물질제조업), (제조업, 기타 금속가공 제품 제조업), (제조업, 기타 전기장비 제조업), (제조업, 기타제품 제조업), (제조업, 담배제조업), (제조업, 마그네틱 및 광학 매체 제조업), (제조업, 모터사이클 제조업), (제조업, 목재 및 나무제품제조업; 가구제외), (제조업, 무기 및 총포탄 제조업), (제조업, 반도체 제조업), (제조업, 비금속광물제품 제조업)]"
            ]
          },
          "metadata": {},
          "execution_count": 35
        }
      ]
    },
    {
      "cell_type": "code",
      "metadata": {
        "colab": {
          "base_uri": "https://localhost:8080/",
          "height": 1000
        },
        "id": "bhB_yB3cxadM",
        "outputId": "b7e4247a-f9fe-4590-c893-98e573034d89"
      },
      "source": [
        "concordance[['KSIC10_대분류', '산업명']].groupby(['KSIC10_대분류', '산업명']).count()[31:]"
      ],
      "execution_count": null,
      "outputs": [
        {
          "output_type": "execute_result",
          "data": {
            "text/html": [
              "<div>\n",
              "<style scoped>\n",
              "    .dataframe tbody tr th:only-of-type {\n",
              "        vertical-align: middle;\n",
              "    }\n",
              "\n",
              "    .dataframe tbody tr th {\n",
              "        vertical-align: top;\n",
              "    }\n",
              "\n",
              "    .dataframe thead th {\n",
              "        text-align: right;\n",
              "    }\n",
              "</style>\n",
              "<table border=\"1\" class=\"dataframe\">\n",
              "  <thead>\n",
              "    <tr style=\"text-align: right;\">\n",
              "      <th></th>\n",
              "      <th></th>\n",
              "    </tr>\n",
              "    <tr>\n",
              "      <th>KSIC10_대분류</th>\n",
              "      <th>산업명</th>\n",
              "    </tr>\n",
              "  </thead>\n",
              "  <tbody>\n",
              "    <tr>\n",
              "      <th rowspan=\"33\" valign=\"top\">제조업</th>\n",
              "      <th>사무용 기계 및 장비 제조업</th>\n",
              "    </tr>\n",
              "    <tr>\n",
              "      <th>사무용 이외의 일반기계 제조업</th>\n",
              "    </tr>\n",
              "    <tr>\n",
              "      <th>살충제 및 기타농약제조업</th>\n",
              "    </tr>\n",
              "    <tr>\n",
              "      <th>선박 제조업</th>\n",
              "    </tr>\n",
              "    <tr>\n",
              "      <th>섬유제품 제조업 :의복제외</th>\n",
              "    </tr>\n",
              "    <tr>\n",
              "      <th>세제, 화장품 및 광택제 제조업</th>\n",
              "    </tr>\n",
              "    <tr>\n",
              "      <th>시계 및 시계부품 제조업</th>\n",
              "    </tr>\n",
              "    <tr>\n",
              "      <th>식료품 제조업</th>\n",
              "    </tr>\n",
              "    <tr>\n",
              "      <th>안경, 사진장비 및 기타 광학기기 제조업</th>\n",
              "    </tr>\n",
              "    <tr>\n",
              "      <th>영상 및 음향기기 제조업</th>\n",
              "    </tr>\n",
              "    <tr>\n",
              "      <th>음료제조업</th>\n",
              "    </tr>\n",
              "    <tr>\n",
              "      <th>의료용 기기 제조업</th>\n",
              "    </tr>\n",
              "    <tr>\n",
              "      <th>의료용 물질 및 의약품 제조업</th>\n",
              "    </tr>\n",
              "    <tr>\n",
              "      <th>의복, 의복 액세서리 및 모피제품 제조업</th>\n",
              "    </tr>\n",
              "    <tr>\n",
              "      <th>인쇄 및 기록매체복제업</th>\n",
              "    </tr>\n",
              "    <tr>\n",
              "      <th>일차전지 및 축전지 제조업</th>\n",
              "    </tr>\n",
              "    <tr>\n",
              "      <th>잉크, 페인트 코팅제 및 유사제품 제조업</th>\n",
              "    </tr>\n",
              "    <tr>\n",
              "      <th>자동차 제조업</th>\n",
              "    </tr>\n",
              "    <tr>\n",
              "      <th>전구 및 조명장치 제조업</th>\n",
              "    </tr>\n",
              "    <tr>\n",
              "      <th>전동기, 발전기 및 전기변환, 공급, 제어장치 제조업</th>\n",
              "    </tr>\n",
              "    <tr>\n",
              "      <th>전자부품 제조업</th>\n",
              "    </tr>\n",
              "    <tr>\n",
              "      <th>전투용 차량 제조업</th>\n",
              "    </tr>\n",
              "    <tr>\n",
              "      <th>절연선 및 케이블제조업</th>\n",
              "    </tr>\n",
              "    <tr>\n",
              "      <th>철도장비 제조업</th>\n",
              "    </tr>\n",
              "    <tr>\n",
              "      <th>측정, 시험, 향해, 제어, 및 기타 정밀기기 제조업</th>\n",
              "    </tr>\n",
              "    <tr>\n",
              "      <th>컴퓨터 및 주변장치 제조업</th>\n",
              "    </tr>\n",
              "    <tr>\n",
              "      <th>코크스, 연탄 및 석유정제품 제조업</th>\n",
              "    </tr>\n",
              "    <tr>\n",
              "      <th>통신 및 방송 장비 제조업</th>\n",
              "    </tr>\n",
              "    <tr>\n",
              "      <th>특수 기계제조업</th>\n",
              "    </tr>\n",
              "    <tr>\n",
              "      <th>펄프, 종이 및 종이제품 제조업</th>\n",
              "    </tr>\n",
              "    <tr>\n",
              "      <th>합성고무 및 플라스틱 물질 제조업</th>\n",
              "    </tr>\n",
              "    <tr>\n",
              "      <th>항공기 제조업</th>\n",
              "    </tr>\n",
              "    <tr>\n",
              "      <th>화학섬유 제조업</th>\n",
              "    </tr>\n",
              "  </tbody>\n",
              "</table>\n",
              "</div>"
            ],
            "text/plain": [
              "Empty DataFrame\n",
              "Columns: []\n",
              "Index: [(제조업, 사무용 기계 및 장비 제조업), (제조업, 사무용 이외의 일반기계 제조업), (제조업, 살충제 및 기타농약제조업), (제조업, 선박 제조업), (제조업, 섬유제품 제조업 :의복제외), (제조업, 세제, 화장품 및 광택제 제조업), (제조업, 시계 및 시계부품 제조업), (제조업, 식료품 제조업), (제조업, 안경, 사진장비 및 기타 광학기기 제조업), (제조업, 영상 및 음향기기 제조업), (제조업, 음료제조업), (제조업, 의료용 기기 제조업), (제조업, 의료용 물질 및 의약품 제조업), (제조업, 의복, 의복 액세서리 및 모피제품 제조업), (제조업, 인쇄 및 기록매체복제업), (제조업, 일차전지 및 축전지 제조업), (제조업, 잉크, 페인트 코팅제 및 유사제품 제조업), (제조업, 자동차 제조업), (제조업, 전구 및 조명장치 제조업), (제조업, 전동기, 발전기 및 전기변환, 공급, 제어장치 제조업), (제조업, 전자부품 제조업), (제조업, 전투용 차량 제조업), (제조업, 절연선 및 케이블제조업), (제조업, 철도장비 제조업), (제조업, 측정, 시험, 향해, 제어, 및 기타 정밀기기 제조업), (제조업, 컴퓨터 및 주변장치 제조업), (제조업, 코크스, 연탄 및 석유정제품 제조업), (제조업, 통신 및 방송 장비 제조업), (제조업, 특수 기계제조업), (제조업, 펄프, 종이 및 종이제품 제조업), (제조업, 합성고무 및 플라스틱 물질 제조업), (제조업, 항공기 제조업), (제조업, 화학섬유 제조업)]"
            ]
          },
          "metadata": {},
          "execution_count": 36
        }
      ]
    },
    {
      "cell_type": "code",
      "metadata": {
        "colab": {
          "base_uri": "https://localhost:8080/",
          "height": 173
        },
        "id": "ytUrGTNNx-S5",
        "outputId": "3fbb5a28-c2fc-4bef-851d-7f91d7620387"
      },
      "source": [
        "concordance.loc[concordance['KSIC10_대분류'] == '도매 및 소매업', ['KSIC10_소분류', '산업명']]"
      ],
      "execution_count": null,
      "outputs": [
        {
          "output_type": "execute_result",
          "data": {
            "text/html": [
              "<div>\n",
              "<style scoped>\n",
              "    .dataframe tbody tr th:only-of-type {\n",
              "        vertical-align: middle;\n",
              "    }\n",
              "\n",
              "    .dataframe tbody tr th {\n",
              "        vertical-align: top;\n",
              "    }\n",
              "\n",
              "    .dataframe thead th {\n",
              "        text-align: right;\n",
              "    }\n",
              "</style>\n",
              "<table border=\"1\" class=\"dataframe\">\n",
              "  <thead>\n",
              "    <tr style=\"text-align: right;\">\n",
              "      <th></th>\n",
              "      <th>KSIC10_소분류</th>\n",
              "      <th>산업명</th>\n",
              "    </tr>\n",
              "  </thead>\n",
              "  <tbody>\n",
              "    <tr>\n",
              "      <th>1959</th>\n",
              "      <td>자동차 판매업</td>\n",
              "      <td>농림어업</td>\n",
              "    </tr>\n",
              "    <tr>\n",
              "      <th>1960</th>\n",
              "      <td>자동차 판매업</td>\n",
              "      <td>농림어업</td>\n",
              "    </tr>\n",
              "    <tr>\n",
              "      <th>1961</th>\n",
              "      <td>자동차 판매업</td>\n",
              "      <td>농림어업</td>\n",
              "    </tr>\n",
              "    <tr>\n",
              "      <th>1962</th>\n",
              "      <td>무점포 소매업</td>\n",
              "      <td>컴퓨터 프로그래밍, 정보서비스업</td>\n",
              "    </tr>\n",
              "  </tbody>\n",
              "</table>\n",
              "</div>"
            ],
            "text/plain": [
              "     KSIC10_소분류                산업명\n",
              "1959    자동차 판매업               농림어업\n",
              "1960    자동차 판매업               농림어업\n",
              "1961    자동차 판매업               농림어업\n",
              "1962    무점포 소매업  컴퓨터 프로그래밍, 정보서비스업"
            ]
          },
          "metadata": {},
          "execution_count": 38
        }
      ]
    },
    {
      "cell_type": "code",
      "metadata": {
        "id": "0G1FPmG7yKEp"
      },
      "source": [
        "import numpy as np\n",
        "\n",
        "concordance.loc[concordance['KSIC10_대분류'] == '도매 및 소매업', '산업명'] = np.nan"
      ],
      "execution_count": 99,
      "outputs": []
    },
    {
      "cell_type": "code",
      "metadata": {
        "id": "nIrcTeH3yt5K"
      },
      "source": [
        "concordance = concordance.loc[~concordance['산업명'].isna()]"
      ],
      "execution_count": 100,
      "outputs": []
    },
    {
      "cell_type": "code",
      "metadata": {
        "colab": {
          "base_uri": "https://localhost:8080/"
        },
        "id": "B0q1ZZhGzxFE",
        "outputId": "38355184-ec67-40f4-b55e-3e71e7eec890"
      },
      "source": [
        "concordance[['KSIC10_소분류', '산업명']].groupby(['KSIC10_소분류', '산업명']).count().shape"
      ],
      "execution_count": 101,
      "outputs": [
        {
          "output_type": "execute_result",
          "data": {
            "text/plain": [
              "(125, 0)"
            ]
          },
          "metadata": {},
          "execution_count": 101
        }
      ]
    },
    {
      "cell_type": "code",
      "metadata": {
        "colab": {
          "base_uri": "https://localhost:8080/",
          "height": 993
        },
        "id": "1OIUeoBUyzDZ",
        "outputId": "0cbef64a-4fa4-4f74-838d-bc55a3f87346"
      },
      "source": [
        "concordance[['KSIC10_소분류', '산업명']].groupby(['KSIC10_소분류', '산업명']).count()[:30]"
      ],
      "execution_count": null,
      "outputs": [
        {
          "output_type": "execute_result",
          "data": {
            "text/html": [
              "<div>\n",
              "<style scoped>\n",
              "    .dataframe tbody tr th:only-of-type {\n",
              "        vertical-align: middle;\n",
              "    }\n",
              "\n",
              "    .dataframe tbody tr th {\n",
              "        vertical-align: top;\n",
              "    }\n",
              "\n",
              "    .dataframe thead th {\n",
              "        text-align: right;\n",
              "    }\n",
              "</style>\n",
              "<table border=\"1\" class=\"dataframe\">\n",
              "  <thead>\n",
              "    <tr style=\"text-align: right;\">\n",
              "      <th></th>\n",
              "      <th></th>\n",
              "    </tr>\n",
              "    <tr>\n",
              "      <th>KSIC10_소분류</th>\n",
              "      <th>산업명</th>\n",
              "    </tr>\n",
              "  </thead>\n",
              "  <tbody>\n",
              "    <tr>\n",
              "      <th>1차 비철금속 제조업</th>\n",
              "      <th>1차 비철금속 제조업</th>\n",
              "    </tr>\n",
              "    <tr>\n",
              "      <th>1차 철강 제조업</th>\n",
              "      <th>1차 철강제조업</th>\n",
              "    </tr>\n",
              "    <tr>\n",
              "      <th>가구 제조업</th>\n",
              "      <th>가구 제조업</th>\n",
              "    </tr>\n",
              "    <tr>\n",
              "      <th>가정용 기기 제조업</th>\n",
              "      <th>가정용 기기 제조업</th>\n",
              "    </tr>\n",
              "    <tr>\n",
              "      <th>가죽, 가방 및 유사 제품 제조업</th>\n",
              "      <th>가죽, 가방 및 신발제조업</th>\n",
              "    </tr>\n",
              "    <tr>\n",
              "      <th>건물 건설업</th>\n",
              "      <th>건설업, 건축기술 서비스</th>\n",
              "    </tr>\n",
              "    <tr>\n",
              "      <th>건물설비 설치 공사업</th>\n",
              "      <th>건설업, 건축기술 서비스</th>\n",
              "    </tr>\n",
              "    <tr>\n",
              "      <th>건설장비 운영업</th>\n",
              "      <th>건설업, 건축기술 서비스</th>\n",
              "    </tr>\n",
              "    <tr>\n",
              "      <th>건축 기술, 엔지니어링 및 관련 기술 서비스업</th>\n",
              "      <th>건설업, 건축기술 서비스</th>\n",
              "    </tr>\n",
              "    <tr>\n",
              "      <th>고무제품 제조업</th>\n",
              "      <th>고무제품 및 플라스틱 제품 제조업</th>\n",
              "    </tr>\n",
              "    <tr>\n",
              "      <th>곡물 가공품, 전분 및 전분제품 제조업</th>\n",
              "      <th>식료품 제조업</th>\n",
              "    </tr>\n",
              "    <tr>\n",
              "      <th>골판지, 종이 상자 및 종이 용기 제조업</th>\n",
              "      <th>펄프, 종이 및 종이제품 제조업</th>\n",
              "    </tr>\n",
              "    <tr>\n",
              "      <th>과실, 채소 가공 및 저장 처리업</th>\n",
              "      <th>식료품 제조업</th>\n",
              "    </tr>\n",
              "    <tr>\n",
              "      <th>광업 지원 서비스업</th>\n",
              "      <th>광업</th>\n",
              "    </tr>\n",
              "    <tr>\n",
              "      <th>구조용 금속제품, 탱크 및 증기발생기 제조업</th>\n",
              "      <th>구조용 금속제품, 탱크, 증기발생기 제조업</th>\n",
              "    </tr>\n",
              "    <tr>\n",
              "      <th>귀금속 및 장신용품 제조업</th>\n",
              "      <th>기타제품 제조업</th>\n",
              "    </tr>\n",
              "    <tr>\n",
              "      <th rowspan=\"3\" valign=\"top\">그 외 기타 운송장비 제조업</th>\n",
              "      <th>그 외 분류 안된 운송장비 제조업</th>\n",
              "    </tr>\n",
              "    <tr>\n",
              "      <th>모터사이클 제조업</th>\n",
              "    </tr>\n",
              "    <tr>\n",
              "      <th>전투용 차량 제조업</th>\n",
              "    </tr>\n",
              "    <tr>\n",
              "      <th>그 외 기타 제품 제조업</th>\n",
              "      <th>기타제품 제조업</th>\n",
              "    </tr>\n",
              "    <tr>\n",
              "      <th>금속 주조업</th>\n",
              "      <th>금속주조업</th>\n",
              "    </tr>\n",
              "    <tr>\n",
              "      <th>기록매체 복제업</th>\n",
              "      <th>인쇄 및 기록매체복제업</th>\n",
              "    </tr>\n",
              "    <tr>\n",
              "      <th>기반조성 및 시설물 축조관련 전문공사업</th>\n",
              "      <th>건설업, 건축기술 서비스</th>\n",
              "    </tr>\n",
              "    <tr>\n",
              "      <th>기초 의약 물질 및 생물학적 제제 제조업</th>\n",
              "      <th>의료용 물질 및 의약품 제조업</th>\n",
              "    </tr>\n",
              "    <tr>\n",
              "      <th>기초 화학물질 제조업</th>\n",
              "      <th>기초 화학물질제조업</th>\n",
              "    </tr>\n",
              "    <tr>\n",
              "      <th>기타 금속 가공제품 제조업</th>\n",
              "      <th>기타 금속가공 제품 제조업</th>\n",
              "    </tr>\n",
              "    <tr>\n",
              "      <th>기타 비금속 광물제품 제조업</th>\n",
              "      <th>비금속광물제품 제조업</th>\n",
              "    </tr>\n",
              "    <tr>\n",
              "      <th>기타 비금속광물 광업</th>\n",
              "      <th>광업</th>\n",
              "    </tr>\n",
              "    <tr>\n",
              "      <th>기타 섬유제품 제조업</th>\n",
              "      <th>섬유제품 제조업 :의복제외</th>\n",
              "    </tr>\n",
              "    <tr>\n",
              "      <th>기타 식품 제조업</th>\n",
              "      <th>식료품 제조업</th>\n",
              "    </tr>\n",
              "  </tbody>\n",
              "</table>\n",
              "</div>"
            ],
            "text/plain": [
              "Empty DataFrame\n",
              "Columns: []\n",
              "Index: [(1차 비철금속 제조업, 1차 비철금속 제조업), (1차 철강 제조업, 1차 철강제조업), (가구 제조업, 가구 제조업), (가정용 기기 제조업, 가정용 기기 제조업), (가죽, 가방 및 유사 제품 제조업, 가죽, 가방 및 신발제조업), (건물 건설업, 건설업, 건축기술 서비스), (건물설비 설치 공사업, 건설업, 건축기술 서비스), (건설장비 운영업, 건설업, 건축기술 서비스), (건축 기술, 엔지니어링 및 관련 기술 서비스업, 건설업, 건축기술 서비스), (고무제품 제조업, 고무제품 및 플라스틱 제품 제조업), (곡물 가공품, 전분 및 전분제품 제조업, 식료품 제조업), (골판지, 종이 상자 및 종이 용기 제조업, 펄프, 종이 및 종이제품 제조업), (과실, 채소 가공 및 저장 처리업, 식료품 제조업), (광업 지원 서비스업, 광업), (구조용 금속제품, 탱크 및 증기발생기 제조업, 구조용 금속제품, 탱크, 증기발생기 제조업), (귀금속 및 장신용품 제조업, 기타제품 제조업), (그 외 기타 운송장비 제조업, 그 외 분류 안된 운송장비 제조업), (그 외 기타 운송장비 제조업, 모터사이클 제조업), (그 외 기타 운송장비 제조업, 전투용 차량 제조업), (그 외 기타 제품 제조업, 기타제품 제조업), (금속 주조업, 금속주조업), (기록매체 복제업, 인쇄 및 기록매체복제업), (기반조성 및 시설물 축조관련 전문공사업, 건설업, 건축기술 서비스), (기초 의약 물질 및 생물학적 제제 제조업, 의료용 물질 및 의약품 제조업), (기초 화학물질 제조업, 기초 화학물질제조업), (기타 금속 가공제품 제조업, 기타 금속가공 제품 제조업), (기타 비금속 광물제품 제조업, 비금속광물제품 제조업), (기타 비금속광물 광업, 광업), (기타 섬유제품 제조업, 섬유제품 제조업 :의복제외), (기타 식품 제조업, 식료품 제조업)]"
            ]
          },
          "metadata": {},
          "execution_count": 42
        }
      ]
    },
    {
      "cell_type": "code",
      "metadata": {
        "colab": {
          "base_uri": "https://localhost:8080/",
          "height": 993
        },
        "id": "0OE-tUjBzGZO",
        "outputId": "ccac7a1f-c3c4-4ca6-c45d-57457a5335ac"
      },
      "source": [
        "concordance[['KSIC10_소분류', '산업명']].groupby(['KSIC10_소분류', '산업명']).count()[30:60]"
      ],
      "execution_count": null,
      "outputs": [
        {
          "output_type": "execute_result",
          "data": {
            "text/html": [
              "<div>\n",
              "<style scoped>\n",
              "    .dataframe tbody tr th:only-of-type {\n",
              "        vertical-align: middle;\n",
              "    }\n",
              "\n",
              "    .dataframe tbody tr th {\n",
              "        vertical-align: top;\n",
              "    }\n",
              "\n",
              "    .dataframe thead th {\n",
              "        text-align: right;\n",
              "    }\n",
              "</style>\n",
              "<table border=\"1\" class=\"dataframe\">\n",
              "  <thead>\n",
              "    <tr style=\"text-align: right;\">\n",
              "      <th></th>\n",
              "      <th></th>\n",
              "    </tr>\n",
              "    <tr>\n",
              "      <th>KSIC10_소분류</th>\n",
              "      <th>산업명</th>\n",
              "    </tr>\n",
              "  </thead>\n",
              "  <tbody>\n",
              "    <tr>\n",
              "      <th>기타 전기장비 제조업</th>\n",
              "      <th>기타 전기장비 제조업</th>\n",
              "    </tr>\n",
              "    <tr>\n",
              "      <th>기타 종이 및 판지 제품 제조업</th>\n",
              "      <th>펄프, 종이 및 종이제품 제조업</th>\n",
              "    </tr>\n",
              "    <tr>\n",
              "      <th rowspan=\"3\" valign=\"top\">기타 화학제품 제조업</th>\n",
              "      <th>그 외 기타 화학제품 제조업</th>\n",
              "    </tr>\n",
              "    <tr>\n",
              "      <th>세제, 화장품 및 광택제 제조업</th>\n",
              "    </tr>\n",
              "    <tr>\n",
              "      <th>잉크, 페인트 코팅제 및 유사제품 제조업</th>\n",
              "    </tr>\n",
              "    <tr>\n",
              "      <th>나무제품 제조업</th>\n",
              "      <th>목재 및 나무제품제조업; 가구제외</th>\n",
              "    </tr>\n",
              "    <tr>\n",
              "      <th>낙농제품 및 식용 빙과류 제조업</th>\n",
              "      <th>식료품 제조업</th>\n",
              "    </tr>\n",
              "    <tr>\n",
              "      <th>내화, 비내화 요업제품 제조업</th>\n",
              "      <th>비금속광물제품 제조업</th>\n",
              "    </tr>\n",
              "    <tr>\n",
              "      <th>담배 제조업</th>\n",
              "      <th>담배제조업</th>\n",
              "    </tr>\n",
              "    <tr>\n",
              "      <th>도축, 육류 가공 및 저장 처리업</th>\n",
              "      <th>식료품 제조업</th>\n",
              "    </tr>\n",
              "    <tr>\n",
              "      <th>동물성 및 식물성 유지 제조업</th>\n",
              "      <th>식료품 제조업</th>\n",
              "    </tr>\n",
              "    <tr>\n",
              "      <th>동물용 사료 및 조제식품 제조업</th>\n",
              "      <th>식료품 제조업</th>\n",
              "    </tr>\n",
              "    <tr>\n",
              "      <th>마그네틱 및 광학 매체 제조업</th>\n",
              "      <th>마그네틱 및 광학 매체 제조업</th>\n",
              "    </tr>\n",
              "    <tr>\n",
              "      <th>모피제품 제조업</th>\n",
              "      <th>의복, 의복 액세서리 및 모피제품 제조업</th>\n",
              "    </tr>\n",
              "    <tr>\n",
              "      <th>무기 및 총포탄 제조업</th>\n",
              "      <th>무기 및 총포탄 제조업</th>\n",
              "    </tr>\n",
              "    <tr>\n",
              "      <th>반도체 제조업</th>\n",
              "      <th>반도체 제조업</th>\n",
              "    </tr>\n",
              "    <tr>\n",
              "      <th>방적 및 가공사 제조업</th>\n",
              "      <th>섬유제품 제조업 :의복제외</th>\n",
              "    </tr>\n",
              "    <tr>\n",
              "      <th>봉제의복 제조업</th>\n",
              "      <th>의복, 의복 액세서리 및 모피제품 제조업</th>\n",
              "    </tr>\n",
              "    <tr>\n",
              "      <th rowspan=\"2\" valign=\"top\">비료, 농약 및 살균ㆍ살충제 제조업</th>\n",
              "      <th>비료 및 질소 화학물 제조업</th>\n",
              "    </tr>\n",
              "    <tr>\n",
              "      <th>살충제 및 기타농약제조업</th>\n",
              "    </tr>\n",
              "    <tr>\n",
              "      <th>비알코올 음료 및 얼음 제조업</th>\n",
              "      <th>음료제조업</th>\n",
              "    </tr>\n",
              "    <tr>\n",
              "      <th>비철금속 광업</th>\n",
              "      <th>광업</th>\n",
              "    </tr>\n",
              "    <tr>\n",
              "      <th>사진장비 및 광학 기기 제조업</th>\n",
              "      <th>안경, 사진장비 및 기타 광학기기 제조업</th>\n",
              "    </tr>\n",
              "    <tr>\n",
              "      <th>석유 정제품 제조업</th>\n",
              "      <th>코크스, 연탄 및 석유정제품 제조업</th>\n",
              "    </tr>\n",
              "    <tr>\n",
              "      <th>석탄 광업</th>\n",
              "      <th>광업</th>\n",
              "    </tr>\n",
              "    <tr>\n",
              "      <th>선박 및 보트 건조업</th>\n",
              "      <th>선박 제조업</th>\n",
              "    </tr>\n",
              "    <tr>\n",
              "      <th>섬유제품 염색, 정리 및 마무리 가공업</th>\n",
              "      <th>섬유제품 제조업 :의복제외</th>\n",
              "    </tr>\n",
              "    <tr>\n",
              "      <th>소프트웨어 개발 및 공급업</th>\n",
              "      <th>컴퓨터 프로그래밍, 정보서비스업</th>\n",
              "    </tr>\n",
              "    <tr>\n",
              "      <th>수렵 및 관련 서비스업</th>\n",
              "      <th>농림어업</th>\n",
              "    </tr>\n",
              "    <tr>\n",
              "      <th>수산물 가공 및 저장 처리업</th>\n",
              "      <th>식료품 제조업</th>\n",
              "    </tr>\n",
              "  </tbody>\n",
              "</table>\n",
              "</div>"
            ],
            "text/plain": [
              "Empty DataFrame\n",
              "Columns: []\n",
              "Index: [(기타 전기장비 제조업, 기타 전기장비 제조업), (기타 종이 및 판지 제품 제조업, 펄프, 종이 및 종이제품 제조업), (기타 화학제품 제조업, 그 외 기타 화학제품 제조업), (기타 화학제품 제조업, 세제, 화장품 및 광택제 제조업), (기타 화학제품 제조업, 잉크, 페인트 코팅제 및 유사제품 제조업), (나무제품 제조업, 목재 및 나무제품제조업; 가구제외), (낙농제품 및 식용 빙과류 제조업, 식료품 제조업), (내화, 비내화 요업제품 제조업, 비금속광물제품 제조업), (담배 제조업, 담배제조업), (도축, 육류 가공 및 저장 처리업, 식료품 제조업), (동물성 및 식물성 유지 제조업, 식료품 제조업), (동물용 사료 및 조제식품 제조업, 식료품 제조업), (마그네틱 및 광학 매체 제조업, 마그네틱 및 광학 매체 제조업), (모피제품 제조업, 의복, 의복 액세서리 및 모피제품 제조업), (무기 및 총포탄 제조업, 무기 및 총포탄 제조업), (반도체 제조업, 반도체 제조업), (방적 및 가공사 제조업, 섬유제품 제조업 :의복제외), (봉제의복 제조업, 의복, 의복 액세서리 및 모피제품 제조업), (비료, 농약 및 살균ㆍ살충제 제조업, 비료 및 질소 화학물 제조업), (비료, 농약 및 살균ㆍ살충제 제조업, 살충제 및 기타농약제조업), (비알코올 음료 및 얼음 제조업, 음료제조업), (비철금속 광업, 광업), (사진장비 및 광학 기기 제조업, 안경, 사진장비 및 기타 광학기기 제조업), (석유 정제품 제조업, 코크스, 연탄 및 석유정제품 제조업), (석탄 광업, 광업), (선박 및 보트 건조업, 선박 제조업), (섬유제품 염색, 정리 및 마무리 가공업, 섬유제품 제조업 :의복제외), (소프트웨어 개발 및 공급업, 컴퓨터 프로그래밍, 정보서비스업), (수렵 및 관련 서비스업, 농림어업), (수산물 가공 및 저장 처리업, 식료품 제조업)]"
            ]
          },
          "metadata": {},
          "execution_count": 43
        }
      ]
    },
    {
      "cell_type": "code",
      "metadata": {
        "colab": {
          "base_uri": "https://localhost:8080/",
          "height": 1000
        },
        "id": "0HcI6T9EzPvB",
        "outputId": "a979b14c-d8e0-414a-cbd9-8454abab5989"
      },
      "source": [
        "concordance[['KSIC10_소분류', '산업명']].groupby(['KSIC10_소분류', '산업명']).count()[60:100]"
      ],
      "execution_count": null,
      "outputs": [
        {
          "output_type": "execute_result",
          "data": {
            "text/html": [
              "<div>\n",
              "<style scoped>\n",
              "    .dataframe tbody tr th:only-of-type {\n",
              "        vertical-align: middle;\n",
              "    }\n",
              "\n",
              "    .dataframe tbody tr th {\n",
              "        vertical-align: top;\n",
              "    }\n",
              "\n",
              "    .dataframe thead th {\n",
              "        text-align: right;\n",
              "    }\n",
              "</style>\n",
              "<table border=\"1\" class=\"dataframe\">\n",
              "  <thead>\n",
              "    <tr style=\"text-align: right;\">\n",
              "      <th></th>\n",
              "      <th></th>\n",
              "    </tr>\n",
              "    <tr>\n",
              "      <th>KSIC10_소분류</th>\n",
              "      <th>산업명</th>\n",
              "    </tr>\n",
              "  </thead>\n",
              "  <tbody>\n",
              "    <tr>\n",
              "      <th>시계 및 시계 부품 제조업</th>\n",
              "      <th>시계 및 시계부품 제조업</th>\n",
              "    </tr>\n",
              "    <tr>\n",
              "      <th>시멘트, 석회, 플라스터 및 그 제품 제조업</th>\n",
              "      <th>비금속광물제품 제조업</th>\n",
              "    </tr>\n",
              "    <tr>\n",
              "      <th>시설물 유지관리 공사업</th>\n",
              "      <th>건설업, 건축기술 서비스</th>\n",
              "    </tr>\n",
              "    <tr>\n",
              "      <th>신발 및 신발 부분품 제조업</th>\n",
              "      <th>가죽, 가방 및 신발제조업</th>\n",
              "    </tr>\n",
              "    <tr>\n",
              "      <th>실내건축 및 건축마무리 공사업</th>\n",
              "      <th>건설업, 건축기술 서비스</th>\n",
              "    </tr>\n",
              "    <tr>\n",
              "      <th>악기 제조업</th>\n",
              "      <th>기타제품 제조업</th>\n",
              "    </tr>\n",
              "    <tr>\n",
              "      <th>알코올 음료 제조업</th>\n",
              "      <th>음료제조업</th>\n",
              "    </tr>\n",
              "    <tr>\n",
              "      <th>양식어업 및 어업관련 서비스업</th>\n",
              "      <th>농림어업</th>\n",
              "    </tr>\n",
              "    <tr>\n",
              "      <th>어로 어업</th>\n",
              "      <th>농림어업</th>\n",
              "    </tr>\n",
              "    <tr>\n",
              "      <th>연료용 가스 제조 및 배관공급업</th>\n",
              "      <th>전기, 가스, 증기, 수도</th>\n",
              "    </tr>\n",
              "    <tr>\n",
              "      <th>영상 및 음향 기기 제조업</th>\n",
              "      <th>영상 및 음향기기 제조업</th>\n",
              "    </tr>\n",
              "    <tr>\n",
              "      <th>운동 및 경기용구 제조업</th>\n",
              "      <th>기타제품 제조업</th>\n",
              "    </tr>\n",
              "    <tr>\n",
              "      <th>원유 및 천연가스 채굴업</th>\n",
              "      <th>광업</th>\n",
              "    </tr>\n",
              "    <tr>\n",
              "      <th>유리 및 유리제품 제조업</th>\n",
              "      <th>비금속광물제품 제조업</th>\n",
              "    </tr>\n",
              "    <tr>\n",
              "      <th>의료용 기기 제조업</th>\n",
              "      <th>의료용 기기 제조업</th>\n",
              "    </tr>\n",
              "    <tr>\n",
              "      <th>의료용품 및 기타 의약 관련제품 제조업</th>\n",
              "      <th>의료용 물질 및 의약품 제조업</th>\n",
              "    </tr>\n",
              "    <tr>\n",
              "      <th>의복 액세서리 제조업</th>\n",
              "      <th>의복, 의복 액세서리 및 모피제품 제조업</th>\n",
              "    </tr>\n",
              "    <tr>\n",
              "      <th>의약품 제조업</th>\n",
              "      <th>의료용 물질 및 의약품 제조업</th>\n",
              "    </tr>\n",
              "    <tr>\n",
              "      <th>인쇄 및 인쇄관련 산업</th>\n",
              "      <th>인쇄 및 기록매체복제업</th>\n",
              "    </tr>\n",
              "    <tr>\n",
              "      <th>인형, 장난감 및 오락용품 제조업</th>\n",
              "      <th>기타제품 제조업</th>\n",
              "    </tr>\n",
              "    <tr>\n",
              "      <th rowspan=\"2\" valign=\"top\">일반 목적용 기계 제조업</th>\n",
              "      <th>사무용 기계 및 장비 제조업</th>\n",
              "    </tr>\n",
              "    <tr>\n",
              "      <th>사무용 이외의 일반기계 제조업</th>\n",
              "    </tr>\n",
              "    <tr>\n",
              "      <th>일차전지 및 축전지 제조업</th>\n",
              "      <th>일차전지 및 축전지 제조업</th>\n",
              "    </tr>\n",
              "    <tr>\n",
              "      <th>임업</th>\n",
              "      <th>농림어업</th>\n",
              "    </tr>\n",
              "    <tr>\n",
              "      <th>자동차 신품 부품 제조업</th>\n",
              "      <th>자동차 제조업</th>\n",
              "    </tr>\n",
              "    <tr>\n",
              "      <th>자동차 재제조 부품 제조업</th>\n",
              "      <th>자동차 제조업</th>\n",
              "    </tr>\n",
              "    <tr>\n",
              "      <th>자동차 차체 및 트레일러 제조업</th>\n",
              "      <th>자동차 제조업</th>\n",
              "    </tr>\n",
              "    <tr>\n",
              "      <th>자동차용 엔진 및 자동차 제조업</th>\n",
              "      <th>자동차 제조업</th>\n",
              "    </tr>\n",
              "    <tr>\n",
              "      <th>자료 처리, 호스팅, 포털 및 기타 인터넷 정보 매개 서비스업</th>\n",
              "      <th>컴퓨터 프로그래밍, 정보서비스업</th>\n",
              "    </tr>\n",
              "    <tr>\n",
              "      <th>작물 재배업</th>\n",
              "      <th>농림어업</th>\n",
              "    </tr>\n",
              "    <tr>\n",
              "      <th>작물재배 및 축산 관련 서비스업</th>\n",
              "      <th>농림어업</th>\n",
              "    </tr>\n",
              "    <tr>\n",
              "      <th>작물재배 및 축산 복합농업</th>\n",
              "      <th>농림어업</th>\n",
              "    </tr>\n",
              "    <tr>\n",
              "      <th>전구 및 조명장치 제조업</th>\n",
              "      <th>전구 및 조명장치 제조업</th>\n",
              "    </tr>\n",
              "    <tr>\n",
              "      <th>전기 및 통신 공사업</th>\n",
              "      <th>건설업, 건축기술 서비스</th>\n",
              "    </tr>\n",
              "    <tr>\n",
              "      <th>전기업</th>\n",
              "      <th>전기, 가스, 증기, 수도</th>\n",
              "    </tr>\n",
              "    <tr>\n",
              "      <th>전동기, 발전기 및 전기 변환ㆍ공급ㆍ제어 장치 제조업</th>\n",
              "      <th>전동기, 발전기 및 전기변환, 공급, 제어장치 제조업</th>\n",
              "    </tr>\n",
              "    <tr>\n",
              "      <th>전자 부품 제조업</th>\n",
              "      <th>전자부품 제조업</th>\n",
              "    </tr>\n",
              "    <tr>\n",
              "      <th>절연선 및 케이블 제조업</th>\n",
              "      <th>절연선 및 케이블제조업</th>\n",
              "    </tr>\n",
              "    <tr>\n",
              "      <th>제재 및 목재 가공업</th>\n",
              "      <th>목재 및 나무제품제조업; 가구제외</th>\n",
              "    </tr>\n",
              "    <tr>\n",
              "      <th>증기, 냉ㆍ온수 및 공기 조절 공급업</th>\n",
              "      <th>전기, 가스, 증기, 수도</th>\n",
              "    </tr>\n",
              "  </tbody>\n",
              "</table>\n",
              "</div>"
            ],
            "text/plain": [
              "Empty DataFrame\n",
              "Columns: []\n",
              "Index: [(시계 및 시계 부품 제조업, 시계 및 시계부품 제조업), (시멘트, 석회, 플라스터 및 그 제품 제조업, 비금속광물제품 제조업), (시설물 유지관리 공사업, 건설업, 건축기술 서비스), (신발 및 신발 부분품 제조업, 가죽, 가방 및 신발제조업), (실내건축 및 건축마무리 공사업, 건설업, 건축기술 서비스), (악기 제조업, 기타제품 제조업), (알코올 음료 제조업, 음료제조업), (양식어업 및 어업관련 서비스업, 농림어업), (어로 어업, 농림어업), (연료용 가스 제조 및 배관공급업, 전기, 가스, 증기, 수도), (영상 및 음향 기기 제조업, 영상 및 음향기기 제조업), (운동 및 경기용구 제조업, 기타제품 제조업), (원유 및 천연가스 채굴업, 광업), (유리 및 유리제품 제조업, 비금속광물제품 제조업), (의료용 기기 제조업, 의료용 기기 제조업), (의료용품 및 기타 의약 관련제품 제조업, 의료용 물질 및 의약품 제조업), (의복 액세서리 제조업, 의복, 의복 액세서리 및 모피제품 제조업), (의약품 제조업, 의료용 물질 및 의약품 제조업), (인쇄 및 인쇄관련 산업, 인쇄 및 기록매체복제업), (인형, 장난감 및 오락용품 제조업, 기타제품 제조업), (일반 목적용 기계 제조업, 사무용 기계 및 장비 제조업), (일반 목적용 기계 제조업, 사무용 이외의 일반기계 제조업), (일차전지 및 축전지 제조업, 일차전지 및 축전지 제조업), (임업, 농림어업), (자동차 신품 부품 제조업, 자동차 제조업), (자동차 재제조 부품 제조업, 자동차 제조업), (자동차 차체 및 트레일러 제조업, 자동차 제조업), (자동차용 엔진 및 자동차 제조업, 자동차 제조업), (자료 처리, 호스팅, 포털 및 기타 인터넷 정보 매개 서비스업, 컴퓨터 프로그래밍, 정보서비스업), (작물 재배업, 농림어업), (작물재배 및 축산 관련 서비스업, 농림어업), (작물재배 및 축산 복합농업, 농림어업), (전구 및 조명장치 제조업, 전구 및 조명장치 제조업), (전기 및 통신 공사업, 건설업, 건축기술 서비스), (전기업, 전기, 가스, 증기, 수도), (전동기, 발전기 및 전기 변환ㆍ공급ㆍ제어 장치 제조업, 전동기, 발전기 및 전기변환, 공급, 제어장치 제조업), (전자 부품 제조업, 전자부품 제조업), (절연선 및 케이블 제조업, 절연선 및 케이블제조업), (제재 및 목재 가공업, 목재 및 나무제품제조업; 가구제외), (증기, 냉ㆍ온수 및 공기 조절 공급업, 전기, 가스, 증기, 수도)]"
            ]
          },
          "metadata": {},
          "execution_count": 44
        }
      ]
    },
    {
      "cell_type": "code",
      "metadata": {
        "colab": {
          "base_uri": "https://localhost:8080/",
          "height": 838
        },
        "id": "YLUWW5NUzh9H",
        "outputId": "de7e59e6-f557-400d-c322-f57cc6246d1f"
      },
      "source": [
        "concordance[['KSIC10_소분류', '산업명']].groupby(['KSIC10_소분류', '산업명']).count()[100:150]"
      ],
      "execution_count": null,
      "outputs": [
        {
          "output_type": "execute_result",
          "data": {
            "text/html": [
              "<div>\n",
              "<style scoped>\n",
              "    .dataframe tbody tr th:only-of-type {\n",
              "        vertical-align: middle;\n",
              "    }\n",
              "\n",
              "    .dataframe tbody tr th {\n",
              "        vertical-align: top;\n",
              "    }\n",
              "\n",
              "    .dataframe thead th {\n",
              "        text-align: right;\n",
              "    }\n",
              "</style>\n",
              "<table border=\"1\" class=\"dataframe\">\n",
              "  <thead>\n",
              "    <tr style=\"text-align: right;\">\n",
              "      <th></th>\n",
              "      <th></th>\n",
              "    </tr>\n",
              "    <tr>\n",
              "      <th>KSIC10_소분류</th>\n",
              "      <th>산업명</th>\n",
              "    </tr>\n",
              "  </thead>\n",
              "  <tbody>\n",
              "    <tr>\n",
              "      <th>직물 직조 및 직물제품 제조업</th>\n",
              "      <th>섬유제품 제조업 :의복제외</th>\n",
              "    </tr>\n",
              "    <tr>\n",
              "      <th>철 광업</th>\n",
              "      <th>광업</th>\n",
              "    </tr>\n",
              "    <tr>\n",
              "      <th>철도장비 제조업</th>\n",
              "      <th>철도장비 제조업</th>\n",
              "    </tr>\n",
              "    <tr>\n",
              "      <th>축산업</th>\n",
              "      <th>농림어업</th>\n",
              "    </tr>\n",
              "    <tr>\n",
              "      <th>측정, 시험, 항해, 제어 및 기타 정밀 기기 제조업; 광학 기기 제외</th>\n",
              "      <th>측정, 시험, 향해, 제어, 및 기타 정밀기기 제조업</th>\n",
              "    </tr>\n",
              "    <tr>\n",
              "      <th>컴퓨터 및 주변 장치 제조업</th>\n",
              "      <th>컴퓨터 및 주변장치 제조업</th>\n",
              "    </tr>\n",
              "    <tr>\n",
              "      <th>컴퓨터 프로그래밍, 시스템 통합 및 관리업</th>\n",
              "      <th>컴퓨터 프로그래밍, 정보서비스업</th>\n",
              "    </tr>\n",
              "    <tr>\n",
              "      <th>코르크 및 조물 제품 제조업</th>\n",
              "      <th>목재 및 나무제품제조업; 가구제외</th>\n",
              "    </tr>\n",
              "    <tr>\n",
              "      <th>코크스 및 연탄 제조업</th>\n",
              "      <th>코크스, 연탄 및 석유정제품 제조업</th>\n",
              "    </tr>\n",
              "    <tr>\n",
              "      <th>토목 건설업</th>\n",
              "      <th>건설업, 건축기술 서비스</th>\n",
              "    </tr>\n",
              "    <tr>\n",
              "      <th>토사석 광업</th>\n",
              "      <th>광업</th>\n",
              "    </tr>\n",
              "    <tr>\n",
              "      <th>통신 및 방송장비 제조업</th>\n",
              "      <th>통신 및 방송 장비 제조업</th>\n",
              "    </tr>\n",
              "    <tr>\n",
              "      <th>특수 목적용 기계 제조업</th>\n",
              "      <th>특수 기계제조업</th>\n",
              "    </tr>\n",
              "    <tr>\n",
              "      <th>펄프, 종이 및 판지 제조업</th>\n",
              "      <th>펄프, 종이 및 종이제품 제조업</th>\n",
              "    </tr>\n",
              "    <tr>\n",
              "      <th>편조 원단 제조업</th>\n",
              "      <th>섬유제품 제조업 :의복제외</th>\n",
              "    </tr>\n",
              "    <tr>\n",
              "      <th>편조의복 제조업</th>\n",
              "      <th>의복, 의복 액세서리 및 모피제품 제조업</th>\n",
              "    </tr>\n",
              "    <tr>\n",
              "      <th>폐기물 수집, 운반업</th>\n",
              "      <th>하수, 폐기물처리, 원료재생, 환경복원</th>\n",
              "    </tr>\n",
              "    <tr>\n",
              "      <th>폐기물 처리업</th>\n",
              "      <th>하수, 폐기물처리, 원료재생, 환경복원</th>\n",
              "    </tr>\n",
              "    <tr>\n",
              "      <th>플라스틱 제품 제조업</th>\n",
              "      <th>고무제품 및 플라스틱 제품 제조업</th>\n",
              "    </tr>\n",
              "    <tr>\n",
              "      <th>하수, 폐수 및 분뇨 처리업</th>\n",
              "      <th>하수, 폐기물처리, 원료재생, 환경복원</th>\n",
              "    </tr>\n",
              "    <tr>\n",
              "      <th>합성고무 및 플라스틱 물질 제조업</th>\n",
              "      <th>합성고무 및 플라스틱 물질 제조업</th>\n",
              "    </tr>\n",
              "    <tr>\n",
              "      <th>항공기, 우주선 및 부품 제조업</th>\n",
              "      <th>항공기 제조업</th>\n",
              "    </tr>\n",
              "    <tr>\n",
              "      <th>해체, 선별 및 원료 재생업</th>\n",
              "      <th>하수, 폐기물처리, 원료재생, 환경복원</th>\n",
              "    </tr>\n",
              "    <tr>\n",
              "      <th>화학섬유 제조업</th>\n",
              "      <th>화학섬유 제조업</th>\n",
              "    </tr>\n",
              "    <tr>\n",
              "      <th>환경 정화 및 복원업</th>\n",
              "      <th>하수, 폐기물처리, 원료재생, 환경복원</th>\n",
              "    </tr>\n",
              "  </tbody>\n",
              "</table>\n",
              "</div>"
            ],
            "text/plain": [
              "Empty DataFrame\n",
              "Columns: []\n",
              "Index: [(직물 직조 및 직물제품 제조업, 섬유제품 제조업 :의복제외), (철 광업, 광업), (철도장비 제조업, 철도장비 제조업), (축산업, 농림어업), (측정, 시험, 항해, 제어 및 기타 정밀 기기 제조업; 광학 기기 제외, 측정, 시험, 향해, 제어, 및 기타 정밀기기 제조업), (컴퓨터 및 주변 장치 제조업, 컴퓨터 및 주변장치 제조업), (컴퓨터 프로그래밍, 시스템 통합 및 관리업, 컴퓨터 프로그래밍, 정보서비스업), (코르크 및 조물 제품 제조업, 목재 및 나무제품제조업; 가구제외), (코크스 및 연탄 제조업, 코크스, 연탄 및 석유정제품 제조업), (토목 건설업, 건설업, 건축기술 서비스), (토사석 광업, 광업), (통신 및 방송장비 제조업, 통신 및 방송 장비 제조업), (특수 목적용 기계 제조업, 특수 기계제조업), (펄프, 종이 및 판지 제조업, 펄프, 종이 및 종이제품 제조업), (편조 원단 제조업, 섬유제품 제조업 :의복제외), (편조의복 제조업, 의복, 의복 액세서리 및 모피제품 제조업), (폐기물 수집, 운반업, 하수, 폐기물처리, 원료재생, 환경복원), (폐기물 처리업, 하수, 폐기물처리, 원료재생, 환경복원), (플라스틱 제품 제조업, 고무제품 및 플라스틱 제품 제조업), (하수, 폐수 및 분뇨 처리업, 하수, 폐기물처리, 원료재생, 환경복원), (합성고무 및 플라스틱 물질 제조업, 합성고무 및 플라스틱 물질 제조업), (항공기, 우주선 및 부품 제조업, 항공기 제조업), (해체, 선별 및 원료 재생업, 하수, 폐기물처리, 원료재생, 환경복원), (화학섬유 제조업, 화학섬유 제조업), (환경 정화 및 복원업, 하수, 폐기물처리, 원료재생, 환경복원)]"
            ]
          },
          "metadata": {},
          "execution_count": 45
        }
      ]
    },
    {
      "cell_type": "code",
      "metadata": {
        "colab": {
          "base_uri": "https://localhost:8080/"
        },
        "id": "LOt2dq0_0u7b",
        "outputId": "4493c507-0246-40ed-b832-ffe3ae3d7728"
      },
      "source": [
        "concordance.columns"
      ],
      "execution_count": null,
      "outputs": [
        {
          "output_type": "execute_result",
          "data": {
            "text/plain": [
              "Index(['Unnamed: 0', '일련번호', '2018년 귀속(현행)업종코드', '2019년 귀속(개편후)업종코드',\n",
              "       '국세청_대분류코드', '국세청_대분류', '국세청_중분류코드', '국세청_중분류', '국세청_소분류코드', '국세청_소분류',\n",
              "       '국세청_세분류코드', '국세청_세분류', '국세청_세세분류', '국세청_연계', 'KSIC10_코드',\n",
              "       'KSIC10_대분류코드', 'KSIC10_대분류', 'KSIC10_중분류코드', 'KSIC10_중분류',\n",
              "       'KSIC10_소분류코드', 'KSIC10_소분류', 'KSIC10_세분류코드', 'KSIC10_세분류',\n",
              "       'KSIC10_세세분류', 'KSIC10_연계', '메인', '세부설명', 'KSIC10_항목명', 'KSIC9_코드',\n",
              "       'KSIC9_항목명', 'KSIC_CODE', '산업명'],\n",
              "      dtype='object')"
            ]
          },
          "metadata": {},
          "execution_count": 57
        }
      ]
    },
    {
      "cell_type": "code",
      "metadata": {
        "id": "pCfxJ6WSz0NM"
      },
      "source": [
        "concordance = concordance.loc[~concordance['산업명'].isna(), ['국세청_대분류코드', '국세청_대분류', '국세청_중분류코드', '국세청_중분류', '국세청_소분류코드', '국세청_소분류', 'KSIC10_코드',\n",
        "       'KSIC10_대분류코드', 'KSIC10_대분류', 'KSIC10_중분류코드', 'KSIC10_중분류', 'KSIC10_소분류코드', 'KSIC10_소분류', 'KSIC9_코드', 'KSIC9_항목명', '산업명']]"
      ],
      "execution_count": 102,
      "outputs": []
    },
    {
      "cell_type": "code",
      "metadata": {
        "colab": {
          "base_uri": "https://localhost:8080/"
        },
        "id": "k8mG1EnD4wgn",
        "outputId": "10cbb931-a93a-48f7-ae7e-7e2d490a94be"
      },
      "source": [
        "concordance.산업명.nunique()"
      ],
      "execution_count": 103,
      "outputs": [
        {
          "output_type": "execute_result",
          "data": {
            "text/plain": [
              "61"
            ]
          },
          "metadata": {},
          "execution_count": 103
        }
      ]
    },
    {
      "cell_type": "code",
      "metadata": {
        "id": "qFn4wyxJ4O53"
      },
      "source": [
        "concordance.drop_duplicates('KSIC10_소분류', inplace=True)"
      ],
      "execution_count": 104,
      "outputs": []
    },
    {
      "cell_type": "markdown",
      "metadata": {
        "id": "iaUBaJLq1ZtQ"
      },
      "source": [
        "```\n",
        "queries = {'1차 비철금속 제조업': 'IC = (C22F* or C25C* or (G21H* not (G21H-001*)))',\n",
        " '1차 철강제조업': 'IC = (B21C* or C21B* or C21C* or C21D* or C22C* or F16S* or F17C*)',\n",
        " '가구 제조업': 'IC = (A47B* or A47C* or A47D* or A47F*)',\n",
        " '가정용 기기 제조업': 'IC = (A45D* or A47G* or A47J* or A47L* or D06F* or E06C* or F24B* or F24C* or H05B*)',\n",
        " '가죽, 가방 및 신발제조업': 'IC = (A43B* or A43C* or A45C* or B68B* or B68C*)',\n",
        " '건설업, 건축기술 서비스': 'IC = (E01C* or E01D* or E01F* or E02B* or E02D* or E03B* or E03C* or E03F* or E04H* or E05B* or E05C* or E06B* or E21C* or E99Z* or F42D*)',\n",
        " '고무제품 및 플라스틱 제품 제조업': 'IC = (B29B* or B29C* or B29D* or B29K* or B29L* or A42B-003* or B60C* or B65D* or B67D* or C08C* or F16L*)',\n",
        " '광업': 'IC = (C22B* or E21D*)',\n",
        " '구조용 금속제품, 탱크, 증기발생기 제조업': 'IC = (A47H* or B21G* or F16T* or F17B* or F22B* or F22G* or F24D* or F24H* or G21B* or G21C* or G21D*)',\n",
        " '그 외 기타 화학제품 제조업': 'IC = (A62D* or B01J* or C06B* or C06C* or C06D* or C06F* or C08H* or C09H* or C09J* or C09K* or C10M* or C10N* or C11B* or C11C* or C14C* or C23F* or C23G* or C40B* or C99Z* or F42B* or (G03C* not (G03C-005* or G03C-009* or G03C-011*)))',\n",
        " '그 외 분류 안된 운송장비 제조업': 'IC = (B62B* or B62C* or B62H* or B62L* or (B62K* not (B62K-011*)) or (B62M* not (B62M-006* or B62M-007*)))',\n",
        " '금속주조업': 'IC = (B22D*)',\n",
        " '기초 화학물질제조업': 'IC = (C01C* or C01D* or C01F* or C01G* or C07B* or C07C* or C07F* or C07G* or C07H* or C09B* or C09C* or C10B* or C10C* or C10H* or C10J* or C10K* or C25B* or G21G* or G21J*)',\n",
        " '기타 금속가공 제품 제조업': 'IC = (A01L* or A44B-011* or B21D* or B21F* or B21H* or B21J* or B21K* or B21L* or B22F* or B23B* or B23C* or B23D* or B23G* or B23H* or B25B* or B25C* or B25F* or B25G* or B25H* or B26B* or B26F* or B27B* or B27G* or C23D* or C25D* or E05D* or E05G* or F16B*)',\n",
        " '기타 전기장비 제조업': 'IC = (B60M* or C25F* or G08B* or G08G* or G10K* or H01T* or H02H* or H02M* or H05C* or H05F*)',\n",
        " '기타제품 제조업': 'IC = (A41G* or A45B* or A45F* or A46B* or A46D* or A63B* or A63C* or A63D* or A63F* or A63G* or A63H* or A63J* or A63K* or A99Z* or B43K* or B43L* or B43M* or B44D* or B44F* or B68G* or B99Z* or D07B* or F23Q* or G09B* or G09F* or G10B* or G10C* or G10D* or G10F* or G10G* or G10H* or (A44B* not (A44B-011*)) or (A44C* not (A44C-023*)))',\n",
        " '농림어업': 'IC = (A01B-027* or A01B-002* or A01C* or A01D* or A01G* or A01H* or A01K*)',\n",
        " '담배제조업': 'IC = (A24B* or A24D* or A24F*)',\n",
        " '마그네틱 및 광학 매체 제조업': 'IC = (G11B*)',\n",
        " '모터사이클 제조업': 'IC = (B62J* or B62K-011* or B62M-006* or B62M-007*)',\n",
        " '목재 및 나무제품제조업; 가구제외': 'IC = (A44C-023* or B27D* or B27K* or B27H* or B27M* or B27N* or E04G*)',\n",
        " '무기 및 총포탄 제조업': 'IC = (F41A* or F41B* or F41C* or F41F* or F41G* or F41J* or F42C* or (F41H* not (F41H-007*)))',\n",
        " '반도체 제조업': 'IC = (G11C* or H01L*)',\n",
        " '비금속광물제품 제조업': 'IC = (A47K* or B24D* or B28B* or B28C* or B28D* or B32B* or C01B* or C03B* or C03C* or C04B* or E03D* or E04B* or E04C* or E04D* or E04F*)',\n",
        " '비료 및 질소 화학물 제조업': 'IC = (C05B* or C05C* or C05D* or C05F* or C05G*)',\n",
        " '사무용 기계 및 장비 제조업': 'IC = (B41L* or B41J-001* or G03G* or G06C* or G06M* or G07B* or G07C* or G07D* or G07G*)',\n",
        " '사무용 이외의 일반기계 제조업': 'IC = (B01B* or B01D* or B04C* or B05B* or B23F* or B25D* or B41K* or B60S-003* or B65B* or B65C* or B65G* or B66B* or B66C* or B66D* or B66F* or B67C* or C10F* or C12L* or E01H* or E02C* or E21F* or F01B* or F01C* or F01D* or F01K* or F01M* or F01N* or F01P* or F02G* or F03B* or F03C* or F03G* or F04B* or F04C* or F04D* or F04F* or F15B* or F15C* or F15D* or F16C* or F16D* or F16F* or F16G* or F16H* or F16K* or F16M* or F17D* or F22-000* or F23B* or F23C* or F23D* or F23G* or F23H* or F23J* or F23K* or F23L* or F23M* or F23N* or F23R* or F24F* or F24J* or F25B* or F25C* or F25D* or F25J* or F27B* or F27D* or F28B* or F28C* or F28D* or F28F* or F28G* or G01G* or G07F* or G09D* or G09G*)',\n",
        " '살충제 및 기타농약제조업': 'IC = (A01N* or A01P*)',\n",
        " '선박 제조업': 'IC = (B60V* or B63B* or B63C* or B63G* or B63H* or B63J*)',\n",
        " '섬유제품 제조업 :의복제외': 'IC = (D04D* or D04G* or D04H* or D06C* or D06J* or D06M* or D06N* or D06P* or D06Q*)',\n",
        " '세제, 화장품 및 광택제 제조업': 'IC = (A61Q* or C09F* or C09G* or C11D* or D06L* or A61K-008*)',\n",
        " '시계 및 시계부품 제조업': 'IC = (G04B* or G04C* or G04D* or G04F* or G04G* or G04R*)',\n",
        " '식료품 제조업': 'IC = (A21D* or A23B* or A23C* or A23D* or A23F* or A23G* or A23J* or A23K* or A23L* or A23P* or C12J* or C13B* or C13K*)',\n",
        " '안경, 사진장비 및 기타 광학기기 제조업': 'IC = (G02B* or G02C* or G03D* or G02F-002* or G02F-003* or G02F-007* or G03C-005* or G03C-009* or G03C-011* or G03F* or (G03B* not (G03B-031* or G03B-042*)))',\n",
        " '영상 및 음향기기 제조업': 'IC = (G03B-031* or G10L* or H03J* or H04H* or H04N* or H04R*)',\n",
        " '음료제조업': 'IC = (C12C* or C12F* or C12G* or C12H*)',\n",
        " '의료용 기기 제조업': 'IC = (A61B* or A61C* or A61D* or A61F* or A61G* or A61H* or A61J* or A61L* or A61M* or A61N* or A62B* or B01L* or B04B* or C12M* or G01T* or G03B-042* or H05G*)',\n",
        " '의료용 물질 및 의약품 제조업': 'IC = (A61P* or C07D* or C07J* or C07K* or C12N* or C12P* or C12Q* or C12R* or (A61K* not (A61K-008*)))',\n",
        " '의복, 의복 액세서리 및 모피제품 제조업': 'IC = (A41B* or A41C* or A41D* or A41F* or A42C-005* or (A42B* not (A42B-003*)))',\n",
        " '인쇄 및 기록매체복제업': 'IC = (B41M* or B42D*)',\n",
        " '일차전지 및 축전지 제조업': 'IC = (H01M*)',\n",
        " '잉크, 페인트 코팅제 및 유사제품 제조업': 'IC = (C09D*)',\n",
        " '자동차 제조업': 'IC = (B60B* or B60D* or B60F* or B60G* or B60H* or B60J* or B60K* or B60N* or B60P* or B60R* or B60T* or B60W* or B62D* or E05F* or F02M* or F02N* or F02P* or F16J* or G05G* or (B60L* not (B60L-013*)) or (B60S* not (B60S-003*)))',\n",
        " '전구 및 조명장치 제조업': 'IC = (B60Q* or F21H* or F21K* or F21L* or F21S* or F21V* or F21W* or F21Y* or H01K*)',\n",
        " '전기, 가스, 증기, 수도': 'IC = (F02C* or F03D* or H02S* or G21H-001*)',\n",
        " '전동기, 발전기 및 전기변환, 공급, 제어장치 제조업': 'IC = (F99Z* or H02B* or H02J* or H02K* or H02N* or H02P*)',\n",
        " '전자부품 제조업': 'IC = (B05D* or B81B* or B81C* or B82B* or B82Y* or C30B* or G02F-001* or G12B* or H01C* or H01F* or H01G* or H01J* or H05K* or H03K* or H03L*)',\n",
        " '전투용 차량 제조업': 'IC = (F41H-007*)',\n",
        " '절연선 및 케이블제조업': 'IC = (H01B* or H01H* or H01R* or H02G*)',\n",
        " '철도장비 제조업': 'IC = (B60L-013* or B61B* or B61C* or B61D* or B61F* or B61G* or B61H* or B61J* or B61K* or B61L* or E01B*)',\n",
        " '측정, 시험, 향해, 제어, 및 기타 정밀기기 제조업': 'IC = (G01B* or G01C* or G01D* or G01F* or G01H* or G01J* or G01K* or G01L* or G01M* or G01N* or G01P* or G01Q* or G01R* or G01S* or G01V* or G01W* or G05B* or G05D* or G05F* or G21K* or G08C*)',\n",
        " '컴퓨터 및 주변장치 제조업': 'IC = (B41J-002* or B41J-027* or B41J-029* or B41J-031* or B41J-032* or B41J-033* or B41J-035* or G06J* or G06F-001* or G06F-003* or G06K*)',\n",
        " '컴퓨터 프로그래밍, 정보서비스업': 'IC = (G06D* or G06E* or G06G* or G06N* or G06Q* or G06T* or G09C* or (G06F* not (G06F-001* or G06F-003*)))',\n",
        " '코크스, 연탄 및 석유정제품 제조업': 'IC = (C10G* or C10L*)',\n",
        " '통신 및 방송 장비 제조업': 'IC = (G03H* or H01P* or H01Q* or H01S* or H03B* or H03C* or H03D* or H03F* or H03G* or H03H* or H03M* or H04B* or H04J* or H04K* or H04L* or H04M* or H04Q* or H04S* or H04W* or H99Z*)',\n",
        " '특수 기계제조업': 'IC = (A01F* or A01J* or A01M* or A21B* or A21C* or A22B* or A22C* or A23N* or A24C* or A41H* or A43D* or A62C* or B01F* or B02B* or B02C* or B03B* or B03C* or B03D* or B05C* or B06B* or B07B* or B07C* or B08B* or B21B* or B22C* or B23K* or B23P* or B23Q* or B24B* or B24C* or B25J* or B26D* or B27C* or B27F* or B27J* or B27L* or B30B* or B31B* or B31C* or B31D* or B31F* or B41B* or B41C* or B41D* or B41F* or B41G* or B41N* or B42B* or B42C* or B44B* or B44C* or B65H* or B67B* or B68F* or C14B* or C23C* or D01B* or D01G* or D01H* or D02G* or D02H* or D02J* or D03C* or D03D* or D03J* or D04B* or D04C* or D05B* or D05C* or D06B* or D06G* or D06H* or D21B* or D21D* or D21F* or D21G* or D99Z* or E02F* or E21B* or F01L* or F02B* or F02D* or F02F* or F16N* or F16P* or F26B* or H05H* or (A01B* not (A01B-027/02)) or (A42C* not (A42C-005*)) or (B41J* not (B41J-001* or B41J-002* or B41J-027* or B41J-029* or B41J-031* or B41J-032* or B41J-033* or B41J-035*)))',\n",
        " '펄프, 종이 및 종이제품 제조업': 'IC = (B42F* or D21C* or D21H* or D21J*)',\n",
        " '하수, 폐기물처리, 원료재생, 환경복원': 'IC = (B09B* or B09C* or B65F* or C02F* or G21F*)',\n",
        " '합성고무 및 플라스틱 물질 제조업': 'IC = (C08B* or C08F* or C08G* or C08J* or C08K* or C08L*)',\n",
        " '항공기 제조업': 'IC = (B64B* or B64C* or B64D* or B64F* or B64G* or F02K* or F03H*)',\n",
        " '화학섬유 제조업': 'IC = (D01C* or D01D* or D01F*)'}\n",
        "```\n",
        "\n"
      ]
    },
    {
      "cell_type": "code",
      "metadata": {
        "id": "14lsMf0V1FZ3"
      },
      "source": [
        "concordance['IPC_CODE'] = concordance['산업명'].apply(lambda x: queries[x])"
      ],
      "execution_count": 105,
      "outputs": []
    },
    {
      "cell_type": "code",
      "metadata": {
        "colab": {
          "base_uri": "https://localhost:8080/",
          "height": 1000
        },
        "id": "vM8aOGRs3i74",
        "outputId": "3a316701-8b1c-4b0e-ffa9-c68c7bd9d508"
      },
      "source": [
        "concordance"
      ],
      "execution_count": 106,
      "outputs": [
        {
          "output_type": "execute_result",
          "data": {
            "text/html": [
              "<div>\n",
              "<style scoped>\n",
              "    .dataframe tbody tr th:only-of-type {\n",
              "        vertical-align: middle;\n",
              "    }\n",
              "\n",
              "    .dataframe tbody tr th {\n",
              "        vertical-align: top;\n",
              "    }\n",
              "\n",
              "    .dataframe thead th {\n",
              "        text-align: right;\n",
              "    }\n",
              "</style>\n",
              "<table border=\"1\" class=\"dataframe\">\n",
              "  <thead>\n",
              "    <tr style=\"text-align: right;\">\n",
              "      <th></th>\n",
              "      <th>국세청_대분류코드</th>\n",
              "      <th>국세청_대분류</th>\n",
              "      <th>국세청_중분류코드</th>\n",
              "      <th>국세청_중분류</th>\n",
              "      <th>국세청_소분류코드</th>\n",
              "      <th>국세청_소분류</th>\n",
              "      <th>KSIC10_코드</th>\n",
              "      <th>KSIC10_대분류코드</th>\n",
              "      <th>KSIC10_대분류</th>\n",
              "      <th>KSIC10_중분류코드</th>\n",
              "      <th>KSIC10_중분류</th>\n",
              "      <th>KSIC10_소분류코드</th>\n",
              "      <th>KSIC10_소분류</th>\n",
              "      <th>KSIC9_코드</th>\n",
              "      <th>KSIC9_항목명</th>\n",
              "      <th>산업명</th>\n",
              "      <th>IPC_CODE</th>\n",
              "    </tr>\n",
              "  </thead>\n",
              "  <tbody>\n",
              "    <tr>\n",
              "      <th>0</th>\n",
              "      <td>A</td>\n",
              "      <td>농업, 임업 및 어업</td>\n",
              "      <td>1.0</td>\n",
              "      <td>농업</td>\n",
              "      <td>11.0</td>\n",
              "      <td>작물 재배업</td>\n",
              "      <td>1110.0</td>\n",
              "      <td>A</td>\n",
              "      <td>농업, 임업 및 어업</td>\n",
              "      <td>1.0</td>\n",
              "      <td>농업</td>\n",
              "      <td>11.0</td>\n",
              "      <td>작물 재배업</td>\n",
              "      <td>1110.0</td>\n",
              "      <td>곡물 및 기타 식량 작물 재배업</td>\n",
              "      <td>농림어업</td>\n",
              "      <td>IC = (A01B-027* or A01B-002* or A01C* or A01D*...</td>\n",
              "    </tr>\n",
              "    <tr>\n",
              "      <th>13</th>\n",
              "      <td>A</td>\n",
              "      <td>농업, 임업 및 어업</td>\n",
              "      <td>1.0</td>\n",
              "      <td>농업</td>\n",
              "      <td>12.0</td>\n",
              "      <td>축산업</td>\n",
              "      <td>1212.0</td>\n",
              "      <td>A</td>\n",
              "      <td>농업, 임업 및 어업</td>\n",
              "      <td>1.0</td>\n",
              "      <td>농업</td>\n",
              "      <td>12.0</td>\n",
              "      <td>축산업</td>\n",
              "      <td>1212.0</td>\n",
              "      <td>육우 사육업</td>\n",
              "      <td>농림어업</td>\n",
              "      <td>IC = (A01B-027* or A01B-002* or A01C* or A01D*...</td>\n",
              "    </tr>\n",
              "    <tr>\n",
              "      <th>21</th>\n",
              "      <td>A</td>\n",
              "      <td>농업, 임업 및 어업</td>\n",
              "      <td>1.0</td>\n",
              "      <td>농업</td>\n",
              "      <td>14.0</td>\n",
              "      <td>작물재배 및 축산 관련 서비스업</td>\n",
              "      <td>1420.0</td>\n",
              "      <td>A</td>\n",
              "      <td>농업, 임업 및 어업</td>\n",
              "      <td>1.0</td>\n",
              "      <td>농업</td>\n",
              "      <td>14.0</td>\n",
              "      <td>작물재배 및 축산 관련 서비스업</td>\n",
              "      <td>1420.0</td>\n",
              "      <td>축산 관련 서비스업</td>\n",
              "      <td>농림어업</td>\n",
              "      <td>IC = (A01B-027* or A01B-002* or A01C* or A01D*...</td>\n",
              "    </tr>\n",
              "    <tr>\n",
              "      <th>23</th>\n",
              "      <td>A</td>\n",
              "      <td>농업, 임업 및 어업</td>\n",
              "      <td>1.0</td>\n",
              "      <td>농업</td>\n",
              "      <td>14.0</td>\n",
              "      <td>작물재배 및 축산 복합농업</td>\n",
              "      <td>1300.0</td>\n",
              "      <td>A</td>\n",
              "      <td>농업, 임업 및 어업</td>\n",
              "      <td>1.0</td>\n",
              "      <td>농업</td>\n",
              "      <td>13.0</td>\n",
              "      <td>작물재배 및 축산 복합농업</td>\n",
              "      <td>1300.0</td>\n",
              "      <td>작물재배 및 축산 복합농업</td>\n",
              "      <td>농림어업</td>\n",
              "      <td>IC = (A01B-027* or A01B-002* or A01C* or A01D*...</td>\n",
              "    </tr>\n",
              "    <tr>\n",
              "      <th>26</th>\n",
              "      <td>A</td>\n",
              "      <td>농업, 임업 및 어업</td>\n",
              "      <td>1.0</td>\n",
              "      <td>농업</td>\n",
              "      <td>15.0</td>\n",
              "      <td>수렵 및 관련 서비스업</td>\n",
              "      <td>1500.0</td>\n",
              "      <td>A</td>\n",
              "      <td>농업, 임업 및 어업</td>\n",
              "      <td>1.0</td>\n",
              "      <td>농업</td>\n",
              "      <td>15.0</td>\n",
              "      <td>수렵 및 관련 서비스업</td>\n",
              "      <td>1500.0</td>\n",
              "      <td>수렵 및 관련 서비스업</td>\n",
              "      <td>농림어업</td>\n",
              "      <td>IC = (A01B-027* or A01B-002* or A01C* or A01D*...</td>\n",
              "    </tr>\n",
              "    <tr>\n",
              "      <th>...</th>\n",
              "      <td>...</td>\n",
              "      <td>...</td>\n",
              "      <td>...</td>\n",
              "      <td>...</td>\n",
              "      <td>...</td>\n",
              "      <td>...</td>\n",
              "      <td>...</td>\n",
              "      <td>...</td>\n",
              "      <td>...</td>\n",
              "      <td>...</td>\n",
              "      <td>...</td>\n",
              "      <td>...</td>\n",
              "      <td>...</td>\n",
              "      <td>...</td>\n",
              "      <td>...</td>\n",
              "      <td>...</td>\n",
              "      <td>...</td>\n",
              "    </tr>\n",
              "    <tr>\n",
              "      <th>878</th>\n",
              "      <td>F</td>\n",
              "      <td>건 설 업</td>\n",
              "      <td>45.0</td>\n",
              "      <td>전문직별 공사업</td>\n",
              "      <td>453.0</td>\n",
              "      <td>건설장비 운영업</td>\n",
              "      <td>42600.0</td>\n",
              "      <td>F</td>\n",
              "      <td>건설업</td>\n",
              "      <td>42.0</td>\n",
              "      <td>전문직별 공사업</td>\n",
              "      <td>426.0</td>\n",
              "      <td>건설장비 운영업</td>\n",
              "      <td>42500.0</td>\n",
              "      <td>건설장비 운영업</td>\n",
              "      <td>건설업, 건축기술 서비스</td>\n",
              "      <td>IC = (E01C* or E01D* or E01F* or E02B* or E02D...</td>\n",
              "    </tr>\n",
              "    <tr>\n",
              "      <th>1486</th>\n",
              "      <td>J</td>\n",
              "      <td>정보통신업</td>\n",
              "      <td>64.0</td>\n",
              "      <td>정보서비스업</td>\n",
              "      <td>642.0</td>\n",
              "      <td>자료 처리, 호스팅, 포털 및 기타 인터넷 정보 매개 서비스업</td>\n",
              "      <td>63120.0</td>\n",
              "      <td>J</td>\n",
              "      <td>정보통신업</td>\n",
              "      <td>63.0</td>\n",
              "      <td>정보서비스업</td>\n",
              "      <td>631.0</td>\n",
              "      <td>자료 처리, 호스팅, 포털 및 기타 인터넷 정보 매개 서비스업</td>\n",
              "      <td>63120.0</td>\n",
              "      <td>포털 및 기타 인터넷 정보 매개 서비스업</td>\n",
              "      <td>컴퓨터 프로그래밍, 정보서비스업</td>\n",
              "      <td>IC = (G06D* or G06E* or G06G* or G06N* or G06Q...</td>\n",
              "    </tr>\n",
              "    <tr>\n",
              "      <th>1488</th>\n",
              "      <td>J</td>\n",
              "      <td>정보통신업</td>\n",
              "      <td>72.0</td>\n",
              "      <td>컴퓨터 프로그래밍, 시스템 통합 및 관리업</td>\n",
              "      <td>721.0</td>\n",
              "      <td>컴퓨터 프로그래밍, 시스템 통합 및 관리업</td>\n",
              "      <td>62021.0</td>\n",
              "      <td>J</td>\n",
              "      <td>정보통신업</td>\n",
              "      <td>62.0</td>\n",
              "      <td>컴퓨터 프로그래밍, 시스템 통합 및 관리업</td>\n",
              "      <td>620.0</td>\n",
              "      <td>컴퓨터 프로그래밍, 시스템 통합 및 관리업</td>\n",
              "      <td>62021.0</td>\n",
              "      <td>컴퓨터시스템 통합 자문 및 구축 서비스업</td>\n",
              "      <td>컴퓨터 프로그래밍, 정보서비스업</td>\n",
              "      <td>IC = (G06D* or G06E* or G06G* or G06N* or G06Q...</td>\n",
              "    </tr>\n",
              "    <tr>\n",
              "      <th>1490</th>\n",
              "      <td>J</td>\n",
              "      <td>정보통신업</td>\n",
              "      <td>72.0</td>\n",
              "      <td>출판업</td>\n",
              "      <td>722.0</td>\n",
              "      <td>소프트웨어 개발 및 공급업</td>\n",
              "      <td>58222.0</td>\n",
              "      <td>J</td>\n",
              "      <td>정보통신업</td>\n",
              "      <td>58.0</td>\n",
              "      <td>출판업</td>\n",
              "      <td>582.0</td>\n",
              "      <td>소프트웨어 개발 및 공급업</td>\n",
              "      <td>58222.0</td>\n",
              "      <td>응용 소프트웨어 개발 및 공급업</td>\n",
              "      <td>컴퓨터 프로그래밍, 정보서비스업</td>\n",
              "      <td>IC = (G06D* or G06E* or G06G* or G06N* or G06Q...</td>\n",
              "    </tr>\n",
              "    <tr>\n",
              "      <th>1617</th>\n",
              "      <td>M</td>\n",
              "      <td>전문, 과학 및 기술 서비스업</td>\n",
              "      <td>74.0</td>\n",
              "      <td>건축 기술, 엔지니어링 및 기타 과학기술 서비스업</td>\n",
              "      <td>742.0</td>\n",
              "      <td>건축 기술, 엔지니어링 및 관련 기술 서비스업</td>\n",
              "      <td>72111.0</td>\n",
              "      <td>M</td>\n",
              "      <td>전문, 과학 및 기술 서비스업</td>\n",
              "      <td>72.0</td>\n",
              "      <td>건축 기술, 엔지니어링 및 기타 과학기술 서비스업</td>\n",
              "      <td>721.0</td>\n",
              "      <td>건축 기술, 엔지니어링 및 관련 기술 서비스업</td>\n",
              "      <td>72111.0</td>\n",
              "      <td>건축설계 및 관련 서비스업</td>\n",
              "      <td>건설업, 건축기술 서비스</td>\n",
              "      <td>IC = (E01C* or E01D* or E01F* or E02B* or E02D...</td>\n",
              "    </tr>\n",
              "  </tbody>\n",
              "</table>\n",
              "<p>119 rows × 17 columns</p>\n",
              "</div>"
            ],
            "text/plain": [
              "     국세청_대분류코드  ...                                           IPC_CODE\n",
              "0            A  ...  IC = (A01B-027* or A01B-002* or A01C* or A01D*...\n",
              "13           A  ...  IC = (A01B-027* or A01B-002* or A01C* or A01D*...\n",
              "21           A  ...  IC = (A01B-027* or A01B-002* or A01C* or A01D*...\n",
              "23           A  ...  IC = (A01B-027* or A01B-002* or A01C* or A01D*...\n",
              "26           A  ...  IC = (A01B-027* or A01B-002* or A01C* or A01D*...\n",
              "...        ...  ...                                                ...\n",
              "878          F  ...  IC = (E01C* or E01D* or E01F* or E02B* or E02D...\n",
              "1486         J  ...  IC = (G06D* or G06E* or G06G* or G06N* or G06Q...\n",
              "1488         J  ...  IC = (G06D* or G06E* or G06G* or G06N* or G06Q...\n",
              "1490         J  ...  IC = (G06D* or G06E* or G06G* or G06N* or G06Q...\n",
              "1617         M  ...  IC = (E01C* or E01D* or E01F* or E02B* or E02D...\n",
              "\n",
              "[119 rows x 17 columns]"
            ]
          },
          "metadata": {},
          "execution_count": 106
        }
      ]
    },
    {
      "cell_type": "code",
      "metadata": {
        "id": "_mU8AND90FKz"
      },
      "source": [
        "from datetime import datetime\n",
        "concordance.to_csv('국세청업종코드-KSIC10-KSIC9-IPC_final_{}.csv'.format(datetime.today().strftime(\"%m%d\")), index=False)\n",
        "# concordance.to_csv('국세청업종코드-KSIC10-KSIC9-IPC_final_0903.csv', index=False)"
      ],
      "execution_count": 107,
      "outputs": []
    },
    {
      "cell_type": "markdown",
      "metadata": {
        "id": "IFLWd67boVul"
      },
      "source": [
        "# 대분류별 IPC 코드"
      ]
    },
    {
      "cell_type": "code",
      "metadata": {
        "id": "CGcewfVtoZHD"
      },
      "source": [
        "import pandas as pd"
      ],
      "execution_count": 108,
      "outputs": []
    },
    {
      "cell_type": "code",
      "metadata": {
        "id": "v8q4I-rloZHD"
      },
      "source": [
        "concordance = pd.read_csv('국세청업종코드-KSIC10-KSIC9-IPC_final_0903.csv')"
      ],
      "execution_count": 116,
      "outputs": []
    },
    {
      "cell_type": "code",
      "metadata": {
        "id": "uAW7kyXooaR9"
      },
      "source": [
        "concordance = concordance[['KSIC10_대분류', 'IPC_CODE']].drop_duplicates()"
      ],
      "execution_count": 117,
      "outputs": []
    },
    {
      "cell_type": "code",
      "metadata": {
        "colab": {
          "base_uri": "https://localhost:8080/",
          "height": 331
        },
        "id": "cMzvGJ9Wod4E",
        "outputId": "ba5ec3cd-85ac-441d-e845-3e0b67b5fdd9"
      },
      "source": [
        "concordance.groupby('KSIC10_대분류').count()"
      ],
      "execution_count": 118,
      "outputs": [
        {
          "output_type": "execute_result",
          "data": {
            "text/html": [
              "<div>\n",
              "<style scoped>\n",
              "    .dataframe tbody tr th:only-of-type {\n",
              "        vertical-align: middle;\n",
              "    }\n",
              "\n",
              "    .dataframe tbody tr th {\n",
              "        vertical-align: top;\n",
              "    }\n",
              "\n",
              "    .dataframe thead th {\n",
              "        text-align: right;\n",
              "    }\n",
              "</style>\n",
              "<table border=\"1\" class=\"dataframe\">\n",
              "  <thead>\n",
              "    <tr style=\"text-align: right;\">\n",
              "      <th></th>\n",
              "      <th>IPC_CODE</th>\n",
              "    </tr>\n",
              "    <tr>\n",
              "      <th>KSIC10_대분류</th>\n",
              "      <th></th>\n",
              "    </tr>\n",
              "  </thead>\n",
              "  <tbody>\n",
              "    <tr>\n",
              "      <th>건설업</th>\n",
              "      <td>1</td>\n",
              "    </tr>\n",
              "    <tr>\n",
              "      <th>광업</th>\n",
              "      <td>1</td>\n",
              "    </tr>\n",
              "    <tr>\n",
              "      <th>농업, 임업 및 어업</th>\n",
              "      <td>1</td>\n",
              "    </tr>\n",
              "    <tr>\n",
              "      <th>수도, 하수 및 폐기물 처리, 원료 재생업</th>\n",
              "      <td>1</td>\n",
              "    </tr>\n",
              "    <tr>\n",
              "      <th>전기, 가스, 증기 및 공기 조절 공급업</th>\n",
              "      <td>1</td>\n",
              "    </tr>\n",
              "    <tr>\n",
              "      <th>전문, 과학 및 기술 서비스업</th>\n",
              "      <td>1</td>\n",
              "    </tr>\n",
              "    <tr>\n",
              "      <th>정보통신업</th>\n",
              "      <td>1</td>\n",
              "    </tr>\n",
              "    <tr>\n",
              "      <th>제조업</th>\n",
              "      <td>49</td>\n",
              "    </tr>\n",
              "  </tbody>\n",
              "</table>\n",
              "</div>"
            ],
            "text/plain": [
              "                         IPC_CODE\n",
              "KSIC10_대분류                       \n",
              "건설업                             1\n",
              "광업                              1\n",
              "농업, 임업 및 어업                     1\n",
              "수도, 하수 및 폐기물 처리, 원료 재생업         1\n",
              "전기, 가스, 증기 및 공기 조절 공급업          1\n",
              "전문, 과학 및 기술 서비스업                1\n",
              "정보통신업                           1\n",
              "제조업                            49"
            ]
          },
          "metadata": {},
          "execution_count": 118
        }
      ]
    },
    {
      "cell_type": "code",
      "metadata": {
        "id": "8KvxQG8_o2_c"
      },
      "source": [
        "concordance.loc[concordance['KSIC10_대분류'] == '제조업', 'IPC_CODE'] = 'IC = ' + ' or '.join(concordance.loc[concordance['KSIC10_대분류'] == '제조업', 'IPC_CODE'].apply(lambda x: x.replace('IC = ', '')))"
      ],
      "execution_count": 119,
      "outputs": []
    },
    {
      "cell_type": "code",
      "metadata": {
        "colab": {
          "base_uri": "https://localhost:8080/",
          "height": 300
        },
        "id": "DMFNYG-Mo-SK",
        "outputId": "57dc625e-3299-486d-d9d3-818bf937fde8"
      },
      "source": [
        "concordance.drop_duplicates(inplace=True); concordance"
      ],
      "execution_count": 120,
      "outputs": [
        {
          "output_type": "execute_result",
          "data": {
            "text/html": [
              "<div>\n",
              "<style scoped>\n",
              "    .dataframe tbody tr th:only-of-type {\n",
              "        vertical-align: middle;\n",
              "    }\n",
              "\n",
              "    .dataframe tbody tr th {\n",
              "        vertical-align: top;\n",
              "    }\n",
              "\n",
              "    .dataframe thead th {\n",
              "        text-align: right;\n",
              "    }\n",
              "</style>\n",
              "<table border=\"1\" class=\"dataframe\">\n",
              "  <thead>\n",
              "    <tr style=\"text-align: right;\">\n",
              "      <th></th>\n",
              "      <th>KSIC10_대분류</th>\n",
              "      <th>IPC_CODE</th>\n",
              "    </tr>\n",
              "  </thead>\n",
              "  <tbody>\n",
              "    <tr>\n",
              "      <th>0</th>\n",
              "      <td>농업, 임업 및 어업</td>\n",
              "      <td>IC = (A01B-027* or A01B-002* or A01C* or A01D*...</td>\n",
              "    </tr>\n",
              "    <tr>\n",
              "      <th>8</th>\n",
              "      <td>광업</td>\n",
              "      <td>IC = (C22B* or E21D*)</td>\n",
              "    </tr>\n",
              "    <tr>\n",
              "      <th>15</th>\n",
              "      <td>제조업</td>\n",
              "      <td>IC = (A21D* or A23B* or A23C* or A23D* or A23F...</td>\n",
              "    </tr>\n",
              "    <tr>\n",
              "      <th>99</th>\n",
              "      <td>전기, 가스, 증기 및 공기 조절 공급업</td>\n",
              "      <td>IC = (F02C* or F03D* or H02S* or G21H-001*)</td>\n",
              "    </tr>\n",
              "    <tr>\n",
              "      <th>102</th>\n",
              "      <td>수도, 하수 및 폐기물 처리, 원료 재생업</td>\n",
              "      <td>IC = (B09B* or B09C* or B65F* or C02F* or G21F*)</td>\n",
              "    </tr>\n",
              "    <tr>\n",
              "      <th>107</th>\n",
              "      <td>건설업</td>\n",
              "      <td>IC = (E01C* or E01D* or E01F* or E02B* or E02D...</td>\n",
              "    </tr>\n",
              "    <tr>\n",
              "      <th>115</th>\n",
              "      <td>정보통신업</td>\n",
              "      <td>IC = (G06D* or G06E* or G06G* or G06N* or G06Q...</td>\n",
              "    </tr>\n",
              "    <tr>\n",
              "      <th>118</th>\n",
              "      <td>전문, 과학 및 기술 서비스업</td>\n",
              "      <td>IC = (E01C* or E01D* or E01F* or E02B* or E02D...</td>\n",
              "    </tr>\n",
              "  </tbody>\n",
              "</table>\n",
              "</div>"
            ],
            "text/plain": [
              "                  KSIC10_대분류                                           IPC_CODE\n",
              "0                농업, 임업 및 어업  IC = (A01B-027* or A01B-002* or A01C* or A01D*...\n",
              "8                         광업                              IC = (C22B* or E21D*)\n",
              "15                       제조업  IC = (A21D* or A23B* or A23C* or A23D* or A23F...\n",
              "99    전기, 가스, 증기 및 공기 조절 공급업        IC = (F02C* or F03D* or H02S* or G21H-001*)\n",
              "102  수도, 하수 및 폐기물 처리, 원료 재생업   IC = (B09B* or B09C* or B65F* or C02F* or G21F*)\n",
              "107                      건설업  IC = (E01C* or E01D* or E01F* or E02B* or E02D...\n",
              "115                    정보통신업  IC = (G06D* or G06E* or G06G* or G06N* or G06Q...\n",
              "118         전문, 과학 및 기술 서비스업  IC = (E01C* or E01D* or E01F* or E02B* or E02D..."
            ]
          },
          "metadata": {},
          "execution_count": 120
        }
      ]
    },
    {
      "cell_type": "code",
      "metadata": {
        "id": "YANL4Z-tqNIQ"
      },
      "source": [
        "concordance['KSIC10_대분류'] = concordance['KSIC10_대분류'].apply(lambda x: x.replace('농업, 임업 및 어업', '농업 임업 및 어업(01~03)').replace('광업', '광업(05~08)').replace('제조업', '제조업(10~33)').replace('전기, 가스, 증기 및 공기 조절 공급업', '전기 가스 증기 및 수도사업(35~36)').replace('수도, 하수 및 폐기물 처리, 원료 재생업', '하수 · 폐기물 처리 원료재생 및 환경복원업(37~39)').replace('건설업', '건설업(41~42)').replace('정보통신업', '출판 영상 방송통신 및 정보서비스업(58~63)').replace('전문, 과학 및 기술 서비스업', '전문 과학 및 기술 서비스업(70~73)'))"
      ],
      "execution_count": 121,
      "outputs": []
    },
    {
      "cell_type": "code",
      "metadata": {
        "id": "YCvqhroUpePf"
      },
      "source": [
        "concordance.to_csv('KSIC10_대분류별_IPC.txt', index=False)"
      ],
      "execution_count": 122,
      "outputs": []
    },
    {
      "cell_type": "code",
      "metadata": {
        "id": "lXtQ3ZqnpkIH"
      },
      "source": [
        ""
      ],
      "execution_count": null,
      "outputs": []
    }
  ]
}