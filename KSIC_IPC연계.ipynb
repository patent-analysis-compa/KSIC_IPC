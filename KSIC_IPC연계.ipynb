{
  "nbformat": 4,
  "nbformat_minor": 0,
  "metadata": {
    "colab": {
      "name": "KSIC9차-IPC연계.ipynb",
      "provenance": [],
      "collapsed_sections": [
        "K9pdY_trFVrF",
        "BpC5ePG6Fb5S",
        "hIECufVpFefQ",
        "6Z92dTN6zX40",
        "H0BU76AevABH",
        "t9PYoDXy57Hc",
        "7DgAwMg4cZ__",
        "639pEmmZtazD"
      ]
    },
    "kernelspec": {
      "display_name": "Python 3",
      "name": "python3"
    }
  },
  "cells": [
    {
      "cell_type": "markdown",
      "metadata": {
        "id": "K9pdY_trFVrF"
      },
      "source": [
        "# KSIC10차 업종에 따라 IPC 코드 검색 쿼리 생성"
      ]
    },
    {
      "cell_type": "code",
      "metadata": {
        "id": "qwsplfO4okFR"
      },
      "source": [
        "import pandas as pd"
      ],
      "execution_count": null,
      "outputs": []
    },
    {
      "cell_type": "markdown",
      "metadata": {
        "id": "BpC5ePG6Fb5S"
      },
      "source": [
        "## table 정제"
      ]
    },
    {
      "cell_type": "code",
      "metadata": {
        "id": "jeuUz3u4FVrW"
      },
      "source": [
        "table = pd.read_csv('기업정보연계+KSIC_IPC_연계_final.CSV', encoding='cp949')"
      ],
      "execution_count": null,
      "outputs": []
    },
    {
      "cell_type": "code",
      "metadata": {
        "colab": {
          "base_uri": "https://localhost:8080/",
          "height": 745
        },
        "id": "rK8GixjYFVrX",
        "outputId": "f8164c68-3f9b-4f8e-9928-69b7e371c703"
      },
      "source": [
        "table"
      ],
      "execution_count": null,
      "outputs": [
        {
          "data": {
            "text/html": [
              "<div>\n",
              "<style scoped>\n",
              "    .dataframe tbody tr th:only-of-type {\n",
              "        vertical-align: middle;\n",
              "    }\n",
              "\n",
              "    .dataframe tbody tr th {\n",
              "        vertical-align: top;\n",
              "    }\n",
              "\n",
              "    .dataframe thead th {\n",
              "        text-align: right;\n",
              "    }\n",
              "</style>\n",
              "<table border=\"1\" class=\"dataframe\">\n",
              "  <thead>\n",
              "    <tr style=\"text-align: right;\">\n",
              "      <th></th>\n",
              "      <th>농림어업</th>\n",
              "      <th>광업</th>\n",
              "      <th>식료품 제조업</th>\n",
              "      <th>음료제조업</th>\n",
              "      <th>담배제조업</th>\n",
              "      <th>섬유제품 제조업\\n:의복제외</th>\n",
              "      <th>의복, 의복 액세서리 및 모피제품 제조업</th>\n",
              "      <th>가죽, 가방 및 신발제조업</th>\n",
              "      <th>목재 및\\n나무제품제조업; 가구제외</th>\n",
              "      <th>펄프, 종이 및\\n종이제품 제조업</th>\n",
              "      <th>인쇄 및\\n기록매체복제업</th>\n",
              "      <th>코크스, 연탄 및\\n석유정제품 제조업</th>\n",
              "      <th>기초 화학물질제조업</th>\n",
              "      <th>비료 및 질소 화학물 제조업</th>\n",
              "      <th>합성고무 및\\n플라스틱 물질 제조업</th>\n",
              "      <th>살충제 및 기타농약제조업</th>\n",
              "      <th>잉크, 페인트 코팅제 및 유사제품 제조업</th>\n",
              "      <th>세제, 화장품 및 광택제 제조업</th>\n",
              "      <th>그 외 기타 화학제품 제조업</th>\n",
              "      <th>화학섬유 제조업</th>\n",
              "      <th>의료용 물질 및 의약품 제조업</th>\n",
              "      <th>고무제품 및\\n플라스틱 제품 제조업</th>\n",
              "      <th>비금속광물제품 제조업</th>\n",
              "      <th>1차 철강제조업</th>\n",
              "      <th>1차 비철금속 제조업</th>\n",
              "      <th>금속주조업</th>\n",
              "      <th>구조용 금속제품,\\n탱크, 증기발생기 제조업</th>\n",
              "      <th>무기 및 총포탄 제조업</th>\n",
              "      <th>기타 금속가공 제품 제조업</th>\n",
              "      <th>반도체 제조업</th>\n",
              "      <th>전자부품 제조업</th>\n",
              "      <th>컴퓨터 및 주변장치 제조업</th>\n",
              "      <th>통신 및 방송 장비 제조업</th>\n",
              "      <th>영상 및 음향기기 제조업</th>\n",
              "      <th>마그네틱 및 광학 매체 제조업</th>\n",
              "      <th>의료용 기기 제조업</th>\n",
              "      <th>측정, 시험, 향해, 제어, 및 기타 정밀기기 제조업</th>\n",
              "      <th>안경, 사진장비 및\\n기타 광학기기 제조업</th>\n",
              "      <th>시계 및 시계부품 제조업</th>\n",
              "      <th>전동기, 발전기 및\\n전기변환, 공급, 제어장치 제조업</th>\n",
              "      <th>일차전지 및 축전지 제조업</th>\n",
              "      <th>절연선 및 케이블제조업</th>\n",
              "      <th>전구 및 조명장치 제조업</th>\n",
              "      <th>가정용 기기 제조업</th>\n",
              "      <th>기타 전기장비 제조업</th>\n",
              "      <th>사무용 기계 및\\n장비 제조업</th>\n",
              "      <th>사무용 이외의 일반기계 제조업</th>\n",
              "      <th>특수 기계제조업</th>\n",
              "      <th>자동차 제조업</th>\n",
              "      <th>선박 제조업</th>\n",
              "      <th>철도장비 제조업</th>\n",
              "      <th>항공기 제조업</th>\n",
              "      <th>전투용 차량 제조업</th>\n",
              "      <th>모터사이클 제조업</th>\n",
              "      <th>그 외 분류 안된\\n운송장비 제조업</th>\n",
              "      <th>가구 제조업</th>\n",
              "      <th>기타제품 제조업</th>\n",
              "      <th>전기, 가스, 증기, 수도</th>\n",
              "      <th>하수, 폐기물처리, 원료재생, 환경복원</th>\n",
              "      <th>건설업, 건축기술 서비스</th>\n",
              "      <th>컴퓨터 프로그래밍, 정보서비스업</th>\n",
              "    </tr>\n",
              "  </thead>\n",
              "  <tbody>\n",
              "    <tr>\n",
              "      <th>0</th>\n",
              "      <td>A01B27</td>\n",
              "      <td>C22B</td>\n",
              "      <td>A21D</td>\n",
              "      <td>C12C</td>\n",
              "      <td>A24B</td>\n",
              "      <td>D04D</td>\n",
              "      <td>A41B</td>\n",
              "      <td>A43B</td>\n",
              "      <td>A44C23</td>\n",
              "      <td>B42F</td>\n",
              "      <td>B41M</td>\n",
              "      <td>C10G</td>\n",
              "      <td>C01C</td>\n",
              "      <td>C05B</td>\n",
              "      <td>C08B</td>\n",
              "      <td>A01N</td>\n",
              "      <td>C09D</td>\n",
              "      <td>A61Q</td>\n",
              "      <td>A62D</td>\n",
              "      <td>D01C</td>\n",
              "      <td>A61P</td>\n",
              "      <td>B29B</td>\n",
              "      <td>A47K</td>\n",
              "      <td>B21C</td>\n",
              "      <td>C22F</td>\n",
              "      <td>B22D</td>\n",
              "      <td>A47H</td>\n",
              "      <td>F41A</td>\n",
              "      <td>A01L</td>\n",
              "      <td>G11C</td>\n",
              "      <td>B05D</td>\n",
              "      <td>B41J2</td>\n",
              "      <td>G03H</td>\n",
              "      <td>G03B31</td>\n",
              "      <td>G11B</td>\n",
              "      <td>A61B</td>\n",
              "      <td>G01B</td>\n",
              "      <td>G02B</td>\n",
              "      <td>G04B</td>\n",
              "      <td>F99Z</td>\n",
              "      <td>H01M</td>\n",
              "      <td>H01B</td>\n",
              "      <td>B60Q</td>\n",
              "      <td>A45D</td>\n",
              "      <td>B60M</td>\n",
              "      <td>B41L</td>\n",
              "      <td>B01B</td>\n",
              "      <td>A01B(A01B27/02 제외)</td>\n",
              "      <td>B60B</td>\n",
              "      <td>B60V</td>\n",
              "      <td>B60L13</td>\n",
              "      <td>B64B</td>\n",
              "      <td>F41H7</td>\n",
              "      <td>B62J</td>\n",
              "      <td>B62B</td>\n",
              "      <td>A47B</td>\n",
              "      <td>A41G</td>\n",
              "      <td>F02C</td>\n",
              "      <td>B09B</td>\n",
              "      <td>E01C</td>\n",
              "      <td>G06D</td>\n",
              "    </tr>\n",
              "    <tr>\n",
              "      <th>1</th>\n",
              "      <td>A01B02</td>\n",
              "      <td>E21D</td>\n",
              "      <td>A23B</td>\n",
              "      <td>C12F</td>\n",
              "      <td>A24D</td>\n",
              "      <td>D04G</td>\n",
              "      <td>A41C</td>\n",
              "      <td>A43C</td>\n",
              "      <td>B27D</td>\n",
              "      <td>D21C</td>\n",
              "      <td>B42D</td>\n",
              "      <td>C10L</td>\n",
              "      <td>C01D</td>\n",
              "      <td>C05C</td>\n",
              "      <td>C08F</td>\n",
              "      <td>A01P</td>\n",
              "      <td>NaN</td>\n",
              "      <td>C09F</td>\n",
              "      <td>B01J</td>\n",
              "      <td>D01D</td>\n",
              "      <td>C07D</td>\n",
              "      <td>B29C</td>\n",
              "      <td>B24D</td>\n",
              "      <td>C21B</td>\n",
              "      <td>C25C</td>\n",
              "      <td>NaN</td>\n",
              "      <td>B21G</td>\n",
              "      <td>F41B</td>\n",
              "      <td>A44B11</td>\n",
              "      <td>H01L</td>\n",
              "      <td>B81B</td>\n",
              "      <td>B41J27</td>\n",
              "      <td>H01P</td>\n",
              "      <td>G10L</td>\n",
              "      <td>NaN</td>\n",
              "      <td>A61C</td>\n",
              "      <td>G01C</td>\n",
              "      <td>G02C</td>\n",
              "      <td>G04C</td>\n",
              "      <td>H02B</td>\n",
              "      <td>NaN</td>\n",
              "      <td>H01H</td>\n",
              "      <td>F21H</td>\n",
              "      <td>A47G</td>\n",
              "      <td>C25F</td>\n",
              "      <td>B41J1</td>\n",
              "      <td>B01D</td>\n",
              "      <td>A01F</td>\n",
              "      <td>B60D</td>\n",
              "      <td>B63B</td>\n",
              "      <td>B61B</td>\n",
              "      <td>B64C</td>\n",
              "      <td>NaN</td>\n",
              "      <td>B62K11</td>\n",
              "      <td>B62C</td>\n",
              "      <td>A47C</td>\n",
              "      <td>A44B(A44B11 제외)</td>\n",
              "      <td>F03D</td>\n",
              "      <td>B09C</td>\n",
              "      <td>E01D</td>\n",
              "      <td>G06E</td>\n",
              "    </tr>\n",
              "    <tr>\n",
              "      <th>2</th>\n",
              "      <td>A01C</td>\n",
              "      <td>NaN</td>\n",
              "      <td>A23C</td>\n",
              "      <td>C12G</td>\n",
              "      <td>A24F</td>\n",
              "      <td>D04H</td>\n",
              "      <td>A41D</td>\n",
              "      <td>A45C</td>\n",
              "      <td>B27K</td>\n",
              "      <td>D21H</td>\n",
              "      <td>NaN</td>\n",
              "      <td>NaN</td>\n",
              "      <td>C01F</td>\n",
              "      <td>C05D</td>\n",
              "      <td>C08G</td>\n",
              "      <td>NaN</td>\n",
              "      <td>NaN</td>\n",
              "      <td>C09G</td>\n",
              "      <td>C06B</td>\n",
              "      <td>D01F</td>\n",
              "      <td>C07J</td>\n",
              "      <td>B29D</td>\n",
              "      <td>B28B</td>\n",
              "      <td>C21C</td>\n",
              "      <td>G21H(G21H1 제외)</td>\n",
              "      <td>NaN</td>\n",
              "      <td>F16T</td>\n",
              "      <td>F41C</td>\n",
              "      <td>B21D</td>\n",
              "      <td>NaN</td>\n",
              "      <td>B81C</td>\n",
              "      <td>B41J29</td>\n",
              "      <td>H01Q</td>\n",
              "      <td>H03J</td>\n",
              "      <td>NaN</td>\n",
              "      <td>A61D</td>\n",
              "      <td>G01D</td>\n",
              "      <td>G03D</td>\n",
              "      <td>G04D</td>\n",
              "      <td>H02J</td>\n",
              "      <td>NaN</td>\n",
              "      <td>H01R</td>\n",
              "      <td>F21K</td>\n",
              "      <td>A47J</td>\n",
              "      <td>G08B</td>\n",
              "      <td>G03G</td>\n",
              "      <td>B04C</td>\n",
              "      <td>A01J</td>\n",
              "      <td>B60F</td>\n",
              "      <td>B63C</td>\n",
              "      <td>B61C</td>\n",
              "      <td>B64D</td>\n",
              "      <td>NaN</td>\n",
              "      <td>B62M6</td>\n",
              "      <td>B62H</td>\n",
              "      <td>A47D</td>\n",
              "      <td>A44C(A44C23제외)</td>\n",
              "      <td>H02S</td>\n",
              "      <td>B65F</td>\n",
              "      <td>E01F</td>\n",
              "      <td>G06F(G06F1 제외)</td>\n",
              "    </tr>\n",
              "    <tr>\n",
              "      <th>3</th>\n",
              "      <td>A01D</td>\n",
              "      <td>NaN</td>\n",
              "      <td>A23D</td>\n",
              "      <td>C12H</td>\n",
              "      <td>NaN</td>\n",
              "      <td>D06C</td>\n",
              "      <td>A41F</td>\n",
              "      <td>B68B</td>\n",
              "      <td>B27H</td>\n",
              "      <td>D21J</td>\n",
              "      <td>NaN</td>\n",
              "      <td>NaN</td>\n",
              "      <td>C01G</td>\n",
              "      <td>C05F</td>\n",
              "      <td>C08J</td>\n",
              "      <td>NaN</td>\n",
              "      <td>NaN</td>\n",
              "      <td>C11D</td>\n",
              "      <td>C06C</td>\n",
              "      <td>NaN</td>\n",
              "      <td>C07K</td>\n",
              "      <td>B29K</td>\n",
              "      <td>B28C</td>\n",
              "      <td>C21D</td>\n",
              "      <td>NaN</td>\n",
              "      <td>NaN</td>\n",
              "      <td>F17B</td>\n",
              "      <td>F41F</td>\n",
              "      <td>B21F</td>\n",
              "      <td>NaN</td>\n",
              "      <td>B82B</td>\n",
              "      <td>B41J31</td>\n",
              "      <td>H01S</td>\n",
              "      <td>H04H</td>\n",
              "      <td>NaN</td>\n",
              "      <td>A61F</td>\n",
              "      <td>G01F</td>\n",
              "      <td>G02F2</td>\n",
              "      <td>G04F</td>\n",
              "      <td>H02K</td>\n",
              "      <td>NaN</td>\n",
              "      <td>H02G</td>\n",
              "      <td>F21L</td>\n",
              "      <td>A47L</td>\n",
              "      <td>G08G</td>\n",
              "      <td>G06C</td>\n",
              "      <td>B05B</td>\n",
              "      <td>A01M</td>\n",
              "      <td>B60G</td>\n",
              "      <td>B63G</td>\n",
              "      <td>B61D</td>\n",
              "      <td>B64F</td>\n",
              "      <td>NaN</td>\n",
              "      <td>B62M7</td>\n",
              "      <td>B62K(B62K11 제외)</td>\n",
              "      <td>A47F</td>\n",
              "      <td>A45B</td>\n",
              "      <td>G21H1</td>\n",
              "      <td>C02F</td>\n",
              "      <td>E02B</td>\n",
              "      <td>G06F(G06F3 제외)</td>\n",
              "    </tr>\n",
              "    <tr>\n",
              "      <th>4</th>\n",
              "      <td>A01G</td>\n",
              "      <td>NaN</td>\n",
              "      <td>A23F</td>\n",
              "      <td>NaN</td>\n",
              "      <td>NaN</td>\n",
              "      <td>D06J</td>\n",
              "      <td>A42B(A42B3 제외)</td>\n",
              "      <td>B68C</td>\n",
              "      <td>B27M</td>\n",
              "      <td>NaN</td>\n",
              "      <td>NaN</td>\n",
              "      <td>NaN</td>\n",
              "      <td>C07B</td>\n",
              "      <td>C05G</td>\n",
              "      <td>C08K</td>\n",
              "      <td>NaN</td>\n",
              "      <td>NaN</td>\n",
              "      <td>D06L</td>\n",
              "      <td>C06D</td>\n",
              "      <td>NaN</td>\n",
              "      <td>C12N</td>\n",
              "      <td>B29L</td>\n",
              "      <td>B28D</td>\n",
              "      <td>C22C</td>\n",
              "      <td>NaN</td>\n",
              "      <td>NaN</td>\n",
              "      <td>F22B</td>\n",
              "      <td>F41G</td>\n",
              "      <td>B21H</td>\n",
              "      <td>NaN</td>\n",
              "      <td>B82Y</td>\n",
              "      <td>B41J32</td>\n",
              "      <td>H03B</td>\n",
              "      <td>H04N</td>\n",
              "      <td>NaN</td>\n",
              "      <td>A61G</td>\n",
              "      <td>G01H</td>\n",
              "      <td>G02F3</td>\n",
              "      <td>G04G</td>\n",
              "      <td>H02N</td>\n",
              "      <td>NaN</td>\n",
              "      <td>NaN</td>\n",
              "      <td>F21S</td>\n",
              "      <td>D06F</td>\n",
              "      <td>G10K</td>\n",
              "      <td>G06M</td>\n",
              "      <td>B23F</td>\n",
              "      <td>A21B</td>\n",
              "      <td>B60H</td>\n",
              "      <td>B63H</td>\n",
              "      <td>B61F</td>\n",
              "      <td>B64G</td>\n",
              "      <td>NaN</td>\n",
              "      <td>NaN</td>\n",
              "      <td>B62L</td>\n",
              "      <td>NaN</td>\n",
              "      <td>A45F</td>\n",
              "      <td>NaN</td>\n",
              "      <td>G21F</td>\n",
              "      <td>E02D</td>\n",
              "      <td>G06G</td>\n",
              "    </tr>\n",
              "    <tr>\n",
              "      <th>...</th>\n",
              "      <td>...</td>\n",
              "      <td>...</td>\n",
              "      <td>...</td>\n",
              "      <td>...</td>\n",
              "      <td>...</td>\n",
              "      <td>...</td>\n",
              "      <td>...</td>\n",
              "      <td>...</td>\n",
              "      <td>...</td>\n",
              "      <td>...</td>\n",
              "      <td>...</td>\n",
              "      <td>...</td>\n",
              "      <td>...</td>\n",
              "      <td>...</td>\n",
              "      <td>...</td>\n",
              "      <td>...</td>\n",
              "      <td>...</td>\n",
              "      <td>...</td>\n",
              "      <td>...</td>\n",
              "      <td>...</td>\n",
              "      <td>...</td>\n",
              "      <td>...</td>\n",
              "      <td>...</td>\n",
              "      <td>...</td>\n",
              "      <td>...</td>\n",
              "      <td>...</td>\n",
              "      <td>...</td>\n",
              "      <td>...</td>\n",
              "      <td>...</td>\n",
              "      <td>...</td>\n",
              "      <td>...</td>\n",
              "      <td>...</td>\n",
              "      <td>...</td>\n",
              "      <td>...</td>\n",
              "      <td>...</td>\n",
              "      <td>...</td>\n",
              "      <td>...</td>\n",
              "      <td>...</td>\n",
              "      <td>...</td>\n",
              "      <td>...</td>\n",
              "      <td>...</td>\n",
              "      <td>...</td>\n",
              "      <td>...</td>\n",
              "      <td>...</td>\n",
              "      <td>...</td>\n",
              "      <td>...</td>\n",
              "      <td>...</td>\n",
              "      <td>...</td>\n",
              "      <td>...</td>\n",
              "      <td>...</td>\n",
              "      <td>...</td>\n",
              "      <td>...</td>\n",
              "      <td>...</td>\n",
              "      <td>...</td>\n",
              "      <td>...</td>\n",
              "      <td>...</td>\n",
              "      <td>...</td>\n",
              "      <td>...</td>\n",
              "      <td>...</td>\n",
              "      <td>...</td>\n",
              "      <td>...</td>\n",
              "    </tr>\n",
              "    <tr>\n",
              "      <th>92</th>\n",
              "      <td>NaN</td>\n",
              "      <td>NaN</td>\n",
              "      <td>NaN</td>\n",
              "      <td>NaN</td>\n",
              "      <td>NaN</td>\n",
              "      <td>NaN</td>\n",
              "      <td>NaN</td>\n",
              "      <td>NaN</td>\n",
              "      <td>NaN</td>\n",
              "      <td>NaN</td>\n",
              "      <td>NaN</td>\n",
              "      <td>NaN</td>\n",
              "      <td>NaN</td>\n",
              "      <td>NaN</td>\n",
              "      <td>NaN</td>\n",
              "      <td>NaN</td>\n",
              "      <td>NaN</td>\n",
              "      <td>NaN</td>\n",
              "      <td>NaN</td>\n",
              "      <td>NaN</td>\n",
              "      <td>NaN</td>\n",
              "      <td>NaN</td>\n",
              "      <td>NaN</td>\n",
              "      <td>NaN</td>\n",
              "      <td>NaN</td>\n",
              "      <td>NaN</td>\n",
              "      <td>NaN</td>\n",
              "      <td>NaN</td>\n",
              "      <td>NaN</td>\n",
              "      <td>NaN</td>\n",
              "      <td>NaN</td>\n",
              "      <td>NaN</td>\n",
              "      <td>NaN</td>\n",
              "      <td>NaN</td>\n",
              "      <td>NaN</td>\n",
              "      <td>NaN</td>\n",
              "      <td>NaN</td>\n",
              "      <td>NaN</td>\n",
              "      <td>NaN</td>\n",
              "      <td>NaN</td>\n",
              "      <td>NaN</td>\n",
              "      <td>NaN</td>\n",
              "      <td>NaN</td>\n",
              "      <td>NaN</td>\n",
              "      <td>NaN</td>\n",
              "      <td>NaN</td>\n",
              "      <td>NaN</td>\n",
              "      <td>F02F</td>\n",
              "      <td>NaN</td>\n",
              "      <td>NaN</td>\n",
              "      <td>NaN</td>\n",
              "      <td>NaN</td>\n",
              "      <td>NaN</td>\n",
              "      <td>NaN</td>\n",
              "      <td>NaN</td>\n",
              "      <td>NaN</td>\n",
              "      <td>NaN</td>\n",
              "      <td>NaN</td>\n",
              "      <td>NaN</td>\n",
              "      <td>NaN</td>\n",
              "      <td>NaN</td>\n",
              "    </tr>\n",
              "    <tr>\n",
              "      <th>93</th>\n",
              "      <td>NaN</td>\n",
              "      <td>NaN</td>\n",
              "      <td>NaN</td>\n",
              "      <td>NaN</td>\n",
              "      <td>NaN</td>\n",
              "      <td>NaN</td>\n",
              "      <td>NaN</td>\n",
              "      <td>NaN</td>\n",
              "      <td>NaN</td>\n",
              "      <td>NaN</td>\n",
              "      <td>NaN</td>\n",
              "      <td>NaN</td>\n",
              "      <td>NaN</td>\n",
              "      <td>NaN</td>\n",
              "      <td>NaN</td>\n",
              "      <td>NaN</td>\n",
              "      <td>NaN</td>\n",
              "      <td>NaN</td>\n",
              "      <td>NaN</td>\n",
              "      <td>NaN</td>\n",
              "      <td>NaN</td>\n",
              "      <td>NaN</td>\n",
              "      <td>NaN</td>\n",
              "      <td>NaN</td>\n",
              "      <td>NaN</td>\n",
              "      <td>NaN</td>\n",
              "      <td>NaN</td>\n",
              "      <td>NaN</td>\n",
              "      <td>NaN</td>\n",
              "      <td>NaN</td>\n",
              "      <td>NaN</td>\n",
              "      <td>NaN</td>\n",
              "      <td>NaN</td>\n",
              "      <td>NaN</td>\n",
              "      <td>NaN</td>\n",
              "      <td>NaN</td>\n",
              "      <td>NaN</td>\n",
              "      <td>NaN</td>\n",
              "      <td>NaN</td>\n",
              "      <td>NaN</td>\n",
              "      <td>NaN</td>\n",
              "      <td>NaN</td>\n",
              "      <td>NaN</td>\n",
              "      <td>NaN</td>\n",
              "      <td>NaN</td>\n",
              "      <td>NaN</td>\n",
              "      <td>NaN</td>\n",
              "      <td>F16N</td>\n",
              "      <td>NaN</td>\n",
              "      <td>NaN</td>\n",
              "      <td>NaN</td>\n",
              "      <td>NaN</td>\n",
              "      <td>NaN</td>\n",
              "      <td>NaN</td>\n",
              "      <td>NaN</td>\n",
              "      <td>NaN</td>\n",
              "      <td>NaN</td>\n",
              "      <td>NaN</td>\n",
              "      <td>NaN</td>\n",
              "      <td>NaN</td>\n",
              "      <td>NaN</td>\n",
              "    </tr>\n",
              "    <tr>\n",
              "      <th>94</th>\n",
              "      <td>NaN</td>\n",
              "      <td>NaN</td>\n",
              "      <td>NaN</td>\n",
              "      <td>NaN</td>\n",
              "      <td>NaN</td>\n",
              "      <td>NaN</td>\n",
              "      <td>NaN</td>\n",
              "      <td>NaN</td>\n",
              "      <td>NaN</td>\n",
              "      <td>NaN</td>\n",
              "      <td>NaN</td>\n",
              "      <td>NaN</td>\n",
              "      <td>NaN</td>\n",
              "      <td>NaN</td>\n",
              "      <td>NaN</td>\n",
              "      <td>NaN</td>\n",
              "      <td>NaN</td>\n",
              "      <td>NaN</td>\n",
              "      <td>NaN</td>\n",
              "      <td>NaN</td>\n",
              "      <td>NaN</td>\n",
              "      <td>NaN</td>\n",
              "      <td>NaN</td>\n",
              "      <td>NaN</td>\n",
              "      <td>NaN</td>\n",
              "      <td>NaN</td>\n",
              "      <td>NaN</td>\n",
              "      <td>NaN</td>\n",
              "      <td>NaN</td>\n",
              "      <td>NaN</td>\n",
              "      <td>NaN</td>\n",
              "      <td>NaN</td>\n",
              "      <td>NaN</td>\n",
              "      <td>NaN</td>\n",
              "      <td>NaN</td>\n",
              "      <td>NaN</td>\n",
              "      <td>NaN</td>\n",
              "      <td>NaN</td>\n",
              "      <td>NaN</td>\n",
              "      <td>NaN</td>\n",
              "      <td>NaN</td>\n",
              "      <td>NaN</td>\n",
              "      <td>NaN</td>\n",
              "      <td>NaN</td>\n",
              "      <td>NaN</td>\n",
              "      <td>NaN</td>\n",
              "      <td>NaN</td>\n",
              "      <td>F16P</td>\n",
              "      <td>NaN</td>\n",
              "      <td>NaN</td>\n",
              "      <td>NaN</td>\n",
              "      <td>NaN</td>\n",
              "      <td>NaN</td>\n",
              "      <td>NaN</td>\n",
              "      <td>NaN</td>\n",
              "      <td>NaN</td>\n",
              "      <td>NaN</td>\n",
              "      <td>NaN</td>\n",
              "      <td>NaN</td>\n",
              "      <td>NaN</td>\n",
              "      <td>NaN</td>\n",
              "    </tr>\n",
              "    <tr>\n",
              "      <th>95</th>\n",
              "      <td>NaN</td>\n",
              "      <td>NaN</td>\n",
              "      <td>NaN</td>\n",
              "      <td>NaN</td>\n",
              "      <td>NaN</td>\n",
              "      <td>NaN</td>\n",
              "      <td>NaN</td>\n",
              "      <td>NaN</td>\n",
              "      <td>NaN</td>\n",
              "      <td>NaN</td>\n",
              "      <td>NaN</td>\n",
              "      <td>NaN</td>\n",
              "      <td>NaN</td>\n",
              "      <td>NaN</td>\n",
              "      <td>NaN</td>\n",
              "      <td>NaN</td>\n",
              "      <td>NaN</td>\n",
              "      <td>NaN</td>\n",
              "      <td>NaN</td>\n",
              "      <td>NaN</td>\n",
              "      <td>NaN</td>\n",
              "      <td>NaN</td>\n",
              "      <td>NaN</td>\n",
              "      <td>NaN</td>\n",
              "      <td>NaN</td>\n",
              "      <td>NaN</td>\n",
              "      <td>NaN</td>\n",
              "      <td>NaN</td>\n",
              "      <td>NaN</td>\n",
              "      <td>NaN</td>\n",
              "      <td>NaN</td>\n",
              "      <td>NaN</td>\n",
              "      <td>NaN</td>\n",
              "      <td>NaN</td>\n",
              "      <td>NaN</td>\n",
              "      <td>NaN</td>\n",
              "      <td>NaN</td>\n",
              "      <td>NaN</td>\n",
              "      <td>NaN</td>\n",
              "      <td>NaN</td>\n",
              "      <td>NaN</td>\n",
              "      <td>NaN</td>\n",
              "      <td>NaN</td>\n",
              "      <td>NaN</td>\n",
              "      <td>NaN</td>\n",
              "      <td>NaN</td>\n",
              "      <td>NaN</td>\n",
              "      <td>F26B</td>\n",
              "      <td>NaN</td>\n",
              "      <td>NaN</td>\n",
              "      <td>NaN</td>\n",
              "      <td>NaN</td>\n",
              "      <td>NaN</td>\n",
              "      <td>NaN</td>\n",
              "      <td>NaN</td>\n",
              "      <td>NaN</td>\n",
              "      <td>NaN</td>\n",
              "      <td>NaN</td>\n",
              "      <td>NaN</td>\n",
              "      <td>NaN</td>\n",
              "      <td>NaN</td>\n",
              "    </tr>\n",
              "    <tr>\n",
              "      <th>96</th>\n",
              "      <td>NaN</td>\n",
              "      <td>NaN</td>\n",
              "      <td>NaN</td>\n",
              "      <td>NaN</td>\n",
              "      <td>NaN</td>\n",
              "      <td>NaN</td>\n",
              "      <td>NaN</td>\n",
              "      <td>NaN</td>\n",
              "      <td>NaN</td>\n",
              "      <td>NaN</td>\n",
              "      <td>NaN</td>\n",
              "      <td>NaN</td>\n",
              "      <td>NaN</td>\n",
              "      <td>NaN</td>\n",
              "      <td>NaN</td>\n",
              "      <td>NaN</td>\n",
              "      <td>NaN</td>\n",
              "      <td>NaN</td>\n",
              "      <td>NaN</td>\n",
              "      <td>NaN</td>\n",
              "      <td>NaN</td>\n",
              "      <td>NaN</td>\n",
              "      <td>NaN</td>\n",
              "      <td>NaN</td>\n",
              "      <td>NaN</td>\n",
              "      <td>NaN</td>\n",
              "      <td>NaN</td>\n",
              "      <td>NaN</td>\n",
              "      <td>NaN</td>\n",
              "      <td>NaN</td>\n",
              "      <td>NaN</td>\n",
              "      <td>NaN</td>\n",
              "      <td>NaN</td>\n",
              "      <td>NaN</td>\n",
              "      <td>NaN</td>\n",
              "      <td>NaN</td>\n",
              "      <td>NaN</td>\n",
              "      <td>NaN</td>\n",
              "      <td>NaN</td>\n",
              "      <td>NaN</td>\n",
              "      <td>NaN</td>\n",
              "      <td>NaN</td>\n",
              "      <td>NaN</td>\n",
              "      <td>NaN</td>\n",
              "      <td>NaN</td>\n",
              "      <td>NaN</td>\n",
              "      <td>NaN</td>\n",
              "      <td>H05H</td>\n",
              "      <td>NaN</td>\n",
              "      <td>NaN</td>\n",
              "      <td>NaN</td>\n",
              "      <td>NaN</td>\n",
              "      <td>NaN</td>\n",
              "      <td>NaN</td>\n",
              "      <td>NaN</td>\n",
              "      <td>NaN</td>\n",
              "      <td>NaN</td>\n",
              "      <td>NaN</td>\n",
              "      <td>NaN</td>\n",
              "      <td>NaN</td>\n",
              "      <td>NaN</td>\n",
              "    </tr>\n",
              "  </tbody>\n",
              "</table>\n",
              "<p>97 rows × 61 columns</p>\n",
              "</div>"
            ],
            "text/plain": [
              "      농림어업     광업 식료품 제조업  ... 하수, 폐기물처리, 원료재생, 환경복원 건설업, 건축기술 서비스 컴퓨터 프로그래밍, 정보서비스업\n",
              "0   A01B27   C22B    A21D  ...                  B09B          E01C              G06D\n",
              "1   A01B02   E21D    A23B  ...                  B09C          E01D              G06E\n",
              "2     A01C    NaN    A23C  ...                  B65F          E01F    G06F(G06F1 제외)\n",
              "3     A01D    NaN    A23D  ...                  C02F          E02B    G06F(G06F3 제외)\n",
              "4     A01G    NaN    A23F  ...                  G21F          E02D              G06G\n",
              "..     ...    ...     ...  ...                   ...           ...               ...\n",
              "92     NaN    NaN     NaN  ...                   NaN           NaN               NaN\n",
              "93     NaN    NaN     NaN  ...                   NaN           NaN               NaN\n",
              "94     NaN    NaN     NaN  ...                   NaN           NaN               NaN\n",
              "95     NaN    NaN     NaN  ...                   NaN           NaN               NaN\n",
              "96     NaN    NaN     NaN  ...                   NaN           NaN               NaN\n",
              "\n",
              "[97 rows x 61 columns]"
            ]
          },
          "execution_count": 246,
          "metadata": {},
          "output_type": "execute_result"
        }
      ]
    },
    {
      "cell_type": "code",
      "metadata": {
        "id": "eIP86PrWFVrZ"
      },
      "source": [
        "table.columns = pd.Series(table.columns).str.replace('\\n', ' ')"
      ],
      "execution_count": null,
      "outputs": []
    },
    {
      "cell_type": "code",
      "metadata": {
        "colab": {
          "base_uri": "https://localhost:8080/"
        },
        "id": "ojrXLI4HLCk6",
        "outputId": "ec9ec469-3b46-47e0-d301-8072037e7804"
      },
      "source": [
        "table['특수 기계제조업']"
      ],
      "execution_count": null,
      "outputs": [
        {
          "output_type": "execute_result",
          "data": {
            "text/plain": [
              "0     A01B(A01B27/02 제외)\n",
              "1                   A01F\n",
              "2                   A01J\n",
              "3                   A01M\n",
              "4                   A21B\n",
              "             ...        \n",
              "92                  F02F\n",
              "93                  F16N\n",
              "94                  F16P\n",
              "95                  F26B\n",
              "96                  H05H\n",
              "Name: 특수 기계제조업, Length: 97, dtype: object"
            ]
          },
          "metadata": {},
          "execution_count": 270
        }
      ]
    },
    {
      "cell_type": "code",
      "metadata": {
        "colab": {
          "base_uri": "https://localhost:8080/"
        },
        "id": "RDjTvxB818qt",
        "outputId": "b6200b53-e4a8-41f3-81b6-23b00c6f96a6"
      },
      "source": [
        "table.columns"
      ],
      "execution_count": null,
      "outputs": [
        {
          "output_type": "execute_result",
          "data": {
            "text/plain": [
              "Index(['농림어업', '광업', '식료품 제조업', '음료제조업', '담배제조업', '섬유제품 제조업 :의복제외',\n",
              "       '의복, 의복 액세서리 및 모피제품 제조업', '가죽, 가방 및 신발제조업', '목재 및 나무제품제조업; 가구제외',\n",
              "       '펄프, 종이 및 종이제품 제조업', '인쇄 및 기록매체복제업', '코크스, 연탄 및 석유정제품 제조업',\n",
              "       '기초 화학물질제조업', '비료 및 질소 화학물 제조업', '합성고무 및 플라스틱 물질 제조업', '살충제 및 기타농약제조업',\n",
              "       '잉크, 페인트 코팅제 및 유사제품 제조업', '세제, 화장품 및 광택제 제조업', '그 외 기타 화학제품 제조업',\n",
              "       '화학섬유 제조업', '의료용 물질 및 의약품 제조업', '고무제품 및 플라스틱 제품 제조업', '비금속광물제품 제조업',\n",
              "       '1차 철강제조업', '1차 비철금속 제조업', '금속주조업', '구조용 금속제품, 탱크, 증기발생기 제조업',\n",
              "       '무기 및 총포탄 제조업', '기타 금속가공 제품 제조업', '반도체 제조업', '전자부품 제조업',\n",
              "       '컴퓨터 및 주변장치 제조업', '통신 및 방송 장비 제조업', '영상 및 음향기기 제조업', '마그네틱 및 광학 매체 제조업',\n",
              "       '의료용 기기 제조업', '측정, 시험, 향해, 제어, 및 기타 정밀기기 제조업', '안경, 사진장비 및 기타 광학기기 제조업',\n",
              "       '시계 및 시계부품 제조업', '전동기, 발전기 및 전기변환, 공급, 제어장치 제조업', '일차전지 및 축전지 제조업',\n",
              "       '절연선 및 케이블제조업', '전구 및 조명장치 제조업', '가정용 기기 제조업', '기타 전기장비 제조업',\n",
              "       '사무용 기계 및 장비 제조업', '사무용 이외의 일반기계 제조업', '특수 기계제조업', '자동차 제조업', '선박 제조업',\n",
              "       '철도장비 제조업', '항공기 제조업', '전투용 차량 제조업', '모터사이클 제조업', '그 외 분류 안된 운송장비 제조업',\n",
              "       '가구 제조업', '기타제품 제조업', '전기, 가스, 증기, 수도', '하수, 폐기물처리, 원료재생, 환경복원',\n",
              "       '건설업, 건축기술 서비스', '컴퓨터 프로그래밍, 정보서비스업'],\n",
              "      dtype='object')"
            ]
          },
          "metadata": {},
          "execution_count": 271
        }
      ]
    },
    {
      "cell_type": "markdown",
      "metadata": {
        "id": "hIECufVpFefQ"
      },
      "source": [
        "## query 추출"
      ]
    },
    {
      "cell_type": "code",
      "metadata": {
        "id": "sKUuhsVtBwIX"
      },
      "source": [
        "def change_format(x):\n",
        "    x = x.strip()\n",
        "    if len(x) == 4:\n",
        "        x = x + '*'\n",
        "    else:\n",
        "        if '/' not in x:\n",
        "            x = x[:4] + '-' + x[4:].zfill(3) + '*'\n",
        "        else:\n",
        "            x2 = x.split('/')\n",
        "            x = x2[0][:4] + '-' + x2[0][4:].zfill(3) + '/' + x2[1]\n",
        "    return x"
      ],
      "execution_count": null,
      "outputs": []
    },
    {
      "cell_type": "code",
      "metadata": {
        "id": "MjM472kIs4Q8"
      },
      "source": [
        "def make_query(i):\n",
        "    result = []\n",
        "    exceptions = list(filter(lambda x: '제외' in x,table[table.columns[i]][table[table.columns[i]].notnull()])) \n",
        "    # exception 있는 코드 제외하고 나열\n",
        "    for x in table[table.columns[i]][table[table.columns[i]].notnull()]:\n",
        "        x = x.strip()\n",
        "        if x in exceptions:\n",
        "            continue\n",
        "        else:\n",
        "            x = change_format(x)\n",
        "            result.append(x)\n",
        "    # exception 있는 경우에 대해\n",
        "    keys = [change_format(e.split('(')[0]) for e in exceptions]\n",
        "    exc_dict = {k: [] for k in keys}\n",
        "    for e in exceptions:\n",
        "        exc_dict[change_format(e.split('(')[0])].append(change_format(e.split('(')[1].replace(')','').replace('제외','')))\n",
        "    for k, v in exc_dict.items():\n",
        "        result.append('({} not ({}))'.format(k, ' or '.join(v)))\n",
        "    # 최종 query\n",
        "    return 'IC = ({})'.format(' or '.join(result))"
      ],
      "execution_count": null,
      "outputs": []
    },
    {
      "cell_type": "code",
      "metadata": {
        "colab": {
          "base_uri": "https://localhost:8080/"
        },
        "id": "2bSuFncLJQOT",
        "outputId": "94da8090-7d4e-4647-91a1-ced607e5044e"
      },
      "source": [
        "from tqdm import tqdm\n",
        "\n",
        "queries = {}\n",
        "for i, column in tqdm(enumerate(table.columns)):\n",
        "    query = make_query(i)\n",
        "    queries[column] = query"
      ],
      "execution_count": null,
      "outputs": [
        {
          "output_type": "stream",
          "name": "stderr",
          "text": [
            "61it [00:00, 1490.65it/s]\n"
          ]
        }
      ]
    },
    {
      "cell_type": "code",
      "metadata": {
        "colab": {
          "base_uri": "https://localhost:8080/"
        },
        "id": "nalFFmF1JixK",
        "outputId": "1fa67759-98ae-42d4-9b33-251d5bf30a0a"
      },
      "source": [
        "queries"
      ],
      "execution_count": null,
      "outputs": [
        {
          "output_type": "execute_result",
          "data": {
            "text/plain": [
              "{'1차 비철금속 제조업': 'IC = (C22F* or C25C* or G21H-(G21H1 제외)* or (G21H* not (G21H-001*)))',\n",
              " '1차 철강제조업': 'IC = (B21C* or C21B* or C21C* or C21D* or C22C* or F16S* or F17C*)',\n",
              " '가구 제조업': 'IC = (A47B* or A47C* or A47D* or A47F*)',\n",
              " '가정용 기기 제조업': 'IC = (A45D* or A47G* or A47J* or A47L* or D06F* or E06C* or F24B* or F24C* or H05B*)',\n",
              " '가죽, 가방 및 신발제조업': 'IC = (A43B* or A43C* or A45C* or B68B* or B68C*)',\n",
              " '건설업, 건축기술 서비스': 'IC = (E01C* or E01D* or E01F* or E02B* or E02D* or E03B* or E03C* or E03F* or E04H* or E05B* or E05C* or E06B* or E21C* or E99Z* or F42D*)',\n",
              " '고무제품 및 플라스틱 제품 제조업': 'IC = (B29B* or B29C* or B29D* or B29K* or B29L* or A42B-003* or B60C* or B65D* or B67D* or C08C* or F16L*)',\n",
              " '광업': 'IC = (C22B* or E21D*)',\n",
              " '구조용 금속제품, 탱크, 증기발생기 제조업': 'IC = (A47H* or B21G* or F16T* or F17B* or F22B* or F22G* or F24D* or F24H* or G21B* or G21C* or G21D*)',\n",
              " '그 외 기타 화학제품 제조업': 'IC = (A62D* or B01J* or C06B* or C06C* or C06D* or C06F* or C08H* or C09H* or C09J* or C09K* or C10M* or C10N* or C11B* or C11C* or C14C* or C23F* or C23G* or C40B* or C99Z* or F42B* or (G03C* not (G03C-005* or G03C-009* or G03C-011*)))',\n",
              " '그 외 분류 안된 운송장비 제조업': 'IC = (B62B* or B62C* or B62H* or B62K-(B62K11 제외)* or B62L* or B62M-(B62M6 제외)* or B62M-(B62M7 제외)* or (B62K* not (B62K-011*)) or (B62M* not (B62M-006* or B62M-007*)))',\n",
              " '금속주조업': 'IC = (B22D*)',\n",
              " '기초 화학물질제조업': 'IC = (C01C* or C01D* or C01F* or C01G* or C07B* or C07C* or C07F* or C07G* or C07H* or C09B* or C09C* or C10B* or C10C* or C10H* or C10J* or C10K* or C25B* or G21G* or G21J*)',\n",
              " '기타 금속가공 제품 제조업': 'IC = (A01L* or A44B-011* or B21D* or B21F* or B21H* or B21J* or B21K* or B21L* or B22F* or B23B* or B23C* or B23D* or B23G* or B23H* or B25B* or B25C* or B25F* or B25G* or B25H* or B26B* or B26F* or B27B* or B27G* or C23D* or C25D* or E05D* or E05G* or F16B*)',\n",
              " '기타 전기장비 제조업': 'IC = (B60M* or C25F* or G08B* or G08G* or G10K* or H01T* or H02H* or H02M* or H05C* or H05F*)',\n",
              " '기타제품 제조업': 'IC = (A41G* or A44B-(A44B11 제외)* or A44C-(A44C23제외)* or A45B* or A45F* or A46B* or A46D* or A63B* or A63C* or A63D* or A63F* or A63G* or A63H* or A63J* or A63K* or A99Z* or B43K* or B43L* or B43M* or B44D* or B44F* or B68G* or B99Z* or D07B* or F23Q* or G09B* or G09F* or G10B* or G10C* or G10D* or G10F* or G10G* or G10H* or (A44B* not (A44B-011*)) or (A44C* not (A44C-023*)))',\n",
              " '농림어업': 'IC = (A01B-027* or A01B-002* or A01C* or A01D* or A01G* or A01H* or A01K*)',\n",
              " '담배제조업': 'IC = (A24B* or A24D* or A24F*)',\n",
              " '마그네틱 및 광학 매체 제조업': 'IC = (G11B*)',\n",
              " '모터사이클 제조업': 'IC = (B62J* or B62K-011* or B62M-006* or B62M-007*)',\n",
              " '목재 및 나무제품제조업; 가구제외': 'IC = (A44C-023* or B27D* or B27K* or B27H* or B27M* or B27N* or E04G*)',\n",
              " '무기 및 총포탄 제조업': 'IC = (F41A* or F41B* or F41C* or F41F* or F41G* or F41H-(F41H7 제외)* or F41J* or F42C* or (F41H* not (F41H-007*)))',\n",
              " '반도체 제조업': 'IC = (G11C* or H01L*)',\n",
              " '비금속광물제품 제조업': 'IC = (A47K* or B24D* or B28B* or B28C* or B28D* or B32B* or C01B* or C03B* or C03C* or C04B* or E03D* or E04B* or E04C* or E04D* or E04F*)',\n",
              " '비료 및 질소 화학물 제조업': 'IC = (C05B* or C05C* or C05D* or C05F* or C05G*)',\n",
              " '사무용 기계 및 장비 제조업': 'IC = (B41L* or B41J-001* or G03G* or G06C* or G06M* or G07B* or G07C* or G07D* or G07G*)',\n",
              " '사무용 이외의 일반기계 제조업': 'IC = (B01B* or B01D* or B04C* or B05B* or B23F* or B25D* or B41K* or B60S-003* or B65B* or B65C* or B65G* or B66B* or B66C* or B66D* or B66F* or B67C* or C10F* or C12L* or E01H* or E02C* or E21F* or F01B* or F01C* or F01D* or F01K* or F01M* or F01N* or F01P* or F02G* or F03B* or F03C* or F03G* or F04B* or F04C* or F04D* or F04F* or F15B* or F15C* or F15D* or F16C* or F16D* or F16F* or F16G* or F16H* or F16K* or F16M* or F17D* or F22-000* or F23B* or F23C* or F23D* or F23G* or F23H* or F23J* or F23K* or F23L* or F23M* or F23N* or F23R* or F24F* or F24J* or F25B* or F25C* or F25D* or F25J* or F27B* or F27D* or F28B* or F28C* or F28D* or F28F* or F28G* or G01G* or G07F* or G09D* or G09G*)',\n",
              " '살충제 및 기타농약제조업': 'IC = (A01N* or A01P*)',\n",
              " '선박 제조업': 'IC = (B60V* or B63B* or B63C* or B63G* or B63H* or B63J*)',\n",
              " '섬유제품 제조업 :의복제외': 'IC = (D04D* or D04G* or D04H* or D06C* or D06J* or D06M* or D06N* or D06P* or D06Q*)',\n",
              " '세제, 화장품 및 광택제 제조업': 'IC = (A61Q* or C09F* or C09G* or C11D* or D06L* or A61K-008*)',\n",
              " '시계 및 시계부품 제조업': 'IC = (G04B* or G04C* or G04D* or G04F* or G04G* or G04R*)',\n",
              " '식료품 제조업': 'IC = (A21D* or A23B* or A23C* or A23D* or A23F* or A23G* or A23J* or A23K* or A23L* or A23P* or C12J* or C13B* or C13K*)',\n",
              " '안경, 사진장비 및 기타 광학기기 제조업': 'IC = (G02B* or G02C* or G03D* or G02F-002* or G02F-003* or G02F-007* or G03B-(G03B31 제외)* or G03B-(G03B42 제외)* or G03C-005* or G03C-009* or G03C-011* or G03F* or (G03B* not (G03B-031* or G03B-042*)))',\n",
              " '영상 및 음향기기 제조업': 'IC = (G03B-031* or G10L* or H03J* or H04H* or H04N* or H04R*)',\n",
              " '음료제조업': 'IC = (C12C* or C12F* or C12G* or C12H*)',\n",
              " '의료용 기기 제조업': 'IC = (A61B* or A61C* or A61D* or A61F* or A61G* or A61H* or A61J* or A61L* or A61M* or A61N* or A62B* or B01L* or B04B* or C12M* or G01T* or G03B-042* or H05G*)',\n",
              " '의료용 물질 및 의약품 제조업': 'IC = (A61P* or C07D* or C07J* or C07K* or C12N* or C12P* or C12Q* or C12R* or A61K-(A61K8 제외)* or (A61K* not (A61K-008*)))',\n",
              " '의복, 의복 액세서리 및 모피제품 제조업': 'IC = (A41B* or A41C* or A41D* or A41F* or A42B-(A42B3 제외)* or A42C-005* or (A42B* not (A42B-003*)))',\n",
              " '인쇄 및 기록매체복제업': 'IC = (B41M* or B42D*)',\n",
              " '일차전지 및 축전지 제조업': 'IC = (H01M*)',\n",
              " '잉크, 페인트 코팅제 및 유사제품 제조업': 'IC = (C09D*)',\n",
              " '자동차 제조업': 'IC = (B60B* or B60D* or B60F* or B60G* or B60H* or B60J* or B60K* or B60L-(B60L13 제외)* or B60N* or B60P* or B60R* or B60S-(B60S3 제외)* or B60T* or B60W* or B62D* or E05F* or F02M* or F02N* or F02P* or F16J* or G05G* or (B60L* not (B60L-013*)) or (B60S* not (B60S-003*)))',\n",
              " '전구 및 조명장치 제조업': 'IC = (B60Q* or F21H* or F21K* or F21L* or F21S* or F21V* or F21W* or F21Y* or H01K*)',\n",
              " '전기, 가스, 증기, 수도': 'IC = (F02C* or F03D* or H02S* or G21H-001*)',\n",
              " '전동기, 발전기 및 전기변환, 공급, 제어장치 제조업': 'IC = (F99Z* or H02B* or H02J* or H02K* or H02N* or H02P*)',\n",
              " '전자부품 제조업': 'IC = (B05D* or B81B* or B81C* or B82B* or B82Y* or C30B* or G02F-001* or G12B* or H01C* or H01F* or H01G* or H01J* or H05K* or H03K* or H03L*)',\n",
              " '전투용 차량 제조업': 'IC = (F41H-007*)',\n",
              " '절연선 및 케이블제조업': 'IC = (H01B* or H01H* or H01R* or H02G*)',\n",
              " '철도장비 제조업': 'IC = (B60L-013* or B61B* or B61C* or B61D* or B61F* or B61G* or B61H* or B61J* or B61K* or B61L* or E01B*)',\n",
              " '측정, 시험, 향해, 제어, 및 기타 정밀기기 제조업': 'IC = (G01B* or G01C* or G01D* or G01F* or G01H* or G01J* or G01K* or G01L* or G01M* or G01N* or G01P* or G01Q* or G01R* or G01S* or G01V* or G01W* or G05B* or G05D* or G05F* or G21K* or G08C*)',\n",
              " '컴퓨터 및 주변장치 제조업': 'IC = (B41J-002* or B41J-027* or B41J-029* or B41J-031* or B41J-032* or B41J-033* or B41J-035* or G06J* or G06F-001* or G06F-003* or G06K*)',\n",
              " '컴퓨터 프로그래밍, 정보서비스업': 'IC = (G06D* or G06E* or G06F-(G06F1 제외)* or G06F-(G06F3 제외)* or G06G* or G06N* or G06Q* or G06T* or G09C* or (G06F* not (G06F-001* or G06F-003*)))',\n",
              " '코크스, 연탄 및 석유정제품 제조업': 'IC = (C10G* or C10L*)',\n",
              " '통신 및 방송 장비 제조업': 'IC = (G03H* or H01P* or H01Q* or H01S* or H03B* or H03C* or H03D* or H03F* or H03G* or H03H* or H03M* or H04B* or H04J* or H04K* or H04L* or H04M* or H04Q* or H04S* or H04W* or H99Z*)',\n",
              " '특수 기계제조업': 'IC = (A01F* or A01J* or A01M* or A21B* or A21C* or A22B* or A22C* or A23N* or A24C* or A41H* or A43D* or A62C* or B01F* or B02B* or B02C* or B03B* or B03C* or B03D* or B05C* or B06B* or B07B* or B07C* or B08B* or B21B* or B22C* or B23K* or B23P* or B23Q* or B24B* or B24C* or B25J* or B26D* or B27C* or B27F* or B27J* or B27L* or B30B* or B31B* or B31C* or B31D* or B31F* or B41B* or B41C* or B41D* or B41F* or B41G* or B41N* or B42B* or B42C* or B44B* or B44C* or B65H* or B67B* or B68F* or C14B* or C23C* or D01B* or D01G* or D01H* or D02G* or D02H* or D02J* or D03C* or D03D* or D03J* or D04B* or D04C* or D05B* or D05C* or D06B* or D06G* or D06H* or D21B* or D21D* or D21F* or D21G* or D99Z* or E02F* or E21B* or F01L* or F02B* or F02D* or F02F* or F16N* or F16P* or F26B* or H05H* or (A01B* not (A01B-027/02)) or (A42C* not (A42C-005*)) or (B41J* not (B41J-001* or B41J-002* or B41J-027* or B41J-029* or B41J-031* or B41J-032* or B41J-033* or B41J-035*)))',\n",
              " '펄프, 종이 및 종이제품 제조업': 'IC = (B42F* or D21C* or D21H* or D21J*)',\n",
              " '하수, 폐기물처리, 원료재생, 환경복원': 'IC = (B09B* or B09C* or B65F* or C02F* or G21F*)',\n",
              " '합성고무 및 플라스틱 물질 제조업': 'IC = (C08B* or C08F* or C08G* or C08J* or C08K* or C08L*)',\n",
              " '항공기 제조업': 'IC = (B64B* or B64C* or B64D* or B64F* or B64G* or F02K* or F03H*)',\n",
              " '화학섬유 제조업': 'IC = (D01C* or D01D* or D01F*)'}"
            ]
          },
          "metadata": {},
          "execution_count": 275
        }
      ]
    },
    {
      "cell_type": "markdown",
      "metadata": {
        "id": "6Z92dTN6zX40"
      },
      "source": [
        "# KSIC 9차 코드 정리\n",
        "- 더존비즈온 데이터는 KSIC9차 업종을 가지고 있으므로 10차와 통일을 해야 IPC를 연계할 수 있음.\n",
        "- KSIC 9차표는 한글명과 분류별 코드 번호를 제공하고 있음.  \n",
        "- KSIC9차와 KSIC10차를 연계하기 위해 코드 번호를 통일하고자 함.  \n",
        "- 중분류와 세분류가 복합적으로 들어있는 표이므로 둘을 구분하여 칼럼으로 정리함."
      ]
    },
    {
      "cell_type": "code",
      "metadata": {
        "id": "qWXUhwTazdyp"
      },
      "source": [
        "import pandas as pd"
      ],
      "execution_count": null,
      "outputs": []
    },
    {
      "cell_type": "code",
      "metadata": {
        "id": "j4-i9XsWzdyq"
      },
      "source": [
        "ksic9 = pd.read_csv('KSIC9차_KSIC코드.csv')"
      ],
      "execution_count": null,
      "outputs": []
    },
    {
      "cell_type": "code",
      "metadata": {
        "id": "WfMFTmA5Wsa-"
      },
      "source": [
        "ksic9['산업명'] = ksic9['산업명'].apply(lambda x: x.replace('\\n', ' '))"
      ],
      "execution_count": null,
      "outputs": []
    },
    {
      "cell_type": "code",
      "metadata": {
        "colab": {
          "base_uri": "https://localhost:8080/"
        },
        "id": "mEloquLBWb-c",
        "outputId": "27c14148-e7f4-407b-b062-9e6982db2a0d"
      },
      "source": [
        "import re\n",
        "p = re.compile('\\S+\\(') \n",
        "set(ksic9['산업분류(KSIC)'].apply(lambda x: len(p.findall(x)))) # 여러 개의 괄호가 있는 건 없다."
      ],
      "execution_count": null,
      "outputs": [
        {
          "output_type": "execute_result",
          "data": {
            "text/plain": [
              "{1}"
            ]
          },
          "metadata": {},
          "execution_count": 199
        }
      ]
    },
    {
      "cell_type": "code",
      "metadata": {
        "id": "k8YkECnjzdyq"
      },
      "source": [
        "ksic9['산업분류(KSIC)_중'] = ksic9['산업분류(KSIC)'].apply(lambda x: x.split('(')[0])"
      ],
      "execution_count": null,
      "outputs": []
    },
    {
      "cell_type": "code",
      "metadata": {
        "id": "FbnhWIw0zrsZ"
      },
      "source": [
        "ksic9['산업분류(KSIC)_중'] = ksic9['산업분류(KSIC)_중'].apply(lambda x: x.split(', '))"
      ],
      "execution_count": null,
      "outputs": []
    },
    {
      "cell_type": "code",
      "metadata": {
        "id": "VKrMBuNfXf9U"
      },
      "source": [
        "import re\n",
        "p = re.compile('\\S+\\(\\S+\\)')\n",
        "ksic9['산업분류(KSIC)_세1'] = ksic9['산업분류(KSIC)'].apply(lambda x: p.findall(x)[0].split('(')[0])\n",
        "ksic9['산업분류(KSIC)_세2'] = ksic9['산업분류(KSIC)'].apply(lambda x: p.findall(x)[0].replace(')','').split('(')[1])"
      ],
      "execution_count": null,
      "outputs": []
    },
    {
      "cell_type": "code",
      "metadata": {
        "colab": {
          "base_uri": "https://localhost:8080/"
        },
        "id": "wHlNkZcTYEBz",
        "outputId": "5dde168f-cbf9-481d-c98c-8b2d29f4b33d"
      },
      "source": [
        "ksic9"
      ],
      "execution_count": null,
      "outputs": [
        {
          "output_type": "execute_result",
          "data": {
            "text/html": [
              "<div>\n",
              "<style scoped>\n",
              "    .dataframe tbody tr th:only-of-type {\n",
              "        vertical-align: middle;\n",
              "    }\n",
              "\n",
              "    .dataframe tbody tr th {\n",
              "        vertical-align: top;\n",
              "    }\n",
              "\n",
              "    .dataframe thead th {\n",
              "        text-align: right;\n",
              "    }\n",
              "</style>\n",
              "<table border=\"1\" class=\"dataframe\">\n",
              "  <thead>\n",
              "    <tr style=\"text-align: right;\">\n",
              "      <th></th>\n",
              "      <th>산업명</th>\n",
              "      <th>산업분류(KSIC)</th>\n",
              "      <th>산업분류(KSIC)_중</th>\n",
              "      <th>산업분류(KSIC)_세1</th>\n",
              "      <th>산업분류(KSIC)_세2</th>\n",
              "    </tr>\n",
              "  </thead>\n",
              "  <tbody>\n",
              "    <tr>\n",
              "      <th>0</th>\n",
              "      <td>농림어업</td>\n",
              "      <td>A01, A02, A03(A0000)</td>\n",
              "      <td>[A01, A02, A03]</td>\n",
              "      <td>A03</td>\n",
              "      <td>A0000</td>\n",
              "    </tr>\n",
              "    <tr>\n",
              "      <th>1</th>\n",
              "      <td>광업</td>\n",
              "      <td>B05, B06, B07, B08(B0000)</td>\n",
              "      <td>[B05, B06, B07, B08]</td>\n",
              "      <td>B08</td>\n",
              "      <td>B0000</td>\n",
              "    </tr>\n",
              "    <tr>\n",
              "      <th>2</th>\n",
              "      <td>식료품 제조업</td>\n",
              "      <td>C10(C1000)</td>\n",
              "      <td>[C10]</td>\n",
              "      <td>C10</td>\n",
              "      <td>C1000</td>\n",
              "    </tr>\n",
              "    <tr>\n",
              "      <th>3</th>\n",
              "      <td>음료제조업</td>\n",
              "      <td>C11(C1100)</td>\n",
              "      <td>[C11]</td>\n",
              "      <td>C11</td>\n",
              "      <td>C1100</td>\n",
              "    </tr>\n",
              "    <tr>\n",
              "      <th>4</th>\n",
              "      <td>담배제조업</td>\n",
              "      <td>C12(C1200)</td>\n",
              "      <td>[C12]</td>\n",
              "      <td>C12</td>\n",
              "      <td>C1200</td>\n",
              "    </tr>\n",
              "    <tr>\n",
              "      <th>...</th>\n",
              "      <td>...</td>\n",
              "      <td>...</td>\n",
              "      <td>...</td>\n",
              "      <td>...</td>\n",
              "      <td>...</td>\n",
              "    </tr>\n",
              "    <tr>\n",
              "      <th>56</th>\n",
              "      <td>기타제품 제조업</td>\n",
              "      <td>C33(C3300)</td>\n",
              "      <td>[C33]</td>\n",
              "      <td>C33</td>\n",
              "      <td>C3300</td>\n",
              "    </tr>\n",
              "    <tr>\n",
              "      <th>57</th>\n",
              "      <td>전기, 가스, 증기, 수도</td>\n",
              "      <td>D35, D36(D0000)</td>\n",
              "      <td>[D35, D36]</td>\n",
              "      <td>D36</td>\n",
              "      <td>D0000</td>\n",
              "    </tr>\n",
              "    <tr>\n",
              "      <th>58</th>\n",
              "      <td>하수, 폐기물처리, 원료재생, 환경복원</td>\n",
              "      <td>E37, E38, E39(E0000)</td>\n",
              "      <td>[E37, E38, E39]</td>\n",
              "      <td>E39</td>\n",
              "      <td>E0000</td>\n",
              "    </tr>\n",
              "    <tr>\n",
              "      <th>59</th>\n",
              "      <td>건설업, 건축기술 서비스</td>\n",
              "      <td>F41, F42(Y0000)</td>\n",
              "      <td>[F41, F42]</td>\n",
              "      <td>F42</td>\n",
              "      <td>Y0000</td>\n",
              "    </tr>\n",
              "    <tr>\n",
              "      <th>60</th>\n",
              "      <td>컴퓨터 프로그래밍, 정보서비스업</td>\n",
              "      <td>J582, J62, J63(Z0000)</td>\n",
              "      <td>[J582, J62, J63]</td>\n",
              "      <td>J63</td>\n",
              "      <td>Z0000</td>\n",
              "    </tr>\n",
              "  </tbody>\n",
              "</table>\n",
              "<p>61 rows × 5 columns</p>\n",
              "</div>"
            ],
            "text/plain": [
              "                      산업명  ... 산업분류(KSIC)_세2\n",
              "0                    농림어업  ...         A0000\n",
              "1                      광업  ...         B0000\n",
              "2                 식료품 제조업  ...         C1000\n",
              "3                   음료제조업  ...         C1100\n",
              "4                   담배제조업  ...         C1200\n",
              "..                    ...  ...           ...\n",
              "56               기타제품 제조업  ...         C3300\n",
              "57         전기, 가스, 증기, 수도  ...         D0000\n",
              "58  하수, 폐기물처리, 원료재생, 환경복원  ...         E0000\n",
              "59          건설업, 건축기술 서비스  ...         Y0000\n",
              "60      컴퓨터 프로그래밍, 정보서비스업  ...         Z0000\n",
              "\n",
              "[61 rows x 5 columns]"
            ]
          },
          "metadata": {},
          "execution_count": 203
        }
      ]
    },
    {
      "cell_type": "code",
      "metadata": {
        "id": "Rsh-ypStz80L"
      },
      "source": [
        "ksic9 = ksic9.explode('산업분류(KSIC)_중')"
      ],
      "execution_count": null,
      "outputs": []
    },
    {
      "cell_type": "code",
      "metadata": {
        "colab": {
          "base_uri": "https://localhost:8080/"
        },
        "id": "3j9k27EBagiw",
        "outputId": "a5bbafb7-2c60-48e1-a893-3d17ec730e5c"
      },
      "source": [
        "ksic9[ksic9['산업분류(KSIC)_중']=='C20']"
      ],
      "execution_count": null,
      "outputs": [
        {
          "output_type": "execute_result",
          "data": {
            "text/html": [
              "<div>\n",
              "<style scoped>\n",
              "    .dataframe tbody tr th:only-of-type {\n",
              "        vertical-align: middle;\n",
              "    }\n",
              "\n",
              "    .dataframe tbody tr th {\n",
              "        vertical-align: top;\n",
              "    }\n",
              "\n",
              "    .dataframe thead th {\n",
              "        text-align: right;\n",
              "    }\n",
              "</style>\n",
              "<table border=\"1\" class=\"dataframe\">\n",
              "  <thead>\n",
              "    <tr style=\"text-align: right;\">\n",
              "      <th></th>\n",
              "      <th>산업명</th>\n",
              "      <th>산업분류(KSIC)</th>\n",
              "      <th>산업분류(KSIC)_중</th>\n",
              "      <th>산업분류(KSIC)_세1</th>\n",
              "      <th>산업분류(KSIC)_세2</th>\n",
              "    </tr>\n",
              "  </thead>\n",
              "  <tbody>\n",
              "    <tr>\n",
              "      <th>12</th>\n",
              "      <td>기초 화학물질제조업</td>\n",
              "      <td>C20(C2010)</td>\n",
              "      <td>C20</td>\n",
              "      <td>C20</td>\n",
              "      <td>C2010</td>\n",
              "    </tr>\n",
              "    <tr>\n",
              "      <th>13</th>\n",
              "      <td>비료 및 질소 화학물 제조업</td>\n",
              "      <td>C20(C2020)</td>\n",
              "      <td>C20</td>\n",
              "      <td>C20</td>\n",
              "      <td>C2020</td>\n",
              "    </tr>\n",
              "    <tr>\n",
              "      <th>14</th>\n",
              "      <td>합성고무 및 플라스틱 물질 제조업</td>\n",
              "      <td>C20(C2030)</td>\n",
              "      <td>C20</td>\n",
              "      <td>C20</td>\n",
              "      <td>C2030</td>\n",
              "    </tr>\n",
              "    <tr>\n",
              "      <th>15</th>\n",
              "      <td>살충제 및 기타농약제조업</td>\n",
              "      <td>C20(C2041)</td>\n",
              "      <td>C20</td>\n",
              "      <td>C20</td>\n",
              "      <td>C2041</td>\n",
              "    </tr>\n",
              "    <tr>\n",
              "      <th>16</th>\n",
              "      <td>잉크, 페인트 코팅제 및 유사제품 제조업</td>\n",
              "      <td>C20(C2042)</td>\n",
              "      <td>C20</td>\n",
              "      <td>C20</td>\n",
              "      <td>C2042</td>\n",
              "    </tr>\n",
              "    <tr>\n",
              "      <th>17</th>\n",
              "      <td>세제, 화장품 및 광택제 제조업</td>\n",
              "      <td>C20(C2043)</td>\n",
              "      <td>C20</td>\n",
              "      <td>C20</td>\n",
              "      <td>C2043</td>\n",
              "    </tr>\n",
              "    <tr>\n",
              "      <th>18</th>\n",
              "      <td>그 외 기타 화학제품 제조업</td>\n",
              "      <td>C20(C2049)</td>\n",
              "      <td>C20</td>\n",
              "      <td>C20</td>\n",
              "      <td>C2049</td>\n",
              "    </tr>\n",
              "    <tr>\n",
              "      <th>19</th>\n",
              "      <td>화학섬유 제조업</td>\n",
              "      <td>C20(C2050)</td>\n",
              "      <td>C20</td>\n",
              "      <td>C20</td>\n",
              "      <td>C2050</td>\n",
              "    </tr>\n",
              "  </tbody>\n",
              "</table>\n",
              "</div>"
            ],
            "text/plain": [
              "                       산업명  산업분류(KSIC) 산업분류(KSIC)_중 산업분류(KSIC)_세1 산업분류(KSIC)_세2\n",
              "12              기초 화학물질제조업  C20(C2010)          C20           C20         C2010\n",
              "13         비료 및 질소 화학물 제조업  C20(C2020)          C20           C20         C2020\n",
              "14      합성고무 및 플라스틱 물질 제조업  C20(C2030)          C20           C20         C2030\n",
              "15           살충제 및 기타농약제조업  C20(C2041)          C20           C20         C2041\n",
              "16  잉크, 페인트 코팅제 및 유사제품 제조업  C20(C2042)          C20           C20         C2042\n",
              "17       세제, 화장품 및 광택제 제조업  C20(C2043)          C20           C20         C2043\n",
              "18         그 외 기타 화학제품 제조업  C20(C2049)          C20           C20         C2049\n",
              "19                화학섬유 제조업  C20(C2050)          C20           C20         C2050"
            ]
          },
          "metadata": {},
          "execution_count": 205
        }
      ]
    },
    {
      "cell_type": "code",
      "metadata": {
        "colab": {
          "base_uri": "https://localhost:8080/"
        },
        "id": "IP7rG4AhXHSr",
        "outputId": "0bf76307-5fdf-48fa-f60a-42877d1ded2e"
      },
      "source": [
        "ksic9"
      ],
      "execution_count": null,
      "outputs": [
        {
          "output_type": "execute_result",
          "data": {
            "text/html": [
              "<div>\n",
              "<style scoped>\n",
              "    .dataframe tbody tr th:only-of-type {\n",
              "        vertical-align: middle;\n",
              "    }\n",
              "\n",
              "    .dataframe tbody tr th {\n",
              "        vertical-align: top;\n",
              "    }\n",
              "\n",
              "    .dataframe thead th {\n",
              "        text-align: right;\n",
              "    }\n",
              "</style>\n",
              "<table border=\"1\" class=\"dataframe\">\n",
              "  <thead>\n",
              "    <tr style=\"text-align: right;\">\n",
              "      <th></th>\n",
              "      <th>산업명</th>\n",
              "      <th>산업분류(KSIC)</th>\n",
              "      <th>산업분류(KSIC)_중</th>\n",
              "      <th>산업분류(KSIC)_세1</th>\n",
              "      <th>산업분류(KSIC)_세2</th>\n",
              "    </tr>\n",
              "  </thead>\n",
              "  <tbody>\n",
              "    <tr>\n",
              "      <th>0</th>\n",
              "      <td>농림어업</td>\n",
              "      <td>A01, A02, A03(A0000)</td>\n",
              "      <td>A01</td>\n",
              "      <td>A03</td>\n",
              "      <td>A0000</td>\n",
              "    </tr>\n",
              "    <tr>\n",
              "      <th>0</th>\n",
              "      <td>농림어업</td>\n",
              "      <td>A01, A02, A03(A0000)</td>\n",
              "      <td>A02</td>\n",
              "      <td>A03</td>\n",
              "      <td>A0000</td>\n",
              "    </tr>\n",
              "    <tr>\n",
              "      <th>0</th>\n",
              "      <td>농림어업</td>\n",
              "      <td>A01, A02, A03(A0000)</td>\n",
              "      <td>A03</td>\n",
              "      <td>A03</td>\n",
              "      <td>A0000</td>\n",
              "    </tr>\n",
              "    <tr>\n",
              "      <th>1</th>\n",
              "      <td>광업</td>\n",
              "      <td>B05, B06, B07, B08(B0000)</td>\n",
              "      <td>B05</td>\n",
              "      <td>B08</td>\n",
              "      <td>B0000</td>\n",
              "    </tr>\n",
              "    <tr>\n",
              "      <th>1</th>\n",
              "      <td>광업</td>\n",
              "      <td>B05, B06, B07, B08(B0000)</td>\n",
              "      <td>B06</td>\n",
              "      <td>B08</td>\n",
              "      <td>B0000</td>\n",
              "    </tr>\n",
              "    <tr>\n",
              "      <th>...</th>\n",
              "      <td>...</td>\n",
              "      <td>...</td>\n",
              "      <td>...</td>\n",
              "      <td>...</td>\n",
              "      <td>...</td>\n",
              "    </tr>\n",
              "    <tr>\n",
              "      <th>59</th>\n",
              "      <td>건설업, 건축기술 서비스</td>\n",
              "      <td>F41, F42(Y0000)</td>\n",
              "      <td>F41</td>\n",
              "      <td>F42</td>\n",
              "      <td>Y0000</td>\n",
              "    </tr>\n",
              "    <tr>\n",
              "      <th>59</th>\n",
              "      <td>건설업, 건축기술 서비스</td>\n",
              "      <td>F41, F42(Y0000)</td>\n",
              "      <td>F42</td>\n",
              "      <td>F42</td>\n",
              "      <td>Y0000</td>\n",
              "    </tr>\n",
              "    <tr>\n",
              "      <th>60</th>\n",
              "      <td>컴퓨터 프로그래밍, 정보서비스업</td>\n",
              "      <td>J582, J62, J63(Z0000)</td>\n",
              "      <td>J582</td>\n",
              "      <td>J63</td>\n",
              "      <td>Z0000</td>\n",
              "    </tr>\n",
              "    <tr>\n",
              "      <th>60</th>\n",
              "      <td>컴퓨터 프로그래밍, 정보서비스업</td>\n",
              "      <td>J582, J62, J63(Z0000)</td>\n",
              "      <td>J62</td>\n",
              "      <td>J63</td>\n",
              "      <td>Z0000</td>\n",
              "    </tr>\n",
              "    <tr>\n",
              "      <th>60</th>\n",
              "      <td>컴퓨터 프로그래밍, 정보서비스업</td>\n",
              "      <td>J582, J62, J63(Z0000)</td>\n",
              "      <td>J63</td>\n",
              "      <td>J63</td>\n",
              "      <td>Z0000</td>\n",
              "    </tr>\n",
              "  </tbody>\n",
              "</table>\n",
              "<p>72 rows × 5 columns</p>\n",
              "</div>"
            ],
            "text/plain": [
              "                  산업명                 산업분류(KSIC)  ... 산업분류(KSIC)_세1 산업분류(KSIC)_세2\n",
              "0                농림어업       A01, A02, A03(A0000)  ...           A03         A0000\n",
              "0                농림어업       A01, A02, A03(A0000)  ...           A03         A0000\n",
              "0                농림어업       A01, A02, A03(A0000)  ...           A03         A0000\n",
              "1                  광업  B05, B06, B07, B08(B0000)  ...           B08         B0000\n",
              "1                  광업  B05, B06, B07, B08(B0000)  ...           B08         B0000\n",
              "..                ...                        ...  ...           ...           ...\n",
              "59      건설업, 건축기술 서비스            F41, F42(Y0000)  ...           F42         Y0000\n",
              "59      건설업, 건축기술 서비스            F41, F42(Y0000)  ...           F42         Y0000\n",
              "60  컴퓨터 프로그래밍, 정보서비스업      J582, J62, J63(Z0000)  ...           J63         Z0000\n",
              "60  컴퓨터 프로그래밍, 정보서비스업      J582, J62, J63(Z0000)  ...           J63         Z0000\n",
              "60  컴퓨터 프로그래밍, 정보서비스업      J582, J62, J63(Z0000)  ...           J63         Z0000\n",
              "\n",
              "[72 rows x 5 columns]"
            ]
          },
          "metadata": {},
          "execution_count": 206
        }
      ]
    },
    {
      "cell_type": "code",
      "metadata": {
        "id": "8Ltmk8x6YqIb"
      },
      "source": [
        "ksic9.reset_index(drop=True, inplace=True)\n",
        "ksic9['KSIC_CODE'] = ksic9['산업분류(KSIC)_중']\n",
        "ksic9.loc[ksic9.duplicated('산업분류(KSIC)_중', keep=False), 'KSIC_CODE'] = ksic9.loc[ksic9.duplicated('산업분류(KSIC)_중', keep=False), '산업분류(KSIC)_세2']"
      ],
      "execution_count": null,
      "outputs": []
    },
    {
      "cell_type": "code",
      "metadata": {
        "id": "na9YLNMJU0hg"
      },
      "source": [
        "ksic9 = ksic9[['산업명', 'KSIC_CODE']]"
      ],
      "execution_count": null,
      "outputs": []
    },
    {
      "cell_type": "markdown",
      "metadata": {
        "id": "H0BU76AevABH"
      },
      "source": [
        "# KSIC9차 - KSIC10차 연계\n",
        "- KSIC9차의 경우 한글명과 위 과정을 통해 생성한 분류 코드를 가지고 있음.  \n",
        "- KSIC10차와 연계하기 위해 분류 코드 및 한글명을 통일하고자 함.  \n",
        "- 통일 방법은 다음과 같음.  \n",
        "  1. 분류 코드 기준 통일: 대분류+중분류, 대분류+소분류, 대분류+세분류가 같은 업종 간 통일  \n",
        "  1. 주어진 한글명이 동일한 업종 간 통일  \n",
        "  1. 사소하게 명칭이 다른 경우 자카드 유사도 기준으로 통일  \n",
        "  1. 매칭이 안 된 경우 특정 단어를 포함하는 업종 검색을 통해 통일"
      ]
    },
    {
      "cell_type": "code",
      "metadata": {
        "id": "y406aRWBudVt"
      },
      "source": [
        "import pandas as pd"
      ],
      "execution_count": null,
      "outputs": []
    },
    {
      "cell_type": "code",
      "metadata": {
        "id": "yZJGQyh9vFqI"
      },
      "source": [
        "concordance = pd.read_csv('국세청업종코드-KSIC10-KSIC9_연계완_ver2.csv')"
      ],
      "execution_count": null,
      "outputs": []
    },
    {
      "cell_type": "code",
      "metadata": {
        "colab": {
          "base_uri": "https://localhost:8080/"
        },
        "id": "AQlpQVbevufi",
        "outputId": "d098bf95-7315-42e5-e175-8470287a0a79"
      },
      "source": [
        "concordance.shape"
      ],
      "execution_count": null,
      "outputs": [
        {
          "output_type": "execute_result",
          "data": {
            "text/plain": [
              "(2010, 29)"
            ]
          },
          "metadata": {},
          "execution_count": 211
        }
      ]
    },
    {
      "cell_type": "code",
      "metadata": {
        "colab": {
          "base_uri": "https://localhost:8080/"
        },
        "id": "fZ1_oF2Kx_il",
        "outputId": "47c7632b-e1eb-4426-a57b-5e5e083b7bd9"
      },
      "source": [
        "concordance.isna().sum()"
      ],
      "execution_count": null,
      "outputs": [
        {
          "output_type": "execute_result",
          "data": {
            "text/plain": [
              "일련번호                    4\n",
              "2018년 귀속(현행)업종코드       73\n",
              "2019년 귀속(개편후)업종코드       4\n",
              "국세청_대분류코드               4\n",
              "국세청_대분류                 4\n",
              "국세청_중분류코드               4\n",
              "국세청_중분류                 4\n",
              "국세청_소분류코드               4\n",
              "국세청_소분류                 4\n",
              "국세청_세분류코드               4\n",
              "국세청_세분류                 4\n",
              "국세청_세세분류                4\n",
              "국세청_연계                  4\n",
              "KSIC10_코드               2\n",
              "KSIC10_대분류코드            2\n",
              "KSIC10_대분류              0\n",
              "KSIC10_중분류코드            2\n",
              "KSIC10_중분류              0\n",
              "KSIC10_소분류코드            2\n",
              "KSIC10_소분류              0\n",
              "KSIC10_세분류코드            2\n",
              "KSIC10_세분류              0\n",
              "KSIC10_세세분류             0\n",
              "KSIC10_연계               0\n",
              "메인                   1600\n",
              "세부설명                 1296\n",
              "KSIC10_항목명             24\n",
              "KSIC9_코드                2\n",
              "KSIC9_항목명               2\n",
              "dtype: int64"
            ]
          },
          "metadata": {},
          "execution_count": 212
        }
      ]
    },
    {
      "cell_type": "code",
      "metadata": {
        "id": "gkOJsDbeyICH"
      },
      "source": [
        "concordance = concordance[~concordance['KSIC10_코드'].isna()]"
      ],
      "execution_count": null,
      "outputs": []
    },
    {
      "cell_type": "markdown",
      "metadata": {
        "id": "5fpwzycj4tBF"
      },
      "source": [
        "## 코드 기준 병합"
      ]
    },
    {
      "cell_type": "markdown",
      "metadata": {
        "id": "PAOLDfBJ6AEx"
      },
      "source": [
        "### 소분류 기준 병합"
      ]
    },
    {
      "cell_type": "code",
      "metadata": {
        "id": "EbUfzLXa3v25"
      },
      "source": [
        "concordance['KSIC_CODE'] = concordance['KSIC10_대분류코드']+concordance['KSIC10_소분류코드'].apply(lambda x: str(int(x)).zfill(2))"
      ],
      "execution_count": null,
      "outputs": []
    },
    {
      "cell_type": "code",
      "metadata": {
        "colab": {
          "base_uri": "https://localhost:8080/"
        },
        "id": "BrPVXF3pblGS",
        "outputId": "6a59a38c-31b0-4209-df94-68d65ebd2276"
      },
      "source": [
        "(concordance['KSIC_CODE'] == 'J582').sum()"
      ],
      "execution_count": null,
      "outputs": [
        {
          "output_type": "execute_result",
          "data": {
            "text/plain": [
              "5"
            ]
          },
          "metadata": {},
          "execution_count": 215
        }
      ]
    },
    {
      "cell_type": "code",
      "metadata": {
        "id": "KYg6K3fiUKoP"
      },
      "source": [
        "concordance = concordance.merge(ksic9, how='left')"
      ],
      "execution_count": null,
      "outputs": []
    },
    {
      "cell_type": "code",
      "metadata": {
        "colab": {
          "base_uri": "https://localhost:8080/"
        },
        "id": "hgRaPaVR7khw",
        "outputId": "c29f3336-5acc-452c-d535-d7c7a0d2341d"
      },
      "source": [
        "concordance.isna().sum()"
      ],
      "execution_count": null,
      "outputs": [
        {
          "output_type": "execute_result",
          "data": {
            "text/plain": [
              "일련번호                    4\n",
              "2018년 귀속(현행)업종코드       73\n",
              "2019년 귀속(개편후)업종코드       4\n",
              "국세청_대분류코드               4\n",
              "국세청_대분류                 4\n",
              "국세청_중분류코드               4\n",
              "국세청_중분류                 4\n",
              "국세청_소분류코드               4\n",
              "국세청_소분류                 4\n",
              "국세청_세분류코드               4\n",
              "국세청_세분류                 4\n",
              "국세청_세세분류                4\n",
              "국세청_연계                  4\n",
              "KSIC10_코드               0\n",
              "KSIC10_대분류코드            0\n",
              "KSIC10_대분류              0\n",
              "KSIC10_중분류코드            0\n",
              "KSIC10_중분류              0\n",
              "KSIC10_소분류코드            0\n",
              "KSIC10_소분류              0\n",
              "KSIC10_세분류코드            0\n",
              "KSIC10_세분류              0\n",
              "KSIC10_세세분류             0\n",
              "KSIC10_연계               0\n",
              "메인                   1598\n",
              "세부설명                 1296\n",
              "KSIC10_항목명             22\n",
              "KSIC9_코드                0\n",
              "KSIC9_항목명               0\n",
              "KSIC_CODE               0\n",
              "산업명                  2003\n",
              "dtype: int64"
            ]
          },
          "metadata": {},
          "execution_count": 217
        }
      ]
    },
    {
      "cell_type": "code",
      "metadata": {
        "id": "mR0nYlaOSMS_"
      },
      "source": [
        "concordance.reset_index(drop=True, inplace=True)"
      ],
      "execution_count": null,
      "outputs": []
    },
    {
      "cell_type": "markdown",
      "metadata": {
        "id": "t9PYoDXy57Hc"
      },
      "source": [
        "### 중분류 기준 병합"
      ]
    },
    {
      "cell_type": "code",
      "metadata": {
        "id": "na45r0fwxuQK"
      },
      "source": [
        "concordance.loc[concordance['산업명'].isna(), 'KSIC_CODE'] = concordance.loc[concordance['산업명'].isna(), 'KSIC10_대분류코드']+concordance.loc[concordance['산업명'].isna(), 'KSIC10_중분류코드'].apply(lambda x: str(int(x)).zfill(2))"
      ],
      "execution_count": null,
      "outputs": []
    },
    {
      "cell_type": "code",
      "metadata": {
        "id": "fiCYO9yyvKc0"
      },
      "source": [
        "concordance.loc[concordance['산업명'].isna(), '산업명'] = concordance.loc[concordance['산업명'].isna(),concordance.columns[:-1]].merge(ksic9, how='left')['산업명']"
      ],
      "execution_count": null,
      "outputs": []
    },
    {
      "cell_type": "code",
      "metadata": {
        "colab": {
          "base_uri": "https://localhost:8080/"
        },
        "id": "njUYux2oaHlo",
        "outputId": "d3168d3e-69aa-4674-fd7c-5d2a1c56aef5"
      },
      "source": [
        "concordance"
      ],
      "execution_count": null,
      "outputs": [
        {
          "output_type": "execute_result",
          "data": {
            "text/html": [
              "<div>\n",
              "<style scoped>\n",
              "    .dataframe tbody tr th:only-of-type {\n",
              "        vertical-align: middle;\n",
              "    }\n",
              "\n",
              "    .dataframe tbody tr th {\n",
              "        vertical-align: top;\n",
              "    }\n",
              "\n",
              "    .dataframe thead th {\n",
              "        text-align: right;\n",
              "    }\n",
              "</style>\n",
              "<table border=\"1\" class=\"dataframe\">\n",
              "  <thead>\n",
              "    <tr style=\"text-align: right;\">\n",
              "      <th></th>\n",
              "      <th>일련번호</th>\n",
              "      <th>2018년 귀속(현행)업종코드</th>\n",
              "      <th>2019년 귀속(개편후)업종코드</th>\n",
              "      <th>국세청_대분류코드</th>\n",
              "      <th>국세청_대분류</th>\n",
              "      <th>국세청_중분류코드</th>\n",
              "      <th>국세청_중분류</th>\n",
              "      <th>국세청_소분류코드</th>\n",
              "      <th>국세청_소분류</th>\n",
              "      <th>국세청_세분류코드</th>\n",
              "      <th>국세청_세분류</th>\n",
              "      <th>국세청_세세분류</th>\n",
              "      <th>국세청_연계</th>\n",
              "      <th>KSIC10_코드</th>\n",
              "      <th>KSIC10_대분류코드</th>\n",
              "      <th>KSIC10_대분류</th>\n",
              "      <th>KSIC10_중분류코드</th>\n",
              "      <th>KSIC10_중분류</th>\n",
              "      <th>KSIC10_소분류코드</th>\n",
              "      <th>KSIC10_소분류</th>\n",
              "      <th>KSIC10_세분류코드</th>\n",
              "      <th>KSIC10_세분류</th>\n",
              "      <th>KSIC10_세세분류</th>\n",
              "      <th>KSIC10_연계</th>\n",
              "      <th>메인</th>\n",
              "      <th>세부설명</th>\n",
              "      <th>KSIC10_항목명</th>\n",
              "      <th>KSIC9_코드</th>\n",
              "      <th>KSIC9_항목명</th>\n",
              "      <th>KSIC_CODE</th>\n",
              "      <th>산업명</th>\n",
              "    </tr>\n",
              "  </thead>\n",
              "  <tbody>\n",
              "    <tr>\n",
              "      <th>0</th>\n",
              "      <td>1.0</td>\n",
              "      <td>11000.0</td>\n",
              "      <td>11000.0</td>\n",
              "      <td>A</td>\n",
              "      <td>농업, 임업 및 어업</td>\n",
              "      <td>1.0</td>\n",
              "      <td>농업</td>\n",
              "      <td>11.0</td>\n",
              "      <td>작물 재배업</td>\n",
              "      <td>110.0</td>\n",
              "      <td>곡물 및 기타 식량작물 재배업</td>\n",
              "      <td>곡물 및 기타 식량작물 재배업</td>\n",
              "      <td>1.0</td>\n",
              "      <td>1110.0</td>\n",
              "      <td>A</td>\n",
              "      <td>농업, 임업 및 어업</td>\n",
              "      <td>1.0</td>\n",
              "      <td>농업</td>\n",
              "      <td>11.0</td>\n",
              "      <td>작물 재배업</td>\n",
              "      <td>111.0</td>\n",
              "      <td>곡물 및 기타 식량작물 재배업</td>\n",
              "      <td>곡물 및 기타 식량작물 재배업</td>\n",
              "      <td>1</td>\n",
              "      <td>NaN</td>\n",
              "      <td>NaN</td>\n",
              "      <td>곡물 및 기타 식량 작물 재배업</td>\n",
              "      <td>1110.0</td>\n",
              "      <td>곡물 및 기타 식량 작물 재배업</td>\n",
              "      <td>A01</td>\n",
              "      <td>농림어업</td>\n",
              "    </tr>\n",
              "    <tr>\n",
              "      <th>1</th>\n",
              "      <td>1.0</td>\n",
              "      <td>11000.0</td>\n",
              "      <td>11000.0</td>\n",
              "      <td>A</td>\n",
              "      <td>농업, 임업 및 어업</td>\n",
              "      <td>1.0</td>\n",
              "      <td>농업</td>\n",
              "      <td>11.0</td>\n",
              "      <td>작물 재배업</td>\n",
              "      <td>110.0</td>\n",
              "      <td>곡물 및 기타 식량작물 재배업</td>\n",
              "      <td>곡물 및 기타 식량작물 재배업</td>\n",
              "      <td>1.0</td>\n",
              "      <td>1110.0</td>\n",
              "      <td>A</td>\n",
              "      <td>농업, 임업 및 어업</td>\n",
              "      <td>1.0</td>\n",
              "      <td>농업</td>\n",
              "      <td>11.0</td>\n",
              "      <td>작물 재배업</td>\n",
              "      <td>111.0</td>\n",
              "      <td>곡물 및 기타 식량작물 재배업</td>\n",
              "      <td>곡물 및 기타 식량작물 재배업</td>\n",
              "      <td>1</td>\n",
              "      <td>NaN</td>\n",
              "      <td>NaN</td>\n",
              "      <td></td>\n",
              "      <td>1140.0</td>\n",
              "      <td>기타 작물 재배업</td>\n",
              "      <td>A01</td>\n",
              "      <td>농림어업</td>\n",
              "    </tr>\n",
              "    <tr>\n",
              "      <th>2</th>\n",
              "      <td>2.0</td>\n",
              "      <td>11001.0</td>\n",
              "      <td>11001.0</td>\n",
              "      <td>A</td>\n",
              "      <td>농업, 임업 및 어업</td>\n",
              "      <td>1.0</td>\n",
              "      <td>농업</td>\n",
              "      <td>11.0</td>\n",
              "      <td>작물 재배업</td>\n",
              "      <td>110.0</td>\n",
              "      <td>채소, 화훼작물 및 종묘 재배업</td>\n",
              "      <td>채소작물 재배업</td>\n",
              "      <td>1.0</td>\n",
              "      <td>1121.0</td>\n",
              "      <td>A</td>\n",
              "      <td>농업, 임업 및 어업</td>\n",
              "      <td>1.0</td>\n",
              "      <td>농업</td>\n",
              "      <td>11.0</td>\n",
              "      <td>작물 재배업</td>\n",
              "      <td>112.0</td>\n",
              "      <td>채소, 화훼작물 및 종묘 재배업</td>\n",
              "      <td>채소작물 재배업</td>\n",
              "      <td>1</td>\n",
              "      <td>NaN</td>\n",
              "      <td>NaN</td>\n",
              "      <td>채소작물 재배업</td>\n",
              "      <td>1121.0</td>\n",
              "      <td>채소작물 재배업</td>\n",
              "      <td>A01</td>\n",
              "      <td>농림어업</td>\n",
              "    </tr>\n",
              "    <tr>\n",
              "      <th>3</th>\n",
              "      <td>2.0</td>\n",
              "      <td>11001.0</td>\n",
              "      <td>11001.0</td>\n",
              "      <td>A</td>\n",
              "      <td>농업, 임업 및 어업</td>\n",
              "      <td>1.0</td>\n",
              "      <td>농업</td>\n",
              "      <td>11.0</td>\n",
              "      <td>작물 재배업</td>\n",
              "      <td>110.0</td>\n",
              "      <td>채소, 화훼작물 및 종묘 재배업</td>\n",
              "      <td>채소작물 재배업</td>\n",
              "      <td>1.0</td>\n",
              "      <td>1121.0</td>\n",
              "      <td>A</td>\n",
              "      <td>농업, 임업 및 어업</td>\n",
              "      <td>1.0</td>\n",
              "      <td>농업</td>\n",
              "      <td>11.0</td>\n",
              "      <td>작물 재배업</td>\n",
              "      <td>112.0</td>\n",
              "      <td>채소, 화훼작물 및 종묘 재배업</td>\n",
              "      <td>채소작물 재배업</td>\n",
              "      <td>1</td>\n",
              "      <td>NaN</td>\n",
              "      <td>NaN</td>\n",
              "      <td></td>\n",
              "      <td>1131.0</td>\n",
              "      <td>과실작물 재배업</td>\n",
              "      <td>A01</td>\n",
              "      <td>농림어업</td>\n",
              "    </tr>\n",
              "    <tr>\n",
              "      <th>4</th>\n",
              "      <td>2.0</td>\n",
              "      <td>11001.0</td>\n",
              "      <td>11001.0</td>\n",
              "      <td>A</td>\n",
              "      <td>농업, 임업 및 어업</td>\n",
              "      <td>1.0</td>\n",
              "      <td>농업</td>\n",
              "      <td>11.0</td>\n",
              "      <td>작물 재배업</td>\n",
              "      <td>110.0</td>\n",
              "      <td>채소, 화훼작물 및 종묘 재배업</td>\n",
              "      <td>채소작물 재배업</td>\n",
              "      <td>1.0</td>\n",
              "      <td>1121.0</td>\n",
              "      <td>A</td>\n",
              "      <td>농업, 임업 및 어업</td>\n",
              "      <td>1.0</td>\n",
              "      <td>농업</td>\n",
              "      <td>11.0</td>\n",
              "      <td>작물 재배업</td>\n",
              "      <td>112.0</td>\n",
              "      <td>채소, 화훼작물 및 종묘 재배업</td>\n",
              "      <td>채소작물 재배업</td>\n",
              "      <td>1</td>\n",
              "      <td>NaN</td>\n",
              "      <td>NaN</td>\n",
              "      <td></td>\n",
              "      <td>1132.0</td>\n",
              "      <td>음료용 및 향신용 작물 재배업</td>\n",
              "      <td>A01</td>\n",
              "      <td>농림어업</td>\n",
              "    </tr>\n",
              "    <tr>\n",
              "      <th>...</th>\n",
              "      <td>...</td>\n",
              "      <td>...</td>\n",
              "      <td>...</td>\n",
              "      <td>...</td>\n",
              "      <td>...</td>\n",
              "      <td>...</td>\n",
              "      <td>...</td>\n",
              "      <td>...</td>\n",
              "      <td>...</td>\n",
              "      <td>...</td>\n",
              "      <td>...</td>\n",
              "      <td>...</td>\n",
              "      <td>...</td>\n",
              "      <td>...</td>\n",
              "      <td>...</td>\n",
              "      <td>...</td>\n",
              "      <td>...</td>\n",
              "      <td>...</td>\n",
              "      <td>...</td>\n",
              "      <td>...</td>\n",
              "      <td>...</td>\n",
              "      <td>...</td>\n",
              "      <td>...</td>\n",
              "      <td>...</td>\n",
              "      <td>...</td>\n",
              "      <td>...</td>\n",
              "      <td>...</td>\n",
              "      <td>...</td>\n",
              "      <td>...</td>\n",
              "      <td>...</td>\n",
              "      <td>...</td>\n",
              "    </tr>\n",
              "    <tr>\n",
              "      <th>2003</th>\n",
              "      <td>1589.0</td>\n",
              "      <td>NaN</td>\n",
              "      <td>990090.0</td>\n",
              "      <td>U</td>\n",
              "      <td>국제 및 외국기관</td>\n",
              "      <td>99.0</td>\n",
              "      <td>국제 및 외국기관</td>\n",
              "      <td>990.0</td>\n",
              "      <td>국제 및 외국기관</td>\n",
              "      <td>9900.0</td>\n",
              "      <td>국제 및 외국기관</td>\n",
              "      <td>기타 국제 및 외국기관</td>\n",
              "      <td>1.0</td>\n",
              "      <td>99009.0</td>\n",
              "      <td>U</td>\n",
              "      <td>국제 및 외국기관</td>\n",
              "      <td>99.0</td>\n",
              "      <td>국제 및 외국기관</td>\n",
              "      <td>990.0</td>\n",
              "      <td>국제 및 외국기관</td>\n",
              "      <td>9900.0</td>\n",
              "      <td>국제 및 외국기관</td>\n",
              "      <td>기타 국제 및 외국기관</td>\n",
              "      <td>1</td>\n",
              "      <td>NaN</td>\n",
              "      <td>NaN</td>\n",
              "      <td>기타 국제 및 외국기관</td>\n",
              "      <td>99009.0</td>\n",
              "      <td>기타 국제 및 외국기관</td>\n",
              "      <td>U99</td>\n",
              "      <td>NaN</td>\n",
              "    </tr>\n",
              "    <tr>\n",
              "      <th>2004</th>\n",
              "      <td>NaN</td>\n",
              "      <td>NaN</td>\n",
              "      <td>NaN</td>\n",
              "      <td>NaN</td>\n",
              "      <td>NaN</td>\n",
              "      <td>NaN</td>\n",
              "      <td>NaN</td>\n",
              "      <td>NaN</td>\n",
              "      <td>NaN</td>\n",
              "      <td>NaN</td>\n",
              "      <td>NaN</td>\n",
              "      <td>NaN</td>\n",
              "      <td>NaN</td>\n",
              "      <td>71511.0</td>\n",
              "      <td>M</td>\n",
              "      <td>전문, 과학 및 기술 서비스업</td>\n",
              "      <td>71.0</td>\n",
              "      <td>전문 서비스업</td>\n",
              "      <td>715.0</td>\n",
              "      <td>회사본부 및 경영 컨설팅 서비스업</td>\n",
              "      <td>7151.0</td>\n",
              "      <td>회사본부</td>\n",
              "      <td>제조업 회사본부</td>\n",
              "      <td>1</td>\n",
              "      <td>NaN</td>\n",
              "      <td>표준산업분류에 해당하는 국세청 업종코드가 없음</td>\n",
              "      <td>제조업 회사본부</td>\n",
              "      <td>71511.0</td>\n",
              "      <td>제조업 회사본부</td>\n",
              "      <td>M71</td>\n",
              "      <td>NaN</td>\n",
              "    </tr>\n",
              "    <tr>\n",
              "      <th>2005</th>\n",
              "      <td>NaN</td>\n",
              "      <td>NaN</td>\n",
              "      <td>NaN</td>\n",
              "      <td>NaN</td>\n",
              "      <td>NaN</td>\n",
              "      <td>NaN</td>\n",
              "      <td>NaN</td>\n",
              "      <td>NaN</td>\n",
              "      <td>NaN</td>\n",
              "      <td>NaN</td>\n",
              "      <td>NaN</td>\n",
              "      <td>NaN</td>\n",
              "      <td>NaN</td>\n",
              "      <td>71519.0</td>\n",
              "      <td>M</td>\n",
              "      <td>전문, 과학 및 기술 서비스업</td>\n",
              "      <td>71.0</td>\n",
              "      <td>전문 서비스업</td>\n",
              "      <td>715.0</td>\n",
              "      <td>회사본부 및 경영 컨설팅 서비스업</td>\n",
              "      <td>7151.0</td>\n",
              "      <td>회사본부</td>\n",
              "      <td>기타 산업 회사본부</td>\n",
              "      <td>1</td>\n",
              "      <td>NaN</td>\n",
              "      <td>표준산업분류에 해당하는 국세청 업종코드가 없음</td>\n",
              "      <td>기타 산업 회사본부</td>\n",
              "      <td>71519.0</td>\n",
              "      <td>기타 산업 회사본부</td>\n",
              "      <td>M71</td>\n",
              "      <td>NaN</td>\n",
              "    </tr>\n",
              "    <tr>\n",
              "      <th>2006</th>\n",
              "      <td>NaN</td>\n",
              "      <td>NaN</td>\n",
              "      <td>NaN</td>\n",
              "      <td>NaN</td>\n",
              "      <td>NaN</td>\n",
              "      <td>NaN</td>\n",
              "      <td>NaN</td>\n",
              "      <td>NaN</td>\n",
              "      <td>NaN</td>\n",
              "      <td>NaN</td>\n",
              "      <td>NaN</td>\n",
              "      <td>NaN</td>\n",
              "      <td>NaN</td>\n",
              "      <td>98100.0</td>\n",
              "      <td>T</td>\n",
              "      <td>가구내 고용활동 및 달리 분류되지 않은 자가소비 생산활동</td>\n",
              "      <td>98.0</td>\n",
              "      <td>달리 분류되지 않은 자가 소비를 위한 가구의 재화 및 서비스 생산활동</td>\n",
              "      <td>981.0</td>\n",
              "      <td>자가 소비를 위한 가사 생산 활동</td>\n",
              "      <td>9810.0</td>\n",
              "      <td>자가 소비를 위한 가사 생산 활동</td>\n",
              "      <td>자가 소비를 위한 가사 생산 활동</td>\n",
              "      <td>1</td>\n",
              "      <td>NaN</td>\n",
              "      <td>표준산업분류에 해당하는 국세청 업종코드가 없음</td>\n",
              "      <td>자가 소비를 위한 가사 생산 활동</td>\n",
              "      <td>98100.0</td>\n",
              "      <td>자가 소비를 위한 가사 생산 활동</td>\n",
              "      <td>T98</td>\n",
              "      <td>NaN</td>\n",
              "    </tr>\n",
              "    <tr>\n",
              "      <th>2007</th>\n",
              "      <td>NaN</td>\n",
              "      <td>NaN</td>\n",
              "      <td>NaN</td>\n",
              "      <td>NaN</td>\n",
              "      <td>NaN</td>\n",
              "      <td>NaN</td>\n",
              "      <td>NaN</td>\n",
              "      <td>NaN</td>\n",
              "      <td>NaN</td>\n",
              "      <td>NaN</td>\n",
              "      <td>NaN</td>\n",
              "      <td>NaN</td>\n",
              "      <td>NaN</td>\n",
              "      <td>98200.0</td>\n",
              "      <td>T</td>\n",
              "      <td>가구내 고용활동 및 달리 분류되지 않은 자가소비 생산활동</td>\n",
              "      <td>98.0</td>\n",
              "      <td>달리 분류되지 않은 자가 소비를 위한 가구의 재화 및 서비스 생산활동</td>\n",
              "      <td>982.0</td>\n",
              "      <td>자가 소비를 위한 가사 서비스 활동</td>\n",
              "      <td>9820.0</td>\n",
              "      <td>자가 소비를 위한 가사 서비스 활동</td>\n",
              "      <td>자가 소비를 위한 가사 서비스 활동</td>\n",
              "      <td>1</td>\n",
              "      <td>NaN</td>\n",
              "      <td>표준산업분류에 해당하는 국세청 업종코드가 없음</td>\n",
              "      <td>자가 소비를 위한 가사 서비스 활동</td>\n",
              "      <td>98200.0</td>\n",
              "      <td>자가 소비를 위한 가사 서비스 활동</td>\n",
              "      <td>T98</td>\n",
              "      <td>NaN</td>\n",
              "    </tr>\n",
              "  </tbody>\n",
              "</table>\n",
              "<p>2008 rows × 31 columns</p>\n",
              "</div>"
            ],
            "text/plain": [
              "        일련번호  2018년 귀속(현행)업종코드  ...  KSIC_CODE   산업명\n",
              "0        1.0           11000.0  ...        A01  농림어업\n",
              "1        1.0           11000.0  ...        A01  농림어업\n",
              "2        2.0           11001.0  ...        A01  농림어업\n",
              "3        2.0           11001.0  ...        A01  농림어업\n",
              "4        2.0           11001.0  ...        A01  농림어업\n",
              "...      ...               ...  ...        ...   ...\n",
              "2003  1589.0               NaN  ...        U99   NaN\n",
              "2004     NaN               NaN  ...        M71   NaN\n",
              "2005     NaN               NaN  ...        M71   NaN\n",
              "2006     NaN               NaN  ...        T98   NaN\n",
              "2007     NaN               NaN  ...        T98   NaN\n",
              "\n",
              "[2008 rows x 31 columns]"
            ]
          },
          "metadata": {},
          "execution_count": 221
        }
      ]
    },
    {
      "cell_type": "code",
      "metadata": {
        "colab": {
          "base_uri": "https://localhost:8080/"
        },
        "id": "VI4jyUEY7myi",
        "outputId": "4e3a1c39-3568-4484-fe08-bb9647a24921"
      },
      "source": [
        "concordance.isna().sum()"
      ],
      "execution_count": null,
      "outputs": [
        {
          "output_type": "execute_result",
          "data": {
            "text/plain": [
              "일련번호                    4\n",
              "2018년 귀속(현행)업종코드       73\n",
              "2019년 귀속(개편후)업종코드       4\n",
              "국세청_대분류코드               4\n",
              "국세청_대분류                 4\n",
              "국세청_중분류코드               4\n",
              "국세청_중분류                 4\n",
              "국세청_소분류코드               4\n",
              "국세청_소분류                 4\n",
              "국세청_세분류코드               4\n",
              "국세청_세분류                 4\n",
              "국세청_세세분류                4\n",
              "국세청_연계                  4\n",
              "KSIC10_코드               0\n",
              "KSIC10_대분류코드            0\n",
              "KSIC10_대분류              0\n",
              "KSIC10_중분류코드            0\n",
              "KSIC10_중분류              0\n",
              "KSIC10_소분류코드            0\n",
              "KSIC10_소분류              0\n",
              "KSIC10_세분류코드            0\n",
              "KSIC10_세분류              0\n",
              "KSIC10_세세분류             0\n",
              "KSIC10_연계               0\n",
              "메인                   1598\n",
              "세부설명                 1296\n",
              "KSIC10_항목명             22\n",
              "KSIC9_코드                0\n",
              "KSIC9_항목명               0\n",
              "KSIC_CODE               0\n",
              "산업명                  1415\n",
              "dtype: int64"
            ]
          },
          "metadata": {},
          "execution_count": 222
        }
      ]
    },
    {
      "cell_type": "code",
      "metadata": {
        "colab": {
          "base_uri": "https://localhost:8080/"
        },
        "id": "VJQ2r0lt2peb",
        "outputId": "9a5e4928-7983-4676-93fc-97118f4489bf"
      },
      "source": [
        "concordance.loc[concordance['산업명'].isna(), 'KSIC_CODE'].unique()"
      ],
      "execution_count": null,
      "outputs": [
        {
          "output_type": "execute_result",
          "data": {
            "text/plain": [
              "array(['C20', 'C26', 'C24', 'C25', 'C29', 'C28', 'C27', 'C31', 'N75',\n",
              "       'C34', 'E36', 'L68', 'G45', 'G47', 'G46', 'H49', 'H52', 'H50',\n",
              "       'H51', 'I55', 'I56', 'J58', 'J59', 'J61', 'J63', 'J62', 'J60',\n",
              "       'K64', 'K65', 'K66', 'M70', 'M71', 'M72', 'M73', 'N76', 'N74',\n",
              "       'O84', 'P85', 'Q86', 'Q87', 'R91', 'R90', 'S96', 'S95', 'A03',\n",
              "       'S94', 'T97', 'U99', 'T98'], dtype=object)"
            ]
          },
          "metadata": {},
          "execution_count": 223
        }
      ]
    },
    {
      "cell_type": "code",
      "metadata": {
        "id": "kAzyU-1lSFZm"
      },
      "source": [
        "concordance.reset_index(drop=True, inplace=True)"
      ],
      "execution_count": null,
      "outputs": []
    },
    {
      "cell_type": "markdown",
      "metadata": {
        "id": "7DgAwMg4cZ__"
      },
      "source": [
        "### 세분류 기준"
      ]
    },
    {
      "cell_type": "code",
      "metadata": {
        "colab": {
          "base_uri": "https://localhost:8080/"
        },
        "id": "8eLKKpuedy8C",
        "outputId": "7240ef07-31a7-462d-a75f-ff7774a5bcce"
      },
      "source": [
        "concordance['KSIC9_코드'].isna().sum()"
      ],
      "execution_count": null,
      "outputs": [
        {
          "output_type": "execute_result",
          "data": {
            "text/plain": [
              "0"
            ]
          },
          "metadata": {},
          "execution_count": 225
        }
      ]
    },
    {
      "cell_type": "code",
      "metadata": {
        "id": "knd35q8jcduv"
      },
      "source": [
        "for i in concordance.loc[concordance['산업명'].isna()].index:\n",
        "    if pd.notnull(concordance.loc[i, 'KSIC9_코드']):\n",
        "        concordance.loc[i, 'KSIC_CODE'] = concordance.loc[i, 'KSIC10_대분류코드']+str(int(concordance.loc[i, 'KSIC9_코드'])).zfill(4)"
      ],
      "execution_count": null,
      "outputs": []
    },
    {
      "cell_type": "code",
      "metadata": {
        "colab": {
          "base_uri": "https://localhost:8080/"
        },
        "id": "pJAdLSYlctsq",
        "outputId": "156199d5-5434-45f4-c597-51d4facd543d"
      },
      "source": [
        "set(ksic9['KSIC_CODE'])"
      ],
      "execution_count": null,
      "outputs": [
        {
          "output_type": "execute_result",
          "data": {
            "text/plain": [
              "{'A01',\n",
              " 'A02',\n",
              " 'A03',\n",
              " 'B05',\n",
              " 'B06',\n",
              " 'B07',\n",
              " 'B08',\n",
              " 'C10',\n",
              " 'C11',\n",
              " 'C12',\n",
              " 'C13',\n",
              " 'C14',\n",
              " 'C15',\n",
              " 'C16',\n",
              " 'C17',\n",
              " 'C18',\n",
              " 'C19',\n",
              " 'C2010',\n",
              " 'C2020',\n",
              " 'C2030',\n",
              " 'C2041',\n",
              " 'C2042',\n",
              " 'C2043',\n",
              " 'C2049',\n",
              " 'C2050',\n",
              " 'C21',\n",
              " 'C22',\n",
              " 'C23',\n",
              " 'C2410',\n",
              " 'C2420',\n",
              " 'C2430',\n",
              " 'C2510',\n",
              " 'C2520',\n",
              " 'C2590',\n",
              " 'C2610',\n",
              " 'C2620',\n",
              " 'C2630',\n",
              " 'C2640',\n",
              " 'C2650',\n",
              " 'C2660',\n",
              " 'C2710',\n",
              " 'C2720',\n",
              " 'C2730',\n",
              " 'C2740',\n",
              " 'C2810',\n",
              " 'C2820',\n",
              " 'C2830',\n",
              " 'C2840',\n",
              " 'C2850',\n",
              " 'C2890',\n",
              " 'C2918',\n",
              " 'C2919',\n",
              " 'C2920',\n",
              " 'C30',\n",
              " 'C3110',\n",
              " 'C3120',\n",
              " 'C3130',\n",
              " 'C3191',\n",
              " 'C3192',\n",
              " 'C3199',\n",
              " 'C32',\n",
              " 'C33',\n",
              " 'D35',\n",
              " 'D36',\n",
              " 'E37',\n",
              " 'E38',\n",
              " 'E39',\n",
              " 'F41',\n",
              " 'F42',\n",
              " 'J582',\n",
              " 'J62',\n",
              " 'J63'}"
            ]
          },
          "metadata": {},
          "execution_count": 227
        }
      ]
    },
    {
      "cell_type": "code",
      "metadata": {
        "colab": {
          "base_uri": "https://localhost:8080/"
        },
        "id": "ci-UQ9VxeSXL",
        "outputId": "c972fd92-cc01-4cd1-c884-c807a60904ad"
      },
      "source": [
        "concordance['KSIC_CODE']"
      ],
      "execution_count": null,
      "outputs": [
        {
          "output_type": "execute_result",
          "data": {
            "text/plain": [
              "0          A01\n",
              "1          A01\n",
              "2          A01\n",
              "3          A01\n",
              "4          A01\n",
              "         ...  \n",
              "2003    U99009\n",
              "2004    M71511\n",
              "2005    M71519\n",
              "2006    T98100\n",
              "2007    T98200\n",
              "Name: KSIC_CODE, Length: 2008, dtype: object"
            ]
          },
          "metadata": {},
          "execution_count": 228
        }
      ]
    },
    {
      "cell_type": "code",
      "metadata": {
        "colab": {
          "base_uri": "https://localhost:8080/"
        },
        "id": "_NBcA0LLcduw",
        "outputId": "da25f474-bc2d-465d-9465-1207d40588d9"
      },
      "source": [
        "(concordance['KSIC_CODE'] == 'C2010').sum()"
      ],
      "execution_count": null,
      "outputs": [
        {
          "output_type": "execute_result",
          "data": {
            "text/plain": [
              "0"
            ]
          },
          "metadata": {},
          "execution_count": 229
        }
      ]
    },
    {
      "cell_type": "code",
      "metadata": {
        "id": "VDMiKPGRcduw"
      },
      "source": [
        "concordance.loc[concordance['산업명'].isna(), '산업명'] = concordance.loc[concordance['산업명'].isna(),concordance.columns[:-1]].merge(ksic9, how='left')['산업명']"
      ],
      "execution_count": null,
      "outputs": []
    },
    {
      "cell_type": "code",
      "metadata": {
        "colab": {
          "base_uri": "https://localhost:8080/"
        },
        "id": "MyEWXQm8cduw",
        "outputId": "15b444a4-8cfa-43b2-cf01-8699f5f26304"
      },
      "source": [
        "concordance.isna().sum()"
      ],
      "execution_count": null,
      "outputs": [
        {
          "output_type": "execute_result",
          "data": {
            "text/plain": [
              "일련번호                    4\n",
              "2018년 귀속(현행)업종코드       73\n",
              "2019년 귀속(개편후)업종코드       4\n",
              "국세청_대분류코드               4\n",
              "국세청_대분류                 4\n",
              "국세청_중분류코드               4\n",
              "국세청_중분류                 4\n",
              "국세청_소분류코드               4\n",
              "국세청_소분류                 4\n",
              "국세청_세분류코드               4\n",
              "국세청_세분류                 4\n",
              "국세청_세세분류                4\n",
              "국세청_연계                  4\n",
              "KSIC10_코드               0\n",
              "KSIC10_대분류코드            0\n",
              "KSIC10_대분류              0\n",
              "KSIC10_중분류코드            0\n",
              "KSIC10_중분류              0\n",
              "KSIC10_소분류코드            0\n",
              "KSIC10_소분류              0\n",
              "KSIC10_세분류코드            0\n",
              "KSIC10_세분류              0\n",
              "KSIC10_세세분류             0\n",
              "KSIC10_연계               0\n",
              "메인                   1598\n",
              "세부설명                 1296\n",
              "KSIC10_항목명             22\n",
              "KSIC9_코드                0\n",
              "KSIC9_항목명               0\n",
              "KSIC_CODE               0\n",
              "산업명                  1415\n",
              "dtype: int64"
            ]
          },
          "metadata": {},
          "execution_count": 231
        }
      ]
    },
    {
      "cell_type": "code",
      "metadata": {
        "id": "pCCazDrXSRzL"
      },
      "source": [
        "concordance.reset_index(drop=True, inplace=True)"
      ],
      "execution_count": null,
      "outputs": []
    },
    {
      "cell_type": "markdown",
      "metadata": {
        "id": "c49JCKK-eemi"
      },
      "source": [
        "## 이름 기준 병합"
      ]
    },
    {
      "cell_type": "markdown",
      "metadata": {
        "id": "15aQBaSWg3l9"
      },
      "source": [
        "### 주어진 이름만 사용"
      ]
    },
    {
      "cell_type": "code",
      "metadata": {
        "colab": {
          "base_uri": "https://localhost:8080/"
        },
        "id": "YB4H6YiMRhPa",
        "outputId": "46ef5284-52d1-408c-ef8f-861e8eb79cdb"
      },
      "source": [
        "concordance['산업명'].isna().sum()"
      ],
      "execution_count": null,
      "outputs": [
        {
          "output_type": "execute_result",
          "data": {
            "text/plain": [
              "1415"
            ]
          },
          "metadata": {},
          "execution_count": 233
        }
      ]
    },
    {
      "cell_type": "code",
      "metadata": {
        "colab": {
          "base_uri": "https://localhost:8080/"
        },
        "id": "PEz_Uhj-RsTK",
        "outputId": "a2915c40-3282-4ab8-d54e-e3f9d1be4a4c"
      },
      "source": [
        "set(concordance.loc[concordance['산업명'].isna(),concordance.columns[:-2]].merge(ksic9, how='left', left_on = 'KSIC9_항목명', right_on = '산업명')['산업명'])"
      ],
      "execution_count": null,
      "outputs": [
        {
          "output_type": "execute_result",
          "data": {
            "text/plain": [
              "{nan,\n",
              " '마그네틱 및 광학 매체 제조업',\n",
              " '모터사이클 제조업',\n",
              " '무기 및 총포탄 제조업',\n",
              " '사무용 기계 및 장비 제조업',\n",
              " '전투용 차량 제조업'}"
            ]
          },
          "metadata": {},
          "execution_count": 234
        }
      ]
    },
    {
      "cell_type": "code",
      "metadata": {
        "id": "FsMht8QY1xoq"
      },
      "source": [
        "concordance.loc[concordance['산업명'].isna(), '산업명'] = list(concordance.loc[concordance['산업명'].isna(),concordance.columns[:-2]].merge(ksic9, how='left', left_on = 'KSIC9_항목명', right_on = '산업명')['산업명'])"
      ],
      "execution_count": null,
      "outputs": []
    },
    {
      "cell_type": "code",
      "metadata": {
        "colab": {
          "base_uri": "https://localhost:8080/"
        },
        "id": "ypHqZtysRY7Z",
        "outputId": "4aac75c0-638d-4313-b2c6-1f60d750dcbc"
      },
      "source": [
        "concordance['산업명'].isna().sum()"
      ],
      "execution_count": null,
      "outputs": [
        {
          "output_type": "execute_result",
          "data": {
            "text/plain": [
              "1409"
            ]
          },
          "metadata": {},
          "execution_count": 236
        }
      ]
    },
    {
      "cell_type": "code",
      "metadata": {
        "colab": {
          "base_uri": "https://localhost:8080/"
        },
        "id": "EHkhz-HVP2Oi",
        "outputId": "774dc952-5e0d-4ce2-d190-4fcaf5e09465"
      },
      "source": [
        "set(concordance.loc[concordance['산업명'].isna(),concordance.columns[:-2]].merge(ksic9, how='left', left_on = 'KSIC10_소분류', right_on = '산업명')['산업명'])"
      ],
      "execution_count": null,
      "outputs": [
        {
          "output_type": "execute_result",
          "data": {
            "text/plain": [
              "{'1차 비철금속 제조업',\n",
              " nan,\n",
              " '가정용 기기 제조업',\n",
              " '기타 전기장비 제조업',\n",
              " '반도체 제조업',\n",
              " '의료용 기기 제조업',\n",
              " '일차전지 및 축전지 제조업',\n",
              " '전구 및 조명장치 제조업',\n",
              " '철도장비 제조업',\n",
              " '합성고무 및 플라스틱 물질 제조업',\n",
              " '화학섬유 제조업'}"
            ]
          },
          "metadata": {},
          "execution_count": 237
        }
      ]
    },
    {
      "cell_type": "code",
      "metadata": {
        "id": "kXXGmrV4Vbhm"
      },
      "source": [
        "concordance.loc[concordance['산업명'].isna(), '산업명'] = list(concordance.loc[concordance['산업명'].isna(),concordance.columns[:-2]].merge(ksic9, how='left', left_on = 'KSIC10_소분류', right_on = '산업명')['산업명'])"
      ],
      "execution_count": null,
      "outputs": []
    },
    {
      "cell_type": "code",
      "metadata": {
        "colab": {
          "base_uri": "https://localhost:8080/"
        },
        "id": "Tu-jjiNGVbhm",
        "outputId": "79deb9e7-857a-4e5a-bab7-6577c031cb88"
      },
      "source": [
        "concordance['산업명'].isna().sum()"
      ],
      "execution_count": null,
      "outputs": [
        {
          "output_type": "execute_result",
          "data": {
            "text/plain": [
              "1357"
            ]
          },
          "metadata": {},
          "execution_count": 239
        }
      ]
    },
    {
      "cell_type": "code",
      "metadata": {
        "colab": {
          "base_uri": "https://localhost:8080/"
        },
        "id": "tKiAjjlAVDxY",
        "outputId": "adcc46bf-e7af-4a17-9ff0-2df1bd712b8e"
      },
      "source": [
        "set(concordance.loc[concordance['산업명'].isna(),concordance.columns[:-2]].merge(ksic9, how='left', left_on = 'KSIC10_세분류', right_on = '산업명')['산업명'])"
      ],
      "execution_count": null,
      "outputs": [
        {
          "output_type": "execute_result",
          "data": {
            "text/plain": [
              "{nan, '그 외 기타 화학제품 제조업', '세제, 화장품 및 광택제 제조업'}"
            ]
          },
          "metadata": {},
          "execution_count": 240
        }
      ]
    },
    {
      "cell_type": "code",
      "metadata": {
        "id": "CkJrBKH-Vl99"
      },
      "source": [
        "concordance.loc[concordance['산업명'].isna(), '산업명'] = list(concordance.loc[concordance['산업명'].isna(),concordance.columns[:-2]].merge(ksic9, how='left', left_on = 'KSIC10_세분류', right_on = '산업명')['산업명'])"
      ],
      "execution_count": null,
      "outputs": []
    },
    {
      "cell_type": "code",
      "metadata": {
        "colab": {
          "base_uri": "https://localhost:8080/"
        },
        "id": "i7DPpacAVl9_",
        "outputId": "7e8f2e50-c4b0-4212-ad2f-27ff38e668f8"
      },
      "source": [
        "concordance['산업명'].isna().sum()"
      ],
      "execution_count": null,
      "outputs": [
        {
          "output_type": "execute_result",
          "data": {
            "text/plain": [
              "1341"
            ]
          },
          "metadata": {},
          "execution_count": 242
        }
      ]
    },
    {
      "cell_type": "code",
      "metadata": {
        "colab": {
          "base_uri": "https://localhost:8080/"
        },
        "id": "jAGCkUx4VqrL",
        "outputId": "49b29650-065c-418a-9df3-2ae8cdd4f35e"
      },
      "source": [
        "set(concordance.loc[concordance['산업명'].isna(),concordance.columns[:-2]].merge(ksic9, how='left', left_on = 'KSIC10_세세분류', right_on = '산업명')['산업명'])"
      ],
      "execution_count": null,
      "outputs": [
        {
          "output_type": "execute_result",
          "data": {
            "text/plain": [
              "{nan}"
            ]
          },
          "metadata": {},
          "execution_count": 243
        }
      ]
    },
    {
      "cell_type": "markdown",
      "metadata": {
        "id": "8TUHt5Vvg9me"
      },
      "source": [
        "### 유사도 기반 분류"
      ]
    },
    {
      "cell_type": "code",
      "metadata": {
        "id": "8keQwt-9mZ2c"
      },
      "source": [
        "concordance2 = concordance.copy()\n",
        "# concordance = concordance2.copy()"
      ],
      "execution_count": null,
      "outputs": []
    },
    {
      "cell_type": "code",
      "metadata": {
        "id": "v0Z4bm3VXPf_"
      },
      "source": [
        "def jaccard_similarity(str1, str2):\n",
        "    intersection = len(list(set(str1).intersection(str2)))\n",
        "    union = (len(set(str1)) + len(set(str2))) - intersection\n",
        "    return float(intersection) / union"
      ],
      "execution_count": null,
      "outputs": []
    },
    {
      "cell_type": "code",
      "metadata": {
        "id": "jJTVc8eYhBsF"
      },
      "source": [
        "def similarity_measure(list1, list2, print_len=15):\n",
        "    from itertools import product\n",
        "    items = [list1, list2]\n",
        "    # items = [list(set(ksic9['산업명']) - set(concordance.loc[concordance['산업명'].isna(), '산업명'])), list(set(concordance['KSIC10_소분류']))]\n",
        "    # items = [list(set(ksic9['산업명'])), list(set(concordance.loc[concordance['산업명'].isna(), 'KSIC10_소분류']))]\n",
        "    print(concordance['산업명'].isna().sum())\n",
        "\n",
        "    sim_df = pd.DataFrame()\n",
        "    for i, j in list(product(*items)):\n",
        "        sim = jaccard_similarity(i, j)\n",
        "        sim_dict = {'KSIC9': i, 'KSIC10': j, 'Jaccard_sim': sim}\n",
        "        # print(sim_dict)\n",
        "        sim_df = sim_df.append(sim_dict, ignore_index=True)\n",
        "    print(sim_df.sort_values('Jaccard_sim', ascending=False)[:print_len].to_markdown())\n",
        "    return sim_df.sort_values('Jaccard_sim', ascending=False)"
      ],
      "execution_count": null,
      "outputs": []
    },
    {
      "cell_type": "code",
      "metadata": {
        "colab": {
          "base_uri": "https://localhost:8080/"
        },
        "id": "sj7EJexTZMiS",
        "outputId": "6f132d05-24d3-42ab-ebcc-9f90769a77d6"
      },
      "source": [
        "sim_df = similarity_measure(list(set(ksic9['산업명']) - set(concordance['산업명'])), list(set(concordance.loc[concordance['산업명'].isna(), 'KSIC10_소분류'])))"
      ],
      "execution_count": null,
      "outputs": [
        {
          "output_type": "stream",
          "name": "stdout",
          "text": [
            "1341\n",
            "|      |   Jaccard_sim | KSIC10                                                          | KSIC9                                             |\n",
            "|-----:|--------------:|:----------------------------------------------------------------|:--------------------------------------------------|\n",
            "| 1287 |      1        | 기타 금속 가공제품 제조업                                       | 기타 금속가공 제품 제조업                         |\n",
            "|   91 |      1        | 통신 및 방송장비 제조업                                         | 통신 및 방송 장비 제조업                          |\n",
            "| 2646 |      1        | 영상 및 음향 기기 제조업                                        | 영상 및 음향기기 제조업                           |\n",
            "| 2148 |      1        | 절연선 및 케이블 제조업                                         | 절연선 및 케이블제조업                            |\n",
            "| 1506 |      1        | 기초 화학물질 제조업                                            | 기초 화학물질제조업                               |\n",
            "| 1188 |      1        | 1차 철강 제조업                                                 | 1차 철강제조업                                    |\n",
            "| 2832 |      1        | 컴퓨터 및 주변 장치 제조업                                      | 컴퓨터 및 주변장치 제조업                         |\n",
            "| 2293 |      1        | 시계 및 시계 부품 제조업                                        | 시계 및 시계부품 제조업                           |\n",
            "|  741 |      1        | 전자 부품 제조업                                                | 전자부품 제조업                                   |\n",
            "|  493 |      0.944444 | 전동기, 발전기 및 전기 변환ㆍ공급ㆍ제어 장치 제조업             | 전동기, 발전기 및 전기변환, 공급, 제어장치 제조업 |\n",
            "| 2746 |      0.941176 | 구조용 금속제품, 탱크 및 증기발생기 제조업                      | 구조용 금속제품, 탱크, 증기발생기 제조업          |\n",
            "| 2470 |      0.833333 | 금속 주조업                                                     | 금속주조업                                        |\n",
            "| 2956 |      0.75     | 사진장비 및 광학 기기 제조업                                    | 안경, 사진장비 및 기타 광학기기 제조업            |\n",
            "|  932 |      0.727273 | 특수 목적용 기계 제조업                                         | 특수 기계제조업                                   |\n",
            "| 1819 |      0.714286 | 측정, 시험, 항해, 제어 및 기타 정밀 기기 제조업; 광학 기기 제외 | 측정, 시험, 향해, 제어, 및 기타 정밀기기 제조업   |\n"
          ]
        }
      ]
    },
    {
      "cell_type": "code",
      "metadata": {
        "id": "fBPvNnjkhX8X"
      },
      "source": [
        "def change_notation(sim_df, condition, ksic9, concordance):\n",
        "\n",
        "    import pprint\n",
        "\n",
        "    def unify(x):\n",
        "        import numpy as np\n",
        "        return high_sim_dict[x] if x in high_sim_dict.keys() else np.nan\n",
        "\n",
        "    if (type(condition) == float) | (type(condition) == int):\n",
        "        sim_df2 = sim_df.loc[sim_df['Jaccard_sim'] >= condition]\n",
        "        high_sim_dict = dict(zip(sim_df2['KSIC10'], sim_df2['KSIC9']))#; print(high_sim_dict)\n",
        "\n",
        "    elif type(condition) == str:\n",
        "        sim_df2 = sim_df.sort_values('Jaccard_sim', ascending=False)[:15].loc[sim_df['KSIC10'] == condition].sort_values('Jaccard_sim', ascending=True)\n",
        "        high_sim_dict = dict(zip(sim_df2['KSIC10'], sim_df2['KSIC9']))#; print(high_sim_dict) # dict에서 key 하나에 덮어쓰는 거 때문에.. 가장 높은 순위에 해당하는거만 뽑으려고 위에서 sort 다시 해줌\n",
        "        sim_df2 = sim_df2.sort_values('Jaccard_sim', ascending=False)\n",
        "\n",
        "    elif type(condition) == list:\n",
        "        sim_df2 = sim_df.sort_values('Jaccard_sim', ascending=False)[:15].loc[sim_df['KSIC10'].apply(lambda x: x in condition)].sort_values('Jaccard_sim', ascending=True)\n",
        "        high_sim_dict = dict(zip(sim_df2['KSIC10'], sim_df2['KSIC9']))#; print(high_sim_dict)\n",
        "        sim_df2 = sim_df2.sort_values('Jaccard_sim', ascending=False)\n",
        "    \n",
        "    pprint.pprint(high_sim_dict)\n",
        "    concordance.loc[concordance['산업명'].isna(), '산업명'] = concordance.loc[concordance['산업명'].isna(), 'KSIC10_소분류'].apply(lambda x: unify(x))\n",
        "    \n",
        "    sim_df = pd.concat([sim_df, sim_df2]).drop_duplicates(['KSIC9', 'KSIC10'], keep=False)\n",
        "\n",
        "    return concordance, sim_df"
      ],
      "execution_count": null,
      "outputs": []
    },
    {
      "cell_type": "code",
      "metadata": {
        "id": "4TcDDcErmq6L"
      },
      "source": [
        "sim_df2 = sim_df.copy()\n",
        "# sim_df = sim_df2.copy()"
      ],
      "execution_count": null,
      "outputs": []
    },
    {
      "cell_type": "code",
      "metadata": {
        "colab": {
          "base_uri": "https://localhost:8080/"
        },
        "id": "swndMTEpiE8r",
        "outputId": "4bc7cf0c-93e6-473b-fcf5-10144c4559de"
      },
      "source": [
        "concordance, sim_df = change_notation(sim_df, 1, ksic9, concordance)"
      ],
      "execution_count": null,
      "outputs": [
        {
          "output_type": "stream",
          "name": "stdout",
          "text": [
            "{'1차 철강 제조업': '1차 철강제조업',\n",
            " '기초 화학물질 제조업': '기초 화학물질제조업',\n",
            " '기타 금속 가공제품 제조업': '기타 금속가공 제품 제조업',\n",
            " '시계 및 시계 부품 제조업': '시계 및 시계부품 제조업',\n",
            " '영상 및 음향 기기 제조업': '영상 및 음향기기 제조업',\n",
            " '전자 부품 제조업': '전자부품 제조업',\n",
            " '절연선 및 케이블 제조업': '절연선 및 케이블제조업',\n",
            " '컴퓨터 및 주변 장치 제조업': '컴퓨터 및 주변장치 제조업',\n",
            " '통신 및 방송장비 제조업': '통신 및 방송 장비 제조업'}\n"
          ]
        }
      ]
    },
    {
      "cell_type": "code",
      "metadata": {
        "colab": {
          "base_uri": "https://localhost:8080/"
        },
        "id": "yElceDUQi4u-",
        "outputId": "982fa8c8-61bd-4dc9-dc42-5cb0e0c53122"
      },
      "source": [
        "concordance['산업명'].isna().sum()"
      ],
      "execution_count": null,
      "outputs": [
        {
          "output_type": "execute_result",
          "data": {
            "text/plain": [
              "1247"
            ]
          },
          "metadata": {},
          "execution_count": 250
        }
      ]
    },
    {
      "cell_type": "code",
      "metadata": {
        "colab": {
          "base_uri": "https://localhost:8080/",
          "height": 514
        },
        "id": "tj9spg7fm8hK",
        "outputId": "f4b4794f-e853-4a96-d0be-d916f350fa51"
      },
      "source": [
        "sim_df[:15]"
      ],
      "execution_count": null,
      "outputs": [
        {
          "output_type": "execute_result",
          "data": {
            "text/html": [
              "<div>\n",
              "<style scoped>\n",
              "    .dataframe tbody tr th:only-of-type {\n",
              "        vertical-align: middle;\n",
              "    }\n",
              "\n",
              "    .dataframe tbody tr th {\n",
              "        vertical-align: top;\n",
              "    }\n",
              "\n",
              "    .dataframe thead th {\n",
              "        text-align: right;\n",
              "    }\n",
              "</style>\n",
              "<table border=\"1\" class=\"dataframe\">\n",
              "  <thead>\n",
              "    <tr style=\"text-align: right;\">\n",
              "      <th></th>\n",
              "      <th>Jaccard_sim</th>\n",
              "      <th>KSIC10</th>\n",
              "      <th>KSIC9</th>\n",
              "    </tr>\n",
              "  </thead>\n",
              "  <tbody>\n",
              "    <tr>\n",
              "      <th>493</th>\n",
              "      <td>0.944444</td>\n",
              "      <td>전동기, 발전기 및 전기 변환ㆍ공급ㆍ제어 장치 제조업</td>\n",
              "      <td>전동기, 발전기 및 전기변환, 공급, 제어장치 제조업</td>\n",
              "    </tr>\n",
              "    <tr>\n",
              "      <th>2746</th>\n",
              "      <td>0.941176</td>\n",
              "      <td>구조용 금속제품, 탱크 및 증기발생기 제조업</td>\n",
              "      <td>구조용 금속제품, 탱크, 증기발생기 제조업</td>\n",
              "    </tr>\n",
              "    <tr>\n",
              "      <th>2470</th>\n",
              "      <td>0.833333</td>\n",
              "      <td>금속 주조업</td>\n",
              "      <td>금속주조업</td>\n",
              "    </tr>\n",
              "    <tr>\n",
              "      <th>2956</th>\n",
              "      <td>0.750000</td>\n",
              "      <td>사진장비 및 광학 기기 제조업</td>\n",
              "      <td>안경, 사진장비 및 기타 광학기기 제조업</td>\n",
              "    </tr>\n",
              "    <tr>\n",
              "      <th>932</th>\n",
              "      <td>0.727273</td>\n",
              "      <td>특수 목적용 기계 제조업</td>\n",
              "      <td>특수 기계제조업</td>\n",
              "    </tr>\n",
              "    <tr>\n",
              "      <th>1819</th>\n",
              "      <td>0.714286</td>\n",
              "      <td>측정, 시험, 항해, 제어 및 기타 정밀 기기 제조업; 광학 기기 제외</td>\n",
              "      <td>측정, 시험, 향해, 제어, 및 기타 정밀기기 제조업</td>\n",
              "    </tr>\n",
              "    <tr>\n",
              "      <th>1659</th>\n",
              "      <td>0.625000</td>\n",
              "      <td>그 외 기타 운송장비 제조업</td>\n",
              "      <td>그 외 분류 안된 운송장비 제조업</td>\n",
              "    </tr>\n",
              "    <tr>\n",
              "      <th>1538</th>\n",
              "      <td>0.583333</td>\n",
              "      <td>기타 화학제품 제조업</td>\n",
              "      <td>기초 화학물질제조업</td>\n",
              "    </tr>\n",
              "    <tr>\n",
              "      <th>1086</th>\n",
              "      <td>0.571429</td>\n",
              "      <td>기초 화학물질 제조업</td>\n",
              "      <td>비료 및 질소 화학물 제조업</td>\n",
              "    </tr>\n",
              "    <tr>\n",
              "      <th>263</th>\n",
              "      <td>0.562500</td>\n",
              "      <td>일반 목적용 기계 제조업</td>\n",
              "      <td>사무용 이외의 일반기계 제조업</td>\n",
              "    </tr>\n",
              "    <tr>\n",
              "      <th>1983</th>\n",
              "      <td>0.562500</td>\n",
              "      <td>비료, 농약 및 살균ㆍ살충제 제조업</td>\n",
              "      <td>살충제 및 기타농약제조업</td>\n",
              "    </tr>\n",
              "    <tr>\n",
              "      <th>753</th>\n",
              "      <td>0.545455</td>\n",
              "      <td>시계 및 시계 부품 제조업</td>\n",
              "      <td>전자부품 제조업</td>\n",
              "    </tr>\n",
              "    <tr>\n",
              "      <th>2281</th>\n",
              "      <td>0.545455</td>\n",
              "      <td>전자 부품 제조업</td>\n",
              "      <td>시계 및 시계부품 제조업</td>\n",
              "    </tr>\n",
              "    <tr>\n",
              "      <th>1398</th>\n",
              "      <td>0.538462</td>\n",
              "      <td>기타 화학제품 제조업</td>\n",
              "      <td>기타 금속가공 제품 제조업</td>\n",
              "    </tr>\n",
              "    <tr>\n",
              "      <th>1847</th>\n",
              "      <td>0.500000</td>\n",
              "      <td>기타 금속 가공제품 제조업</td>\n",
              "      <td>항공기 제조업</td>\n",
              "    </tr>\n",
              "  </tbody>\n",
              "</table>\n",
              "</div>"
            ],
            "text/plain": [
              "      Jaccard_sim  ...                          KSIC9\n",
              "493      0.944444  ...  전동기, 발전기 및 전기변환, 공급, 제어장치 제조업\n",
              "2746     0.941176  ...        구조용 금속제품, 탱크, 증기발생기 제조업\n",
              "2470     0.833333  ...                          금속주조업\n",
              "2956     0.750000  ...         안경, 사진장비 및 기타 광학기기 제조업\n",
              "932      0.727273  ...                       특수 기계제조업\n",
              "1819     0.714286  ...  측정, 시험, 향해, 제어, 및 기타 정밀기기 제조업\n",
              "1659     0.625000  ...             그 외 분류 안된 운송장비 제조업\n",
              "1538     0.583333  ...                     기초 화학물질제조업\n",
              "1086     0.571429  ...                비료 및 질소 화학물 제조업\n",
              "263      0.562500  ...               사무용 이외의 일반기계 제조업\n",
              "1983     0.562500  ...                  살충제 및 기타농약제조업\n",
              "753      0.545455  ...                       전자부품 제조업\n",
              "2281     0.545455  ...                  시계 및 시계부품 제조업\n",
              "1398     0.538462  ...                 기타 금속가공 제품 제조업\n",
              "1847     0.500000  ...                        항공기 제조업\n",
              "\n",
              "[15 rows x 3 columns]"
            ]
          },
          "metadata": {},
          "execution_count": 251
        }
      ]
    },
    {
      "cell_type": "code",
      "metadata": {
        "colab": {
          "base_uri": "https://localhost:8080/"
        },
        "id": "_fJEuMDTk70s",
        "outputId": "1346e0ea-1cca-4143-8eb5-cbe3e3bc917c"
      },
      "source": [
        "concordance, sim_df = change_notation(sim_df, 0.6, ksic9, concordance)"
      ],
      "execution_count": null,
      "outputs": [
        {
          "output_type": "stream",
          "name": "stdout",
          "text": [
            "{'구조용 금속제품, 탱크 및 증기발생기 제조업': '구조용 금속제품, 탱크, 증기발생기 제조업',\n",
            " '그 외 기타 운송장비 제조업': '그 외 분류 안된 운송장비 제조업',\n",
            " '금속 주조업': '금속주조업',\n",
            " '사진장비 및 광학 기기 제조업': '안경, 사진장비 및 기타 광학기기 제조업',\n",
            " '전동기, 발전기 및 전기 변환ㆍ공급ㆍ제어 장치 제조업': '전동기, 발전기 및 전기변환, 공급, 제어장치 제조업',\n",
            " '측정, 시험, 항해, 제어 및 기타 정밀 기기 제조업; 광학 기기 제외': '측정, 시험, 향해, 제어, 및 기타 정밀기기 제조업',\n",
            " '특수 목적용 기계 제조업': '특수 기계제조업'}\n"
          ]
        }
      ]
    },
    {
      "cell_type": "code",
      "metadata": {
        "colab": {
          "base_uri": "https://localhost:8080/"
        },
        "id": "j8MdK47klhJD",
        "outputId": "b8c5af1a-2d8c-49da-eb9e-aa337f3dd949"
      },
      "source": [
        "concordance['산업명'].isna().sum()"
      ],
      "execution_count": null,
      "outputs": [
        {
          "output_type": "execute_result",
          "data": {
            "text/plain": [
              "1189"
            ]
          },
          "metadata": {},
          "execution_count": 253
        }
      ]
    },
    {
      "cell_type": "code",
      "metadata": {
        "colab": {
          "base_uri": "https://localhost:8080/"
        },
        "id": "z2cfczpdli1G",
        "outputId": "8b123a17-3c88-49fe-afbd-9eda4180db39"
      },
      "source": [
        "sim_df = similarity_measure(list(set(ksic9['산업명']) - set(concordance['산업명'])), list(set(concordance.loc[concordance['산업명'].isna(), 'KSIC10_소분류'])))"
      ],
      "execution_count": null,
      "outputs": [
        {
          "output_type": "stream",
          "name": "stdout",
          "text": [
            "1189\n",
            "|     |   Jaccard_sim | KSIC10                               | KSIC9                         |\n",
            "|----:|--------------:|:-------------------------------------|:------------------------------|\n",
            "| 642 |      0.5625   | 비료, 농약 및 살균ㆍ살충제 제조업    | 살충제 및 기타농약제조업      |\n",
            "| 109 |      0.5625   | 일반 목적용 기계 제조업              | 사무용 이외의 일반기계 제조업 |\n",
            "| 588 |      0.5      | 항공기, 우주선 및 부품 제조업        | 항공기 제조업                 |\n",
            "| 400 |      0.5      | 선박 및 보트 건조업                  | 선박 제조업                   |\n",
            "| 619 |      0.454545 | 기타 화학제품 제조업                 | 항공기 제조업                 |\n",
            "| 743 |      0.428571 | 기타 화학제품 제조업                 | 살충제 및 기타농약제조업      |\n",
            "| 247 |      0.4      | 기타 화학제품 제조업                 | 비료 및 질소 화학물 제조업    |\n",
            "| 535 |      0.4      | 연금 및 공제업                       | 항공기 제조업                 |\n",
            "| 605 |      0.384615 | 일반 목적용 기계 제조업              | 항공기 제조업                 |\n",
            "| 146 |      0.368421 | 비료, 농약 및 살균ㆍ살충제 제조업    | 비료 및 질소 화학물 제조업    |\n",
            "| 580 |      0.363636 | 항공 화물 운송업                     | 항공기 제조업                 |\n",
            "| 579 |      0.363636 | 항공 여객 운송업                     | 항공기 제조업                 |\n",
            "| 495 |      0.363636 | 기타 화학제품 제조업                 | 선박 제조업                   |\n",
            "| 171 |      0.35     | 건물ㆍ산업설비 청소 및 방제 서비스업 | 비료 및 질소 화학물 제조업    |\n",
            "| 451 |      0.333333 | 기타 숙박업                          | 선박 제조업                   |\n"
          ]
        }
      ]
    },
    {
      "cell_type": "code",
      "metadata": {
        "id": "ugQX9Tfimr1T"
      },
      "source": [
        "concordance2 = concordance.copy()\n",
        "# concordance = concordance2.copy()"
      ],
      "execution_count": null,
      "outputs": []
    },
    {
      "cell_type": "code",
      "metadata": {
        "colab": {
          "base_uri": "https://localhost:8080/"
        },
        "id": "AJMI24VMotNK",
        "outputId": "189e7375-dfa5-4a09-eb8e-b9283f558564"
      },
      "source": [
        "sim_df = similarity_measure(list(set(ksic9['산업명']) - set(concordance['산업명'])), list(set(concordance.loc[concordance['산업명'].isna(), 'KSIC10_소분류'])), 30)"
      ],
      "execution_count": null,
      "outputs": [
        {
          "output_type": "stream",
          "name": "stdout",
          "text": [
            "1189\n",
            "|     |   Jaccard_sim | KSIC10                               | KSIC9                                  |\n",
            "|----:|--------------:|:-------------------------------------|:---------------------------------------|\n",
            "| 642 |      0.5625   | 비료, 농약 및 살균ㆍ살충제 제조업    | 살충제 및 기타농약제조업               |\n",
            "| 109 |      0.5625   | 일반 목적용 기계 제조업              | 사무용 이외의 일반기계 제조업          |\n",
            "| 588 |      0.5      | 항공기, 우주선 및 부품 제조업        | 항공기 제조업                          |\n",
            "| 400 |      0.5      | 선박 및 보트 건조업                  | 선박 제조업                            |\n",
            "| 619 |      0.454545 | 기타 화학제품 제조업                 | 항공기 제조업                          |\n",
            "| 743 |      0.428571 | 기타 화학제품 제조업                 | 살충제 및 기타농약제조업               |\n",
            "| 247 |      0.4      | 기타 화학제품 제조업                 | 비료 및 질소 화학물 제조업             |\n",
            "| 535 |      0.4      | 연금 및 공제업                       | 항공기 제조업                          |\n",
            "| 605 |      0.384615 | 일반 목적용 기계 제조업              | 항공기 제조업                          |\n",
            "| 146 |      0.368421 | 비료, 농약 및 살균ㆍ살충제 제조업    | 비료 및 질소 화학물 제조업             |\n",
            "| 580 |      0.363636 | 항공 화물 운송업                     | 항공기 제조업                          |\n",
            "| 579 |      0.363636 | 항공 여객 운송업                     | 항공기 제조업                          |\n",
            "| 495 |      0.363636 | 기타 화학제품 제조업                 | 선박 제조업                            |\n",
            "| 171 |      0.35     | 건물ㆍ산업설비 청소 및 방제 서비스업 | 비료 및 질소 화학물 제조업             |\n",
            "| 451 |      0.333333 | 기타 숙박업                          | 선박 제조업                            |\n",
            "| 464 |      0.333333 | 항공기, 우주선 및 부품 제조업        | 선박 제조업                            |\n",
            "| 637 |      0.333333 | 여행사 및 기타 여행 보조 서비스업    | 살충제 및 기타농약제조업               |\n",
            "| 712 |      0.315789 | 항공기, 우주선 및 부품 제조업        | 살충제 및 기타농약제조업               |\n",
            "| 160 |      0.3125   | 소화물 전문 운송업                   | 비료 및 질소 화학물 제조업             |\n",
            "| 481 |      0.307692 | 일반 목적용 기계 제조업              | 선박 제조업                            |\n",
            "| 663 |      0.307692 | 기타 금융업                          | 살충제 및 기타농약제조업               |\n",
            "| 699 |      0.307692 | 기타 숙박업                          | 살충제 및 기타농약제조업               |\n",
            "| 647 |      0.307692 | 기타 보건업                          | 살충제 및 기타농약제조업               |\n",
            "| 340 |      0.304348 | 항공기, 우주선 및 부품 제조업        | 잉크, 페인트 코팅제 및 유사제품 제조업 |\n",
            "| 551 |      0.3      | 전기 통신업                          | 항공기 제조업                          |\n",
            "| 539 |      0.3      | 기타 금융업                          | 항공기 제조업                          |\n",
            "| 523 |      0.3      | 기타 보건업                          | 항공기 제조업                          |\n",
            "| 568 |      0.3      | 공영 우편업                          | 항공기 제조업                          |\n",
            "| 411 |      0.3      | 연금 및 공제업                       | 선박 제조업                            |\n",
            "| 575 |      0.3      | 기타 숙박업                          | 항공기 제조업                          |\n"
          ]
        }
      ]
    },
    {
      "cell_type": "code",
      "metadata": {
        "colab": {
          "base_uri": "https://localhost:8080/"
        },
        "id": "py4KOMxkcKdF",
        "outputId": "4a3a4bf9-55ae-4237-a3d2-4d4855f2524d"
      },
      "source": [
        "concordance, sim_df = change_notation(sim_df, ['비료, 농약 및 살균ㆍ살충제 제조업', '항공기, 우주선 및 부품 제조업', '선박 및 보트 건조업', '일반 목적용 기계 제조업'], ksic9, concordance)"
      ],
      "execution_count": null,
      "outputs": [
        {
          "output_type": "stream",
          "name": "stdout",
          "text": [
            "{'비료, 농약 및 살균ㆍ살충제 제조업': '살충제 및 기타농약제조업',\n",
            " '선박 및 보트 건조업': '선박 제조업',\n",
            " '일반 목적용 기계 제조업': '사무용 이외의 일반기계 제조업',\n",
            " '항공기, 우주선 및 부품 제조업': '항공기 제조업'}\n"
          ]
        }
      ]
    },
    {
      "cell_type": "code",
      "metadata": {
        "colab": {
          "base_uri": "https://localhost:8080/"
        },
        "id": "avQ4oR9XY8Qt",
        "outputId": "3d85a14c-8e29-47e3-d1f0-8feb8ed261b4"
      },
      "source": [
        "concordance['산업명'].isna().sum()"
      ],
      "execution_count": null,
      "outputs": [
        {
          "output_type": "execute_result",
          "data": {
            "text/plain": [
              "1131"
            ]
          },
          "metadata": {},
          "execution_count": 258
        }
      ]
    },
    {
      "cell_type": "code",
      "metadata": {
        "colab": {
          "base_uri": "https://localhost:8080/"
        },
        "id": "Z3ODwZq5ZAMl",
        "outputId": "0dabd144-5e3b-4284-8547-1aba88a83111"
      },
      "source": [
        "sim_df = similarity_measure(list(set(ksic9['산업명']) - set(concordance['산업명'])), list(set(concordance.loc[concordance['산업명'].isna(), 'KSIC10_소분류'])), 50)"
      ],
      "execution_count": null,
      "outputs": [
        {
          "output_type": "stream",
          "name": "stdout",
          "text": [
            "1131\n",
            "|     |   Jaccard_sim | KSIC10                                       | KSIC9                                  |\n",
            "|----:|--------------:|:---------------------------------------------|:---------------------------------------|\n",
            "| 119 |      0.4      | 기타 화학제품 제조업                         | 비료 및 질소 화학물 제조업             |\n",
            "|  45 |      0.35     | 건물ㆍ산업설비 청소 및 방제 서비스업         | 비료 및 질소 화학물 제조업             |\n",
            "|  34 |      0.3125   | 소화물 전문 운송업                           | 비료 및 질소 화학물 제조업             |\n",
            "|  97 |      0.285714 | 가전제품 및 정보 통신장비 소매업             | 비료 및 질소 화학물 제조업             |\n",
            "|   1 |      0.285714 | 연료 소매업                                  | 비료 및 질소 화학물 제조업             |\n",
            "| 102 |      0.285714 | 음료 소매업                                  | 비료 및 질소 화학물 제조업             |\n",
            "|   5 |      0.28     | 영화, 비디오물, 방송 프로그램 제작 및 배급업 | 비료 및 질소 화학물 제조업             |\n",
            "| 177 |      0.28     | 섬유, 의복, 신발 및 가죽제품 소매업          | 잉크, 페인트 코팅제 및 유사제품 제조업 |\n",
            "|  94 |      0.277778 | 주점 및 비알코올 음료점업                    | 비료 및 질소 화학물 제조업             |\n",
            "|  37 |      0.266667 | 연금 및 공제업                               | 비료 및 질소 화학물 제조업             |\n",
            "|  86 |      0.263158 | 조경관리 및 유지 서비스업                    | 비료 및 질소 화학물 제조업             |\n",
            "|  33 |      0.263158 | 음ㆍ식료품 및 담배 소매업                    | 비료 및 질소 화학물 제조업             |\n",
            "| 145 |      0.26087  | 미용, 욕탕 및 유사 서비스업                  | 잉크, 페인트 코팅제 및 유사제품 제조업 |\n",
            "| 111 |      0.25     | 도로 화물 운송업                             | 비료 및 질소 화학물 제조업             |\n",
            "| 126 |      0.25     | 시장 조사 및 여론 조사업                     | 잉크, 페인트 코팅제 및 유사제품 제조업 |\n",
            "|  54 |      0.25     | 기계장비 및 관련 물품 도매업                 | 비료 및 질소 화학물 제조업             |\n",
            "|  82 |      0.25     | 항공 화물 운송업                             | 비료 및 질소 화학물 제조업             |\n",
            "| 239 |      0.25     | 기타 화학제품 제조업                         | 잉크, 페인트 코팅제 및 유사제품 제조업 |\n",
            "|  17 |      0.25     | 여행사 및 기타 여행 보조 서비스업            | 비료 및 질소 화학물 제조업             |\n",
            "|  50 |      0.238095 | 문화, 오락 및 여가 용품 소매업               | 비료 및 질소 화학물 제조업             |\n",
            "|  76 |      0.235294 | 경비, 경호 및 탐정업                         | 비료 및 질소 화학물 제조업             |\n",
            "|   6 |      0.235294 | 시장 조사 및 여론 조사업                     | 비료 및 질소 화학물 제조업             |\n",
            "| 147 |      0.230769 | 도서관, 사적지 및 유사 여가관련 서비스업     | 잉크, 페인트 코팅제 및 유사제품 제조업 |\n",
            "| 155 |      0.227273 | 개인 및 가정용품 수리업                      | 잉크, 페인트 코팅제 및 유사제품 제조업 |\n",
            "| 148 |      0.227273 | 개인 및 가정용품 임대업                      | 잉크, 페인트 코팅제 및 유사제품 제조업 |\n",
            "| 106 |      0.222222 | 기타 과학기술 서비스업                       | 비료 및 질소 화학물 제조업             |\n",
            "|  23 |      0.217391 | 그 외 기타 전문, 과학 및 기술 서비스업       | 비료 및 질소 화학물 제조업             |\n",
            "| 199 |      0.217391 | 모터사이클 및 부품 판매업                    | 잉크, 페인트 코팅제 및 유사제품 제조업 |\n",
            "| 206 |      0.217391 | 조경관리 및 유지 서비스업                    | 잉크, 페인트 코팅제 및 유사제품 제조업 |\n",
            "|  57 |      0.217391 | 섬유, 의복, 신발 및 가죽제품 소매업          | 비료 및 질소 화학물 제조업             |\n",
            "| 101 |      0.210526 | 산업용 기계 및 장비 임대업                   | 비료 및 질소 화학물 제조업             |\n",
            "|  20 |      0.210526 | 오디오물 출판 및 원판 녹음업                 | 비료 및 질소 화학물 제조업             |\n",
            "|  49 |      0.210526 | 자연과학 및 공학 연구개발업                  | 비료 및 질소 화학물 제조업             |\n",
            "| 157 |      0.210526 | 연금 및 공제업                               | 잉크, 페인트 코팅제 및 유사제품 제조업 |\n",
            "|  67 |      0.210526 | 산업용 기계 및 장비 수리업                   | 비료 및 질소 화학물 제조업             |\n",
            "| 137 |      0.208333 | 여행사 및 기타 여행 보조 서비스업            | 잉크, 페인트 코팅제 및 유사제품 제조업 |\n",
            "| 218 |      0.208333 | 인문 및 사회과학 연구개발업                  | 잉크, 페인트 코팅제 및 유사제품 제조업 |\n",
            "| 118 |      0.2      | 창작 및 예술관련 서비스업                    | 비료 및 질소 화학물 제조업             |\n",
            "|  10 |      0.2      | 음ㆍ식료품 및 담배 도매업                    | 비료 및 질소 화학물 제조업             |\n",
            "|  11 |      0.2      | 회계 및 세무관련 서비스업                    | 비료 및 질소 화학물 제조업             |\n",
            "|  48 |      0.2      | 종합 소매업                                  | 비료 및 질소 화학물 제조업             |\n",
            "|  18 |      0.2      | 컴퓨터 및 통신장비 수리업                    | 비료 및 질소 화학물 제조업             |\n",
            "| 170 |      0.2      | 문화, 오락 및 여가 용품 소매업               | 잉크, 페인트 코팅제 및 유사제품 제조업 |\n",
            "|  31 |      0.2      | 보험 및 연금관련 서비스업                    | 비료 및 질소 화학물 제조업             |\n",
            "| 235 |      0.192308 | 회사본부 및 경영 컨설팅 서비스업             | 잉크, 페인트 코팅제 및 유사제품 제조업 |\n",
            "| 123 |      0.192308 | 서적, 잡지 및 기타 인쇄물 출판업             | 잉크, 페인트 코팅제 및 유사제품 제조업 |\n",
            "| 217 |      0.192308 | 가전제품 및 정보 통신장비 소매업             | 잉크, 페인트 코팅제 및 유사제품 제조업 |\n",
            "| 196 |      0.190476 | 경비, 경호 및 탐정업                         | 잉크, 페인트 코팅제 및 유사제품 제조업 |\n",
            "| 227 |      0.190476 | 사회 및 산업정책 행정                        | 잉크, 페인트 코팅제 및 유사제품 제조업 |\n",
            "|  25 |      0.190476 | 미용, 욕탕 및 유사 서비스업                  | 비료 및 질소 화학물 제조업             |\n"
          ]
        }
      ]
    },
    {
      "cell_type": "code",
      "metadata": {
        "colab": {
          "base_uri": "https://localhost:8080/"
        },
        "id": "UpmsHNtkeuc0",
        "outputId": "92d64dfe-3288-4d7e-c882-a4c7d8c23fb1"
      },
      "source": [
        "set(concordance.loc[concordance['산업명'].isna(), 'KSIC10_소분류'])"
      ],
      "execution_count": null,
      "outputs": [
        {
          "output_type": "execute_result",
          "data": {
            "text/plain": [
              "{'가구 내 고용활동',\n",
              " '가전제품 및 정보 통신장비 소매업',\n",
              " '개인 및 가정용품 수리업',\n",
              " '개인 및 가정용품 임대업',\n",
              " '거주 복지시설 운영업',\n",
              " '건물ㆍ산업설비 청소 및 방제 서비스업',\n",
              " '건축 기술, 엔지니어링 및 관련 기술 서비스업',\n",
              " '건축 자재, 철물 및 난방장치 도매업',\n",
              " '경비, 경호 및 탐정업',\n",
              " '고등 교육기관',\n",
              " '고용 알선 및 인력 공급업',\n",
              " '공영 우편업',\n",
              " '공중 보건 의료업',\n",
              " '광고업',\n",
              " '교육 지원 서비스업',\n",
              " '국제 및 외국기관',\n",
              " '그 외 기타 개인 서비스업',\n",
              " '그 외 기타 전문, 과학 및 기술 서비스업',\n",
              " '금융 지원 서비스업',\n",
              " '기계장비 및 관련 물품 도매업',\n",
              " '기타 과학기술 서비스업',\n",
              " '기타 교육기관',\n",
              " '기타 금융업',\n",
              " '기타 보건업',\n",
              " '기타 사업 지원 서비스업',\n",
              " '기타 사업지원 서비스업',\n",
              " '기타 상품 전문 소매업',\n",
              " '기타 생활용품 소매업',\n",
              " '기타 숙박업',\n",
              " '기타 운송관련 서비스업',\n",
              " '기타 전문 도매업',\n",
              " '기타 전문 서비스업',\n",
              " '기타 정보 서비스업',\n",
              " '기타 협회 및 단체',\n",
              " '기타 화학제품 제조업',\n",
              " '내륙 수상 및 항만 내 운송업',\n",
              " '노동조합',\n",
              " '도로 화물 운송업',\n",
              " '도서관, 사적지 및 유사 여가관련 서비스업',\n",
              " '라디오 방송업',\n",
              " '모터사이클 및 부품 판매업',\n",
              " '무점포 소매업',\n",
              " '무형 재산권 임대업',\n",
              " '문화, 오락 및 여가 용품 소매업',\n",
              " '미용, 욕탕 및 유사 서비스업',\n",
              " '법무관련 서비스업',\n",
              " '병원',\n",
              " '보관 및 창고업',\n",
              " '보험 및 연금관련 서비스업',\n",
              " '보험업',\n",
              " '부동산 임대 및 공급업',\n",
              " '부동산관련 서비스업',\n",
              " '비거주 복지시설 운영업',\n",
              " '사법 및 공공 질서 행정',\n",
              " '사업시설 유지ㆍ관리 서비스업',\n",
              " '사진 촬영 및 처리업',\n",
              " '사회 및 산업정책 행정',\n",
              " '사회보장 행정',\n",
              " '산업 및 전문가 단체',\n",
              " '산업용 기계 및 장비 수리업',\n",
              " '산업용 기계 및 장비 임대업',\n",
              " '산업용 농ㆍ축산물 및 동ㆍ식물 도매업',\n",
              " '상품 종합 도매업',\n",
              " '상품 중개업',\n",
              " '생활용품 도매업',\n",
              " '서적, 잡지 및 기타 인쇄물 출판업',\n",
              " '섬유, 의복, 신발 및 가죽제품 소매업',\n",
              " '소화물 전문 운송업',\n",
              " '수도업',\n",
              " '수의업',\n",
              " '스포츠 서비스업',\n",
              " '시장 조사 및 여론 조사업',\n",
              " '신탁업 및 집합 투자업',\n",
              " '어로 어업',\n",
              " '여행사 및 기타 여행 보조 서비스업',\n",
              " '연금 및 공제업',\n",
              " '연료 소매업',\n",
              " '영화, 비디오물, 방송 프로그램 제작 및 배급업',\n",
              " '오디오물 출판 및 원판 녹음업',\n",
              " '외무 및 국방 행정',\n",
              " '운송장비 임대업',\n",
              " '유원지 및 기타 오락관련 서비스업',\n",
              " '육상 여객 운송업',\n",
              " '은행 및 저축기관',\n",
              " '음ㆍ식료품 및 담배 도매업',\n",
              " '음ㆍ식료품 및 담배 소매업',\n",
              " '음료 소매업',\n",
              " '음식점업',\n",
              " '의원',\n",
              " '인문 및 사회과학 연구개발업',\n",
              " '일반 교습학원',\n",
              " '일반 및 생활 숙박시설 운영업',\n",
              " '입법 및 일반 정부 행정',\n",
              " '자가 소비를 위한 가사 생산 활동',\n",
              " '자가 소비를 위한 가사 서비스 활동',\n",
              " '자동차 및 모터사이클 수리업',\n",
              " '자동차 부품 및 내장품 판매업',\n",
              " '자동차 판매업',\n",
              " '자료 처리, 호스팅, 포털 및 기타 인터넷 정보 매개 서비스업',\n",
              " '자연과학 및 공학 연구개발업',\n",
              " '재보험업',\n",
              " '전기 통신업',\n",
              " '전문 디자인업',\n",
              " '조경관리 및 유지 서비스업',\n",
              " '종합 소매업',\n",
              " '주점 및 비알코올 음료점업',\n",
              " '중등 교육기관',\n",
              " '창작 및 예술관련 서비스업',\n",
              " '철도 운송업',\n",
              " '초등 교육기관',\n",
              " '컴퓨터 및 통신장비 수리업',\n",
              " '컴퓨터 프로그래밍, 시스템 통합 및 관리업',\n",
              " '텔레비전 방송업',\n",
              " '특수학교, 외국인학교 및 대안학교',\n",
              " '파이프라인 운송업',\n",
              " '항공 여객 운송업',\n",
              " '항공 화물 운송업',\n",
              " '해상 운송업',\n",
              " '회계 및 세무관련 서비스업',\n",
              " '회사본부 및 경영 컨설팅 서비스업'}"
            ]
          },
          "metadata": {},
          "execution_count": 260
        }
      ]
    },
    {
      "cell_type": "code",
      "metadata": {
        "id": "dvOtrqmMnOea"
      },
      "source": [
        ""
      ],
      "execution_count": null,
      "outputs": []
    },
    {
      "cell_type": "code",
      "metadata": {
        "colab": {
          "base_uri": "https://localhost:8080/"
        },
        "id": "q9mr2RMMncyk",
        "outputId": "75fbf29a-b3ec-47ae-e926-c0aaf180cc92"
      },
      "source": [
        "sim_df = similarity_measure(list(set(ksic9['산업명'])), list(set(concordance.loc[concordance['산업명'].isna(), 'KSIC10_소분류'])), 50)"
      ],
      "execution_count": null,
      "outputs": [
        {
          "output_type": "stream",
          "name": "stdout",
          "text": [
            "1131\n",
            "|      |   Jaccard_sim | KSIC10                                      | KSIC9                                  |\n",
            "|-----:|--------------:|:--------------------------------------------|:---------------------------------------|\n",
            "| 3599 |      0.818182 | 기타 화학제품 제조업                        | 그 외 기타 화학제품 제조업             |\n",
            "| 4439 |      0.777778 | 기타 화학제품 제조업                        | 기타제품 제조업                        |\n",
            "| 4454 |      0.666667 | 광고업                                      | 광업                                   |\n",
            "| 3839 |      0.583333 | 기타 화학제품 제조업                        | 기초 화학물질제조업                    |\n",
            "| 4024 |      0.555556 | 자동차 판매업                               | 자동차 제조업                          |\n",
            "| 4319 |      0.545455 | 기타 화학제품 제조업                        | 화학섬유 제조업                        |\n",
            "| 3719 |      0.538462 | 기타 화학제품 제조업                        | 기타 금속가공 제품 제조업              |\n",
            "| 3941 |      0.533333 | 산업용 기계 및 장비 임대업                  | 사무용 기계 및 장비 제조업             |\n",
            "| 3907 |      0.533333 | 산업용 기계 및 장비 수리업                  | 사무용 기계 및 장비 제조업             |\n",
            "|  891 |      0.526316 | 건축 기술, 엔지니어링 및 관련 기술 서비스업 | 건설업, 건축기술 서비스                |\n",
            "| 2564 |      0.521739 | 컴퓨터 프로그래밍, 시스템 통합 및 관리업    | 컴퓨터 프로그래밍, 정보서비스업        |\n",
            "| 6119 |      0.5      | 기타 화학제품 제조업                        | 기타 전기장비 제조업                   |\n",
            "|  946 |      0.5      | 기타 과학기술 서비스업                      | 건설업, 건축기술 서비스                |\n",
            "|   57 |      0.5      | 섬유, 의복, 신발 및 가죽제품 소매업         | 가죽, 가방 및 신발제조업               |\n",
            "| 3199 |      0.5      | 모터사이클 및 부품 판매업                   | 모터사이클 제조업                      |\n",
            "| 6024 |      0.5      | 기타 전문 서비스업                          | 기타 전기장비 제조업                   |\n",
            "| 3219 |      0.466667 | 자동차 및 모터사이클 수리업                 | 모터사이클 제조업                      |\n",
            "| 5519 |      0.454545 | 기타 화학제품 제조업                        | 항공기 제조업                          |\n",
            "| 2039 |      0.454545 | 기타 화학제품 제조업                        | 식료품 제조업                          |\n",
            "| 4346 |      0.444444 | 기타 보건업                                 | 기타제품 제조업                        |\n",
            "| 4361 |      0.444444 | 기타 금융업                                 | 기타제품 제조업                        |\n",
            "| 4397 |      0.444444 | 기타 숙박업                                 | 기타제품 제조업                        |\n",
            "|  217 |      0.444444 | 가전제품 및 정보 통신장비 소매업            | 통신 및 방송 장비 제조업               |\n",
            "|  138 |      0.4375   | 컴퓨터 및 통신장비 수리업                   | 통신 및 방송 장비 제조업               |\n",
            "|  927 |      0.428571 | 기타 정보 서비스업                          | 건설업, 건축기술 서비스                |\n",
            "|  864 |      0.428571 | 기타 전문 서비스업                          | 건설업, 건축기술 서비스                |\n",
            "| 5159 |      0.428571 | 기타 화학제품 제조업                        | 살충제 및 기타농약제조업               |\n",
            "|  417 |      0.421053 | 섬유, 의복, 신발 및 가죽제품 소매업         | 섬유제품 제조업 :의복제외              |\n",
            "|  863 |      0.421053 | 그 외 기타 전문, 과학 및 기술 서비스업      | 건설업, 건축기술 서비스                |\n",
            "| 3641 |      0.416667 | 기타 금융업                                 | 기타 금속가공 제품 제조업              |\n",
            "| 4320 |      0.416667 | 기타 생활용품 소매업                        | 기타제품 제조업                        |\n",
            "| 4395 |      0.416667 | 기타 상품 전문 소매업                       | 기타제품 제조업                        |\n",
            "| 1439 |      0.416667 | 기타 화학제품 제조업                        | 의료용 기기 제조업                     |\n",
            "| 1679 |      0.416667 | 기타 화학제품 제조업                        | 가정용 기기 제조업                     |\n",
            "| 2399 |      0.416667 | 기타 화학제품 제조업                        | 특수 기계제조업                        |\n",
            "| 2159 |      0.416667 | 기타 화학제품 제조업                        | 전자부품 제조업                        |\n",
            "| 6042 |      0.416667 | 기타 전문 도매업                            | 기타 전기장비 제조업                   |\n",
            "| 6858 |      0.411765 | 컴퓨터 및 통신장비 수리업                   | 컴퓨터 및 주변장치 제조업              |\n",
            "|  913 |      0.4      | 기타 사업 지원 서비스업                     | 건설업, 건축기술 서비스                |\n",
            "| 5437 |      0.4      | 연금 및 공제업                              | 항공기 제조업                          |\n",
            "| 3846 |      0.4      | 시장 조사 및 여론 조사업                    | 사무용 기계 및 장비 제조업             |\n",
            "| 6839 |      0.4      | 기타 화학제품 제조업                        | 세제, 화장품 및 광택제 제조업          |\n",
            "|  903 |      0.4      | 기타 사업지원 서비스업                      | 건설업, 건축기술 서비스                |\n",
            "| 3095 |      0.4      | 철도 운송업                                 | 철도장비 제조업                        |\n",
            "| 2519 |      0.4      | 기타 화학제품 제조업                        | 비료 및 질소 화학물 제조업             |\n",
            "| 7199 |      0.388889 | 기타 화학제품 제조업                        | 안경, 사진장비 및 기타 광학기기 제조업 |\n",
            "| 3894 |      0.388889 | 기계장비 및 관련 물품 도매업                | 사무용 기계 및 장비 제조업             |\n",
            "| 2607 |      0.388889 | 기타 정보 서비스업                          | 컴퓨터 프로그래밍, 정보서비스업        |\n",
            "| 3857 |      0.388889 | 여행사 및 기타 여행 보조 서비스업           | 사무용 기계 및 장비 제조업             |\n",
            "|  950 |      0.384615 | 스포츠 서비스업                             | 건설업, 건축기술 서비스                |\n"
          ]
        }
      ]
    },
    {
      "cell_type": "code",
      "metadata": {
        "id": "o0jtDltno9sM"
      },
      "source": [
        "concordance2 = concordance.copy()\n",
        "sim_df2 = sim_df.copy()"
      ],
      "execution_count": null,
      "outputs": []
    },
    {
      "cell_type": "code",
      "metadata": {
        "colab": {
          "base_uri": "https://localhost:8080/"
        },
        "id": "97tRH3WTn86I",
        "outputId": "16725bb1-f330-48ba-f50b-0521ecccc5dc"
      },
      "source": [
        "concordance, sim_df = change_notation(sim_df, ['기타 화학제품 제조업', '건축 기술, 엔지니어링 및 관련 기술 서비스업', '컴퓨터 프로그래밍, 시스템 통합 및 관리업'], ksic9, concordance)"
      ],
      "execution_count": null,
      "outputs": [
        {
          "output_type": "stream",
          "name": "stdout",
          "text": [
            "{'건축 기술, 엔지니어링 및 관련 기술 서비스업': '건설업, 건축기술 서비스',\n",
            " '기타 화학제품 제조업': '그 외 기타 화학제품 제조업',\n",
            " '컴퓨터 프로그래밍, 시스템 통합 및 관리업': '컴퓨터 프로그래밍, 정보서비스업'}\n"
          ]
        }
      ]
    },
    {
      "cell_type": "code",
      "metadata": {
        "colab": {
          "base_uri": "https://localhost:8080/"
        },
        "id": "eygc9H0lNrRR",
        "outputId": "7b026c47-87fd-48e2-c33d-460ca30c59d3"
      },
      "source": [
        "concordance['산업명'].isna().sum()"
      ],
      "execution_count": null,
      "outputs": [
        {
          "output_type": "execute_result",
          "data": {
            "text/plain": [
              "1115"
            ]
          },
          "metadata": {},
          "execution_count": 264
        }
      ]
    },
    {
      "cell_type": "code",
      "metadata": {
        "colab": {
          "base_uri": "https://localhost:8080/"
        },
        "id": "7l1P1EDWRamg",
        "outputId": "0c0449ca-a4ef-4c17-e790-0016ddd2964f"
      },
      "source": [
        "exclude = ['광고업', '판매업', '서비스업', '도매업', '수리업', '소매업', '임대업']\n",
        "print(set(concordance.loc[(concordance['산업명'].isna()) & ~(concordance['KSIC10_소분류'].str.contains('|'.join(exclude))), 'KSIC10_소분류']))\n",
        "print(concordance.loc[(concordance['산업명'].isna()) & ~(concordance['KSIC10_소분류'].str.contains('|'.join(exclude))), 'KSIC10_소분류'].value_counts()[:30])"
      ],
      "execution_count": null,
      "outputs": [
        {
          "output_type": "stream",
          "name": "stdout",
          "text": [
            "{'육상 여객 운송업', '라디오 방송업', '주점 및 비알코올 음료점업', '철도 운송업', '연금 및 공제업', '수의업', '전문 디자인업', '기타 협회 및 단체', '국제 및 외국기관', '인문 및 사회과학 연구개발업', '보관 및 창고업', '서적, 잡지 및 기타 인쇄물 출판업', '사법 및 공공 질서 행정', '부동산 임대 및 공급업', '영화, 비디오물, 방송 프로그램 제작 및 배급업', '시장 조사 및 여론 조사업', '산업 및 전문가 단체', '음식점업', '고용 알선 및 인력 공급업', '노동조합', '자가 소비를 위한 가사 생산 활동', '사회보장 행정', '기타 금융업', '외무 및 국방 행정', '공영 우편업', '은행 및 저축기관', '고등 교육기관', '파이프라인 운송업', '신탁업 및 집합 투자업', '기타 숙박업', '경비, 경호 및 탐정업', '사회 및 산업정책 행정', '내륙 수상 및 항만 내 운송업', '병원', '거주 복지시설 운영업', '해상 운송업', '오디오물 출판 및 원판 녹음업', '가구 내 고용활동', '자연과학 및 공학 연구개발업', '어로 어업', '항공 화물 운송업', '항공 여객 운송업', '전기 통신업', '텔레비전 방송업', '기타 보건업', '특수학교, 외국인학교 및 대안학교', '일반 교습학원', '도로 화물 운송업', '입법 및 일반 정부 행정', '초등 교육기관', '사진 촬영 및 처리업', '공중 보건 의료업', '중등 교육기관', '자가 소비를 위한 가사 서비스 활동', '수도업', '상품 중개업', '의원', '일반 및 생활 숙박시설 운영업', '재보험업', '기타 교육기관', '비거주 복지시설 운영업', '보험업', '소화물 전문 운송업'}\n",
            "상품 중개업                        59\n",
            "기타 교육기관                       39\n",
            "부동산 임대 및 공급업                  28\n",
            "일반 교습학원                       28\n",
            "음식점업                          26\n",
            "육상 여객 운송업                     17\n",
            "의원                            14\n",
            "기타 협회 및 단체                    14\n",
            "주점 및 비알코올 음료점업                13\n",
            "도로 화물 운송업                     13\n",
            "사회 및 산업정책 행정                  10\n",
            "기타 금융업                        10\n",
            "일반 및 생활 숙박시설 운영업               9\n",
            "영화, 비디오물, 방송 프로그램 제작 및 배급업     9\n",
            "기타 보건업                         8\n",
            "자연과학 및 공학 연구개발업                8\n",
            "비거주 복지시설 운영업                   7\n",
            "보험업                            7\n",
            "서적, 잡지 및 기타 인쇄물 출판업            7\n",
            "거주 복지시설 운영업                    6\n",
            "입법 및 일반 정부 행정                  6\n",
            "은행 및 저축기관                      6\n",
            "사법 및 공공 질서 행정                  6\n",
            "중등 교육기관                        5\n",
            "보관 및 창고업                       5\n",
            "전기 통신업                         5\n",
            "소화물 전문 운송업                     5\n",
            "고용 알선 및 인력 공급업                 5\n",
            "해상 운송업                         5\n",
            "사진 촬영 및 처리업                    5\n",
            "Name: KSIC10_소분류, dtype: int64\n"
          ]
        }
      ]
    },
    {
      "cell_type": "code",
      "metadata": {
        "colab": {
          "base_uri": "https://localhost:8080/"
        },
        "id": "3GV6iqjkTUhJ",
        "outputId": "7807c5f9-6857-4571-8f45-807a3ba53db9"
      },
      "source": [
        "print(concordance.loc[(concordance['산업명'].isna()) & (concordance['KSIC10_소분류'].str.contains('|'.join(exclude))), 'KSIC10_소분류'].value_counts()[:30])"
      ],
      "execution_count": null,
      "outputs": [
        {
          "output_type": "stream",
          "name": "stdout",
          "text": [
            "생활용품 도매업                   57\n",
            "기타 상품 전문 소매업               50\n",
            "음ㆍ식료품 및 담배 도매업             45\n",
            "기타 전문 도매업                  38\n",
            "기타 생활용품 소매업                33\n",
            "기타 운송관련 서비스업               25\n",
            "기계장비 및 관련 물품 도매업           24\n",
            "스포츠 서비스업                   23\n",
            "산업용 농ㆍ축산물 및 동ㆍ식물 도매업       22\n",
            "섬유, 의복, 신발 및 가죽제품 소매업      22\n",
            "그 외 기타 개인 서비스업             21\n",
            "기타 사업 지원 서비스업              21\n",
            "유원지 및 기타 오락관련 서비스업         19\n",
            "창작 및 예술관련 서비스업             17\n",
            "자동차 판매업                    15\n",
            "음ㆍ식료품 및 담배 소매업             15\n",
            "건축 자재, 철물 및 난방장치 도매업       15\n",
            "무점포 소매업                    13\n",
            "문화, 오락 및 여가 용품 소매업         12\n",
            "자동차 부품 및 내장품 판매업           11\n",
            "종합 소매업                      9\n",
            "금융 지원 서비스업                  9\n",
            "미용, 욕탕 및 유사 서비스업            9\n",
            "법무관련 서비스업                   8\n",
            "가전제품 및 정보 통신장비 소매업          8\n",
            "산업용 기계 및 장비 임대업             8\n",
            "그 외 기타 전문, 과학 및 기술 서비스업     7\n",
            "연료 소매업                      7\n",
            "기타 과학기술 서비스업                7\n",
            "도서관, 사적지 및 유사 여가관련 서비스업     7\n",
            "Name: KSIC10_소분류, dtype: int64\n"
          ]
        }
      ]
    },
    {
      "cell_type": "code",
      "metadata": {
        "colab": {
          "base_uri": "https://localhost:8080/"
        },
        "id": "3tZgZGd4uHM4",
        "outputId": "e468cb7a-709d-48fe-e964-cb41fdab3c53"
      },
      "source": [
        "concordance['KSIC10_소분류'].nunique()"
      ],
      "execution_count": null,
      "outputs": [
        {
          "output_type": "execute_result",
          "data": {
            "text/plain": [
              "234"
            ]
          },
          "metadata": {},
          "execution_count": 283
        }
      ]
    },
    {
      "cell_type": "code",
      "metadata": {
        "colab": {
          "base_uri": "https://localhost:8080/"
        },
        "id": "2DdCKXyBt5mw",
        "outputId": "36d0f195-7541-4030-de5d-4895148bece0"
      },
      "source": [
        "concordance.loc[(concordance['산업명'].isna()), 'KSIC10_소분류'].nunique()"
      ],
      "execution_count": null,
      "outputs": [
        {
          "output_type": "execute_result",
          "data": {
            "text/plain": [
              "117"
            ]
          },
          "metadata": {},
          "execution_count": 282
        }
      ]
    },
    {
      "cell_type": "code",
      "metadata": {
        "colab": {
          "base_uri": "https://localhost:8080/"
        },
        "id": "ZvLO5wAjtcdR",
        "outputId": "364b107d-b2a1-4eb4-de4d-572d6c8f418b"
      },
      "source": [
        "concordance.isna().sum()"
      ],
      "execution_count": null,
      "outputs": [
        {
          "output_type": "execute_result",
          "data": {
            "text/plain": [
              "일련번호                    4\n",
              "2018년 귀속(현행)업종코드       73\n",
              "2019년 귀속(개편후)업종코드       4\n",
              "국세청_대분류코드               4\n",
              "국세청_대분류                 4\n",
              "국세청_중분류코드               4\n",
              "국세청_중분류                 4\n",
              "국세청_소분류코드               4\n",
              "국세청_소분류                 4\n",
              "국세청_세분류코드               4\n",
              "국세청_세분류                 4\n",
              "국세청_세세분류                4\n",
              "국세청_연계                  4\n",
              "KSIC10_코드               0\n",
              "KSIC10_대분류코드            0\n",
              "KSIC10_대분류              0\n",
              "KSIC10_중분류코드            0\n",
              "KSIC10_중분류              0\n",
              "KSIC10_소분류코드            0\n",
              "KSIC10_소분류              0\n",
              "KSIC10_세분류코드            0\n",
              "KSIC10_세분류              0\n",
              "KSIC10_세세분류             0\n",
              "KSIC10_연계               0\n",
              "메인                   1598\n",
              "세부설명                 1296\n",
              "KSIC10_항목명             22\n",
              "KSIC9_코드                0\n",
              "KSIC9_항목명               0\n",
              "KSIC_CODE               0\n",
              "산업명                  1115\n",
              "dtype: int64"
            ]
          },
          "metadata": {},
          "execution_count": 280
        }
      ]
    },
    {
      "cell_type": "markdown",
      "metadata": {
        "id": "Us6qOCZbyrDo"
      },
      "source": [
        "## 나머지"
      ]
    },
    {
      "cell_type": "code",
      "metadata": {
        "colab": {
          "base_uri": "https://localhost:8080/"
        },
        "id": "4U5UMl4RoyEI",
        "outputId": "d8be2ab5-a1a2-4e49-e2a9-f72ee6d58cf1"
      },
      "source": [
        "set(queries.keys()) - set(concordance['산업명'].unique())"
      ],
      "execution_count": null,
      "outputs": [
        {
          "output_type": "execute_result",
          "data": {
            "text/plain": [
              "{'잉크, 페인트 코팅제 및 유사제품 제조업'}"
            ]
          },
          "metadata": {},
          "execution_count": 296
        }
      ]
    },
    {
      "cell_type": "code",
      "metadata": {
        "id": "APW7tnuwypSb"
      },
      "source": [
        "concordance.loc[(concordance['KSIC10_세세분류'].str.contains('비료|질소')) & (concordance['KSIC10_소분류'] == '비료, 농약 및 살균ㆍ살충제 제조업'), '산업명'] = '비료 및 질소 화학물 제조업'"
      ],
      "execution_count": null,
      "outputs": []
    },
    {
      "cell_type": "code",
      "metadata": {
        "id": "5Fd9APw5yzWQ"
      },
      "source": [
        "concordance.loc[(concordance['KSIC10_세세분류'].str.contains('살충제|농약')) & (concordance['KSIC10_소분류'] == '비료, 농약 및 살균ㆍ살충제 제조업'), '산업명'] = '살충제 및 기타농약제조업'"
      ],
      "execution_count": null,
      "outputs": []
    },
    {
      "cell_type": "code",
      "metadata": {
        "colab": {
          "base_uri": "https://localhost:8080/"
        },
        "id": "La7P8HVr0UQY",
        "outputId": "45ba378f-7765-443e-8755-819a6d44530b"
      },
      "source": [
        "concordance.loc[(concordance['KSIC10_세세분류'].str.contains('잉크|페인트|코팅제')) & (concordance['KSIC10_소분류'] == '기타 화학제품 제조업'), '산업명']"
      ],
      "execution_count": null,
      "outputs": [
        {
          "output_type": "execute_result",
          "data": {
            "text/plain": [
              "339    그 외 기타 화학제품 제조업\n",
              "340    그 외 기타 화학제품 제조업\n",
              "341    그 외 기타 화학제품 제조업\n",
              "342    그 외 기타 화학제품 제조업\n",
              "Name: 산업명, dtype: object"
            ]
          },
          "metadata": {},
          "execution_count": 299
        }
      ]
    },
    {
      "cell_type": "code",
      "metadata": {
        "id": "_7bsU93X06xU"
      },
      "source": [
        "concordance.loc[(concordance['KSIC10_세세분류'].str.contains('잉크|페인트|코팅제')) & (concordance['KSIC10_소분류'] == '기타 화학제품 제조업'), '산업명'] = '잉크, 페인트 코팅제 및 유사제품 제조업'"
      ],
      "execution_count": null,
      "outputs": []
    },
    {
      "cell_type": "code",
      "metadata": {
        "id": "-0wJtWVk1tjF"
      },
      "source": [
        "from datetime import datetime"
      ],
      "execution_count": null,
      "outputs": []
    },
    {
      "cell_type": "code",
      "metadata": {
        "id": "OTdO3Oi-1jt_"
      },
      "source": [
        "concordance.to_csv('국세청업종코드-KSIC10-KSIC9_final_{}.csv'.format(datetime.today().strftime(\"%m%d\")))"
      ],
      "execution_count": null,
      "outputs": []
    },
    {
      "cell_type": "code",
      "metadata": {
        "id": "hx9C2cR32T36"
      },
      "source": [
        ""
      ],
      "execution_count": null,
      "outputs": []
    },
    {
      "cell_type": "markdown",
      "metadata": {
        "id": "639pEmmZtazD"
      },
      "source": [
        "# 최종 확인 및 테이블 생성\n",
        "- 국세청-KSIC10-KSIC9-IPC를 연계한 테이블을 생성함."
      ]
    },
    {
      "cell_type": "code",
      "metadata": {
        "id": "U5UWo-7ytpkA"
      },
      "source": [
        "import pandas as pd"
      ],
      "execution_count": 1,
      "outputs": []
    },
    {
      "cell_type": "code",
      "metadata": {
        "id": "YVEG6pfNtrRi"
      },
      "source": [
        "concordance = pd.read_csv('국세청업종코드-KSIC10-KSIC9_final_0901.csv')"
      ],
      "execution_count": 67,
      "outputs": []
    },
    {
      "cell_type": "code",
      "metadata": {
        "colab": {
          "base_uri": "https://localhost:8080/"
        },
        "id": "0F-CrRf_vd9V",
        "outputId": "056fe7dc-3988-45c3-f1ce-eeb0edf39644"
      },
      "source": [
        "concordance[concordance['산업명'].isna()].value_counts('KSIC10_대분류')"
      ],
      "execution_count": 52,
      "outputs": [
        {
          "output_type": "execute_result",
          "data": {
            "text/plain": [
              "KSIC10_대분류\n",
              "도매 및 소매업                           466\n",
              "교육 서비스업                             83\n",
              "운수 및 창고업                            81\n",
              "예술, 스포츠 및 여가관련 서비스업                 66\n",
              "전문, 과학 및 기술 서비스업                    61\n",
              "협회 및 단체, 수리 및 기타 개인 서비스업            60\n",
              "사업시설 관리, 사업 지원 및 임대 서비스업            58\n",
              "숙박 및 음식점업                           51\n",
              "금융 및 보험업                            42\n",
              "보건업 및 사회복지 서비스업                     41\n",
              "정보통신업                               34\n",
              "부동산업                                33\n",
              "공공 행정, 국방 및 사회보장 행정                 25\n",
              "제조업                                  4\n",
              "농업, 임업 및 어업                          3\n",
              "가구내 고용활동 및 달리 분류되지 않은 자가소비 생산활동      3\n",
              "국제 및 외국기관                            2\n",
              "수도, 하수 및 폐기물 처리, 원료 재생업              2\n",
              "dtype: int64"
            ]
          },
          "metadata": {},
          "execution_count": 52
        }
      ]
    },
    {
      "cell_type": "code",
      "metadata": {
        "colab": {
          "base_uri": "https://localhost:8080/"
        },
        "id": "_4i8xB8bv2de",
        "outputId": "c80d2ea1-58e3-4cd8-ef5c-853489e88e9a"
      },
      "source": [
        "concordance[(concordance['산업명'].isna()) & (concordance['KSIC10_대분류'] == '농업, 임업 및 어업')].value_counts('KSIC10_소분류')"
      ],
      "execution_count": 53,
      "outputs": [
        {
          "output_type": "execute_result",
          "data": {
            "text/plain": [
              "KSIC10_소분류\n",
              "어로 어업    3\n",
              "dtype: int64"
            ]
          },
          "metadata": {},
          "execution_count": 53
        }
      ]
    },
    {
      "cell_type": "code",
      "metadata": {
        "colab": {
          "base_uri": "https://localhost:8080/"
        },
        "id": "MsgSrBl2wW9B",
        "outputId": "5d6562a8-ff07-488f-cb93-46d425e22b71"
      },
      "source": [
        "concordance[(concordance['산업명'].isna()) & (concordance['KSIC10_대분류'] == '제조업')].value_counts('KSIC10_소분류')"
      ],
      "execution_count": 16,
      "outputs": [
        {
          "output_type": "execute_result",
          "data": {
            "text/plain": [
              "KSIC10_소분류\n",
              "산업용 기계 및 장비 수리업    4\n",
              "dtype: int64"
            ]
          },
          "metadata": {},
          "execution_count": 16
        }
      ]
    },
    {
      "cell_type": "code",
      "metadata": {
        "colab": {
          "base_uri": "https://localhost:8080/"
        },
        "id": "GkNV2lA0wyNS",
        "outputId": "f229b66d-84b7-44f8-b6bb-107138591144"
      },
      "source": [
        "concordance[(concordance['산업명'].isna()) & (concordance['KSIC10_대분류'] == '정보통신업')].value_counts('KSIC10_소분류')"
      ],
      "execution_count": 17,
      "outputs": [
        {
          "output_type": "execute_result",
          "data": {
            "text/plain": [
              "KSIC10_소분류\n",
              "영화, 비디오물, 방송 프로그램 제작 및 배급업            9\n",
              "서적, 잡지 및 기타 인쇄물 출판업                   7\n",
              "전기 통신업                                5\n",
              "텔레비전 방송업                              4\n",
              "오디오물 출판 및 원판 녹음업                      3\n",
              "기타 정보 서비스업                            3\n",
              "자료 처리, 호스팅, 포털 및 기타 인터넷 정보 매개 서비스업    1\n",
              "라디오 방송업                               1\n",
              "공영 우편업                                1\n",
              "dtype: int64"
            ]
          },
          "metadata": {},
          "execution_count": 17
        }
      ]
    },
    {
      "cell_type": "code",
      "metadata": {
        "colab": {
          "base_uri": "https://localhost:8080/"
        },
        "id": "MN_yis3ow6aE",
        "outputId": "6da22eda-6e67-476d-9f8a-099e2f464c2b"
      },
      "source": [
        "concordance[(concordance['산업명'].isna()) & (concordance['KSIC10_대분류'] == '수도, 하수 및 폐기물 처리, 원료 재생업')].value_counts('KSIC10_소분류')"
      ],
      "execution_count": 18,
      "outputs": [
        {
          "output_type": "execute_result",
          "data": {
            "text/plain": [
              "KSIC10_소분류\n",
              "수도업    2\n",
              "dtype: int64"
            ]
          },
          "metadata": {},
          "execution_count": 18
        }
      ]
    },
    {
      "cell_type": "code",
      "metadata": {
        "id": "76i0cwsYvZ9o"
      },
      "source": [
        "# concordance = concordance.loc[~concordance['산업명'].isna(), ['KSIC10_대분류', '산업명']]\n",
        "concordance = concordance.loc[~concordance['산업명'].isna()]"
      ],
      "execution_count": 68,
      "outputs": []
    },
    {
      "cell_type": "code",
      "metadata": {
        "colab": {
          "base_uri": "https://localhost:8080/",
          "height": 419
        },
        "id": "9LBtoJRlxxlF",
        "outputId": "de0c829e-c5de-4fe7-c95e-b274f71b0b81"
      },
      "source": [
        "concordance[['KSIC10_대분류', '산업명']]"
      ],
      "execution_count": 33,
      "outputs": [
        {
          "output_type": "execute_result",
          "data": {
            "text/html": [
              "<div>\n",
              "<style scoped>\n",
              "    .dataframe tbody tr th:only-of-type {\n",
              "        vertical-align: middle;\n",
              "    }\n",
              "\n",
              "    .dataframe tbody tr th {\n",
              "        vertical-align: top;\n",
              "    }\n",
              "\n",
              "    .dataframe thead th {\n",
              "        text-align: right;\n",
              "    }\n",
              "</style>\n",
              "<table border=\"1\" class=\"dataframe\">\n",
              "  <thead>\n",
              "    <tr style=\"text-align: right;\">\n",
              "      <th></th>\n",
              "      <th>KSIC10_대분류</th>\n",
              "      <th>산업명</th>\n",
              "    </tr>\n",
              "  </thead>\n",
              "  <tbody>\n",
              "    <tr>\n",
              "      <th>0</th>\n",
              "      <td>농업, 임업 및 어업</td>\n",
              "      <td>농림어업</td>\n",
              "    </tr>\n",
              "    <tr>\n",
              "      <th>1</th>\n",
              "      <td>농업, 임업 및 어업</td>\n",
              "      <td>농림어업</td>\n",
              "    </tr>\n",
              "    <tr>\n",
              "      <th>2</th>\n",
              "      <td>농업, 임업 및 어업</td>\n",
              "      <td>농림어업</td>\n",
              "    </tr>\n",
              "    <tr>\n",
              "      <th>3</th>\n",
              "      <td>농업, 임업 및 어업</td>\n",
              "      <td>농림어업</td>\n",
              "    </tr>\n",
              "    <tr>\n",
              "      <th>4</th>\n",
              "      <td>농업, 임업 및 어업</td>\n",
              "      <td>농림어업</td>\n",
              "    </tr>\n",
              "    <tr>\n",
              "      <th>...</th>\n",
              "      <td>...</td>\n",
              "      <td>...</td>\n",
              "    </tr>\n",
              "    <tr>\n",
              "      <th>1959</th>\n",
              "      <td>도매 및 소매업</td>\n",
              "      <td>농림어업</td>\n",
              "    </tr>\n",
              "    <tr>\n",
              "      <th>1960</th>\n",
              "      <td>도매 및 소매업</td>\n",
              "      <td>농림어업</td>\n",
              "    </tr>\n",
              "    <tr>\n",
              "      <th>1961</th>\n",
              "      <td>도매 및 소매업</td>\n",
              "      <td>농림어업</td>\n",
              "    </tr>\n",
              "    <tr>\n",
              "      <th>1962</th>\n",
              "      <td>도매 및 소매업</td>\n",
              "      <td>컴퓨터 프로그래밍, 정보서비스업</td>\n",
              "    </tr>\n",
              "    <tr>\n",
              "      <th>1967</th>\n",
              "      <td>정보통신업</td>\n",
              "      <td>컴퓨터 프로그래밍, 정보서비스업</td>\n",
              "    </tr>\n",
              "  </tbody>\n",
              "</table>\n",
              "<p>893 rows × 2 columns</p>\n",
              "</div>"
            ],
            "text/plain": [
              "       KSIC10_대분류                산업명\n",
              "0     농업, 임업 및 어업               농림어업\n",
              "1     농업, 임업 및 어업               농림어업\n",
              "2     농업, 임업 및 어업               농림어업\n",
              "3     농업, 임업 및 어업               농림어업\n",
              "4     농업, 임업 및 어업               농림어업\n",
              "...           ...                ...\n",
              "1959     도매 및 소매업               농림어업\n",
              "1960     도매 및 소매업               농림어업\n",
              "1961     도매 및 소매업               농림어업\n",
              "1962     도매 및 소매업  컴퓨터 프로그래밍, 정보서비스업\n",
              "1967        정보통신업  컴퓨터 프로그래밍, 정보서비스업\n",
              "\n",
              "[893 rows x 2 columns]"
            ]
          },
          "metadata": {},
          "execution_count": 33
        }
      ]
    },
    {
      "cell_type": "code",
      "metadata": {
        "colab": {
          "base_uri": "https://localhost:8080/",
          "height": 993
        },
        "id": "mOw5SlMgwJcJ",
        "outputId": "e1ffdc48-a9eb-4145-f1d5-fe42b38cfa9c"
      },
      "source": [
        "concordance[['KSIC10_대분류', '산업명']].groupby(['KSIC10_대분류', '산업명']).count()[:30]"
      ],
      "execution_count": 35,
      "outputs": [
        {
          "output_type": "execute_result",
          "data": {
            "text/html": [
              "<div>\n",
              "<style scoped>\n",
              "    .dataframe tbody tr th:only-of-type {\n",
              "        vertical-align: middle;\n",
              "    }\n",
              "\n",
              "    .dataframe tbody tr th {\n",
              "        vertical-align: top;\n",
              "    }\n",
              "\n",
              "    .dataframe thead th {\n",
              "        text-align: right;\n",
              "    }\n",
              "</style>\n",
              "<table border=\"1\" class=\"dataframe\">\n",
              "  <thead>\n",
              "    <tr style=\"text-align: right;\">\n",
              "      <th></th>\n",
              "      <th></th>\n",
              "    </tr>\n",
              "    <tr>\n",
              "      <th>KSIC10_대분류</th>\n",
              "      <th>산업명</th>\n",
              "    </tr>\n",
              "  </thead>\n",
              "  <tbody>\n",
              "    <tr>\n",
              "      <th>건설업</th>\n",
              "      <th>건설업, 건축기술 서비스</th>\n",
              "    </tr>\n",
              "    <tr>\n",
              "      <th>광업</th>\n",
              "      <th>광업</th>\n",
              "    </tr>\n",
              "    <tr>\n",
              "      <th>농업, 임업 및 어업</th>\n",
              "      <th>농림어업</th>\n",
              "    </tr>\n",
              "    <tr>\n",
              "      <th rowspan=\"2\" valign=\"top\">도매 및 소매업</th>\n",
              "      <th>농림어업</th>\n",
              "    </tr>\n",
              "    <tr>\n",
              "      <th>컴퓨터 프로그래밍, 정보서비스업</th>\n",
              "    </tr>\n",
              "    <tr>\n",
              "      <th>수도, 하수 및 폐기물 처리, 원료 재생업</th>\n",
              "      <th>하수, 폐기물처리, 원료재생, 환경복원</th>\n",
              "    </tr>\n",
              "    <tr>\n",
              "      <th>전기, 가스, 증기 및 공기 조절 공급업</th>\n",
              "      <th>전기, 가스, 증기, 수도</th>\n",
              "    </tr>\n",
              "    <tr>\n",
              "      <th>전문, 과학 및 기술 서비스업</th>\n",
              "      <th>건설업, 건축기술 서비스</th>\n",
              "    </tr>\n",
              "    <tr>\n",
              "      <th>정보통신업</th>\n",
              "      <th>컴퓨터 프로그래밍, 정보서비스업</th>\n",
              "    </tr>\n",
              "    <tr>\n",
              "      <th rowspan=\"21\" valign=\"top\">제조업</th>\n",
              "      <th>1차 비철금속 제조업</th>\n",
              "    </tr>\n",
              "    <tr>\n",
              "      <th>1차 철강제조업</th>\n",
              "    </tr>\n",
              "    <tr>\n",
              "      <th>가구 제조업</th>\n",
              "    </tr>\n",
              "    <tr>\n",
              "      <th>가정용 기기 제조업</th>\n",
              "    </tr>\n",
              "    <tr>\n",
              "      <th>가죽, 가방 및 신발제조업</th>\n",
              "    </tr>\n",
              "    <tr>\n",
              "      <th>고무제품 및 플라스틱 제품 제조업</th>\n",
              "    </tr>\n",
              "    <tr>\n",
              "      <th>구조용 금속제품, 탱크, 증기발생기 제조업</th>\n",
              "    </tr>\n",
              "    <tr>\n",
              "      <th>그 외 기타 화학제품 제조업</th>\n",
              "    </tr>\n",
              "    <tr>\n",
              "      <th>그 외 분류 안된 운송장비 제조업</th>\n",
              "    </tr>\n",
              "    <tr>\n",
              "      <th>금속주조업</th>\n",
              "    </tr>\n",
              "    <tr>\n",
              "      <th>기초 화학물질제조업</th>\n",
              "    </tr>\n",
              "    <tr>\n",
              "      <th>기타 금속가공 제품 제조업</th>\n",
              "    </tr>\n",
              "    <tr>\n",
              "      <th>기타 전기장비 제조업</th>\n",
              "    </tr>\n",
              "    <tr>\n",
              "      <th>기타제품 제조업</th>\n",
              "    </tr>\n",
              "    <tr>\n",
              "      <th>담배제조업</th>\n",
              "    </tr>\n",
              "    <tr>\n",
              "      <th>마그네틱 및 광학 매체 제조업</th>\n",
              "    </tr>\n",
              "    <tr>\n",
              "      <th>모터사이클 제조업</th>\n",
              "    </tr>\n",
              "    <tr>\n",
              "      <th>목재 및 나무제품제조업; 가구제외</th>\n",
              "    </tr>\n",
              "    <tr>\n",
              "      <th>무기 및 총포탄 제조업</th>\n",
              "    </tr>\n",
              "    <tr>\n",
              "      <th>반도체 제조업</th>\n",
              "    </tr>\n",
              "    <tr>\n",
              "      <th>비금속광물제품 제조업</th>\n",
              "    </tr>\n",
              "  </tbody>\n",
              "</table>\n",
              "</div>"
            ],
            "text/plain": [
              "Empty DataFrame\n",
              "Columns: []\n",
              "Index: [(건설업, 건설업, 건축기술 서비스), (광업, 광업), (농업, 임업 및 어업, 농림어업), (도매 및 소매업, 농림어업), (도매 및 소매업, 컴퓨터 프로그래밍, 정보서비스업), (수도, 하수 및 폐기물 처리, 원료 재생업, 하수, 폐기물처리, 원료재생, 환경복원), (전기, 가스, 증기 및 공기 조절 공급업, 전기, 가스, 증기, 수도), (전문, 과학 및 기술 서비스업, 건설업, 건축기술 서비스), (정보통신업, 컴퓨터 프로그래밍, 정보서비스업), (제조업, 1차 비철금속 제조업), (제조업, 1차 철강제조업), (제조업, 가구 제조업), (제조업, 가정용 기기 제조업), (제조업, 가죽, 가방 및 신발제조업), (제조업, 고무제품 및 플라스틱 제품 제조업), (제조업, 구조용 금속제품, 탱크, 증기발생기 제조업), (제조업, 그 외 기타 화학제품 제조업), (제조업, 그 외 분류 안된 운송장비 제조업), (제조업, 금속주조업), (제조업, 기초 화학물질제조업), (제조업, 기타 금속가공 제품 제조업), (제조업, 기타 전기장비 제조업), (제조업, 기타제품 제조업), (제조업, 담배제조업), (제조업, 마그네틱 및 광학 매체 제조업), (제조업, 모터사이클 제조업), (제조업, 목재 및 나무제품제조업; 가구제외), (제조업, 무기 및 총포탄 제조업), (제조업, 반도체 제조업), (제조업, 비금속광물제품 제조업)]"
            ]
          },
          "metadata": {},
          "execution_count": 35
        }
      ]
    },
    {
      "cell_type": "code",
      "metadata": {
        "colab": {
          "base_uri": "https://localhost:8080/",
          "height": 1000
        },
        "id": "bhB_yB3cxadM",
        "outputId": "b7e4247a-f9fe-4590-c893-98e573034d89"
      },
      "source": [
        "concordance[['KSIC10_대분류', '산업명']].groupby(['KSIC10_대분류', '산업명']).count()[31:]"
      ],
      "execution_count": 36,
      "outputs": [
        {
          "output_type": "execute_result",
          "data": {
            "text/html": [
              "<div>\n",
              "<style scoped>\n",
              "    .dataframe tbody tr th:only-of-type {\n",
              "        vertical-align: middle;\n",
              "    }\n",
              "\n",
              "    .dataframe tbody tr th {\n",
              "        vertical-align: top;\n",
              "    }\n",
              "\n",
              "    .dataframe thead th {\n",
              "        text-align: right;\n",
              "    }\n",
              "</style>\n",
              "<table border=\"1\" class=\"dataframe\">\n",
              "  <thead>\n",
              "    <tr style=\"text-align: right;\">\n",
              "      <th></th>\n",
              "      <th></th>\n",
              "    </tr>\n",
              "    <tr>\n",
              "      <th>KSIC10_대분류</th>\n",
              "      <th>산업명</th>\n",
              "    </tr>\n",
              "  </thead>\n",
              "  <tbody>\n",
              "    <tr>\n",
              "      <th rowspan=\"33\" valign=\"top\">제조업</th>\n",
              "      <th>사무용 기계 및 장비 제조업</th>\n",
              "    </tr>\n",
              "    <tr>\n",
              "      <th>사무용 이외의 일반기계 제조업</th>\n",
              "    </tr>\n",
              "    <tr>\n",
              "      <th>살충제 및 기타농약제조업</th>\n",
              "    </tr>\n",
              "    <tr>\n",
              "      <th>선박 제조업</th>\n",
              "    </tr>\n",
              "    <tr>\n",
              "      <th>섬유제품 제조업 :의복제외</th>\n",
              "    </tr>\n",
              "    <tr>\n",
              "      <th>세제, 화장품 및 광택제 제조업</th>\n",
              "    </tr>\n",
              "    <tr>\n",
              "      <th>시계 및 시계부품 제조업</th>\n",
              "    </tr>\n",
              "    <tr>\n",
              "      <th>식료품 제조업</th>\n",
              "    </tr>\n",
              "    <tr>\n",
              "      <th>안경, 사진장비 및 기타 광학기기 제조업</th>\n",
              "    </tr>\n",
              "    <tr>\n",
              "      <th>영상 및 음향기기 제조업</th>\n",
              "    </tr>\n",
              "    <tr>\n",
              "      <th>음료제조업</th>\n",
              "    </tr>\n",
              "    <tr>\n",
              "      <th>의료용 기기 제조업</th>\n",
              "    </tr>\n",
              "    <tr>\n",
              "      <th>의료용 물질 및 의약품 제조업</th>\n",
              "    </tr>\n",
              "    <tr>\n",
              "      <th>의복, 의복 액세서리 및 모피제품 제조업</th>\n",
              "    </tr>\n",
              "    <tr>\n",
              "      <th>인쇄 및 기록매체복제업</th>\n",
              "    </tr>\n",
              "    <tr>\n",
              "      <th>일차전지 및 축전지 제조업</th>\n",
              "    </tr>\n",
              "    <tr>\n",
              "      <th>잉크, 페인트 코팅제 및 유사제품 제조업</th>\n",
              "    </tr>\n",
              "    <tr>\n",
              "      <th>자동차 제조업</th>\n",
              "    </tr>\n",
              "    <tr>\n",
              "      <th>전구 및 조명장치 제조업</th>\n",
              "    </tr>\n",
              "    <tr>\n",
              "      <th>전동기, 발전기 및 전기변환, 공급, 제어장치 제조업</th>\n",
              "    </tr>\n",
              "    <tr>\n",
              "      <th>전자부품 제조업</th>\n",
              "    </tr>\n",
              "    <tr>\n",
              "      <th>전투용 차량 제조업</th>\n",
              "    </tr>\n",
              "    <tr>\n",
              "      <th>절연선 및 케이블제조업</th>\n",
              "    </tr>\n",
              "    <tr>\n",
              "      <th>철도장비 제조업</th>\n",
              "    </tr>\n",
              "    <tr>\n",
              "      <th>측정, 시험, 향해, 제어, 및 기타 정밀기기 제조업</th>\n",
              "    </tr>\n",
              "    <tr>\n",
              "      <th>컴퓨터 및 주변장치 제조업</th>\n",
              "    </tr>\n",
              "    <tr>\n",
              "      <th>코크스, 연탄 및 석유정제품 제조업</th>\n",
              "    </tr>\n",
              "    <tr>\n",
              "      <th>통신 및 방송 장비 제조업</th>\n",
              "    </tr>\n",
              "    <tr>\n",
              "      <th>특수 기계제조업</th>\n",
              "    </tr>\n",
              "    <tr>\n",
              "      <th>펄프, 종이 및 종이제품 제조업</th>\n",
              "    </tr>\n",
              "    <tr>\n",
              "      <th>합성고무 및 플라스틱 물질 제조업</th>\n",
              "    </tr>\n",
              "    <tr>\n",
              "      <th>항공기 제조업</th>\n",
              "    </tr>\n",
              "    <tr>\n",
              "      <th>화학섬유 제조업</th>\n",
              "    </tr>\n",
              "  </tbody>\n",
              "</table>\n",
              "</div>"
            ],
            "text/plain": [
              "Empty DataFrame\n",
              "Columns: []\n",
              "Index: [(제조업, 사무용 기계 및 장비 제조업), (제조업, 사무용 이외의 일반기계 제조업), (제조업, 살충제 및 기타농약제조업), (제조업, 선박 제조업), (제조업, 섬유제품 제조업 :의복제외), (제조업, 세제, 화장품 및 광택제 제조업), (제조업, 시계 및 시계부품 제조업), (제조업, 식료품 제조업), (제조업, 안경, 사진장비 및 기타 광학기기 제조업), (제조업, 영상 및 음향기기 제조업), (제조업, 음료제조업), (제조업, 의료용 기기 제조업), (제조업, 의료용 물질 및 의약품 제조업), (제조업, 의복, 의복 액세서리 및 모피제품 제조업), (제조업, 인쇄 및 기록매체복제업), (제조업, 일차전지 및 축전지 제조업), (제조업, 잉크, 페인트 코팅제 및 유사제품 제조업), (제조업, 자동차 제조업), (제조업, 전구 및 조명장치 제조업), (제조업, 전동기, 발전기 및 전기변환, 공급, 제어장치 제조업), (제조업, 전자부품 제조업), (제조업, 전투용 차량 제조업), (제조업, 절연선 및 케이블제조업), (제조업, 철도장비 제조업), (제조업, 측정, 시험, 향해, 제어, 및 기타 정밀기기 제조업), (제조업, 컴퓨터 및 주변장치 제조업), (제조업, 코크스, 연탄 및 석유정제품 제조업), (제조업, 통신 및 방송 장비 제조업), (제조업, 특수 기계제조업), (제조업, 펄프, 종이 및 종이제품 제조업), (제조업, 합성고무 및 플라스틱 물질 제조업), (제조업, 항공기 제조업), (제조업, 화학섬유 제조업)]"
            ]
          },
          "metadata": {},
          "execution_count": 36
        }
      ]
    },
    {
      "cell_type": "code",
      "metadata": {
        "colab": {
          "base_uri": "https://localhost:8080/",
          "height": 173
        },
        "id": "ytUrGTNNx-S5",
        "outputId": "3fbb5a28-c2fc-4bef-851d-7f91d7620387"
      },
      "source": [
        "concordance.loc[concordance['KSIC10_대분류'] == '도매 및 소매업', ['KSIC10_소분류', '산업명']]"
      ],
      "execution_count": 38,
      "outputs": [
        {
          "output_type": "execute_result",
          "data": {
            "text/html": [
              "<div>\n",
              "<style scoped>\n",
              "    .dataframe tbody tr th:only-of-type {\n",
              "        vertical-align: middle;\n",
              "    }\n",
              "\n",
              "    .dataframe tbody tr th {\n",
              "        vertical-align: top;\n",
              "    }\n",
              "\n",
              "    .dataframe thead th {\n",
              "        text-align: right;\n",
              "    }\n",
              "</style>\n",
              "<table border=\"1\" class=\"dataframe\">\n",
              "  <thead>\n",
              "    <tr style=\"text-align: right;\">\n",
              "      <th></th>\n",
              "      <th>KSIC10_소분류</th>\n",
              "      <th>산업명</th>\n",
              "    </tr>\n",
              "  </thead>\n",
              "  <tbody>\n",
              "    <tr>\n",
              "      <th>1959</th>\n",
              "      <td>자동차 판매업</td>\n",
              "      <td>농림어업</td>\n",
              "    </tr>\n",
              "    <tr>\n",
              "      <th>1960</th>\n",
              "      <td>자동차 판매업</td>\n",
              "      <td>농림어업</td>\n",
              "    </tr>\n",
              "    <tr>\n",
              "      <th>1961</th>\n",
              "      <td>자동차 판매업</td>\n",
              "      <td>농림어업</td>\n",
              "    </tr>\n",
              "    <tr>\n",
              "      <th>1962</th>\n",
              "      <td>무점포 소매업</td>\n",
              "      <td>컴퓨터 프로그래밍, 정보서비스업</td>\n",
              "    </tr>\n",
              "  </tbody>\n",
              "</table>\n",
              "</div>"
            ],
            "text/plain": [
              "     KSIC10_소분류                산업명\n",
              "1959    자동차 판매업               농림어업\n",
              "1960    자동차 판매업               농림어업\n",
              "1961    자동차 판매업               농림어업\n",
              "1962    무점포 소매업  컴퓨터 프로그래밍, 정보서비스업"
            ]
          },
          "metadata": {},
          "execution_count": 38
        }
      ]
    },
    {
      "cell_type": "code",
      "metadata": {
        "id": "0G1FPmG7yKEp"
      },
      "source": [
        "import numpy as np\n",
        "\n",
        "concordance.loc[concordance['KSIC10_대분류'] == '도매 및 소매업', '산업명'] = np.nan"
      ],
      "execution_count": 69,
      "outputs": []
    },
    {
      "cell_type": "code",
      "metadata": {
        "id": "nIrcTeH3yt5K"
      },
      "source": [
        "concordance = concordance.loc[~concordance['산업명'].isna()]"
      ],
      "execution_count": 70,
      "outputs": []
    },
    {
      "cell_type": "code",
      "metadata": {
        "colab": {
          "base_uri": "https://localhost:8080/"
        },
        "id": "B0q1ZZhGzxFE",
        "outputId": "83b5ced5-a89c-4bc9-9ce7-06b376d99ea8"
      },
      "source": [
        "concordance[['KSIC10_소분류', '산업명']].groupby(['KSIC10_소분류', '산업명']).count().shape"
      ],
      "execution_count": null,
      "outputs": [
        {
          "output_type": "execute_result",
          "data": {
            "text/plain": [
              "(125, 0)"
            ]
          },
          "metadata": {},
          "execution_count": 46
        }
      ]
    },
    {
      "cell_type": "code",
      "metadata": {
        "colab": {
          "base_uri": "https://localhost:8080/",
          "height": 993
        },
        "id": "1OIUeoBUyzDZ",
        "outputId": "0cbef64a-4fa4-4f74-838d-bc55a3f87346"
      },
      "source": [
        "concordance[['KSIC10_소분류', '산업명']].groupby(['KSIC10_소분류', '산업명']).count()[:30]"
      ],
      "execution_count": 42,
      "outputs": [
        {
          "output_type": "execute_result",
          "data": {
            "text/html": [
              "<div>\n",
              "<style scoped>\n",
              "    .dataframe tbody tr th:only-of-type {\n",
              "        vertical-align: middle;\n",
              "    }\n",
              "\n",
              "    .dataframe tbody tr th {\n",
              "        vertical-align: top;\n",
              "    }\n",
              "\n",
              "    .dataframe thead th {\n",
              "        text-align: right;\n",
              "    }\n",
              "</style>\n",
              "<table border=\"1\" class=\"dataframe\">\n",
              "  <thead>\n",
              "    <tr style=\"text-align: right;\">\n",
              "      <th></th>\n",
              "      <th></th>\n",
              "    </tr>\n",
              "    <tr>\n",
              "      <th>KSIC10_소분류</th>\n",
              "      <th>산업명</th>\n",
              "    </tr>\n",
              "  </thead>\n",
              "  <tbody>\n",
              "    <tr>\n",
              "      <th>1차 비철금속 제조업</th>\n",
              "      <th>1차 비철금속 제조업</th>\n",
              "    </tr>\n",
              "    <tr>\n",
              "      <th>1차 철강 제조업</th>\n",
              "      <th>1차 철강제조업</th>\n",
              "    </tr>\n",
              "    <tr>\n",
              "      <th>가구 제조업</th>\n",
              "      <th>가구 제조업</th>\n",
              "    </tr>\n",
              "    <tr>\n",
              "      <th>가정용 기기 제조업</th>\n",
              "      <th>가정용 기기 제조업</th>\n",
              "    </tr>\n",
              "    <tr>\n",
              "      <th>가죽, 가방 및 유사 제품 제조업</th>\n",
              "      <th>가죽, 가방 및 신발제조업</th>\n",
              "    </tr>\n",
              "    <tr>\n",
              "      <th>건물 건설업</th>\n",
              "      <th>건설업, 건축기술 서비스</th>\n",
              "    </tr>\n",
              "    <tr>\n",
              "      <th>건물설비 설치 공사업</th>\n",
              "      <th>건설업, 건축기술 서비스</th>\n",
              "    </tr>\n",
              "    <tr>\n",
              "      <th>건설장비 운영업</th>\n",
              "      <th>건설업, 건축기술 서비스</th>\n",
              "    </tr>\n",
              "    <tr>\n",
              "      <th>건축 기술, 엔지니어링 및 관련 기술 서비스업</th>\n",
              "      <th>건설업, 건축기술 서비스</th>\n",
              "    </tr>\n",
              "    <tr>\n",
              "      <th>고무제품 제조업</th>\n",
              "      <th>고무제품 및 플라스틱 제품 제조업</th>\n",
              "    </tr>\n",
              "    <tr>\n",
              "      <th>곡물 가공품, 전분 및 전분제품 제조업</th>\n",
              "      <th>식료품 제조업</th>\n",
              "    </tr>\n",
              "    <tr>\n",
              "      <th>골판지, 종이 상자 및 종이 용기 제조업</th>\n",
              "      <th>펄프, 종이 및 종이제품 제조업</th>\n",
              "    </tr>\n",
              "    <tr>\n",
              "      <th>과실, 채소 가공 및 저장 처리업</th>\n",
              "      <th>식료품 제조업</th>\n",
              "    </tr>\n",
              "    <tr>\n",
              "      <th>광업 지원 서비스업</th>\n",
              "      <th>광업</th>\n",
              "    </tr>\n",
              "    <tr>\n",
              "      <th>구조용 금속제품, 탱크 및 증기발생기 제조업</th>\n",
              "      <th>구조용 금속제품, 탱크, 증기발생기 제조업</th>\n",
              "    </tr>\n",
              "    <tr>\n",
              "      <th>귀금속 및 장신용품 제조업</th>\n",
              "      <th>기타제품 제조업</th>\n",
              "    </tr>\n",
              "    <tr>\n",
              "      <th rowspan=\"3\" valign=\"top\">그 외 기타 운송장비 제조업</th>\n",
              "      <th>그 외 분류 안된 운송장비 제조업</th>\n",
              "    </tr>\n",
              "    <tr>\n",
              "      <th>모터사이클 제조업</th>\n",
              "    </tr>\n",
              "    <tr>\n",
              "      <th>전투용 차량 제조업</th>\n",
              "    </tr>\n",
              "    <tr>\n",
              "      <th>그 외 기타 제품 제조업</th>\n",
              "      <th>기타제품 제조업</th>\n",
              "    </tr>\n",
              "    <tr>\n",
              "      <th>금속 주조업</th>\n",
              "      <th>금속주조업</th>\n",
              "    </tr>\n",
              "    <tr>\n",
              "      <th>기록매체 복제업</th>\n",
              "      <th>인쇄 및 기록매체복제업</th>\n",
              "    </tr>\n",
              "    <tr>\n",
              "      <th>기반조성 및 시설물 축조관련 전문공사업</th>\n",
              "      <th>건설업, 건축기술 서비스</th>\n",
              "    </tr>\n",
              "    <tr>\n",
              "      <th>기초 의약 물질 및 생물학적 제제 제조업</th>\n",
              "      <th>의료용 물질 및 의약품 제조업</th>\n",
              "    </tr>\n",
              "    <tr>\n",
              "      <th>기초 화학물질 제조업</th>\n",
              "      <th>기초 화학물질제조업</th>\n",
              "    </tr>\n",
              "    <tr>\n",
              "      <th>기타 금속 가공제품 제조업</th>\n",
              "      <th>기타 금속가공 제품 제조업</th>\n",
              "    </tr>\n",
              "    <tr>\n",
              "      <th>기타 비금속 광물제품 제조업</th>\n",
              "      <th>비금속광물제품 제조업</th>\n",
              "    </tr>\n",
              "    <tr>\n",
              "      <th>기타 비금속광물 광업</th>\n",
              "      <th>광업</th>\n",
              "    </tr>\n",
              "    <tr>\n",
              "      <th>기타 섬유제품 제조업</th>\n",
              "      <th>섬유제품 제조업 :의복제외</th>\n",
              "    </tr>\n",
              "    <tr>\n",
              "      <th>기타 식품 제조업</th>\n",
              "      <th>식료품 제조업</th>\n",
              "    </tr>\n",
              "  </tbody>\n",
              "</table>\n",
              "</div>"
            ],
            "text/plain": [
              "Empty DataFrame\n",
              "Columns: []\n",
              "Index: [(1차 비철금속 제조업, 1차 비철금속 제조업), (1차 철강 제조업, 1차 철강제조업), (가구 제조업, 가구 제조업), (가정용 기기 제조업, 가정용 기기 제조업), (가죽, 가방 및 유사 제품 제조업, 가죽, 가방 및 신발제조업), (건물 건설업, 건설업, 건축기술 서비스), (건물설비 설치 공사업, 건설업, 건축기술 서비스), (건설장비 운영업, 건설업, 건축기술 서비스), (건축 기술, 엔지니어링 및 관련 기술 서비스업, 건설업, 건축기술 서비스), (고무제품 제조업, 고무제품 및 플라스틱 제품 제조업), (곡물 가공품, 전분 및 전분제품 제조업, 식료품 제조업), (골판지, 종이 상자 및 종이 용기 제조업, 펄프, 종이 및 종이제품 제조업), (과실, 채소 가공 및 저장 처리업, 식료품 제조업), (광업 지원 서비스업, 광업), (구조용 금속제품, 탱크 및 증기발생기 제조업, 구조용 금속제품, 탱크, 증기발생기 제조업), (귀금속 및 장신용품 제조업, 기타제품 제조업), (그 외 기타 운송장비 제조업, 그 외 분류 안된 운송장비 제조업), (그 외 기타 운송장비 제조업, 모터사이클 제조업), (그 외 기타 운송장비 제조업, 전투용 차량 제조업), (그 외 기타 제품 제조업, 기타제품 제조업), (금속 주조업, 금속주조업), (기록매체 복제업, 인쇄 및 기록매체복제업), (기반조성 및 시설물 축조관련 전문공사업, 건설업, 건축기술 서비스), (기초 의약 물질 및 생물학적 제제 제조업, 의료용 물질 및 의약품 제조업), (기초 화학물질 제조업, 기초 화학물질제조업), (기타 금속 가공제품 제조업, 기타 금속가공 제품 제조업), (기타 비금속 광물제품 제조업, 비금속광물제품 제조업), (기타 비금속광물 광업, 광업), (기타 섬유제품 제조업, 섬유제품 제조업 :의복제외), (기타 식품 제조업, 식료품 제조업)]"
            ]
          },
          "metadata": {},
          "execution_count": 42
        }
      ]
    },
    {
      "cell_type": "code",
      "metadata": {
        "colab": {
          "base_uri": "https://localhost:8080/",
          "height": 993
        },
        "id": "0OE-tUjBzGZO",
        "outputId": "ccac7a1f-c3c4-4ca6-c45d-57457a5335ac"
      },
      "source": [
        "concordance[['KSIC10_소분류', '산업명']].groupby(['KSIC10_소분류', '산업명']).count()[30:60]"
      ],
      "execution_count": 43,
      "outputs": [
        {
          "output_type": "execute_result",
          "data": {
            "text/html": [
              "<div>\n",
              "<style scoped>\n",
              "    .dataframe tbody tr th:only-of-type {\n",
              "        vertical-align: middle;\n",
              "    }\n",
              "\n",
              "    .dataframe tbody tr th {\n",
              "        vertical-align: top;\n",
              "    }\n",
              "\n",
              "    .dataframe thead th {\n",
              "        text-align: right;\n",
              "    }\n",
              "</style>\n",
              "<table border=\"1\" class=\"dataframe\">\n",
              "  <thead>\n",
              "    <tr style=\"text-align: right;\">\n",
              "      <th></th>\n",
              "      <th></th>\n",
              "    </tr>\n",
              "    <tr>\n",
              "      <th>KSIC10_소분류</th>\n",
              "      <th>산업명</th>\n",
              "    </tr>\n",
              "  </thead>\n",
              "  <tbody>\n",
              "    <tr>\n",
              "      <th>기타 전기장비 제조업</th>\n",
              "      <th>기타 전기장비 제조업</th>\n",
              "    </tr>\n",
              "    <tr>\n",
              "      <th>기타 종이 및 판지 제품 제조업</th>\n",
              "      <th>펄프, 종이 및 종이제품 제조업</th>\n",
              "    </tr>\n",
              "    <tr>\n",
              "      <th rowspan=\"3\" valign=\"top\">기타 화학제품 제조업</th>\n",
              "      <th>그 외 기타 화학제품 제조업</th>\n",
              "    </tr>\n",
              "    <tr>\n",
              "      <th>세제, 화장품 및 광택제 제조업</th>\n",
              "    </tr>\n",
              "    <tr>\n",
              "      <th>잉크, 페인트 코팅제 및 유사제품 제조업</th>\n",
              "    </tr>\n",
              "    <tr>\n",
              "      <th>나무제품 제조업</th>\n",
              "      <th>목재 및 나무제품제조업; 가구제외</th>\n",
              "    </tr>\n",
              "    <tr>\n",
              "      <th>낙농제품 및 식용 빙과류 제조업</th>\n",
              "      <th>식료품 제조업</th>\n",
              "    </tr>\n",
              "    <tr>\n",
              "      <th>내화, 비내화 요업제품 제조업</th>\n",
              "      <th>비금속광물제품 제조업</th>\n",
              "    </tr>\n",
              "    <tr>\n",
              "      <th>담배 제조업</th>\n",
              "      <th>담배제조업</th>\n",
              "    </tr>\n",
              "    <tr>\n",
              "      <th>도축, 육류 가공 및 저장 처리업</th>\n",
              "      <th>식료품 제조업</th>\n",
              "    </tr>\n",
              "    <tr>\n",
              "      <th>동물성 및 식물성 유지 제조업</th>\n",
              "      <th>식료품 제조업</th>\n",
              "    </tr>\n",
              "    <tr>\n",
              "      <th>동물용 사료 및 조제식품 제조업</th>\n",
              "      <th>식료품 제조업</th>\n",
              "    </tr>\n",
              "    <tr>\n",
              "      <th>마그네틱 및 광학 매체 제조업</th>\n",
              "      <th>마그네틱 및 광학 매체 제조업</th>\n",
              "    </tr>\n",
              "    <tr>\n",
              "      <th>모피제품 제조업</th>\n",
              "      <th>의복, 의복 액세서리 및 모피제품 제조업</th>\n",
              "    </tr>\n",
              "    <tr>\n",
              "      <th>무기 및 총포탄 제조업</th>\n",
              "      <th>무기 및 총포탄 제조업</th>\n",
              "    </tr>\n",
              "    <tr>\n",
              "      <th>반도체 제조업</th>\n",
              "      <th>반도체 제조업</th>\n",
              "    </tr>\n",
              "    <tr>\n",
              "      <th>방적 및 가공사 제조업</th>\n",
              "      <th>섬유제품 제조업 :의복제외</th>\n",
              "    </tr>\n",
              "    <tr>\n",
              "      <th>봉제의복 제조업</th>\n",
              "      <th>의복, 의복 액세서리 및 모피제품 제조업</th>\n",
              "    </tr>\n",
              "    <tr>\n",
              "      <th rowspan=\"2\" valign=\"top\">비료, 농약 및 살균ㆍ살충제 제조업</th>\n",
              "      <th>비료 및 질소 화학물 제조업</th>\n",
              "    </tr>\n",
              "    <tr>\n",
              "      <th>살충제 및 기타농약제조업</th>\n",
              "    </tr>\n",
              "    <tr>\n",
              "      <th>비알코올 음료 및 얼음 제조업</th>\n",
              "      <th>음료제조업</th>\n",
              "    </tr>\n",
              "    <tr>\n",
              "      <th>비철금속 광업</th>\n",
              "      <th>광업</th>\n",
              "    </tr>\n",
              "    <tr>\n",
              "      <th>사진장비 및 광학 기기 제조업</th>\n",
              "      <th>안경, 사진장비 및 기타 광학기기 제조업</th>\n",
              "    </tr>\n",
              "    <tr>\n",
              "      <th>석유 정제품 제조업</th>\n",
              "      <th>코크스, 연탄 및 석유정제품 제조업</th>\n",
              "    </tr>\n",
              "    <tr>\n",
              "      <th>석탄 광업</th>\n",
              "      <th>광업</th>\n",
              "    </tr>\n",
              "    <tr>\n",
              "      <th>선박 및 보트 건조업</th>\n",
              "      <th>선박 제조업</th>\n",
              "    </tr>\n",
              "    <tr>\n",
              "      <th>섬유제품 염색, 정리 및 마무리 가공업</th>\n",
              "      <th>섬유제품 제조업 :의복제외</th>\n",
              "    </tr>\n",
              "    <tr>\n",
              "      <th>소프트웨어 개발 및 공급업</th>\n",
              "      <th>컴퓨터 프로그래밍, 정보서비스업</th>\n",
              "    </tr>\n",
              "    <tr>\n",
              "      <th>수렵 및 관련 서비스업</th>\n",
              "      <th>농림어업</th>\n",
              "    </tr>\n",
              "    <tr>\n",
              "      <th>수산물 가공 및 저장 처리업</th>\n",
              "      <th>식료품 제조업</th>\n",
              "    </tr>\n",
              "  </tbody>\n",
              "</table>\n",
              "</div>"
            ],
            "text/plain": [
              "Empty DataFrame\n",
              "Columns: []\n",
              "Index: [(기타 전기장비 제조업, 기타 전기장비 제조업), (기타 종이 및 판지 제품 제조업, 펄프, 종이 및 종이제품 제조업), (기타 화학제품 제조업, 그 외 기타 화학제품 제조업), (기타 화학제품 제조업, 세제, 화장품 및 광택제 제조업), (기타 화학제품 제조업, 잉크, 페인트 코팅제 및 유사제품 제조업), (나무제품 제조업, 목재 및 나무제품제조업; 가구제외), (낙농제품 및 식용 빙과류 제조업, 식료품 제조업), (내화, 비내화 요업제품 제조업, 비금속광물제품 제조업), (담배 제조업, 담배제조업), (도축, 육류 가공 및 저장 처리업, 식료품 제조업), (동물성 및 식물성 유지 제조업, 식료품 제조업), (동물용 사료 및 조제식품 제조업, 식료품 제조업), (마그네틱 및 광학 매체 제조업, 마그네틱 및 광학 매체 제조업), (모피제품 제조업, 의복, 의복 액세서리 및 모피제품 제조업), (무기 및 총포탄 제조업, 무기 및 총포탄 제조업), (반도체 제조업, 반도체 제조업), (방적 및 가공사 제조업, 섬유제품 제조업 :의복제외), (봉제의복 제조업, 의복, 의복 액세서리 및 모피제품 제조업), (비료, 농약 및 살균ㆍ살충제 제조업, 비료 및 질소 화학물 제조업), (비료, 농약 및 살균ㆍ살충제 제조업, 살충제 및 기타농약제조업), (비알코올 음료 및 얼음 제조업, 음료제조업), (비철금속 광업, 광업), (사진장비 및 광학 기기 제조업, 안경, 사진장비 및 기타 광학기기 제조업), (석유 정제품 제조업, 코크스, 연탄 및 석유정제품 제조업), (석탄 광업, 광업), (선박 및 보트 건조업, 선박 제조업), (섬유제품 염색, 정리 및 마무리 가공업, 섬유제품 제조업 :의복제외), (소프트웨어 개발 및 공급업, 컴퓨터 프로그래밍, 정보서비스업), (수렵 및 관련 서비스업, 농림어업), (수산물 가공 및 저장 처리업, 식료품 제조업)]"
            ]
          },
          "metadata": {},
          "execution_count": 43
        }
      ]
    },
    {
      "cell_type": "code",
      "metadata": {
        "colab": {
          "base_uri": "https://localhost:8080/",
          "height": 1000
        },
        "id": "0HcI6T9EzPvB",
        "outputId": "a979b14c-d8e0-414a-cbd9-8454abab5989"
      },
      "source": [
        "concordance[['KSIC10_소분류', '산업명']].groupby(['KSIC10_소분류', '산업명']).count()[60:100]"
      ],
      "execution_count": 44,
      "outputs": [
        {
          "output_type": "execute_result",
          "data": {
            "text/html": [
              "<div>\n",
              "<style scoped>\n",
              "    .dataframe tbody tr th:only-of-type {\n",
              "        vertical-align: middle;\n",
              "    }\n",
              "\n",
              "    .dataframe tbody tr th {\n",
              "        vertical-align: top;\n",
              "    }\n",
              "\n",
              "    .dataframe thead th {\n",
              "        text-align: right;\n",
              "    }\n",
              "</style>\n",
              "<table border=\"1\" class=\"dataframe\">\n",
              "  <thead>\n",
              "    <tr style=\"text-align: right;\">\n",
              "      <th></th>\n",
              "      <th></th>\n",
              "    </tr>\n",
              "    <tr>\n",
              "      <th>KSIC10_소분류</th>\n",
              "      <th>산업명</th>\n",
              "    </tr>\n",
              "  </thead>\n",
              "  <tbody>\n",
              "    <tr>\n",
              "      <th>시계 및 시계 부품 제조업</th>\n",
              "      <th>시계 및 시계부품 제조업</th>\n",
              "    </tr>\n",
              "    <tr>\n",
              "      <th>시멘트, 석회, 플라스터 및 그 제품 제조업</th>\n",
              "      <th>비금속광물제품 제조업</th>\n",
              "    </tr>\n",
              "    <tr>\n",
              "      <th>시설물 유지관리 공사업</th>\n",
              "      <th>건설업, 건축기술 서비스</th>\n",
              "    </tr>\n",
              "    <tr>\n",
              "      <th>신발 및 신발 부분품 제조업</th>\n",
              "      <th>가죽, 가방 및 신발제조업</th>\n",
              "    </tr>\n",
              "    <tr>\n",
              "      <th>실내건축 및 건축마무리 공사업</th>\n",
              "      <th>건설업, 건축기술 서비스</th>\n",
              "    </tr>\n",
              "    <tr>\n",
              "      <th>악기 제조업</th>\n",
              "      <th>기타제품 제조업</th>\n",
              "    </tr>\n",
              "    <tr>\n",
              "      <th>알코올 음료 제조업</th>\n",
              "      <th>음료제조업</th>\n",
              "    </tr>\n",
              "    <tr>\n",
              "      <th>양식어업 및 어업관련 서비스업</th>\n",
              "      <th>농림어업</th>\n",
              "    </tr>\n",
              "    <tr>\n",
              "      <th>어로 어업</th>\n",
              "      <th>농림어업</th>\n",
              "    </tr>\n",
              "    <tr>\n",
              "      <th>연료용 가스 제조 및 배관공급업</th>\n",
              "      <th>전기, 가스, 증기, 수도</th>\n",
              "    </tr>\n",
              "    <tr>\n",
              "      <th>영상 및 음향 기기 제조업</th>\n",
              "      <th>영상 및 음향기기 제조업</th>\n",
              "    </tr>\n",
              "    <tr>\n",
              "      <th>운동 및 경기용구 제조업</th>\n",
              "      <th>기타제품 제조업</th>\n",
              "    </tr>\n",
              "    <tr>\n",
              "      <th>원유 및 천연가스 채굴업</th>\n",
              "      <th>광업</th>\n",
              "    </tr>\n",
              "    <tr>\n",
              "      <th>유리 및 유리제품 제조업</th>\n",
              "      <th>비금속광물제품 제조업</th>\n",
              "    </tr>\n",
              "    <tr>\n",
              "      <th>의료용 기기 제조업</th>\n",
              "      <th>의료용 기기 제조업</th>\n",
              "    </tr>\n",
              "    <tr>\n",
              "      <th>의료용품 및 기타 의약 관련제품 제조업</th>\n",
              "      <th>의료용 물질 및 의약품 제조업</th>\n",
              "    </tr>\n",
              "    <tr>\n",
              "      <th>의복 액세서리 제조업</th>\n",
              "      <th>의복, 의복 액세서리 및 모피제품 제조업</th>\n",
              "    </tr>\n",
              "    <tr>\n",
              "      <th>의약품 제조업</th>\n",
              "      <th>의료용 물질 및 의약품 제조업</th>\n",
              "    </tr>\n",
              "    <tr>\n",
              "      <th>인쇄 및 인쇄관련 산업</th>\n",
              "      <th>인쇄 및 기록매체복제업</th>\n",
              "    </tr>\n",
              "    <tr>\n",
              "      <th>인형, 장난감 및 오락용품 제조업</th>\n",
              "      <th>기타제품 제조업</th>\n",
              "    </tr>\n",
              "    <tr>\n",
              "      <th rowspan=\"2\" valign=\"top\">일반 목적용 기계 제조업</th>\n",
              "      <th>사무용 기계 및 장비 제조업</th>\n",
              "    </tr>\n",
              "    <tr>\n",
              "      <th>사무용 이외의 일반기계 제조업</th>\n",
              "    </tr>\n",
              "    <tr>\n",
              "      <th>일차전지 및 축전지 제조업</th>\n",
              "      <th>일차전지 및 축전지 제조업</th>\n",
              "    </tr>\n",
              "    <tr>\n",
              "      <th>임업</th>\n",
              "      <th>농림어업</th>\n",
              "    </tr>\n",
              "    <tr>\n",
              "      <th>자동차 신품 부품 제조업</th>\n",
              "      <th>자동차 제조업</th>\n",
              "    </tr>\n",
              "    <tr>\n",
              "      <th>자동차 재제조 부품 제조업</th>\n",
              "      <th>자동차 제조업</th>\n",
              "    </tr>\n",
              "    <tr>\n",
              "      <th>자동차 차체 및 트레일러 제조업</th>\n",
              "      <th>자동차 제조업</th>\n",
              "    </tr>\n",
              "    <tr>\n",
              "      <th>자동차용 엔진 및 자동차 제조업</th>\n",
              "      <th>자동차 제조업</th>\n",
              "    </tr>\n",
              "    <tr>\n",
              "      <th>자료 처리, 호스팅, 포털 및 기타 인터넷 정보 매개 서비스업</th>\n",
              "      <th>컴퓨터 프로그래밍, 정보서비스업</th>\n",
              "    </tr>\n",
              "    <tr>\n",
              "      <th>작물 재배업</th>\n",
              "      <th>농림어업</th>\n",
              "    </tr>\n",
              "    <tr>\n",
              "      <th>작물재배 및 축산 관련 서비스업</th>\n",
              "      <th>농림어업</th>\n",
              "    </tr>\n",
              "    <tr>\n",
              "      <th>작물재배 및 축산 복합농업</th>\n",
              "      <th>농림어업</th>\n",
              "    </tr>\n",
              "    <tr>\n",
              "      <th>전구 및 조명장치 제조업</th>\n",
              "      <th>전구 및 조명장치 제조업</th>\n",
              "    </tr>\n",
              "    <tr>\n",
              "      <th>전기 및 통신 공사업</th>\n",
              "      <th>건설업, 건축기술 서비스</th>\n",
              "    </tr>\n",
              "    <tr>\n",
              "      <th>전기업</th>\n",
              "      <th>전기, 가스, 증기, 수도</th>\n",
              "    </tr>\n",
              "    <tr>\n",
              "      <th>전동기, 발전기 및 전기 변환ㆍ공급ㆍ제어 장치 제조업</th>\n",
              "      <th>전동기, 발전기 및 전기변환, 공급, 제어장치 제조업</th>\n",
              "    </tr>\n",
              "    <tr>\n",
              "      <th>전자 부품 제조업</th>\n",
              "      <th>전자부품 제조업</th>\n",
              "    </tr>\n",
              "    <tr>\n",
              "      <th>절연선 및 케이블 제조업</th>\n",
              "      <th>절연선 및 케이블제조업</th>\n",
              "    </tr>\n",
              "    <tr>\n",
              "      <th>제재 및 목재 가공업</th>\n",
              "      <th>목재 및 나무제품제조업; 가구제외</th>\n",
              "    </tr>\n",
              "    <tr>\n",
              "      <th>증기, 냉ㆍ온수 및 공기 조절 공급업</th>\n",
              "      <th>전기, 가스, 증기, 수도</th>\n",
              "    </tr>\n",
              "  </tbody>\n",
              "</table>\n",
              "</div>"
            ],
            "text/plain": [
              "Empty DataFrame\n",
              "Columns: []\n",
              "Index: [(시계 및 시계 부품 제조업, 시계 및 시계부품 제조업), (시멘트, 석회, 플라스터 및 그 제품 제조업, 비금속광물제품 제조업), (시설물 유지관리 공사업, 건설업, 건축기술 서비스), (신발 및 신발 부분품 제조업, 가죽, 가방 및 신발제조업), (실내건축 및 건축마무리 공사업, 건설업, 건축기술 서비스), (악기 제조업, 기타제품 제조업), (알코올 음료 제조업, 음료제조업), (양식어업 및 어업관련 서비스업, 농림어업), (어로 어업, 농림어업), (연료용 가스 제조 및 배관공급업, 전기, 가스, 증기, 수도), (영상 및 음향 기기 제조업, 영상 및 음향기기 제조업), (운동 및 경기용구 제조업, 기타제품 제조업), (원유 및 천연가스 채굴업, 광업), (유리 및 유리제품 제조업, 비금속광물제품 제조업), (의료용 기기 제조업, 의료용 기기 제조업), (의료용품 및 기타 의약 관련제품 제조업, 의료용 물질 및 의약품 제조업), (의복 액세서리 제조업, 의복, 의복 액세서리 및 모피제품 제조업), (의약품 제조업, 의료용 물질 및 의약품 제조업), (인쇄 및 인쇄관련 산업, 인쇄 및 기록매체복제업), (인형, 장난감 및 오락용품 제조업, 기타제품 제조업), (일반 목적용 기계 제조업, 사무용 기계 및 장비 제조업), (일반 목적용 기계 제조업, 사무용 이외의 일반기계 제조업), (일차전지 및 축전지 제조업, 일차전지 및 축전지 제조업), (임업, 농림어업), (자동차 신품 부품 제조업, 자동차 제조업), (자동차 재제조 부품 제조업, 자동차 제조업), (자동차 차체 및 트레일러 제조업, 자동차 제조업), (자동차용 엔진 및 자동차 제조업, 자동차 제조업), (자료 처리, 호스팅, 포털 및 기타 인터넷 정보 매개 서비스업, 컴퓨터 프로그래밍, 정보서비스업), (작물 재배업, 농림어업), (작물재배 및 축산 관련 서비스업, 농림어업), (작물재배 및 축산 복합농업, 농림어업), (전구 및 조명장치 제조업, 전구 및 조명장치 제조업), (전기 및 통신 공사업, 건설업, 건축기술 서비스), (전기업, 전기, 가스, 증기, 수도), (전동기, 발전기 및 전기 변환ㆍ공급ㆍ제어 장치 제조업, 전동기, 발전기 및 전기변환, 공급, 제어장치 제조업), (전자 부품 제조업, 전자부품 제조업), (절연선 및 케이블 제조업, 절연선 및 케이블제조업), (제재 및 목재 가공업, 목재 및 나무제품제조업; 가구제외), (증기, 냉ㆍ온수 및 공기 조절 공급업, 전기, 가스, 증기, 수도)]"
            ]
          },
          "metadata": {},
          "execution_count": 44
        }
      ]
    },
    {
      "cell_type": "code",
      "metadata": {
        "colab": {
          "base_uri": "https://localhost:8080/",
          "height": 838
        },
        "id": "YLUWW5NUzh9H",
        "outputId": "de7e59e6-f557-400d-c322-f57cc6246d1f"
      },
      "source": [
        "concordance[['KSIC10_소분류', '산업명']].groupby(['KSIC10_소분류', '산업명']).count()[100:150]"
      ],
      "execution_count": 45,
      "outputs": [
        {
          "output_type": "execute_result",
          "data": {
            "text/html": [
              "<div>\n",
              "<style scoped>\n",
              "    .dataframe tbody tr th:only-of-type {\n",
              "        vertical-align: middle;\n",
              "    }\n",
              "\n",
              "    .dataframe tbody tr th {\n",
              "        vertical-align: top;\n",
              "    }\n",
              "\n",
              "    .dataframe thead th {\n",
              "        text-align: right;\n",
              "    }\n",
              "</style>\n",
              "<table border=\"1\" class=\"dataframe\">\n",
              "  <thead>\n",
              "    <tr style=\"text-align: right;\">\n",
              "      <th></th>\n",
              "      <th></th>\n",
              "    </tr>\n",
              "    <tr>\n",
              "      <th>KSIC10_소분류</th>\n",
              "      <th>산업명</th>\n",
              "    </tr>\n",
              "  </thead>\n",
              "  <tbody>\n",
              "    <tr>\n",
              "      <th>직물 직조 및 직물제품 제조업</th>\n",
              "      <th>섬유제품 제조업 :의복제외</th>\n",
              "    </tr>\n",
              "    <tr>\n",
              "      <th>철 광업</th>\n",
              "      <th>광업</th>\n",
              "    </tr>\n",
              "    <tr>\n",
              "      <th>철도장비 제조업</th>\n",
              "      <th>철도장비 제조업</th>\n",
              "    </tr>\n",
              "    <tr>\n",
              "      <th>축산업</th>\n",
              "      <th>농림어업</th>\n",
              "    </tr>\n",
              "    <tr>\n",
              "      <th>측정, 시험, 항해, 제어 및 기타 정밀 기기 제조업; 광학 기기 제외</th>\n",
              "      <th>측정, 시험, 향해, 제어, 및 기타 정밀기기 제조업</th>\n",
              "    </tr>\n",
              "    <tr>\n",
              "      <th>컴퓨터 및 주변 장치 제조업</th>\n",
              "      <th>컴퓨터 및 주변장치 제조업</th>\n",
              "    </tr>\n",
              "    <tr>\n",
              "      <th>컴퓨터 프로그래밍, 시스템 통합 및 관리업</th>\n",
              "      <th>컴퓨터 프로그래밍, 정보서비스업</th>\n",
              "    </tr>\n",
              "    <tr>\n",
              "      <th>코르크 및 조물 제품 제조업</th>\n",
              "      <th>목재 및 나무제품제조업; 가구제외</th>\n",
              "    </tr>\n",
              "    <tr>\n",
              "      <th>코크스 및 연탄 제조업</th>\n",
              "      <th>코크스, 연탄 및 석유정제품 제조업</th>\n",
              "    </tr>\n",
              "    <tr>\n",
              "      <th>토목 건설업</th>\n",
              "      <th>건설업, 건축기술 서비스</th>\n",
              "    </tr>\n",
              "    <tr>\n",
              "      <th>토사석 광업</th>\n",
              "      <th>광업</th>\n",
              "    </tr>\n",
              "    <tr>\n",
              "      <th>통신 및 방송장비 제조업</th>\n",
              "      <th>통신 및 방송 장비 제조업</th>\n",
              "    </tr>\n",
              "    <tr>\n",
              "      <th>특수 목적용 기계 제조업</th>\n",
              "      <th>특수 기계제조업</th>\n",
              "    </tr>\n",
              "    <tr>\n",
              "      <th>펄프, 종이 및 판지 제조업</th>\n",
              "      <th>펄프, 종이 및 종이제품 제조업</th>\n",
              "    </tr>\n",
              "    <tr>\n",
              "      <th>편조 원단 제조업</th>\n",
              "      <th>섬유제품 제조업 :의복제외</th>\n",
              "    </tr>\n",
              "    <tr>\n",
              "      <th>편조의복 제조업</th>\n",
              "      <th>의복, 의복 액세서리 및 모피제품 제조업</th>\n",
              "    </tr>\n",
              "    <tr>\n",
              "      <th>폐기물 수집, 운반업</th>\n",
              "      <th>하수, 폐기물처리, 원료재생, 환경복원</th>\n",
              "    </tr>\n",
              "    <tr>\n",
              "      <th>폐기물 처리업</th>\n",
              "      <th>하수, 폐기물처리, 원료재생, 환경복원</th>\n",
              "    </tr>\n",
              "    <tr>\n",
              "      <th>플라스틱 제품 제조업</th>\n",
              "      <th>고무제품 및 플라스틱 제품 제조업</th>\n",
              "    </tr>\n",
              "    <tr>\n",
              "      <th>하수, 폐수 및 분뇨 처리업</th>\n",
              "      <th>하수, 폐기물처리, 원료재생, 환경복원</th>\n",
              "    </tr>\n",
              "    <tr>\n",
              "      <th>합성고무 및 플라스틱 물질 제조업</th>\n",
              "      <th>합성고무 및 플라스틱 물질 제조업</th>\n",
              "    </tr>\n",
              "    <tr>\n",
              "      <th>항공기, 우주선 및 부품 제조업</th>\n",
              "      <th>항공기 제조업</th>\n",
              "    </tr>\n",
              "    <tr>\n",
              "      <th>해체, 선별 및 원료 재생업</th>\n",
              "      <th>하수, 폐기물처리, 원료재생, 환경복원</th>\n",
              "    </tr>\n",
              "    <tr>\n",
              "      <th>화학섬유 제조업</th>\n",
              "      <th>화학섬유 제조업</th>\n",
              "    </tr>\n",
              "    <tr>\n",
              "      <th>환경 정화 및 복원업</th>\n",
              "      <th>하수, 폐기물처리, 원료재생, 환경복원</th>\n",
              "    </tr>\n",
              "  </tbody>\n",
              "</table>\n",
              "</div>"
            ],
            "text/plain": [
              "Empty DataFrame\n",
              "Columns: []\n",
              "Index: [(직물 직조 및 직물제품 제조업, 섬유제품 제조업 :의복제외), (철 광업, 광업), (철도장비 제조업, 철도장비 제조업), (축산업, 농림어업), (측정, 시험, 항해, 제어 및 기타 정밀 기기 제조업; 광학 기기 제외, 측정, 시험, 향해, 제어, 및 기타 정밀기기 제조업), (컴퓨터 및 주변 장치 제조업, 컴퓨터 및 주변장치 제조업), (컴퓨터 프로그래밍, 시스템 통합 및 관리업, 컴퓨터 프로그래밍, 정보서비스업), (코르크 및 조물 제품 제조업, 목재 및 나무제품제조업; 가구제외), (코크스 및 연탄 제조업, 코크스, 연탄 및 석유정제품 제조업), (토목 건설업, 건설업, 건축기술 서비스), (토사석 광업, 광업), (통신 및 방송장비 제조업, 통신 및 방송 장비 제조업), (특수 목적용 기계 제조업, 특수 기계제조업), (펄프, 종이 및 판지 제조업, 펄프, 종이 및 종이제품 제조업), (편조 원단 제조업, 섬유제품 제조업 :의복제외), (편조의복 제조업, 의복, 의복 액세서리 및 모피제품 제조업), (폐기물 수집, 운반업, 하수, 폐기물처리, 원료재생, 환경복원), (폐기물 처리업, 하수, 폐기물처리, 원료재생, 환경복원), (플라스틱 제품 제조업, 고무제품 및 플라스틱 제품 제조업), (하수, 폐수 및 분뇨 처리업, 하수, 폐기물처리, 원료재생, 환경복원), (합성고무 및 플라스틱 물질 제조업, 합성고무 및 플라스틱 물질 제조업), (항공기, 우주선 및 부품 제조업, 항공기 제조업), (해체, 선별 및 원료 재생업, 하수, 폐기물처리, 원료재생, 환경복원), (화학섬유 제조업, 화학섬유 제조업), (환경 정화 및 복원업, 하수, 폐기물처리, 원료재생, 환경복원)]"
            ]
          },
          "metadata": {},
          "execution_count": 45
        }
      ]
    },
    {
      "cell_type": "code",
      "metadata": {
        "colab": {
          "base_uri": "https://localhost:8080/"
        },
        "id": "LOt2dq0_0u7b",
        "outputId": "4493c507-0246-40ed-b832-ffe3ae3d7728"
      },
      "source": [
        "concordance.columns"
      ],
      "execution_count": 57,
      "outputs": [
        {
          "output_type": "execute_result",
          "data": {
            "text/plain": [
              "Index(['Unnamed: 0', '일련번호', '2018년 귀속(현행)업종코드', '2019년 귀속(개편후)업종코드',\n",
              "       '국세청_대분류코드', '국세청_대분류', '국세청_중분류코드', '국세청_중분류', '국세청_소분류코드', '국세청_소분류',\n",
              "       '국세청_세분류코드', '국세청_세분류', '국세청_세세분류', '국세청_연계', 'KSIC10_코드',\n",
              "       'KSIC10_대분류코드', 'KSIC10_대분류', 'KSIC10_중분류코드', 'KSIC10_중분류',\n",
              "       'KSIC10_소분류코드', 'KSIC10_소분류', 'KSIC10_세분류코드', 'KSIC10_세분류',\n",
              "       'KSIC10_세세분류', 'KSIC10_연계', '메인', '세부설명', 'KSIC10_항목명', 'KSIC9_코드',\n",
              "       'KSIC9_항목명', 'KSIC_CODE', '산업명'],\n",
              "      dtype='object')"
            ]
          },
          "metadata": {},
          "execution_count": 57
        }
      ]
    },
    {
      "cell_type": "code",
      "metadata": {
        "id": "pCfxJ6WSz0NM"
      },
      "source": [
        "concordance = concordance.loc[~concordance['산업명'].isna(), ['국세청_대분류코드', '국세청_대분류', '국세청_중분류코드', '국세청_중분류', '국세청_소분류코드', '국세청_소분류', 'KSIC10_코드',\n",
        "       'KSIC10_대분류코드', 'KSIC10_대분류', 'KSIC10_중분류코드', 'KSIC10_중분류', 'KSIC10_소분류코드', 'KSIC10_소분류', 'KSIC9_코드', 'KSIC9_항목명', '산업명']]"
      ],
      "execution_count": 72,
      "outputs": []
    },
    {
      "cell_type": "code",
      "metadata": {
        "colab": {
          "base_uri": "https://localhost:8080/"
        },
        "id": "k8mG1EnD4wgn",
        "outputId": "32518acd-8967-43ac-a9dd-79a62bebd1f1"
      },
      "source": [
        "concordance.산업명.nunique()"
      ],
      "execution_count": 75,
      "outputs": [
        {
          "output_type": "execute_result",
          "data": {
            "text/plain": [
              "61"
            ]
          },
          "metadata": {},
          "execution_count": 75
        }
      ]
    },
    {
      "cell_type": "code",
      "metadata": {
        "id": "qFn4wyxJ4O53"
      },
      "source": [
        "concordance.drop_duplicates('KSIC10_소분류', inplace=True)"
      ],
      "execution_count": 76,
      "outputs": []
    },
    {
      "cell_type": "markdown",
      "metadata": {
        "id": "iaUBaJLq1ZtQ"
      },
      "source": [
        "```\n",
        "queries = {'1차 비철금속 제조업': 'IC = (C22F* or C25C* or G21H-(G21H1 제외)* or (G21H* not (G21H-001*)))',  \n",
        " '1차 철강제조업': 'IC = (B21C* or C21B* or C21C* or C21D* or C22C* or F16S* or F17C*)',  \n",
        " '가구 제조업': 'IC = (A47B* or A47C* or A47D* or A47F*)',  \n",
        " '가정용 기기 제조업': 'IC = (A45D* or A47G* or A47J* or A47L* or D06F* or E06C* or F24B* or F24C* or H05B*)',  \n",
        " '가죽, 가방 및 신발제조업': 'IC = (A43B* or A43C* or A45C* or B68B* or B68C*)',\n",
        " '건설업, 건축기술 서비스': 'IC = (E01C* or E01D* or E01F* or E02B* or E02D* or E03B* or E03C* or E03F* or E04H* or E05B* or E05C* or E06B* or E21C* or E99Z* or F42D*)',\n",
        " '고무제품 및 플라스틱 제품 제조업': 'IC = (B29B* or B29C* or B29D* or B29K* or B29L* or A42B-003* or B60C* or B65D* or B67D* or C08C* or F16L*)',\n",
        " '광업': 'IC = (C22B* or E21D*)',\n",
        " '구조용 금속제품, 탱크, 증기발생기 제조업': 'IC = (A47H* or B21G* or F16T* or F17B* or F22B* or F22G* or F24D* or F24H* or G21B* or G21C* or G21D*)',\n",
        " '그 외 기타 화학제품 제조업': 'IC = (A62D* or B01J* or C06B* or C06C* or C06D* or C06F* or C08H* or C09H* or C09J* or C09K* or C10M* or C10N* or C11B* or C11C* or C14C* or C23F* or C23G* or C40B* or C99Z* or F42B* or (G03C* not (G03C-005* or G03C-009* or G03C-011*)))',\n",
        " '그 외 분류 안된 운송장비 제조업': 'IC = (B62B* or B62C* or B62H* or B62K-(B62K11 제외)* or B62L* or B62M-(B62M6 제외)* or B62M-(B62M7 제외)* or (B62K* not (B62K-011*)) or (B62M* not (B62M-006* or B62M-007*)))',\n",
        " '금속주조업': 'IC = (B22D*)',\n",
        " '기초 화학물질제조업': 'IC = (C01C* or C01D* or C01F* or C01G* or C07B* or C07C* or C07F* or C07G* or C07H* or C09B* or C09C* or C10B* or C10C* or C10H* or C10J* or C10K* or C25B* or G21G* or G21J*)',\n",
        " '기타 금속가공 제품 제조업': 'IC = (A01L* or A44B-011* or B21D* or B21F* or B21H* or B21J* or B21K* or B21L* or B22F* or B23B* or B23C* or B23D* or B23G* or B23H* or B25B* or B25C* or B25F* or B25G* or B25H* or B26B* or B26F* or B27B* or B27G* or C23D* or C25D* or E05D* or E05G* or F16B*)',\n",
        " '기타 전기장비 제조업': 'IC = (B60M* or C25F* or G08B* or G08G* or G10K* or H01T* or H02H* or H02M* or H05C* or H05F*)',\n",
        " '기타제품 제조업': 'IC = (A41G* or A44B-(A44B11 제외)* or A44C-(A44C23제외)* or A45B* or A45F* or A46B* or A46D* or A63B* or A63C* or A63D* or A63F* or A63G* or A63H* or A63J* or A63K* or A99Z* or B43K* or B43L* or B43M* or B44D* or B44F* or B68G* or B99Z* or D07B* or F23Q* or G09B* or G09F* or G10B* or G10C* or G10D* or G10F* or G10G* or G10H* or (A44B* not (A44B-011*)) or (A44C* not (A44C-023*)))',\n",
        " '농림어업': 'IC = (A01B-027* or A01B-002* or A01C* or A01D* or A01G* or A01H* or A01K*)',\n",
        " '담배제조업': 'IC = (A24B* or A24D* or A24F*)',\n",
        " '마그네틱 및 광학 매체 제조업': 'IC = (G11B*)',\n",
        " '모터사이클 제조업': 'IC = (B62J* or B62K-011* or B62M-006* or B62M-007*)',\n",
        " '목재 및 나무제품제조업; 가구제외': 'IC = (A44C-023* or B27D* or B27K* or B27H* or B27M* or B27N* or E04G*)',\n",
        " '무기 및 총포탄 제조업': 'IC = (F41A* or F41B* or F41C* or F41F* or F41G* or F41H-(F41H7 제외)* or F41J* or F42C* or (F41H* not (F41H-007*)))',\n",
        " '반도체 제조업': 'IC = (G11C* or H01L*)',\n",
        " '비금속광물제품 제조업': 'IC = (A47K* or B24D* or B28B* or B28C* or B28D* or B32B* or C01B* or C03B* or C03C* or C04B* or E03D* or E04B* or E04C* or E04D* or E04F*)',\n",
        " '비료 및 질소 화학물 제조업': 'IC = (C05B* or C05C* or C05D* or C05F* or C05G*)',\n",
        " '사무용 기계 및 장비 제조업': 'IC = (B41L* or B41J-001* or G03G* or G06C* or G06M* or G07B* or G07C* or G07D* or G07G*)',\n",
        " '사무용 이외의 일반기계 제조업': 'IC = (B01B* or B01D* or B04C* or B05B* or B23F* or B25D* or B41K* or B60S-003* or B65B* or B65C* or B65G* or B66B* or B66C* or B66D* or B66F* or B67C* or C10F* or C12L* or E01H* or E02C* or E21F* or F01B* or F01C* or F01D* or F01K* or F01M* or F01N* or F01P* or F02G* or F03B* or F03C* or F03G* or F04B* or F04C* or F04D* or F04F* or F15B* or F15C* or F15D* or F16C* or F16D* or F16F* or F16G* or F16H* or F16K* or F16M* or F17D* or F22-000* or F23B* or F23C* or F23D* or F23G* or F23H* or F23J* or F23K* or F23L* or F23M* or F23N* or F23R* or F24F* or F24J* or F25B* or F25C* or F25D* or F25J* or F27B* or F27D* or F28B* or F28C* or F28D* or F28F* or F28G* or G01G* or G07F* or G09D* or G09G*)',\n",
        " '살충제 및 기타농약제조업': 'IC = (A01N* or A01P*)',\n",
        " '선박 제조업': 'IC = (B60V* or B63B* or B63C* or B63G* or B63H* or B63J*)',\n",
        " '섬유제품 제조업 :의복제외': 'IC = (D04D* or D04G* or D04H* or D06C* or D06J* or D06M* or D06N* or D06P* or D06Q*)',\n",
        " '세제, 화장품 및 광택제 제조업': 'IC = (A61Q* or C09F* or C09G* or C11D* or D06L* or A61K-008*)',\n",
        " '시계 및 시계부품 제조업': 'IC = (G04B* or G04C* or G04D* or G04F* or G04G* or G04R*)',\n",
        " '식료품 제조업': 'IC = (A21D* or A23B* or A23C* or A23D* or A23F* or A23G* or A23J* or A23K* or A23L* or A23P* or C12J* or C13B* or C13K*)',\n",
        " '안경, 사진장비 및 기타 광학기기 제조업': 'IC = (G02B* or G02C* or G03D* or G02F-002* or G02F-003* or G02F-007* or G03B-(G03B31 제외)* or G03B-(G03B42 제외)* or G03C-005* or G03C-009* or G03C-011* or G03F* or (G03B* not (G03B-031* or G03B-042*)))',\n",
        " '영상 및 음향기기 제조업': 'IC = (G03B-031* or G10L* or H03J* or H04H* or H04N* or H04R*)',\n",
        " '음료제조업': 'IC = (C12C* or C12F* or C12G* or C12H*)',\n",
        " '의료용 기기 제조업': 'IC = (A61B* or A61C* or A61D* or A61F* or A61G* or A61H* or A61J* or A61L* or A61M* or A61N* or A62B* or B01L* or B04B* or C12M* or G01T* or G03B-042* or H05G*)',\n",
        " '의료용 물질 및 의약품 제조업': 'IC = (A61P* or C07D* or C07J* or C07K* or C12N* or C12P* or C12Q* or C12R* or A61K-(A61K8 제외)* or (A61K* not (A61K-008*)))',\n",
        " '의복, 의복 액세서리 및 모피제품 제조업': 'IC = (A41B* or A41C* or A41D* or A41F* or A42B-(A42B3 제외)* or A42C-005* or (A42B* not (A42B-003*)))',\n",
        " '인쇄 및 기록매체복제업': 'IC = (B41M* or B42D*)',\n",
        " '일차전지 및 축전지 제조업': 'IC = (H01M*)',\n",
        " '잉크, 페인트 코팅제 및 유사제품 제조업': 'IC = (C09D*)',\n",
        " '자동차 제조업': 'IC = (B60B* or B60D* or B60F* or B60G* or B60H* or B60J* or B60K* or B60L-(B60L13 제외)* or B60N* or B60P* or B60R* or B60S-(B60S3 제외)* or B60T* or B60W* or B62D* or E05F* or F02M* or F02N* or F02P* or F16J* or G05G* or (B60L* not (B60L-013*)) or (B60S* not (B60S-003*)))',\n",
        " '전구 및 조명장치 제조업': 'IC = (B60Q* or F21H* or F21K* or F21L* or F21S* or F21V* or F21W* or F21Y* or H01K*)',\n",
        " '전기, 가스, 증기, 수도': 'IC = (F02C* or F03D* or H02S* or G21H-001*)',\n",
        " '전동기, 발전기 및 전기변환, 공급, 제어장치 제조업': 'IC = (F99Z* or H02B* or H02J* or H02K* or H02N* or H02P*)',\n",
        " '전자부품 제조업': 'IC = (B05D* or B81B* or B81C* or B82B* or B82Y* or C30B* or G02F-001* or G12B* or H01C* or H01F* or H01G* or H01J* or H05K* or H03K* or H03L*)',\n",
        " '전투용 차량 제조업': 'IC = (F41H-007*)',\n",
        " '절연선 및 케이블제조업': 'IC = (H01B* or H01H* or H01R* or H02G*)',\n",
        " '철도장비 제조업': 'IC = (B60L-013* or B61B* or B61C* or B61D* or B61F* or B61G* or B61H* or B61J* or B61K* or B61L* or E01B*)',\n",
        " '측정, 시험, 향해, 제어, 및 기타 정밀기기 제조업': 'IC = (G01B* or G01C* or G01D* or G01F* or G01H* or G01J* or G01K* or G01L* or G01M* or G01N* or G01P* or G01Q* or G01R* or G01S* or G01V* or G01W* or G05B* or G05D* or G05F* or G21K* or G08C*)',\n",
        " '컴퓨터 및 주변장치 제조업': 'IC = (B41J-002* or B41J-027* or B41J-029* or B41J-031* or B41J-032* or B41J-033* or B41J-035* or G06J* or G06F-001* or G06F-003* or G06K*)',\n",
        " '컴퓨터 프로그래밍, 정보서비스업': 'IC = (G06D* or G06E* or G06F-(G06F1 제외)* or G06F-(G06F3 제외)* or G06G* or G06N* or G06Q* or G06T* or G09C* or (G06F* not (G06F-001* or G06F-003*)))',\n",
        " '코크스, 연탄 및 석유정제품 제조업': 'IC = (C10G* or C10L*)',\n",
        " '통신 및 방송 장비 제조업': 'IC = (G03H* or H01P* or H01Q* or H01S* or H03B* or H03C* or H03D* or H03F* or H03G* or H03H* or H03M* or H04B* or H04J* or H04K* or H04L* or H04M* or H04Q* or H04S* or H04W* or H99Z*)',\n",
        " '특수 기계제조업': 'IC = (A01F* or A01J* or A01M* or A21B* or A21C* or A22B* or A22C* or A23N* or A24C* or A41H* or A43D* or A62C* or B01F* or B02B* or B02C* or B03B* or B03C* or B03D* or B05C* or B06B* or B07B* or B07C* or B08B* or B21B* or B22C* or B23K* or B23P* or B23Q* or B24B* or B24C* or B25J* or B26D* or B27C* or B27F* or B27J* or B27L* or B30B* or B31B* or B31C* or B31D* or B31F* or B41B* or B41C* or B41D* or B41F* or B41G* or B41N* or B42B* or B42C* or B44B* or B44C* or B65H* or B67B* or B68F* or C14B* or C23C* or D01B* or D01G* or D01H* or D02G* or D02H* or D02J* or D03C* or D03D* or D03J* or D04B* or D04C* or D05B* or D05C* or D06B* or D06G* or D06H* or D21B* or D21D* or D21F* or D21G* or D99Z* or E02F* or E21B* or F01L* or F02B* or F02D* or F02F* or F16N* or F16P* or F26B* or H05H* or (A01B* not (A01B-027/02)) or (A42C* not (A42C-005*)) or (B41J* not (B41J-001* or B41J-002* or B41J-027* or B41J-029* or B41J-031* or B41J-032* or B41J-033* or B41J-035*)))',\n",
        " '펄프, 종이 및 종이제품 제조업': 'IC = (B42F* or D21C* or D21H* or D21J*)',\n",
        " '하수, 폐기물처리, 원료재생, 환경복원': 'IC = (B09B* or B09C* or B65F* or C02F* or G21F*)',\n",
        " '합성고무 및 플라스틱 물질 제조업': 'IC = (C08B* or C08F* or C08G* or C08J* or C08K* or C08L*)',\n",
        " '항공기 제조업': 'IC = (B64B* or B64C* or B64D* or B64F* or B64G* or F02K* or F03H*)',\n",
        " '화학섬유 제조업': 'IC = (D01C* or D01D* or D01F*)'}\n",
        "```\n",
        "\n"
      ]
    },
    {
      "cell_type": "code",
      "metadata": {
        "id": "14lsMf0V1FZ3"
      },
      "source": [
        "concordance['IPC_CODE'] = concordance['산업명'].apply(lambda x: queries[x])"
      ],
      "execution_count": 77,
      "outputs": []
    },
    {
      "cell_type": "code",
      "metadata": {
        "colab": {
          "base_uri": "https://localhost:8080/",
          "height": 1000
        },
        "id": "vM8aOGRs3i74",
        "outputId": "f3db9aab-9a66-499a-ee2e-42df6c4ad0f7"
      },
      "source": [
        "concordance"
      ],
      "execution_count": 78,
      "outputs": [
        {
          "output_type": "execute_result",
          "data": {
            "text/html": [
              "<div>\n",
              "<style scoped>\n",
              "    .dataframe tbody tr th:only-of-type {\n",
              "        vertical-align: middle;\n",
              "    }\n",
              "\n",
              "    .dataframe tbody tr th {\n",
              "        vertical-align: top;\n",
              "    }\n",
              "\n",
              "    .dataframe thead th {\n",
              "        text-align: right;\n",
              "    }\n",
              "</style>\n",
              "<table border=\"1\" class=\"dataframe\">\n",
              "  <thead>\n",
              "    <tr style=\"text-align: right;\">\n",
              "      <th></th>\n",
              "      <th>국세청_대분류코드</th>\n",
              "      <th>국세청_대분류</th>\n",
              "      <th>국세청_중분류코드</th>\n",
              "      <th>국세청_중분류</th>\n",
              "      <th>국세청_소분류코드</th>\n",
              "      <th>국세청_소분류</th>\n",
              "      <th>KSIC10_코드</th>\n",
              "      <th>KSIC10_대분류코드</th>\n",
              "      <th>KSIC10_대분류</th>\n",
              "      <th>KSIC10_중분류코드</th>\n",
              "      <th>KSIC10_중분류</th>\n",
              "      <th>KSIC10_소분류코드</th>\n",
              "      <th>KSIC10_소분류</th>\n",
              "      <th>KSIC9_코드</th>\n",
              "      <th>KSIC9_항목명</th>\n",
              "      <th>산업명</th>\n",
              "      <th>IPC_CODE</th>\n",
              "    </tr>\n",
              "  </thead>\n",
              "  <tbody>\n",
              "    <tr>\n",
              "      <th>0</th>\n",
              "      <td>A</td>\n",
              "      <td>농업, 임업 및 어업</td>\n",
              "      <td>1.0</td>\n",
              "      <td>농업</td>\n",
              "      <td>11.0</td>\n",
              "      <td>작물 재배업</td>\n",
              "      <td>1110.0</td>\n",
              "      <td>A</td>\n",
              "      <td>농업, 임업 및 어업</td>\n",
              "      <td>1.0</td>\n",
              "      <td>농업</td>\n",
              "      <td>11.0</td>\n",
              "      <td>작물 재배업</td>\n",
              "      <td>1110.0</td>\n",
              "      <td>곡물 및 기타 식량 작물 재배업</td>\n",
              "      <td>농림어업</td>\n",
              "      <td>IC = (A01B-027* or A01B-002* or A01C* or A01D*...</td>\n",
              "    </tr>\n",
              "    <tr>\n",
              "      <th>13</th>\n",
              "      <td>A</td>\n",
              "      <td>농업, 임업 및 어업</td>\n",
              "      <td>1.0</td>\n",
              "      <td>농업</td>\n",
              "      <td>12.0</td>\n",
              "      <td>축산업</td>\n",
              "      <td>1212.0</td>\n",
              "      <td>A</td>\n",
              "      <td>농업, 임업 및 어업</td>\n",
              "      <td>1.0</td>\n",
              "      <td>농업</td>\n",
              "      <td>12.0</td>\n",
              "      <td>축산업</td>\n",
              "      <td>1212.0</td>\n",
              "      <td>육우 사육업</td>\n",
              "      <td>농림어업</td>\n",
              "      <td>IC = (A01B-027* or A01B-002* or A01C* or A01D*...</td>\n",
              "    </tr>\n",
              "    <tr>\n",
              "      <th>21</th>\n",
              "      <td>A</td>\n",
              "      <td>농업, 임업 및 어업</td>\n",
              "      <td>1.0</td>\n",
              "      <td>농업</td>\n",
              "      <td>14.0</td>\n",
              "      <td>작물재배 및 축산 관련 서비스업</td>\n",
              "      <td>1420.0</td>\n",
              "      <td>A</td>\n",
              "      <td>농업, 임업 및 어업</td>\n",
              "      <td>1.0</td>\n",
              "      <td>농업</td>\n",
              "      <td>14.0</td>\n",
              "      <td>작물재배 및 축산 관련 서비스업</td>\n",
              "      <td>1420.0</td>\n",
              "      <td>축산 관련 서비스업</td>\n",
              "      <td>농림어업</td>\n",
              "      <td>IC = (A01B-027* or A01B-002* or A01C* or A01D*...</td>\n",
              "    </tr>\n",
              "    <tr>\n",
              "      <th>23</th>\n",
              "      <td>A</td>\n",
              "      <td>농업, 임업 및 어업</td>\n",
              "      <td>1.0</td>\n",
              "      <td>농업</td>\n",
              "      <td>14.0</td>\n",
              "      <td>작물재배 및 축산 복합농업</td>\n",
              "      <td>1300.0</td>\n",
              "      <td>A</td>\n",
              "      <td>농업, 임업 및 어업</td>\n",
              "      <td>1.0</td>\n",
              "      <td>농업</td>\n",
              "      <td>13.0</td>\n",
              "      <td>작물재배 및 축산 복합농업</td>\n",
              "      <td>1300.0</td>\n",
              "      <td>작물재배 및 축산 복합농업</td>\n",
              "      <td>농림어업</td>\n",
              "      <td>IC = (A01B-027* or A01B-002* or A01C* or A01D*...</td>\n",
              "    </tr>\n",
              "    <tr>\n",
              "      <th>26</th>\n",
              "      <td>A</td>\n",
              "      <td>농업, 임업 및 어업</td>\n",
              "      <td>1.0</td>\n",
              "      <td>농업</td>\n",
              "      <td>15.0</td>\n",
              "      <td>수렵 및 관련 서비스업</td>\n",
              "      <td>1500.0</td>\n",
              "      <td>A</td>\n",
              "      <td>농업, 임업 및 어업</td>\n",
              "      <td>1.0</td>\n",
              "      <td>농업</td>\n",
              "      <td>15.0</td>\n",
              "      <td>수렵 및 관련 서비스업</td>\n",
              "      <td>1500.0</td>\n",
              "      <td>수렵 및 관련 서비스업</td>\n",
              "      <td>농림어업</td>\n",
              "      <td>IC = (A01B-027* or A01B-002* or A01C* or A01D*...</td>\n",
              "    </tr>\n",
              "    <tr>\n",
              "      <th>...</th>\n",
              "      <td>...</td>\n",
              "      <td>...</td>\n",
              "      <td>...</td>\n",
              "      <td>...</td>\n",
              "      <td>...</td>\n",
              "      <td>...</td>\n",
              "      <td>...</td>\n",
              "      <td>...</td>\n",
              "      <td>...</td>\n",
              "      <td>...</td>\n",
              "      <td>...</td>\n",
              "      <td>...</td>\n",
              "      <td>...</td>\n",
              "      <td>...</td>\n",
              "      <td>...</td>\n",
              "      <td>...</td>\n",
              "      <td>...</td>\n",
              "    </tr>\n",
              "    <tr>\n",
              "      <th>878</th>\n",
              "      <td>F</td>\n",
              "      <td>건 설 업</td>\n",
              "      <td>45.0</td>\n",
              "      <td>전문직별 공사업</td>\n",
              "      <td>453.0</td>\n",
              "      <td>건설장비 운영업</td>\n",
              "      <td>42600.0</td>\n",
              "      <td>F</td>\n",
              "      <td>건설업</td>\n",
              "      <td>42.0</td>\n",
              "      <td>전문직별 공사업</td>\n",
              "      <td>426.0</td>\n",
              "      <td>건설장비 운영업</td>\n",
              "      <td>42500.0</td>\n",
              "      <td>건설장비 운영업</td>\n",
              "      <td>건설업, 건축기술 서비스</td>\n",
              "      <td>IC = (E01C* or E01D* or E01F* or E02B* or E02D...</td>\n",
              "    </tr>\n",
              "    <tr>\n",
              "      <th>1486</th>\n",
              "      <td>J</td>\n",
              "      <td>정보통신업</td>\n",
              "      <td>64.0</td>\n",
              "      <td>정보서비스업</td>\n",
              "      <td>642.0</td>\n",
              "      <td>자료 처리, 호스팅, 포털 및 기타 인터넷 정보 매개 서비스업</td>\n",
              "      <td>63120.0</td>\n",
              "      <td>J</td>\n",
              "      <td>정보통신업</td>\n",
              "      <td>63.0</td>\n",
              "      <td>정보서비스업</td>\n",
              "      <td>631.0</td>\n",
              "      <td>자료 처리, 호스팅, 포털 및 기타 인터넷 정보 매개 서비스업</td>\n",
              "      <td>63120.0</td>\n",
              "      <td>포털 및 기타 인터넷 정보 매개 서비스업</td>\n",
              "      <td>컴퓨터 프로그래밍, 정보서비스업</td>\n",
              "      <td>IC = (G06D* or G06E* or G06F-(G06F1 제외)* or G0...</td>\n",
              "    </tr>\n",
              "    <tr>\n",
              "      <th>1488</th>\n",
              "      <td>J</td>\n",
              "      <td>정보통신업</td>\n",
              "      <td>72.0</td>\n",
              "      <td>컴퓨터 프로그래밍, 시스템 통합 및 관리업</td>\n",
              "      <td>721.0</td>\n",
              "      <td>컴퓨터 프로그래밍, 시스템 통합 및 관리업</td>\n",
              "      <td>62021.0</td>\n",
              "      <td>J</td>\n",
              "      <td>정보통신업</td>\n",
              "      <td>62.0</td>\n",
              "      <td>컴퓨터 프로그래밍, 시스템 통합 및 관리업</td>\n",
              "      <td>620.0</td>\n",
              "      <td>컴퓨터 프로그래밍, 시스템 통합 및 관리업</td>\n",
              "      <td>62021.0</td>\n",
              "      <td>컴퓨터시스템 통합 자문 및 구축 서비스업</td>\n",
              "      <td>컴퓨터 프로그래밍, 정보서비스업</td>\n",
              "      <td>IC = (G06D* or G06E* or G06F-(G06F1 제외)* or G0...</td>\n",
              "    </tr>\n",
              "    <tr>\n",
              "      <th>1490</th>\n",
              "      <td>J</td>\n",
              "      <td>정보통신업</td>\n",
              "      <td>72.0</td>\n",
              "      <td>출판업</td>\n",
              "      <td>722.0</td>\n",
              "      <td>소프트웨어 개발 및 공급업</td>\n",
              "      <td>58222.0</td>\n",
              "      <td>J</td>\n",
              "      <td>정보통신업</td>\n",
              "      <td>58.0</td>\n",
              "      <td>출판업</td>\n",
              "      <td>582.0</td>\n",
              "      <td>소프트웨어 개발 및 공급업</td>\n",
              "      <td>58222.0</td>\n",
              "      <td>응용 소프트웨어 개발 및 공급업</td>\n",
              "      <td>컴퓨터 프로그래밍, 정보서비스업</td>\n",
              "      <td>IC = (G06D* or G06E* or G06F-(G06F1 제외)* or G0...</td>\n",
              "    </tr>\n",
              "    <tr>\n",
              "      <th>1617</th>\n",
              "      <td>M</td>\n",
              "      <td>전문, 과학 및 기술 서비스업</td>\n",
              "      <td>74.0</td>\n",
              "      <td>건축 기술, 엔지니어링 및 기타 과학기술 서비스업</td>\n",
              "      <td>742.0</td>\n",
              "      <td>건축 기술, 엔지니어링 및 관련 기술 서비스업</td>\n",
              "      <td>72111.0</td>\n",
              "      <td>M</td>\n",
              "      <td>전문, 과학 및 기술 서비스업</td>\n",
              "      <td>72.0</td>\n",
              "      <td>건축 기술, 엔지니어링 및 기타 과학기술 서비스업</td>\n",
              "      <td>721.0</td>\n",
              "      <td>건축 기술, 엔지니어링 및 관련 기술 서비스업</td>\n",
              "      <td>72111.0</td>\n",
              "      <td>건축설계 및 관련 서비스업</td>\n",
              "      <td>건설업, 건축기술 서비스</td>\n",
              "      <td>IC = (E01C* or E01D* or E01F* or E02B* or E02D...</td>\n",
              "    </tr>\n",
              "  </tbody>\n",
              "</table>\n",
              "<p>119 rows × 17 columns</p>\n",
              "</div>"
            ],
            "text/plain": [
              "     국세청_대분류코드  ...                                           IPC_CODE\n",
              "0            A  ...  IC = (A01B-027* or A01B-002* or A01C* or A01D*...\n",
              "13           A  ...  IC = (A01B-027* or A01B-002* or A01C* or A01D*...\n",
              "21           A  ...  IC = (A01B-027* or A01B-002* or A01C* or A01D*...\n",
              "23           A  ...  IC = (A01B-027* or A01B-002* or A01C* or A01D*...\n",
              "26           A  ...  IC = (A01B-027* or A01B-002* or A01C* or A01D*...\n",
              "...        ...  ...                                                ...\n",
              "878          F  ...  IC = (E01C* or E01D* or E01F* or E02B* or E02D...\n",
              "1486         J  ...  IC = (G06D* or G06E* or G06F-(G06F1 제외)* or G0...\n",
              "1488         J  ...  IC = (G06D* or G06E* or G06F-(G06F1 제외)* or G0...\n",
              "1490         J  ...  IC = (G06D* or G06E* or G06F-(G06F1 제외)* or G0...\n",
              "1617         M  ...  IC = (E01C* or E01D* or E01F* or E02B* or E02D...\n",
              "\n",
              "[119 rows x 17 columns]"
            ]
          },
          "metadata": {},
          "execution_count": 78
        }
      ]
    },
    {
      "cell_type": "code",
      "metadata": {
        "id": "_mU8AND90FKz"
      },
      "source": [
        "from datetime import datetime\n",
        "concordance.to_csv('국세청업종코드-KSIC10-KSIC9-IPC_final_{}.csv'.format(datetime.today().strftime(\"%m%d\")))"
      ],
      "execution_count": 80,
      "outputs": []
    }
  ]
}